{
  "nbformat": 4,
  "nbformat_minor": 0,
  "metadata": {
    "colab": {
      "provenance": [],
      "include_colab_link": true
    },
    "kernelspec": {
      "name": "ir",
      "display_name": "R"
    },
    "language_info": {
      "name": "R"
    }
  },
  "cells": [
    {
      "cell_type": "markdown",
      "metadata": {
        "id": "view-in-github",
        "colab_type": "text"
      },
      "source": [
        "<a href=\"https://colab.research.google.com/github/hanansuk/guns_n_roses/blob/main/GVA.ipynb\" target=\"_parent\"><img src=\"https://colab.research.google.com/assets/colab-badge.svg\" alt=\"Open In Colab\"/></a>"
      ]
    },
    {
      "cell_type": "code",
      "execution_count": 21,
      "metadata": {
        "id": "PYIXvJwSkwH9",
        "colab": {
          "base_uri": "https://localhost:8080/"
        },
        "outputId": "4a6d56e4-4280-4de7-d50a-6976c041b183"
      },
      "outputs": [
        {
          "output_type": "stream",
          "name": "stderr",
          "text": [
            "Installing package into ‘/usr/local/lib/R/site-library’\n",
            "(as ‘lib’ is unspecified)\n",
            "\n",
            "Installing package into ‘/usr/local/lib/R/site-library’\n",
            "(as ‘lib’ is unspecified)\n",
            "\n",
            "Installing package into ‘/usr/local/lib/R/site-library’\n",
            "(as ‘lib’ is unspecified)\n",
            "\n",
            "Installing package into ‘/usr/local/lib/R/site-library’\n",
            "(as ‘lib’ is unspecified)\n",
            "\n",
            "Installing package into ‘/usr/local/lib/R/site-library’\n",
            "(as ‘lib’ is unspecified)\n",
            "\n",
            "Installing package into ‘/usr/local/lib/R/site-library’\n",
            "(as ‘lib’ is unspecified)\n",
            "\n",
            "Installing package into ‘/usr/local/lib/R/site-library’\n",
            "(as ‘lib’ is unspecified)\n",
            "\n",
            "Installing package into ‘/usr/local/lib/R/site-library’\n",
            "(as ‘lib’ is unspecified)\n",
            "\n",
            "Installing package into ‘/usr/local/lib/R/site-library’\n",
            "(as ‘lib’ is unspecified)\n",
            "\n"
          ]
        }
      ],
      "source": [
        "install.packages('lmtest')\n",
        "install.packages('sandwich')\n",
        "install.packages('stargazer')\n",
        "install.packages('corrplot')\n",
        "install.packages('plotly')\n",
        "install.packages('googledrive')\n",
        "install.packages('httpuv')\n",
        "install.packages('reshape2')\n",
        "install.packages('ggrepel')"
      ]
    },
    {
      "cell_type": "code",
      "source": [
        "library(ggplot2)\n",
        "library(dplyr)\n",
        "library(tidyr)\n",
        "library(stringr)\n",
        "library(sandwich)\n",
        "library(lmtest)\n",
        "library(stargazer)\n",
        "library(cli)\n",
        "library(corrplot)\n",
        "library(scales)\n",
        "library(tidyverse)\n",
        "library(stats)\n",
        "library(plotly)\n",
        "library(ggrepel)\n",
        "library(reshape2)\n",
        "library(googledrive) \n",
        "library(httpuv)\n",
        "library(repr)"
      ],
      "metadata": {
        "id": "hLUjo5BQkw0u"
      },
      "execution_count": 22,
      "outputs": []
    },
    {
      "cell_type": "code",
      "source": [
        "if (file.exists(\"/usr/local/lib/python3.7/dist-packages/google/colab/_ipython.py\")) { #may update python version  \n",
        "                                       #occasionally\n",
        "  install.packages(\"R.utils\")\n",
        "  library(\"R.utils\")\n",
        "  library(\"httr\")\n",
        "  my_check <- function() {return(TRUE)}\n",
        "  reassignInPackage(\"is_interactive\", pkgName = \"httr\", my_check) \n",
        "  options(rlang_interactive=TRUE)\n",
        "}"
      ],
      "metadata": {
        "id": "5N6k__9ylau2"
      },
      "execution_count": 23,
      "outputs": []
    },
    {
      "cell_type": "code",
      "source": [
        "x <- drive_get(\"~/accidental_deaths.csv\")\n",
        "drive_download(x, overwrite = TRUE)\n",
        "accidental_deaths <- read.csv(\"/content/accidental_deaths.csv\", header = TRUE)\n",
        "\n",
        "x <- drive_get(\"~/officer_involved_shootings.csv\")\n",
        "drive_download(x, overwrite = TRUE)\n",
        "officer_involved_shootings <- read.csv(\"/content/officer_involved_shootings.csv\", header = TRUE)\n",
        "\n",
        "x <- drive_get(\"~/school_shootings.csv\")\n",
        "drive_download(x, overwrite = TRUE)\n",
        "school_shootings <- read.csv(\"/content/school_shootings.csv\", header = TRUE)\n",
        "\n",
        "x <- drive_get(\"~/mass_shootings.csv\")\n",
        "drive_download(x, overwrite = TRUE)\n",
        "mass_shootings <- read.csv(\"/content/mass_shootings.csv\", header = TRUE)"
      ],
      "metadata": {
        "id": "ckvmW974k-DD",
        "colab": {
          "base_uri": "https://localhost:8080/"
        },
        "outputId": "ec67766c-6f46-4c96-a5a5-256b6d8e7ac5"
      },
      "execution_count": 24,
      "outputs": [
        {
          "output_type": "stream",
          "name": "stderr",
          "text": [
            "\u001b[32m✔\u001b[39m The input `path` resolved to exactly 1 file.\n",
            "\n",
            "File downloaded:\n",
            "\n",
            "\u001b[36m•\u001b[39m \u001b[36maccidental_deaths.csv\u001b[39m \u001b[90m<id: 1VO8jkq6YwC9cvHF76lL8RphtdXhjrauA>\u001b[39m\n",
            "\n",
            "Saved locally as:\n",
            "\n",
            "\u001b[36m•\u001b[39m \u001b[34maccidental_deaths.csv\u001b[39m\n",
            "\n",
            "\u001b[32m✔\u001b[39m The input `path` resolved to exactly 1 file.\n",
            "\n",
            "File downloaded:\n",
            "\n",
            "\u001b[36m•\u001b[39m \u001b[36mofficer_involved_shootings.csv\u001b[39m \u001b[90m<id: 1sLuZqIwmii9aHnZ-WfL70v2rztDXrlT1>\u001b[39m\n",
            "\n",
            "Saved locally as:\n",
            "\n",
            "\u001b[36m•\u001b[39m \u001b[34mofficer_involved_shootings.csv\u001b[39m\n",
            "\n",
            "\u001b[32m✔\u001b[39m The input `path` resolved to exactly 1 file.\n",
            "\n",
            "File downloaded:\n",
            "\n",
            "\u001b[36m•\u001b[39m \u001b[36mschool_shootings.csv\u001b[39m \u001b[90m<id: 1IQFwF3mhGVrrDfHUMwqr7Gc9hCYYCy2G>\u001b[39m\n",
            "\n",
            "Saved locally as:\n",
            "\n",
            "\u001b[36m•\u001b[39m \u001b[34mschool_shootings.csv\u001b[39m\n",
            "\n",
            "\u001b[32m✔\u001b[39m The input `path` resolved to exactly 1 file.\n",
            "\n",
            "File downloaded:\n",
            "\n",
            "\u001b[36m•\u001b[39m \u001b[36mmass_shootings.csv\u001b[39m \u001b[90m<id: 1sllPAv70RwqdozqD5p1xO_o5E0NlOHtq>\u001b[39m\n",
            "\n",
            "Saved locally as:\n",
            "\n",
            "\u001b[36m•\u001b[39m \u001b[34mmass_shootings.csv\u001b[39m\n",
            "\n"
          ]
        }
      ]
    },
    {
      "cell_type": "code",
      "source": [
        "summary(accidental_deaths)"
      ],
      "metadata": {
        "id": "zcxP3vtWpxAM",
        "colab": {
          "base_uri": "https://localhost:8080/",
          "height": 503
        },
        "outputId": "fdcac2d3-b732-4e6d-c81e-1c903a7577c5"
      },
      "execution_count": 25,
      "outputs": [
        {
          "output_type": "display_data",
          "data": {
            "text/plain": [
              "  Incident.ID      Incident.Date         State           City.Or.County    \n",
              " Min.   :1416972   Length:2000        Length:2000        Length:2000       \n",
              " 1st Qu.:1713435   Class :character   Class :character   Class :character  \n",
              " Median :1973491   Mode  :character   Mode  :character   Mode  :character  \n",
              " Mean   :1994588                                                           \n",
              " 3rd Qu.:2274092                                                           \n",
              " Max.   :2615784                                                           \n",
              "   Address          X..Victims.Injured X..Victims.Killed\n",
              " Length:2000        Min.   :0.000      Min.   :0.000    \n",
              " Class :character   1st Qu.:0.000      1st Qu.:1.000    \n",
              " Mode  :character   Median :0.000      Median :1.000    \n",
              "                    Mean   :0.092      Mean   :0.995    \n",
              "                    3rd Qu.:0.000      3rd Qu.:1.000    \n",
              "                    Max.   :6.000      Max.   :2.000    \n",
              " X..Subjects.Suspects.Injured X..Subjects.Suspects.Killed\n",
              " Min.   :0.0000               Min.   :0.000              \n",
              " 1st Qu.:0.0000               1st Qu.:0.000              \n",
              " Median :0.0000               Median :0.000              \n",
              " Mean   :0.0145               Mean   :0.025              \n",
              " 3rd Qu.:0.0000               3rd Qu.:0.000              \n",
              " Max.   :2.0000               Max.   :2.000              \n",
              " X..Subjects.Suspects.Arrested  Operations       \n",
              " Min.   : 0.000                Length:2000       \n",
              " 1st Qu.: 0.000                Class :character  \n",
              " Median : 0.000                Mode  :character  \n",
              " Mean   : 0.564                                  \n",
              " 3rd Qu.: 1.000                                  \n",
              " Max.   :11.000                                  "
            ]
          },
          "metadata": {}
        }
      ]
    },
    {
      "cell_type": "code",
      "source": [
        "summary(officer_involved_shootings)"
      ],
      "metadata": {
        "colab": {
          "base_uri": "https://localhost:8080/",
          "height": 503
        },
        "id": "LIs4Guz2ohX6",
        "outputId": "b3614a08-bdd6-4723-95d7-6606b2a18832"
      },
      "execution_count": 26,
      "outputs": [
        {
          "output_type": "display_data",
          "data": {
            "text/plain": [
              "  Incident.ID      Incident.Date         State           City.Or.County    \n",
              " Min.   : 508097   Length:2000        Length:2000        Length:2000       \n",
              " 1st Qu.:1041548   Class :character   Class :character   Class :character  \n",
              " Median :1621275   Mode  :character   Mode  :character   Mode  :character  \n",
              " Mean   :1592948                                                           \n",
              " 3rd Qu.:2140990                                                           \n",
              " Max.   :2618853                                                           \n",
              "   Address          X..Victims.Injured X..Victims.Killed\n",
              " Length:2000        Min.   :  0.000    Min.   : 0.000   \n",
              " Class :character   1st Qu.:  1.000    1st Qu.: 0.000   \n",
              " Mode  :character   Median :  1.000    Median : 0.000   \n",
              "                    Mean   :  1.562    Mean   : 0.227   \n",
              "                    3rd Qu.:  1.000    3rd Qu.: 0.000   \n",
              "                    Max.   :441.000    Max.   :58.000   \n",
              " X..Subjects.Suspects.Injured X..Subjects.Suspects.Killed\n",
              " Min.   :0.000                Min.   :0.000              \n",
              " 1st Qu.:0.000                1st Qu.:0.000              \n",
              " Median :0.000                Median :0.000              \n",
              " Mean   :0.201                Mean   :0.377              \n",
              " 3rd Qu.:0.000                3rd Qu.:1.000              \n",
              " Max.   :3.000                Max.   :2.000              \n",
              " X..Subjects.Suspects.Arrested  Operations       \n",
              " Min.   :0.000                 Length:2000       \n",
              " 1st Qu.:0.000                 Class :character  \n",
              " Median :0.000                 Mode  :character  \n",
              " Mean   :0.521                                   \n",
              " 3rd Qu.:1.000                                   \n",
              " Max.   :6.000                                   "
            ]
          },
          "metadata": {}
        }
      ]
    },
    {
      "cell_type": "code",
      "source": [
        "summary(school_shootings)"
      ],
      "metadata": {
        "colab": {
          "base_uri": "https://localhost:8080/",
          "height": 503
        },
        "id": "cuUoFnHIohe6",
        "outputId": "99f17949-630d-4344-e08c-04b6e16ad201"
      },
      "execution_count": 27,
      "outputs": [
        {
          "output_type": "display_data",
          "data": {
            "text/plain": [
              "  Incident.ID      Incident.Date         State           City.Or.County    \n",
              " Min.   :2136927   Length:2000        Length:2000        Length:2000       \n",
              " 1st Qu.:2265711   Class :character   Class :character   Class :character  \n",
              " Median :2424384   Mode  :character   Mode  :character   Mode  :character  \n",
              " Mean   :2393452                                                           \n",
              " 3rd Qu.:2516879                                                           \n",
              " Max.   :2618525                                                           \n",
              "   Address          X..Victims.Injured X..Victims.Killed\n",
              " Length:2000        Min.   : 0.000     Min.   : 0.0000  \n",
              " Class :character   1st Qu.: 0.000     1st Qu.: 0.0000  \n",
              " Mode  :character   Median : 0.000     Median : 0.0000  \n",
              "                    Mean   : 0.131     Mean   : 0.0495  \n",
              "                    3rd Qu.: 0.000     3rd Qu.: 0.0000  \n",
              "                    Max.   :17.000     Max.   :21.0000  \n",
              " X..Subjects.Suspects.Injured X..Subjects.Suspects.Killed\n",
              " Min.   :0.000                Min.   :0.000              \n",
              " 1st Qu.:0.000                1st Qu.:0.000              \n",
              " Median :0.000                Median :0.000              \n",
              " Mean   :0.009                Mean   :0.009              \n",
              " 3rd Qu.:0.000                3rd Qu.:0.000              \n",
              " Max.   :2.000                Max.   :1.000              \n",
              " X..Subjects.Suspects.Arrested  Operations       \n",
              " Min.   : 0.000                Length:2000       \n",
              " 1st Qu.: 0.000                Class :character  \n",
              " Median : 1.000                Mode  :character  \n",
              " Mean   : 0.835                                  \n",
              " 3rd Qu.: 1.000                                  \n",
              " Max.   :10.000                                  "
            ]
          },
          "metadata": {}
        }
      ]
    },
    {
      "cell_type": "code",
      "source": [
        "summary(mass_shootings)"
      ],
      "metadata": {
        "colab": {
          "base_uri": "https://localhost:8080/",
          "height": 503
        },
        "id": "AmEJ6tCDohii",
        "outputId": "55180c43-b62d-4936-e55d-e5d54128ce7b"
      },
      "execution_count": 28,
      "outputs": [
        {
          "output_type": "display_data",
          "data": {
            "text/plain": [
              "  Incident.ID      Incident.Date         State           City.Or.County    \n",
              " Min.   :1712342   Length:2000        Length:2000        Length:2000       \n",
              " 1st Qu.:1965485   Class :character   Class :character   Class :character  \n",
              " Median :2163462   Mode  :character   Mode  :character   Mode  :character  \n",
              " Mean   :2170548                                                           \n",
              " 3rd Qu.:2393157                                                           \n",
              " Max.   :2618358                                                           \n",
              "   Address          X..Victims.Injured X..Victims.Killed\n",
              " Length:2000        Min.   : 0.000     Min.   : 0.0000  \n",
              " Class :character   1st Qu.: 3.000     1st Qu.: 0.0000  \n",
              " Mode  :character   Median : 4.000     Median : 1.0000  \n",
              "                    Mean   : 4.077     Mean   : 0.9805  \n",
              "                    3rd Qu.: 5.000     3rd Qu.: 1.0000  \n",
              "                    Max.   :32.000     Max.   :21.0000  \n",
              " X..Subjects.Suspects.Injured X..Subjects.Suspects.Killed\n",
              " Min.   :0.0000               Min.   :0.0000             \n",
              " 1st Qu.:0.0000               1st Qu.:0.0000             \n",
              " Median :0.0000               Median :0.0000             \n",
              " Mean   :0.0485               Mean   :0.0495             \n",
              " 3rd Qu.:0.0000               3rd Qu.:0.0000             \n",
              " Max.   :5.0000               Max.   :4.0000             \n",
              " X..Subjects.Suspects.Arrested  Operations       \n",
              " Min.   : 0.0000               Length:2000       \n",
              " 1st Qu.: 0.0000               Class :character  \n",
              " Median : 0.0000               Mode  :character  \n",
              " Mean   : 0.5315                                 \n",
              " 3rd Qu.: 1.0000                                 \n",
              " Max.   :11.0000                                 "
            ]
          },
          "metadata": {}
        }
      ]
    },
    {
      "cell_type": "code",
      "source": [
        "head(accidental_deaths)"
      ],
      "metadata": {
        "id": "S1EQncEQpayY",
        "colab": {
          "base_uri": "https://localhost:8080/",
          "height": 515
        },
        "outputId": "562a2909-e56f-4b89-91e2-605babf7ce20"
      },
      "execution_count": 29,
      "outputs": [
        {
          "output_type": "display_data",
          "data": {
            "text/html": [
              "<table class=\"dataframe\">\n",
              "<caption>A data.frame: 6 × 11</caption>\n",
              "<thead>\n",
              "\t<tr><th></th><th scope=col>Incident.ID</th><th scope=col>Incident.Date</th><th scope=col>State</th><th scope=col>City.Or.County</th><th scope=col>Address</th><th scope=col>X..Victims.Injured</th><th scope=col>X..Victims.Killed</th><th scope=col>X..Subjects.Suspects.Injured</th><th scope=col>X..Subjects.Suspects.Killed</th><th scope=col>X..Subjects.Suspects.Arrested</th><th scope=col>Operations</th></tr>\n",
              "\t<tr><th></th><th scope=col>&lt;int&gt;</th><th scope=col>&lt;chr&gt;</th><th scope=col>&lt;chr&gt;</th><th scope=col>&lt;chr&gt;</th><th scope=col>&lt;chr&gt;</th><th scope=col>&lt;int&gt;</th><th scope=col>&lt;int&gt;</th><th scope=col>&lt;int&gt;</th><th scope=col>&lt;int&gt;</th><th scope=col>&lt;int&gt;</th><th scope=col>&lt;chr&gt;</th></tr>\n",
              "</thead>\n",
              "<tbody>\n",
              "\t<tr><th scope=row>1</th><td>2615598</td><td>June 3, 2023</td><td>Tennessee</td><td>Collierville</td><td>712 W Poplar Ave                </td><td>0</td><td>1</td><td>0</td><td>0</td><td>0</td><td>N/A</td></tr>\n",
              "\t<tr><th scope=row>2</th><td>2615784</td><td>June 3, 2023</td><td>Texas    </td><td>San Antonio </td><td>11300 block of Woollcott St     </td><td>0</td><td>1</td><td>0</td><td>0</td><td>0</td><td>N/A</td></tr>\n",
              "\t<tr><th scope=row>3</th><td>2613908</td><td>June 1, 2023</td><td>Missouri </td><td>Saint Louis </td><td>3100 block of Brantner Pl       </td><td>0</td><td>1</td><td>0</td><td>0</td><td>0</td><td>N/A</td></tr>\n",
              "\t<tr><th scope=row>4</th><td>2613423</td><td>May 31, 2023</td><td>Illinois </td><td>River Grove </td><td>2400 block of West St           </td><td>0</td><td>1</td><td>0</td><td>0</td><td>0</td><td>N/A</td></tr>\n",
              "\t<tr><th scope=row>5</th><td>2613673</td><td>May 30, 2023</td><td>Alabama  </td><td>Troy        </td><td>900 block of Pike County Lake Rd</td><td>0</td><td>1</td><td>0</td><td>0</td><td>1</td><td>N/A</td></tr>\n",
              "\t<tr><th scope=row>6</th><td>2611417</td><td>May 29, 2023</td><td>Florida  </td><td>Bonifay     </td><td>115 Washington Dr               </td><td>0</td><td>1</td><td>0</td><td>0</td><td>0</td><td>N/A</td></tr>\n",
              "</tbody>\n",
              "</table>\n"
            ],
            "text/markdown": "\nA data.frame: 6 × 11\n\n| <!--/--> | Incident.ID &lt;int&gt; | Incident.Date &lt;chr&gt; | State &lt;chr&gt; | City.Or.County &lt;chr&gt; | Address &lt;chr&gt; | X..Victims.Injured &lt;int&gt; | X..Victims.Killed &lt;int&gt; | X..Subjects.Suspects.Injured &lt;int&gt; | X..Subjects.Suspects.Killed &lt;int&gt; | X..Subjects.Suspects.Arrested &lt;int&gt; | Operations &lt;chr&gt; |\n|---|---|---|---|---|---|---|---|---|---|---|---|\n| 1 | 2615598 | June 3, 2023 | Tennessee | Collierville | 712 W Poplar Ave                 | 0 | 1 | 0 | 0 | 0 | N/A |\n| 2 | 2615784 | June 3, 2023 | Texas     | San Antonio  | 11300 block of Woollcott St      | 0 | 1 | 0 | 0 | 0 | N/A |\n| 3 | 2613908 | June 1, 2023 | Missouri  | Saint Louis  | 3100 block of Brantner Pl        | 0 | 1 | 0 | 0 | 0 | N/A |\n| 4 | 2613423 | May 31, 2023 | Illinois  | River Grove  | 2400 block of West St            | 0 | 1 | 0 | 0 | 0 | N/A |\n| 5 | 2613673 | May 30, 2023 | Alabama   | Troy         | 900 block of Pike County Lake Rd | 0 | 1 | 0 | 0 | 1 | N/A |\n| 6 | 2611417 | May 29, 2023 | Florida   | Bonifay      | 115 Washington Dr                | 0 | 1 | 0 | 0 | 0 | N/A |\n\n",
            "text/latex": "A data.frame: 6 × 11\n\\begin{tabular}{r|lllllllllll}\n  & Incident.ID & Incident.Date & State & City.Or.County & Address & X..Victims.Injured & X..Victims.Killed & X..Subjects.Suspects.Injured & X..Subjects.Suspects.Killed & X..Subjects.Suspects.Arrested & Operations\\\\\n  & <int> & <chr> & <chr> & <chr> & <chr> & <int> & <int> & <int> & <int> & <int> & <chr>\\\\\n\\hline\n\t1 & 2615598 & June 3, 2023 & Tennessee & Collierville & 712 W Poplar Ave                 & 0 & 1 & 0 & 0 & 0 & N/A\\\\\n\t2 & 2615784 & June 3, 2023 & Texas     & San Antonio  & 11300 block of Woollcott St      & 0 & 1 & 0 & 0 & 0 & N/A\\\\\n\t3 & 2613908 & June 1, 2023 & Missouri  & Saint Louis  & 3100 block of Brantner Pl        & 0 & 1 & 0 & 0 & 0 & N/A\\\\\n\t4 & 2613423 & May 31, 2023 & Illinois  & River Grove  & 2400 block of West St            & 0 & 1 & 0 & 0 & 0 & N/A\\\\\n\t5 & 2613673 & May 30, 2023 & Alabama   & Troy         & 900 block of Pike County Lake Rd & 0 & 1 & 0 & 0 & 1 & N/A\\\\\n\t6 & 2611417 & May 29, 2023 & Florida   & Bonifay      & 115 Washington Dr                & 0 & 1 & 0 & 0 & 0 & N/A\\\\\n\\end{tabular}\n",
            "text/plain": [
              "  Incident.ID Incident.Date State     City.Or.County\n",
              "1 2615598     June 3, 2023  Tennessee Collierville  \n",
              "2 2615784     June 3, 2023  Texas     San Antonio   \n",
              "3 2613908     June 1, 2023  Missouri  Saint Louis   \n",
              "4 2613423     May 31, 2023  Illinois  River Grove   \n",
              "5 2613673     May 30, 2023  Alabama   Troy          \n",
              "6 2611417     May 29, 2023  Florida   Bonifay       \n",
              "  Address                          X..Victims.Injured X..Victims.Killed\n",
              "1 712 W Poplar Ave                 0                  1                \n",
              "2 11300 block of Woollcott St      0                  1                \n",
              "3 3100 block of Brantner Pl        0                  1                \n",
              "4 2400 block of West St            0                  1                \n",
              "5 900 block of Pike County Lake Rd 0                  1                \n",
              "6 115 Washington Dr                0                  1                \n",
              "  X..Subjects.Suspects.Injured X..Subjects.Suspects.Killed\n",
              "1 0                            0                          \n",
              "2 0                            0                          \n",
              "3 0                            0                          \n",
              "4 0                            0                          \n",
              "5 0                            0                          \n",
              "6 0                            0                          \n",
              "  X..Subjects.Suspects.Arrested Operations\n",
              "1 0                             N/A       \n",
              "2 0                             N/A       \n",
              "3 0                             N/A       \n",
              "4 0                             N/A       \n",
              "5 1                             N/A       \n",
              "6 0                             N/A       "
            ]
          },
          "metadata": {}
        }
      ]
    },
    {
      "cell_type": "code",
      "source": [
        "head(officer_involved_shootings)"
      ],
      "metadata": {
        "colab": {
          "base_uri": "https://localhost:8080/",
          "height": 515
        },
        "id": "s0MCRDa3oyaS",
        "outputId": "1ccbcf12-06cd-43ab-fa4d-87f283e07dbf"
      },
      "execution_count": 30,
      "outputs": [
        {
          "output_type": "display_data",
          "data": {
            "text/html": [
              "<table class=\"dataframe\">\n",
              "<caption>A data.frame: 6 × 11</caption>\n",
              "<thead>\n",
              "\t<tr><th></th><th scope=col>Incident.ID</th><th scope=col>Incident.Date</th><th scope=col>State</th><th scope=col>City.Or.County</th><th scope=col>Address</th><th scope=col>X..Victims.Injured</th><th scope=col>X..Victims.Killed</th><th scope=col>X..Subjects.Suspects.Injured</th><th scope=col>X..Subjects.Suspects.Killed</th><th scope=col>X..Subjects.Suspects.Arrested</th><th scope=col>Operations</th></tr>\n",
              "\t<tr><th></th><th scope=col>&lt;int&gt;</th><th scope=col>&lt;chr&gt;</th><th scope=col>&lt;chr&gt;</th><th scope=col>&lt;chr&gt;</th><th scope=col>&lt;chr&gt;</th><th scope=col>&lt;int&gt;</th><th scope=col>&lt;int&gt;</th><th scope=col>&lt;int&gt;</th><th scope=col>&lt;int&gt;</th><th scope=col>&lt;int&gt;</th><th scope=col>&lt;chr&gt;</th></tr>\n",
              "</thead>\n",
              "<tbody>\n",
              "\t<tr><th scope=row>1</th><td>2618850</td><td>June 7, 2023</td><td>Colorado    </td><td>Denver      </td><td>2600 block of N Zuni St       </td><td>1</td><td>0</td><td>0</td><td>1</td><td>0</td><td>N/A</td></tr>\n",
              "\t<tr><th scope=row>2</th><td>2618853</td><td>June 6, 2023</td><td>Utah        </td><td>Ogden       </td><td>170 N Washington Blvd         </td><td>1</td><td>0</td><td>0</td><td>1</td><td>0</td><td>N/A</td></tr>\n",
              "\t<tr><th scope=row>3</th><td>2614016</td><td>June 1, 2023</td><td>Oklahoma    </td><td>Okmulgee    </td><td>E 2nd St and N Central Ave    </td><td>1</td><td>0</td><td>0</td><td>0</td><td>1</td><td>N/A</td></tr>\n",
              "\t<tr><th scope=row>4</th><td>2613822</td><td>June 1, 2023</td><td>Mississippi </td><td>Brandon     </td><td>50 block of Terrapin Hill Rd N</td><td>1</td><td>1</td><td>0</td><td>1</td><td>0</td><td>N/A</td></tr>\n",
              "\t<tr><th scope=row>5</th><td>2614035</td><td>June 1, 2023</td><td>Tennessee   </td><td>Nashville   </td><td>560 Donelson Pike             </td><td>1</td><td>0</td><td>0</td><td>1</td><td>0</td><td>N/A</td></tr>\n",
              "\t<tr><th scope=row>6</th><td>2613245</td><td>May 31, 2023</td><td>Pennsylvania</td><td>Philadelphia</td><td>2800 block of Jasper St       </td><td>1</td><td>0</td><td>0</td><td>1</td><td>0</td><td>N/A</td></tr>\n",
              "</tbody>\n",
              "</table>\n"
            ],
            "text/markdown": "\nA data.frame: 6 × 11\n\n| <!--/--> | Incident.ID &lt;int&gt; | Incident.Date &lt;chr&gt; | State &lt;chr&gt; | City.Or.County &lt;chr&gt; | Address &lt;chr&gt; | X..Victims.Injured &lt;int&gt; | X..Victims.Killed &lt;int&gt; | X..Subjects.Suspects.Injured &lt;int&gt; | X..Subjects.Suspects.Killed &lt;int&gt; | X..Subjects.Suspects.Arrested &lt;int&gt; | Operations &lt;chr&gt; |\n|---|---|---|---|---|---|---|---|---|---|---|---|\n| 1 | 2618850 | June 7, 2023 | Colorado     | Denver       | 2600 block of N Zuni St        | 1 | 0 | 0 | 1 | 0 | N/A |\n| 2 | 2618853 | June 6, 2023 | Utah         | Ogden        | 170 N Washington Blvd          | 1 | 0 | 0 | 1 | 0 | N/A |\n| 3 | 2614016 | June 1, 2023 | Oklahoma     | Okmulgee     | E 2nd St and N Central Ave     | 1 | 0 | 0 | 0 | 1 | N/A |\n| 4 | 2613822 | June 1, 2023 | Mississippi  | Brandon      | 50 block of Terrapin Hill Rd N | 1 | 1 | 0 | 1 | 0 | N/A |\n| 5 | 2614035 | June 1, 2023 | Tennessee    | Nashville    | 560 Donelson Pike              | 1 | 0 | 0 | 1 | 0 | N/A |\n| 6 | 2613245 | May 31, 2023 | Pennsylvania | Philadelphia | 2800 block of Jasper St        | 1 | 0 | 0 | 1 | 0 | N/A |\n\n",
            "text/latex": "A data.frame: 6 × 11\n\\begin{tabular}{r|lllllllllll}\n  & Incident.ID & Incident.Date & State & City.Or.County & Address & X..Victims.Injured & X..Victims.Killed & X..Subjects.Suspects.Injured & X..Subjects.Suspects.Killed & X..Subjects.Suspects.Arrested & Operations\\\\\n  & <int> & <chr> & <chr> & <chr> & <chr> & <int> & <int> & <int> & <int> & <int> & <chr>\\\\\n\\hline\n\t1 & 2618850 & June 7, 2023 & Colorado     & Denver       & 2600 block of N Zuni St        & 1 & 0 & 0 & 1 & 0 & N/A\\\\\n\t2 & 2618853 & June 6, 2023 & Utah         & Ogden        & 170 N Washington Blvd          & 1 & 0 & 0 & 1 & 0 & N/A\\\\\n\t3 & 2614016 & June 1, 2023 & Oklahoma     & Okmulgee     & E 2nd St and N Central Ave     & 1 & 0 & 0 & 0 & 1 & N/A\\\\\n\t4 & 2613822 & June 1, 2023 & Mississippi  & Brandon      & 50 block of Terrapin Hill Rd N & 1 & 1 & 0 & 1 & 0 & N/A\\\\\n\t5 & 2614035 & June 1, 2023 & Tennessee    & Nashville    & 560 Donelson Pike              & 1 & 0 & 0 & 1 & 0 & N/A\\\\\n\t6 & 2613245 & May 31, 2023 & Pennsylvania & Philadelphia & 2800 block of Jasper St        & 1 & 0 & 0 & 1 & 0 & N/A\\\\\n\\end{tabular}\n",
            "text/plain": [
              "  Incident.ID Incident.Date State        City.Or.County\n",
              "1 2618850     June 7, 2023  Colorado     Denver        \n",
              "2 2618853     June 6, 2023  Utah         Ogden         \n",
              "3 2614016     June 1, 2023  Oklahoma     Okmulgee      \n",
              "4 2613822     June 1, 2023  Mississippi  Brandon       \n",
              "5 2614035     June 1, 2023  Tennessee    Nashville     \n",
              "6 2613245     May 31, 2023  Pennsylvania Philadelphia  \n",
              "  Address                        X..Victims.Injured X..Victims.Killed\n",
              "1 2600 block of N Zuni St        1                  0                \n",
              "2 170 N Washington Blvd          1                  0                \n",
              "3 E 2nd St and N Central Ave     1                  0                \n",
              "4 50 block of Terrapin Hill Rd N 1                  1                \n",
              "5 560 Donelson Pike              1                  0                \n",
              "6 2800 block of Jasper St        1                  0                \n",
              "  X..Subjects.Suspects.Injured X..Subjects.Suspects.Killed\n",
              "1 0                            1                          \n",
              "2 0                            1                          \n",
              "3 0                            0                          \n",
              "4 0                            1                          \n",
              "5 0                            1                          \n",
              "6 0                            1                          \n",
              "  X..Subjects.Suspects.Arrested Operations\n",
              "1 0                             N/A       \n",
              "2 0                             N/A       \n",
              "3 1                             N/A       \n",
              "4 0                             N/A       \n",
              "5 0                             N/A       \n",
              "6 0                             N/A       "
            ]
          },
          "metadata": {}
        }
      ]
    },
    {
      "cell_type": "code",
      "source": [
        "head(school_shootings)"
      ],
      "metadata": {
        "colab": {
          "base_uri": "https://localhost:8080/",
          "height": 462
        },
        "id": "GkoXQiyQoyc1",
        "outputId": "deaabc99-ee9b-4ec0-8327-4d5c9ea9b108"
      },
      "execution_count": 31,
      "outputs": [
        {
          "output_type": "display_data",
          "data": {
            "text/html": [
              "<table class=\"dataframe\">\n",
              "<caption>A data.frame: 6 × 11</caption>\n",
              "<thead>\n",
              "\t<tr><th></th><th scope=col>Incident.ID</th><th scope=col>Incident.Date</th><th scope=col>State</th><th scope=col>City.Or.County</th><th scope=col>Address</th><th scope=col>X..Victims.Injured</th><th scope=col>X..Victims.Killed</th><th scope=col>X..Subjects.Suspects.Injured</th><th scope=col>X..Subjects.Suspects.Killed</th><th scope=col>X..Subjects.Suspects.Arrested</th><th scope=col>Operations</th></tr>\n",
              "\t<tr><th></th><th scope=col>&lt;int&gt;</th><th scope=col>&lt;chr&gt;</th><th scope=col>&lt;chr&gt;</th><th scope=col>&lt;chr&gt;</th><th scope=col>&lt;chr&gt;</th><th scope=col>&lt;int&gt;</th><th scope=col>&lt;int&gt;</th><th scope=col>&lt;int&gt;</th><th scope=col>&lt;int&gt;</th><th scope=col>&lt;int&gt;</th><th scope=col>&lt;chr&gt;</th></tr>\n",
              "</thead>\n",
              "<tbody>\n",
              "\t<tr><th scope=row>1</th><td>2618525</td><td>June 6, 2023</td><td>Pennsylvania</td><td>Philadelphia  </td><td>4300 Tacony St   </td><td>0</td><td>0</td><td>0</td><td>0</td><td>1</td><td>N/A</td></tr>\n",
              "\t<tr><th scope=row>2</th><td>2618358</td><td>June 6, 2023</td><td>Virginia    </td><td>Richmond      </td><td>6 N Laurel St    </td><td>5</td><td>2</td><td>0</td><td>0</td><td>1</td><td>N/A</td></tr>\n",
              "\t<tr><th scope=row>3</th><td>2617124</td><td>June 5, 2023</td><td>Michigan    </td><td>Warren        </td><td>31300 Ryan Rd    </td><td>0</td><td>0</td><td>0</td><td>0</td><td>0</td><td>N/A</td></tr>\n",
              "\t<tr><th scope=row>4</th><td>2617497</td><td>June 5, 2023</td><td>Utah        </td><td>Salt Lake City</td><td>2166 S 1700 E    </td><td>0</td><td>0</td><td>0</td><td>0</td><td>2</td><td>N/A</td></tr>\n",
              "\t<tr><th scope=row>5</th><td>2618343</td><td>June 2, 2023</td><td>Wisconsin   </td><td>Madison       </td><td>702 Pflaum Rd    </td><td>0</td><td>0</td><td>0</td><td>0</td><td>1</td><td>N/A</td></tr>\n",
              "\t<tr><th scope=row>6</th><td>2616067</td><td>June 2, 2023</td><td>California  </td><td>San Mateo     </td><td>506 N Delaware St</td><td>0</td><td>0</td><td>0</td><td>0</td><td>2</td><td>N/A</td></tr>\n",
              "</tbody>\n",
              "</table>\n"
            ],
            "text/markdown": "\nA data.frame: 6 × 11\n\n| <!--/--> | Incident.ID &lt;int&gt; | Incident.Date &lt;chr&gt; | State &lt;chr&gt; | City.Or.County &lt;chr&gt; | Address &lt;chr&gt; | X..Victims.Injured &lt;int&gt; | X..Victims.Killed &lt;int&gt; | X..Subjects.Suspects.Injured &lt;int&gt; | X..Subjects.Suspects.Killed &lt;int&gt; | X..Subjects.Suspects.Arrested &lt;int&gt; | Operations &lt;chr&gt; |\n|---|---|---|---|---|---|---|---|---|---|---|---|\n| 1 | 2618525 | June 6, 2023 | Pennsylvania | Philadelphia   | 4300 Tacony St    | 0 | 0 | 0 | 0 | 1 | N/A |\n| 2 | 2618358 | June 6, 2023 | Virginia     | Richmond       | 6 N Laurel St     | 5 | 2 | 0 | 0 | 1 | N/A |\n| 3 | 2617124 | June 5, 2023 | Michigan     | Warren         | 31300 Ryan Rd     | 0 | 0 | 0 | 0 | 0 | N/A |\n| 4 | 2617497 | June 5, 2023 | Utah         | Salt Lake City | 2166 S 1700 E     | 0 | 0 | 0 | 0 | 2 | N/A |\n| 5 | 2618343 | June 2, 2023 | Wisconsin    | Madison        | 702 Pflaum Rd     | 0 | 0 | 0 | 0 | 1 | N/A |\n| 6 | 2616067 | June 2, 2023 | California   | San Mateo      | 506 N Delaware St | 0 | 0 | 0 | 0 | 2 | N/A |\n\n",
            "text/latex": "A data.frame: 6 × 11\n\\begin{tabular}{r|lllllllllll}\n  & Incident.ID & Incident.Date & State & City.Or.County & Address & X..Victims.Injured & X..Victims.Killed & X..Subjects.Suspects.Injured & X..Subjects.Suspects.Killed & X..Subjects.Suspects.Arrested & Operations\\\\\n  & <int> & <chr> & <chr> & <chr> & <chr> & <int> & <int> & <int> & <int> & <int> & <chr>\\\\\n\\hline\n\t1 & 2618525 & June 6, 2023 & Pennsylvania & Philadelphia   & 4300 Tacony St    & 0 & 0 & 0 & 0 & 1 & N/A\\\\\n\t2 & 2618358 & June 6, 2023 & Virginia     & Richmond       & 6 N Laurel St     & 5 & 2 & 0 & 0 & 1 & N/A\\\\\n\t3 & 2617124 & June 5, 2023 & Michigan     & Warren         & 31300 Ryan Rd     & 0 & 0 & 0 & 0 & 0 & N/A\\\\\n\t4 & 2617497 & June 5, 2023 & Utah         & Salt Lake City & 2166 S 1700 E     & 0 & 0 & 0 & 0 & 2 & N/A\\\\\n\t5 & 2618343 & June 2, 2023 & Wisconsin    & Madison        & 702 Pflaum Rd     & 0 & 0 & 0 & 0 & 1 & N/A\\\\\n\t6 & 2616067 & June 2, 2023 & California   & San Mateo      & 506 N Delaware St & 0 & 0 & 0 & 0 & 2 & N/A\\\\\n\\end{tabular}\n",
            "text/plain": [
              "  Incident.ID Incident.Date State        City.Or.County Address          \n",
              "1 2618525     June 6, 2023  Pennsylvania Philadelphia   4300 Tacony St   \n",
              "2 2618358     June 6, 2023  Virginia     Richmond       6 N Laurel St    \n",
              "3 2617124     June 5, 2023  Michigan     Warren         31300 Ryan Rd    \n",
              "4 2617497     June 5, 2023  Utah         Salt Lake City 2166 S 1700 E    \n",
              "5 2618343     June 2, 2023  Wisconsin    Madison        702 Pflaum Rd    \n",
              "6 2616067     June 2, 2023  California   San Mateo      506 N Delaware St\n",
              "  X..Victims.Injured X..Victims.Killed X..Subjects.Suspects.Injured\n",
              "1 0                  0                 0                           \n",
              "2 5                  2                 0                           \n",
              "3 0                  0                 0                           \n",
              "4 0                  0                 0                           \n",
              "5 0                  0                 0                           \n",
              "6 0                  0                 0                           \n",
              "  X..Subjects.Suspects.Killed X..Subjects.Suspects.Arrested Operations\n",
              "1 0                           1                             N/A       \n",
              "2 0                           1                             N/A       \n",
              "3 0                           0                             N/A       \n",
              "4 0                           2                             N/A       \n",
              "5 0                           1                             N/A       \n",
              "6 0                           2                             N/A       "
            ]
          },
          "metadata": {}
        }
      ]
    },
    {
      "cell_type": "code",
      "source": [
        "head(mass_shootings)"
      ],
      "metadata": {
        "colab": {
          "base_uri": "https://localhost:8080/",
          "height": 497
        },
        "id": "Mre4fw3Yoyf-",
        "outputId": "20d5dc3d-8ba2-41ed-cfef-53a25481cb55"
      },
      "execution_count": 32,
      "outputs": [
        {
          "output_type": "display_data",
          "data": {
            "text/html": [
              "<table class=\"dataframe\">\n",
              "<caption>A data.frame: 6 × 11</caption>\n",
              "<thead>\n",
              "\t<tr><th></th><th scope=col>Incident.ID</th><th scope=col>Incident.Date</th><th scope=col>State</th><th scope=col>City.Or.County</th><th scope=col>Address</th><th scope=col>X..Victims.Injured</th><th scope=col>X..Victims.Killed</th><th scope=col>X..Subjects.Suspects.Injured</th><th scope=col>X..Subjects.Suspects.Killed</th><th scope=col>X..Subjects.Suspects.Arrested</th><th scope=col>Operations</th></tr>\n",
              "\t<tr><th></th><th scope=col>&lt;int&gt;</th><th scope=col>&lt;chr&gt;</th><th scope=col>&lt;chr&gt;</th><th scope=col>&lt;chr&gt;</th><th scope=col>&lt;chr&gt;</th><th scope=col>&lt;int&gt;</th><th scope=col>&lt;int&gt;</th><th scope=col>&lt;int&gt;</th><th scope=col>&lt;int&gt;</th><th scope=col>&lt;int&gt;</th><th scope=col>&lt;chr&gt;</th></tr>\n",
              "</thead>\n",
              "<tbody>\n",
              "\t<tr><th scope=row>1</th><td>2618358</td><td>June 6, 2023</td><td>Virginia   </td><td>Richmond </td><td>6 N Laurel St            </td><td>5</td><td>2</td><td>0</td><td>0</td><td>1</td><td>N/A</td></tr>\n",
              "\t<tr><th scope=row>2</th><td>2617560</td><td>June 5, 2023</td><td>Mississippi</td><td>Jackson  </td><td>440 N Mill St            </td><td>5</td><td>0</td><td>0</td><td>0</td><td>0</td><td>N/A</td></tr>\n",
              "\t<tr><th scope=row>3</th><td>2616439</td><td>June 4, 2023</td><td>Texas      </td><td>Dallas   </td><td>201 Planters Rd          </td><td>4</td><td>1</td><td>0</td><td>0</td><td>0</td><td>N/A</td></tr>\n",
              "\t<tr><th scope=row>4</th><td>2615978</td><td>June 4, 2023</td><td>Illinois   </td><td>Chicago  </td><td>4800 block of W Iowa St  </td><td>6</td><td>1</td><td>0</td><td>0</td><td>0</td><td>N/A</td></tr>\n",
              "\t<tr><th scope=row>5</th><td>2616034</td><td>June 4, 2023</td><td>Florida    </td><td>Pensacola</td><td>Cresent Dr               </td><td>4</td><td>1</td><td>0</td><td>0</td><td>0</td><td>N/A</td></tr>\n",
              "\t<tr><th scope=row>6</th><td>2616015</td><td>June 4, 2023</td><td>Missouri   </td><td>Columbia </td><td>2600 block of Oakbrook Dr</td><td>4</td><td>2</td><td>0</td><td>0</td><td>0</td><td>N/A</td></tr>\n",
              "</tbody>\n",
              "</table>\n"
            ],
            "text/markdown": "\nA data.frame: 6 × 11\n\n| <!--/--> | Incident.ID &lt;int&gt; | Incident.Date &lt;chr&gt; | State &lt;chr&gt; | City.Or.County &lt;chr&gt; | Address &lt;chr&gt; | X..Victims.Injured &lt;int&gt; | X..Victims.Killed &lt;int&gt; | X..Subjects.Suspects.Injured &lt;int&gt; | X..Subjects.Suspects.Killed &lt;int&gt; | X..Subjects.Suspects.Arrested &lt;int&gt; | Operations &lt;chr&gt; |\n|---|---|---|---|---|---|---|---|---|---|---|---|\n| 1 | 2618358 | June 6, 2023 | Virginia    | Richmond  | 6 N Laurel St             | 5 | 2 | 0 | 0 | 1 | N/A |\n| 2 | 2617560 | June 5, 2023 | Mississippi | Jackson   | 440 N Mill St             | 5 | 0 | 0 | 0 | 0 | N/A |\n| 3 | 2616439 | June 4, 2023 | Texas       | Dallas    | 201 Planters Rd           | 4 | 1 | 0 | 0 | 0 | N/A |\n| 4 | 2615978 | June 4, 2023 | Illinois    | Chicago   | 4800 block of W Iowa St   | 6 | 1 | 0 | 0 | 0 | N/A |\n| 5 | 2616034 | June 4, 2023 | Florida     | Pensacola | Cresent Dr                | 4 | 1 | 0 | 0 | 0 | N/A |\n| 6 | 2616015 | June 4, 2023 | Missouri    | Columbia  | 2600 block of Oakbrook Dr | 4 | 2 | 0 | 0 | 0 | N/A |\n\n",
            "text/latex": "A data.frame: 6 × 11\n\\begin{tabular}{r|lllllllllll}\n  & Incident.ID & Incident.Date & State & City.Or.County & Address & X..Victims.Injured & X..Victims.Killed & X..Subjects.Suspects.Injured & X..Subjects.Suspects.Killed & X..Subjects.Suspects.Arrested & Operations\\\\\n  & <int> & <chr> & <chr> & <chr> & <chr> & <int> & <int> & <int> & <int> & <int> & <chr>\\\\\n\\hline\n\t1 & 2618358 & June 6, 2023 & Virginia    & Richmond  & 6 N Laurel St             & 5 & 2 & 0 & 0 & 1 & N/A\\\\\n\t2 & 2617560 & June 5, 2023 & Mississippi & Jackson   & 440 N Mill St             & 5 & 0 & 0 & 0 & 0 & N/A\\\\\n\t3 & 2616439 & June 4, 2023 & Texas       & Dallas    & 201 Planters Rd           & 4 & 1 & 0 & 0 & 0 & N/A\\\\\n\t4 & 2615978 & June 4, 2023 & Illinois    & Chicago   & 4800 block of W Iowa St   & 6 & 1 & 0 & 0 & 0 & N/A\\\\\n\t5 & 2616034 & June 4, 2023 & Florida     & Pensacola & Cresent Dr                & 4 & 1 & 0 & 0 & 0 & N/A\\\\\n\t6 & 2616015 & June 4, 2023 & Missouri    & Columbia  & 2600 block of Oakbrook Dr & 4 & 2 & 0 & 0 & 0 & N/A\\\\\n\\end{tabular}\n",
            "text/plain": [
              "  Incident.ID Incident.Date State       City.Or.County\n",
              "1 2618358     June 6, 2023  Virginia    Richmond      \n",
              "2 2617560     June 5, 2023  Mississippi Jackson       \n",
              "3 2616439     June 4, 2023  Texas       Dallas        \n",
              "4 2615978     June 4, 2023  Illinois    Chicago       \n",
              "5 2616034     June 4, 2023  Florida     Pensacola     \n",
              "6 2616015     June 4, 2023  Missouri    Columbia      \n",
              "  Address                   X..Victims.Injured X..Victims.Killed\n",
              "1 6 N Laurel St             5                  2                \n",
              "2 440 N Mill St             5                  0                \n",
              "3 201 Planters Rd           4                  1                \n",
              "4 4800 block of W Iowa St   6                  1                \n",
              "5 Cresent Dr                4                  1                \n",
              "6 2600 block of Oakbrook Dr 4                  2                \n",
              "  X..Subjects.Suspects.Injured X..Subjects.Suspects.Killed\n",
              "1 0                            0                          \n",
              "2 0                            0                          \n",
              "3 0                            0                          \n",
              "4 0                            0                          \n",
              "5 0                            0                          \n",
              "6 0                            0                          \n",
              "  X..Subjects.Suspects.Arrested Operations\n",
              "1 1                             N/A       \n",
              "2 0                             N/A       \n",
              "3 0                             N/A       \n",
              "4 0                             N/A       \n",
              "5 0                             N/A       \n",
              "6 0                             N/A       "
            ]
          },
          "metadata": {}
        }
      ]
    },
    {
      "cell_type": "code",
      "source": [
        "accidental_deaths_2 <- accidental_deaths %>%\n",
        "  mutate(event_type = 'accidental_death')\n",
        "\n",
        "officer_involved_shootings_2 <- officer_involved_shootings %>%\n",
        "  mutate(event_type = 'officer_involved_shooting')\n",
        "\n",
        "school_shootings_2 <- school_shootings %>%\n",
        "  mutate(event_type = 'school_shooting')\n",
        "\n",
        "mass_shootings_2 <- mass_shootings %>%\n",
        "  mutate(event_type = 'mass_shooting')"
      ],
      "metadata": {
        "id": "i-9wTMUEpEEM"
      },
      "execution_count": 33,
      "outputs": []
    },
    {
      "cell_type": "code",
      "source": [
        "head(accidental_deaths_2)\n",
        "head(officer_involved_shootings_2)\n",
        "head(school_shootings_2)\n",
        "head(mass_shootings_2)"
      ],
      "metadata": {
        "colab": {
          "base_uri": "https://localhost:8080/",
          "height": 1000
        },
        "id": "Wrzgly4-rJOc",
        "outputId": "eadc8f61-dfeb-41a3-be22-2ed9d8f4b0f4"
      },
      "execution_count": 34,
      "outputs": [
        {
          "output_type": "display_data",
          "data": {
            "text/html": [
              "<table class=\"dataframe\">\n",
              "<caption>A data.frame: 6 × 12</caption>\n",
              "<thead>\n",
              "\t<tr><th></th><th scope=col>Incident.ID</th><th scope=col>Incident.Date</th><th scope=col>State</th><th scope=col>City.Or.County</th><th scope=col>Address</th><th scope=col>X..Victims.Injured</th><th scope=col>X..Victims.Killed</th><th scope=col>X..Subjects.Suspects.Injured</th><th scope=col>X..Subjects.Suspects.Killed</th><th scope=col>X..Subjects.Suspects.Arrested</th><th scope=col>Operations</th><th scope=col>event_type</th></tr>\n",
              "\t<tr><th></th><th scope=col>&lt;int&gt;</th><th scope=col>&lt;chr&gt;</th><th scope=col>&lt;chr&gt;</th><th scope=col>&lt;chr&gt;</th><th scope=col>&lt;chr&gt;</th><th scope=col>&lt;int&gt;</th><th scope=col>&lt;int&gt;</th><th scope=col>&lt;int&gt;</th><th scope=col>&lt;int&gt;</th><th scope=col>&lt;int&gt;</th><th scope=col>&lt;chr&gt;</th><th scope=col>&lt;chr&gt;</th></tr>\n",
              "</thead>\n",
              "<tbody>\n",
              "\t<tr><th scope=row>1</th><td>2615598</td><td>June 3, 2023</td><td>Tennessee</td><td>Collierville</td><td>712 W Poplar Ave                </td><td>0</td><td>1</td><td>0</td><td>0</td><td>0</td><td>N/A</td><td>accidental_death</td></tr>\n",
              "\t<tr><th scope=row>2</th><td>2615784</td><td>June 3, 2023</td><td>Texas    </td><td>San Antonio </td><td>11300 block of Woollcott St     </td><td>0</td><td>1</td><td>0</td><td>0</td><td>0</td><td>N/A</td><td>accidental_death</td></tr>\n",
              "\t<tr><th scope=row>3</th><td>2613908</td><td>June 1, 2023</td><td>Missouri </td><td>Saint Louis </td><td>3100 block of Brantner Pl       </td><td>0</td><td>1</td><td>0</td><td>0</td><td>0</td><td>N/A</td><td>accidental_death</td></tr>\n",
              "\t<tr><th scope=row>4</th><td>2613423</td><td>May 31, 2023</td><td>Illinois </td><td>River Grove </td><td>2400 block of West St           </td><td>0</td><td>1</td><td>0</td><td>0</td><td>0</td><td>N/A</td><td>accidental_death</td></tr>\n",
              "\t<tr><th scope=row>5</th><td>2613673</td><td>May 30, 2023</td><td>Alabama  </td><td>Troy        </td><td>900 block of Pike County Lake Rd</td><td>0</td><td>1</td><td>0</td><td>0</td><td>1</td><td>N/A</td><td>accidental_death</td></tr>\n",
              "\t<tr><th scope=row>6</th><td>2611417</td><td>May 29, 2023</td><td>Florida  </td><td>Bonifay     </td><td>115 Washington Dr               </td><td>0</td><td>1</td><td>0</td><td>0</td><td>0</td><td>N/A</td><td>accidental_death</td></tr>\n",
              "</tbody>\n",
              "</table>\n"
            ],
            "text/markdown": "\nA data.frame: 6 × 12\n\n| <!--/--> | Incident.ID &lt;int&gt; | Incident.Date &lt;chr&gt; | State &lt;chr&gt; | City.Or.County &lt;chr&gt; | Address &lt;chr&gt; | X..Victims.Injured &lt;int&gt; | X..Victims.Killed &lt;int&gt; | X..Subjects.Suspects.Injured &lt;int&gt; | X..Subjects.Suspects.Killed &lt;int&gt; | X..Subjects.Suspects.Arrested &lt;int&gt; | Operations &lt;chr&gt; | event_type &lt;chr&gt; |\n|---|---|---|---|---|---|---|---|---|---|---|---|---|\n| 1 | 2615598 | June 3, 2023 | Tennessee | Collierville | 712 W Poplar Ave                 | 0 | 1 | 0 | 0 | 0 | N/A | accidental_death |\n| 2 | 2615784 | June 3, 2023 | Texas     | San Antonio  | 11300 block of Woollcott St      | 0 | 1 | 0 | 0 | 0 | N/A | accidental_death |\n| 3 | 2613908 | June 1, 2023 | Missouri  | Saint Louis  | 3100 block of Brantner Pl        | 0 | 1 | 0 | 0 | 0 | N/A | accidental_death |\n| 4 | 2613423 | May 31, 2023 | Illinois  | River Grove  | 2400 block of West St            | 0 | 1 | 0 | 0 | 0 | N/A | accidental_death |\n| 5 | 2613673 | May 30, 2023 | Alabama   | Troy         | 900 block of Pike County Lake Rd | 0 | 1 | 0 | 0 | 1 | N/A | accidental_death |\n| 6 | 2611417 | May 29, 2023 | Florida   | Bonifay      | 115 Washington Dr                | 0 | 1 | 0 | 0 | 0 | N/A | accidental_death |\n\n",
            "text/latex": "A data.frame: 6 × 12\n\\begin{tabular}{r|llllllllllll}\n  & Incident.ID & Incident.Date & State & City.Or.County & Address & X..Victims.Injured & X..Victims.Killed & X..Subjects.Suspects.Injured & X..Subjects.Suspects.Killed & X..Subjects.Suspects.Arrested & Operations & event\\_type\\\\\n  & <int> & <chr> & <chr> & <chr> & <chr> & <int> & <int> & <int> & <int> & <int> & <chr> & <chr>\\\\\n\\hline\n\t1 & 2615598 & June 3, 2023 & Tennessee & Collierville & 712 W Poplar Ave                 & 0 & 1 & 0 & 0 & 0 & N/A & accidental\\_death\\\\\n\t2 & 2615784 & June 3, 2023 & Texas     & San Antonio  & 11300 block of Woollcott St      & 0 & 1 & 0 & 0 & 0 & N/A & accidental\\_death\\\\\n\t3 & 2613908 & June 1, 2023 & Missouri  & Saint Louis  & 3100 block of Brantner Pl        & 0 & 1 & 0 & 0 & 0 & N/A & accidental\\_death\\\\\n\t4 & 2613423 & May 31, 2023 & Illinois  & River Grove  & 2400 block of West St            & 0 & 1 & 0 & 0 & 0 & N/A & accidental\\_death\\\\\n\t5 & 2613673 & May 30, 2023 & Alabama   & Troy         & 900 block of Pike County Lake Rd & 0 & 1 & 0 & 0 & 1 & N/A & accidental\\_death\\\\\n\t6 & 2611417 & May 29, 2023 & Florida   & Bonifay      & 115 Washington Dr                & 0 & 1 & 0 & 0 & 0 & N/A & accidental\\_death\\\\\n\\end{tabular}\n",
            "text/plain": [
              "  Incident.ID Incident.Date State     City.Or.County\n",
              "1 2615598     June 3, 2023  Tennessee Collierville  \n",
              "2 2615784     June 3, 2023  Texas     San Antonio   \n",
              "3 2613908     June 1, 2023  Missouri  Saint Louis   \n",
              "4 2613423     May 31, 2023  Illinois  River Grove   \n",
              "5 2613673     May 30, 2023  Alabama   Troy          \n",
              "6 2611417     May 29, 2023  Florida   Bonifay       \n",
              "  Address                          X..Victims.Injured X..Victims.Killed\n",
              "1 712 W Poplar Ave                 0                  1                \n",
              "2 11300 block of Woollcott St      0                  1                \n",
              "3 3100 block of Brantner Pl        0                  1                \n",
              "4 2400 block of West St            0                  1                \n",
              "5 900 block of Pike County Lake Rd 0                  1                \n",
              "6 115 Washington Dr                0                  1                \n",
              "  X..Subjects.Suspects.Injured X..Subjects.Suspects.Killed\n",
              "1 0                            0                          \n",
              "2 0                            0                          \n",
              "3 0                            0                          \n",
              "4 0                            0                          \n",
              "5 0                            0                          \n",
              "6 0                            0                          \n",
              "  X..Subjects.Suspects.Arrested Operations event_type      \n",
              "1 0                             N/A        accidental_death\n",
              "2 0                             N/A        accidental_death\n",
              "3 0                             N/A        accidental_death\n",
              "4 0                             N/A        accidental_death\n",
              "5 1                             N/A        accidental_death\n",
              "6 0                             N/A        accidental_death"
            ]
          },
          "metadata": {}
        },
        {
          "output_type": "display_data",
          "data": {
            "text/html": [
              "<table class=\"dataframe\">\n",
              "<caption>A data.frame: 6 × 12</caption>\n",
              "<thead>\n",
              "\t<tr><th></th><th scope=col>Incident.ID</th><th scope=col>Incident.Date</th><th scope=col>State</th><th scope=col>City.Or.County</th><th scope=col>Address</th><th scope=col>X..Victims.Injured</th><th scope=col>X..Victims.Killed</th><th scope=col>X..Subjects.Suspects.Injured</th><th scope=col>X..Subjects.Suspects.Killed</th><th scope=col>X..Subjects.Suspects.Arrested</th><th scope=col>Operations</th><th scope=col>event_type</th></tr>\n",
              "\t<tr><th></th><th scope=col>&lt;int&gt;</th><th scope=col>&lt;chr&gt;</th><th scope=col>&lt;chr&gt;</th><th scope=col>&lt;chr&gt;</th><th scope=col>&lt;chr&gt;</th><th scope=col>&lt;int&gt;</th><th scope=col>&lt;int&gt;</th><th scope=col>&lt;int&gt;</th><th scope=col>&lt;int&gt;</th><th scope=col>&lt;int&gt;</th><th scope=col>&lt;chr&gt;</th><th scope=col>&lt;chr&gt;</th></tr>\n",
              "</thead>\n",
              "<tbody>\n",
              "\t<tr><th scope=row>1</th><td>2618850</td><td>June 7, 2023</td><td>Colorado    </td><td>Denver      </td><td>2600 block of N Zuni St       </td><td>1</td><td>0</td><td>0</td><td>1</td><td>0</td><td>N/A</td><td>officer_involved_shooting</td></tr>\n",
              "\t<tr><th scope=row>2</th><td>2618853</td><td>June 6, 2023</td><td>Utah        </td><td>Ogden       </td><td>170 N Washington Blvd         </td><td>1</td><td>0</td><td>0</td><td>1</td><td>0</td><td>N/A</td><td>officer_involved_shooting</td></tr>\n",
              "\t<tr><th scope=row>3</th><td>2614016</td><td>June 1, 2023</td><td>Oklahoma    </td><td>Okmulgee    </td><td>E 2nd St and N Central Ave    </td><td>1</td><td>0</td><td>0</td><td>0</td><td>1</td><td>N/A</td><td>officer_involved_shooting</td></tr>\n",
              "\t<tr><th scope=row>4</th><td>2613822</td><td>June 1, 2023</td><td>Mississippi </td><td>Brandon     </td><td>50 block of Terrapin Hill Rd N</td><td>1</td><td>1</td><td>0</td><td>1</td><td>0</td><td>N/A</td><td>officer_involved_shooting</td></tr>\n",
              "\t<tr><th scope=row>5</th><td>2614035</td><td>June 1, 2023</td><td>Tennessee   </td><td>Nashville   </td><td>560 Donelson Pike             </td><td>1</td><td>0</td><td>0</td><td>1</td><td>0</td><td>N/A</td><td>officer_involved_shooting</td></tr>\n",
              "\t<tr><th scope=row>6</th><td>2613245</td><td>May 31, 2023</td><td>Pennsylvania</td><td>Philadelphia</td><td>2800 block of Jasper St       </td><td>1</td><td>0</td><td>0</td><td>1</td><td>0</td><td>N/A</td><td>officer_involved_shooting</td></tr>\n",
              "</tbody>\n",
              "</table>\n"
            ],
            "text/markdown": "\nA data.frame: 6 × 12\n\n| <!--/--> | Incident.ID &lt;int&gt; | Incident.Date &lt;chr&gt; | State &lt;chr&gt; | City.Or.County &lt;chr&gt; | Address &lt;chr&gt; | X..Victims.Injured &lt;int&gt; | X..Victims.Killed &lt;int&gt; | X..Subjects.Suspects.Injured &lt;int&gt; | X..Subjects.Suspects.Killed &lt;int&gt; | X..Subjects.Suspects.Arrested &lt;int&gt; | Operations &lt;chr&gt; | event_type &lt;chr&gt; |\n|---|---|---|---|---|---|---|---|---|---|---|---|---|\n| 1 | 2618850 | June 7, 2023 | Colorado     | Denver       | 2600 block of N Zuni St        | 1 | 0 | 0 | 1 | 0 | N/A | officer_involved_shooting |\n| 2 | 2618853 | June 6, 2023 | Utah         | Ogden        | 170 N Washington Blvd          | 1 | 0 | 0 | 1 | 0 | N/A | officer_involved_shooting |\n| 3 | 2614016 | June 1, 2023 | Oklahoma     | Okmulgee     | E 2nd St and N Central Ave     | 1 | 0 | 0 | 0 | 1 | N/A | officer_involved_shooting |\n| 4 | 2613822 | June 1, 2023 | Mississippi  | Brandon      | 50 block of Terrapin Hill Rd N | 1 | 1 | 0 | 1 | 0 | N/A | officer_involved_shooting |\n| 5 | 2614035 | June 1, 2023 | Tennessee    | Nashville    | 560 Donelson Pike              | 1 | 0 | 0 | 1 | 0 | N/A | officer_involved_shooting |\n| 6 | 2613245 | May 31, 2023 | Pennsylvania | Philadelphia | 2800 block of Jasper St        | 1 | 0 | 0 | 1 | 0 | N/A | officer_involved_shooting |\n\n",
            "text/latex": "A data.frame: 6 × 12\n\\begin{tabular}{r|llllllllllll}\n  & Incident.ID & Incident.Date & State & City.Or.County & Address & X..Victims.Injured & X..Victims.Killed & X..Subjects.Suspects.Injured & X..Subjects.Suspects.Killed & X..Subjects.Suspects.Arrested & Operations & event\\_type\\\\\n  & <int> & <chr> & <chr> & <chr> & <chr> & <int> & <int> & <int> & <int> & <int> & <chr> & <chr>\\\\\n\\hline\n\t1 & 2618850 & June 7, 2023 & Colorado     & Denver       & 2600 block of N Zuni St        & 1 & 0 & 0 & 1 & 0 & N/A & officer\\_involved\\_shooting\\\\\n\t2 & 2618853 & June 6, 2023 & Utah         & Ogden        & 170 N Washington Blvd          & 1 & 0 & 0 & 1 & 0 & N/A & officer\\_involved\\_shooting\\\\\n\t3 & 2614016 & June 1, 2023 & Oklahoma     & Okmulgee     & E 2nd St and N Central Ave     & 1 & 0 & 0 & 0 & 1 & N/A & officer\\_involved\\_shooting\\\\\n\t4 & 2613822 & June 1, 2023 & Mississippi  & Brandon      & 50 block of Terrapin Hill Rd N & 1 & 1 & 0 & 1 & 0 & N/A & officer\\_involved\\_shooting\\\\\n\t5 & 2614035 & June 1, 2023 & Tennessee    & Nashville    & 560 Donelson Pike              & 1 & 0 & 0 & 1 & 0 & N/A & officer\\_involved\\_shooting\\\\\n\t6 & 2613245 & May 31, 2023 & Pennsylvania & Philadelphia & 2800 block of Jasper St        & 1 & 0 & 0 & 1 & 0 & N/A & officer\\_involved\\_shooting\\\\\n\\end{tabular}\n",
            "text/plain": [
              "  Incident.ID Incident.Date State        City.Or.County\n",
              "1 2618850     June 7, 2023  Colorado     Denver        \n",
              "2 2618853     June 6, 2023  Utah         Ogden         \n",
              "3 2614016     June 1, 2023  Oklahoma     Okmulgee      \n",
              "4 2613822     June 1, 2023  Mississippi  Brandon       \n",
              "5 2614035     June 1, 2023  Tennessee    Nashville     \n",
              "6 2613245     May 31, 2023  Pennsylvania Philadelphia  \n",
              "  Address                        X..Victims.Injured X..Victims.Killed\n",
              "1 2600 block of N Zuni St        1                  0                \n",
              "2 170 N Washington Blvd          1                  0                \n",
              "3 E 2nd St and N Central Ave     1                  0                \n",
              "4 50 block of Terrapin Hill Rd N 1                  1                \n",
              "5 560 Donelson Pike              1                  0                \n",
              "6 2800 block of Jasper St        1                  0                \n",
              "  X..Subjects.Suspects.Injured X..Subjects.Suspects.Killed\n",
              "1 0                            1                          \n",
              "2 0                            1                          \n",
              "3 0                            0                          \n",
              "4 0                            1                          \n",
              "5 0                            1                          \n",
              "6 0                            1                          \n",
              "  X..Subjects.Suspects.Arrested Operations event_type               \n",
              "1 0                             N/A        officer_involved_shooting\n",
              "2 0                             N/A        officer_involved_shooting\n",
              "3 1                             N/A        officer_involved_shooting\n",
              "4 0                             N/A        officer_involved_shooting\n",
              "5 0                             N/A        officer_involved_shooting\n",
              "6 0                             N/A        officer_involved_shooting"
            ]
          },
          "metadata": {}
        },
        {
          "output_type": "display_data",
          "data": {
            "text/html": [
              "<table class=\"dataframe\">\n",
              "<caption>A data.frame: 6 × 12</caption>\n",
              "<thead>\n",
              "\t<tr><th></th><th scope=col>Incident.ID</th><th scope=col>Incident.Date</th><th scope=col>State</th><th scope=col>City.Or.County</th><th scope=col>Address</th><th scope=col>X..Victims.Injured</th><th scope=col>X..Victims.Killed</th><th scope=col>X..Subjects.Suspects.Injured</th><th scope=col>X..Subjects.Suspects.Killed</th><th scope=col>X..Subjects.Suspects.Arrested</th><th scope=col>Operations</th><th scope=col>event_type</th></tr>\n",
              "\t<tr><th></th><th scope=col>&lt;int&gt;</th><th scope=col>&lt;chr&gt;</th><th scope=col>&lt;chr&gt;</th><th scope=col>&lt;chr&gt;</th><th scope=col>&lt;chr&gt;</th><th scope=col>&lt;int&gt;</th><th scope=col>&lt;int&gt;</th><th scope=col>&lt;int&gt;</th><th scope=col>&lt;int&gt;</th><th scope=col>&lt;int&gt;</th><th scope=col>&lt;chr&gt;</th><th scope=col>&lt;chr&gt;</th></tr>\n",
              "</thead>\n",
              "<tbody>\n",
              "\t<tr><th scope=row>1</th><td>2618525</td><td>June 6, 2023</td><td>Pennsylvania</td><td>Philadelphia  </td><td>4300 Tacony St   </td><td>0</td><td>0</td><td>0</td><td>0</td><td>1</td><td>N/A</td><td>school_shooting</td></tr>\n",
              "\t<tr><th scope=row>2</th><td>2618358</td><td>June 6, 2023</td><td>Virginia    </td><td>Richmond      </td><td>6 N Laurel St    </td><td>5</td><td>2</td><td>0</td><td>0</td><td>1</td><td>N/A</td><td>school_shooting</td></tr>\n",
              "\t<tr><th scope=row>3</th><td>2617124</td><td>June 5, 2023</td><td>Michigan    </td><td>Warren        </td><td>31300 Ryan Rd    </td><td>0</td><td>0</td><td>0</td><td>0</td><td>0</td><td>N/A</td><td>school_shooting</td></tr>\n",
              "\t<tr><th scope=row>4</th><td>2617497</td><td>June 5, 2023</td><td>Utah        </td><td>Salt Lake City</td><td>2166 S 1700 E    </td><td>0</td><td>0</td><td>0</td><td>0</td><td>2</td><td>N/A</td><td>school_shooting</td></tr>\n",
              "\t<tr><th scope=row>5</th><td>2618343</td><td>June 2, 2023</td><td>Wisconsin   </td><td>Madison       </td><td>702 Pflaum Rd    </td><td>0</td><td>0</td><td>0</td><td>0</td><td>1</td><td>N/A</td><td>school_shooting</td></tr>\n",
              "\t<tr><th scope=row>6</th><td>2616067</td><td>June 2, 2023</td><td>California  </td><td>San Mateo     </td><td>506 N Delaware St</td><td>0</td><td>0</td><td>0</td><td>0</td><td>2</td><td>N/A</td><td>school_shooting</td></tr>\n",
              "</tbody>\n",
              "</table>\n"
            ],
            "text/markdown": "\nA data.frame: 6 × 12\n\n| <!--/--> | Incident.ID &lt;int&gt; | Incident.Date &lt;chr&gt; | State &lt;chr&gt; | City.Or.County &lt;chr&gt; | Address &lt;chr&gt; | X..Victims.Injured &lt;int&gt; | X..Victims.Killed &lt;int&gt; | X..Subjects.Suspects.Injured &lt;int&gt; | X..Subjects.Suspects.Killed &lt;int&gt; | X..Subjects.Suspects.Arrested &lt;int&gt; | Operations &lt;chr&gt; | event_type &lt;chr&gt; |\n|---|---|---|---|---|---|---|---|---|---|---|---|---|\n| 1 | 2618525 | June 6, 2023 | Pennsylvania | Philadelphia   | 4300 Tacony St    | 0 | 0 | 0 | 0 | 1 | N/A | school_shooting |\n| 2 | 2618358 | June 6, 2023 | Virginia     | Richmond       | 6 N Laurel St     | 5 | 2 | 0 | 0 | 1 | N/A | school_shooting |\n| 3 | 2617124 | June 5, 2023 | Michigan     | Warren         | 31300 Ryan Rd     | 0 | 0 | 0 | 0 | 0 | N/A | school_shooting |\n| 4 | 2617497 | June 5, 2023 | Utah         | Salt Lake City | 2166 S 1700 E     | 0 | 0 | 0 | 0 | 2 | N/A | school_shooting |\n| 5 | 2618343 | June 2, 2023 | Wisconsin    | Madison        | 702 Pflaum Rd     | 0 | 0 | 0 | 0 | 1 | N/A | school_shooting |\n| 6 | 2616067 | June 2, 2023 | California   | San Mateo      | 506 N Delaware St | 0 | 0 | 0 | 0 | 2 | N/A | school_shooting |\n\n",
            "text/latex": "A data.frame: 6 × 12\n\\begin{tabular}{r|llllllllllll}\n  & Incident.ID & Incident.Date & State & City.Or.County & Address & X..Victims.Injured & X..Victims.Killed & X..Subjects.Suspects.Injured & X..Subjects.Suspects.Killed & X..Subjects.Suspects.Arrested & Operations & event\\_type\\\\\n  & <int> & <chr> & <chr> & <chr> & <chr> & <int> & <int> & <int> & <int> & <int> & <chr> & <chr>\\\\\n\\hline\n\t1 & 2618525 & June 6, 2023 & Pennsylvania & Philadelphia   & 4300 Tacony St    & 0 & 0 & 0 & 0 & 1 & N/A & school\\_shooting\\\\\n\t2 & 2618358 & June 6, 2023 & Virginia     & Richmond       & 6 N Laurel St     & 5 & 2 & 0 & 0 & 1 & N/A & school\\_shooting\\\\\n\t3 & 2617124 & June 5, 2023 & Michigan     & Warren         & 31300 Ryan Rd     & 0 & 0 & 0 & 0 & 0 & N/A & school\\_shooting\\\\\n\t4 & 2617497 & June 5, 2023 & Utah         & Salt Lake City & 2166 S 1700 E     & 0 & 0 & 0 & 0 & 2 & N/A & school\\_shooting\\\\\n\t5 & 2618343 & June 2, 2023 & Wisconsin    & Madison        & 702 Pflaum Rd     & 0 & 0 & 0 & 0 & 1 & N/A & school\\_shooting\\\\\n\t6 & 2616067 & June 2, 2023 & California   & San Mateo      & 506 N Delaware St & 0 & 0 & 0 & 0 & 2 & N/A & school\\_shooting\\\\\n\\end{tabular}\n",
            "text/plain": [
              "  Incident.ID Incident.Date State        City.Or.County Address          \n",
              "1 2618525     June 6, 2023  Pennsylvania Philadelphia   4300 Tacony St   \n",
              "2 2618358     June 6, 2023  Virginia     Richmond       6 N Laurel St    \n",
              "3 2617124     June 5, 2023  Michigan     Warren         31300 Ryan Rd    \n",
              "4 2617497     June 5, 2023  Utah         Salt Lake City 2166 S 1700 E    \n",
              "5 2618343     June 2, 2023  Wisconsin    Madison        702 Pflaum Rd    \n",
              "6 2616067     June 2, 2023  California   San Mateo      506 N Delaware St\n",
              "  X..Victims.Injured X..Victims.Killed X..Subjects.Suspects.Injured\n",
              "1 0                  0                 0                           \n",
              "2 5                  2                 0                           \n",
              "3 0                  0                 0                           \n",
              "4 0                  0                 0                           \n",
              "5 0                  0                 0                           \n",
              "6 0                  0                 0                           \n",
              "  X..Subjects.Suspects.Killed X..Subjects.Suspects.Arrested Operations\n",
              "1 0                           1                             N/A       \n",
              "2 0                           1                             N/A       \n",
              "3 0                           0                             N/A       \n",
              "4 0                           2                             N/A       \n",
              "5 0                           1                             N/A       \n",
              "6 0                           2                             N/A       \n",
              "  event_type     \n",
              "1 school_shooting\n",
              "2 school_shooting\n",
              "3 school_shooting\n",
              "4 school_shooting\n",
              "5 school_shooting\n",
              "6 school_shooting"
            ]
          },
          "metadata": {}
        },
        {
          "output_type": "display_data",
          "data": {
            "text/html": [
              "<table class=\"dataframe\">\n",
              "<caption>A data.frame: 6 × 12</caption>\n",
              "<thead>\n",
              "\t<tr><th></th><th scope=col>Incident.ID</th><th scope=col>Incident.Date</th><th scope=col>State</th><th scope=col>City.Or.County</th><th scope=col>Address</th><th scope=col>X..Victims.Injured</th><th scope=col>X..Victims.Killed</th><th scope=col>X..Subjects.Suspects.Injured</th><th scope=col>X..Subjects.Suspects.Killed</th><th scope=col>X..Subjects.Suspects.Arrested</th><th scope=col>Operations</th><th scope=col>event_type</th></tr>\n",
              "\t<tr><th></th><th scope=col>&lt;int&gt;</th><th scope=col>&lt;chr&gt;</th><th scope=col>&lt;chr&gt;</th><th scope=col>&lt;chr&gt;</th><th scope=col>&lt;chr&gt;</th><th scope=col>&lt;int&gt;</th><th scope=col>&lt;int&gt;</th><th scope=col>&lt;int&gt;</th><th scope=col>&lt;int&gt;</th><th scope=col>&lt;int&gt;</th><th scope=col>&lt;chr&gt;</th><th scope=col>&lt;chr&gt;</th></tr>\n",
              "</thead>\n",
              "<tbody>\n",
              "\t<tr><th scope=row>1</th><td>2618358</td><td>June 6, 2023</td><td>Virginia   </td><td>Richmond </td><td>6 N Laurel St            </td><td>5</td><td>2</td><td>0</td><td>0</td><td>1</td><td>N/A</td><td>mass_shooting</td></tr>\n",
              "\t<tr><th scope=row>2</th><td>2617560</td><td>June 5, 2023</td><td>Mississippi</td><td>Jackson  </td><td>440 N Mill St            </td><td>5</td><td>0</td><td>0</td><td>0</td><td>0</td><td>N/A</td><td>mass_shooting</td></tr>\n",
              "\t<tr><th scope=row>3</th><td>2616439</td><td>June 4, 2023</td><td>Texas      </td><td>Dallas   </td><td>201 Planters Rd          </td><td>4</td><td>1</td><td>0</td><td>0</td><td>0</td><td>N/A</td><td>mass_shooting</td></tr>\n",
              "\t<tr><th scope=row>4</th><td>2615978</td><td>June 4, 2023</td><td>Illinois   </td><td>Chicago  </td><td>4800 block of W Iowa St  </td><td>6</td><td>1</td><td>0</td><td>0</td><td>0</td><td>N/A</td><td>mass_shooting</td></tr>\n",
              "\t<tr><th scope=row>5</th><td>2616034</td><td>June 4, 2023</td><td>Florida    </td><td>Pensacola</td><td>Cresent Dr               </td><td>4</td><td>1</td><td>0</td><td>0</td><td>0</td><td>N/A</td><td>mass_shooting</td></tr>\n",
              "\t<tr><th scope=row>6</th><td>2616015</td><td>June 4, 2023</td><td>Missouri   </td><td>Columbia </td><td>2600 block of Oakbrook Dr</td><td>4</td><td>2</td><td>0</td><td>0</td><td>0</td><td>N/A</td><td>mass_shooting</td></tr>\n",
              "</tbody>\n",
              "</table>\n"
            ],
            "text/markdown": "\nA data.frame: 6 × 12\n\n| <!--/--> | Incident.ID &lt;int&gt; | Incident.Date &lt;chr&gt; | State &lt;chr&gt; | City.Or.County &lt;chr&gt; | Address &lt;chr&gt; | X..Victims.Injured &lt;int&gt; | X..Victims.Killed &lt;int&gt; | X..Subjects.Suspects.Injured &lt;int&gt; | X..Subjects.Suspects.Killed &lt;int&gt; | X..Subjects.Suspects.Arrested &lt;int&gt; | Operations &lt;chr&gt; | event_type &lt;chr&gt; |\n|---|---|---|---|---|---|---|---|---|---|---|---|---|\n| 1 | 2618358 | June 6, 2023 | Virginia    | Richmond  | 6 N Laurel St             | 5 | 2 | 0 | 0 | 1 | N/A | mass_shooting |\n| 2 | 2617560 | June 5, 2023 | Mississippi | Jackson   | 440 N Mill St             | 5 | 0 | 0 | 0 | 0 | N/A | mass_shooting |\n| 3 | 2616439 | June 4, 2023 | Texas       | Dallas    | 201 Planters Rd           | 4 | 1 | 0 | 0 | 0 | N/A | mass_shooting |\n| 4 | 2615978 | June 4, 2023 | Illinois    | Chicago   | 4800 block of W Iowa St   | 6 | 1 | 0 | 0 | 0 | N/A | mass_shooting |\n| 5 | 2616034 | June 4, 2023 | Florida     | Pensacola | Cresent Dr                | 4 | 1 | 0 | 0 | 0 | N/A | mass_shooting |\n| 6 | 2616015 | June 4, 2023 | Missouri    | Columbia  | 2600 block of Oakbrook Dr | 4 | 2 | 0 | 0 | 0 | N/A | mass_shooting |\n\n",
            "text/latex": "A data.frame: 6 × 12\n\\begin{tabular}{r|llllllllllll}\n  & Incident.ID & Incident.Date & State & City.Or.County & Address & X..Victims.Injured & X..Victims.Killed & X..Subjects.Suspects.Injured & X..Subjects.Suspects.Killed & X..Subjects.Suspects.Arrested & Operations & event\\_type\\\\\n  & <int> & <chr> & <chr> & <chr> & <chr> & <int> & <int> & <int> & <int> & <int> & <chr> & <chr>\\\\\n\\hline\n\t1 & 2618358 & June 6, 2023 & Virginia    & Richmond  & 6 N Laurel St             & 5 & 2 & 0 & 0 & 1 & N/A & mass\\_shooting\\\\\n\t2 & 2617560 & June 5, 2023 & Mississippi & Jackson   & 440 N Mill St             & 5 & 0 & 0 & 0 & 0 & N/A & mass\\_shooting\\\\\n\t3 & 2616439 & June 4, 2023 & Texas       & Dallas    & 201 Planters Rd           & 4 & 1 & 0 & 0 & 0 & N/A & mass\\_shooting\\\\\n\t4 & 2615978 & June 4, 2023 & Illinois    & Chicago   & 4800 block of W Iowa St   & 6 & 1 & 0 & 0 & 0 & N/A & mass\\_shooting\\\\\n\t5 & 2616034 & June 4, 2023 & Florida     & Pensacola & Cresent Dr                & 4 & 1 & 0 & 0 & 0 & N/A & mass\\_shooting\\\\\n\t6 & 2616015 & June 4, 2023 & Missouri    & Columbia  & 2600 block of Oakbrook Dr & 4 & 2 & 0 & 0 & 0 & N/A & mass\\_shooting\\\\\n\\end{tabular}\n",
            "text/plain": [
              "  Incident.ID Incident.Date State       City.Or.County\n",
              "1 2618358     June 6, 2023  Virginia    Richmond      \n",
              "2 2617560     June 5, 2023  Mississippi Jackson       \n",
              "3 2616439     June 4, 2023  Texas       Dallas        \n",
              "4 2615978     June 4, 2023  Illinois    Chicago       \n",
              "5 2616034     June 4, 2023  Florida     Pensacola     \n",
              "6 2616015     June 4, 2023  Missouri    Columbia      \n",
              "  Address                   X..Victims.Injured X..Victims.Killed\n",
              "1 6 N Laurel St             5                  2                \n",
              "2 440 N Mill St             5                  0                \n",
              "3 201 Planters Rd           4                  1                \n",
              "4 4800 block of W Iowa St   6                  1                \n",
              "5 Cresent Dr                4                  1                \n",
              "6 2600 block of Oakbrook Dr 4                  2                \n",
              "  X..Subjects.Suspects.Injured X..Subjects.Suspects.Killed\n",
              "1 0                            0                          \n",
              "2 0                            0                          \n",
              "3 0                            0                          \n",
              "4 0                            0                          \n",
              "5 0                            0                          \n",
              "6 0                            0                          \n",
              "  X..Subjects.Suspects.Arrested Operations event_type   \n",
              "1 1                             N/A        mass_shooting\n",
              "2 0                             N/A        mass_shooting\n",
              "3 0                             N/A        mass_shooting\n",
              "4 0                             N/A        mass_shooting\n",
              "5 0                             N/A        mass_shooting\n",
              "6 0                             N/A        mass_shooting"
            ]
          },
          "metadata": {}
        }
      ]
    },
    {
      "cell_type": "code",
      "source": [
        "gva <- rbind(accidental_deaths_2, officer_involved_shootings_2, school_shootings_2, mass_shootings_2)"
      ],
      "metadata": {
        "id": "TwP6GWrhtRbb"
      },
      "execution_count": 35,
      "outputs": []
    },
    {
      "cell_type": "code",
      "source": [
        "## final export\n",
        "write.csv(gva, \"GVA.csv\", row.names=FALSE)"
      ],
      "metadata": {
        "id": "yA605o3heR03"
      },
      "execution_count": 36,
      "outputs": []
    }
  ]
}