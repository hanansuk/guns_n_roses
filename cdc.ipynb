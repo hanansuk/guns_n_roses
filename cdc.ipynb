{
  "nbformat": 4,
  "nbformat_minor": 0,
  "metadata": {
    "colab": {
      "provenance": [],
      "authorship_tag": "ABX9TyOUyiH06ujxnOQU7PbsMReV",
      "include_colab_link": true
    },
    "kernelspec": {
      "name": "ir",
      "display_name": "R"
    },
    "language_info": {
      "name": "R"
    }
  },
  "cells": [
    {
      "cell_type": "markdown",
      "metadata": {
        "id": "view-in-github",
        "colab_type": "text"
      },
      "source": [
        "<a href=\"https://colab.research.google.com/github/hanansuk/guns_n_roses/blob/main/cdc.ipynb\" target=\"_parent\"><img src=\"https://colab.research.google.com/assets/colab-badge.svg\" alt=\"Open In Colab\"/></a>"
      ]
    },
    {
      "cell_type": "code",
      "execution_count": null,
      "metadata": {
        "colab": {
          "base_uri": "https://localhost:8080/"
        },
        "id": "PYIXvJwSkwH9",
        "outputId": "73560554-f6c3-472e-efc7-378ce6b462c9"
      },
      "outputs": [
        {
          "output_type": "stream",
          "name": "stderr",
          "text": [
            "Installing package into ‘/usr/local/lib/R/site-library’\n",
            "(as ‘lib’ is unspecified)\n",
            "\n",
            "also installing the dependency ‘zoo’\n",
            "\n",
            "\n",
            "Installing package into ‘/usr/local/lib/R/site-library’\n",
            "(as ‘lib’ is unspecified)\n",
            "\n",
            "Installing package into ‘/usr/local/lib/R/site-library’\n",
            "(as ‘lib’ is unspecified)\n",
            "\n",
            "Installing package into ‘/usr/local/lib/R/site-library’\n",
            "(as ‘lib’ is unspecified)\n",
            "\n",
            "Installing package into ‘/usr/local/lib/R/site-library’\n",
            "(as ‘lib’ is unspecified)\n",
            "\n",
            "also installing the dependencies ‘Rcpp’, ‘later’, ‘htmlwidgets’, ‘lazyeval’, ‘crosstalk’, ‘promises’\n",
            "\n",
            "\n",
            "Installing package into ‘/usr/local/lib/R/site-library’\n",
            "(as ‘lib’ is unspecified)\n",
            "\n",
            "Installing package into ‘/usr/local/lib/R/site-library’\n",
            "(as ‘lib’ is unspecified)\n",
            "\n",
            "Installing package into ‘/usr/local/lib/R/site-library’\n",
            "(as ‘lib’ is unspecified)\n",
            "\n",
            "also installing the dependency ‘plyr’\n",
            "\n",
            "\n"
          ]
        }
      ],
      "source": [
        "install.packages('lmtest')\n",
        "install.packages('sandwich')\n",
        "install.packages('stargazer')\n",
        "install.packages('corrplot')\n",
        "install.packages('plotly')\n",
        "install.packages('googledrive')\n",
        "install.packages('httpuv')\n",
        "install.packages('reshape2')"
      ]
    },
    {
      "cell_type": "code",
      "source": [
        "library(ggplot2)\n",
        "library(dplyr)\n",
        "library(tidyr)\n",
        "library(stringr)\n",
        "library(sandwich)\n",
        "library(lmtest)\n",
        "library(stargazer)\n",
        "library(cli)\n",
        "library(corrplot)\n",
        "library(scales)\n",
        "library(tidyverse)\n",
        "library(stats)\n",
        "library(plotly)\n",
        "library(reshape2)\n",
        "library(googledrive) \n",
        "library(httpuv)"
      ],
      "metadata": {
        "colab": {
          "base_uri": "https://localhost:8080/"
        },
        "id": "hLUjo5BQkw0u",
        "outputId": "c2910ce8-871b-43b3-c364-dda5a0f5e926"
      },
      "execution_count": null,
      "outputs": [
        {
          "output_type": "stream",
          "name": "stderr",
          "text": [
            "Loading required package: zoo\n",
            "\n",
            "\n",
            "Attaching package: ‘zoo’\n",
            "\n",
            "\n",
            "The following objects are masked from ‘package:base’:\n",
            "\n",
            "    as.Date, as.Date.numeric\n",
            "\n",
            "\n",
            "\n",
            "Please cite as: \n",
            "\n",
            "\n",
            " Hlavac, Marek (2022). stargazer: Well-Formatted Regression and Summary Statistics Tables.\n",
            "\n",
            " R package version 5.2.3. https://CRAN.R-project.org/package=stargazer \n",
            "\n",
            "\n",
            "corrplot 0.92 loaded\n",
            "\n",
            "── \u001b[1mAttaching packages\u001b[22m ─────────────────────────────────────── tidyverse 1.3.1 ──\n",
            "\n",
            "\u001b[32m✔\u001b[39m \u001b[34mtibble \u001b[39m 3.2.1     \u001b[32m✔\u001b[39m \u001b[34mpurrr  \u001b[39m 1.0.1\n",
            "\u001b[32m✔\u001b[39m \u001b[34mreadr  \u001b[39m 2.1.4     \u001b[32m✔\u001b[39m \u001b[34mforcats\u001b[39m 1.0.0\n",
            "\n",
            "── \u001b[1mConflicts\u001b[22m ────────────────────────────────────────── tidyverse_conflicts() ──\n",
            "\u001b[31m✖\u001b[39m \u001b[34mreadr\u001b[39m::\u001b[32mcol_factor()\u001b[39m masks \u001b[34mscales\u001b[39m::col_factor()\n",
            "\u001b[31m✖\u001b[39m \u001b[34mpurrr\u001b[39m::\u001b[32mdiscard()\u001b[39m    masks \u001b[34mscales\u001b[39m::discard()\n",
            "\u001b[31m✖\u001b[39m \u001b[34mdplyr\u001b[39m::\u001b[32mfilter()\u001b[39m     masks \u001b[34mstats\u001b[39m::filter()\n",
            "\u001b[31m✖\u001b[39m \u001b[34mdplyr\u001b[39m::\u001b[32mlag()\u001b[39m        masks \u001b[34mstats\u001b[39m::lag()\n",
            "\n",
            "\n",
            "Attaching package: ‘plotly’\n",
            "\n",
            "\n",
            "The following object is masked from ‘package:ggplot2’:\n",
            "\n",
            "    last_plot\n",
            "\n",
            "\n",
            "The following object is masked from ‘package:stats’:\n",
            "\n",
            "    filter\n",
            "\n",
            "\n",
            "The following object is masked from ‘package:graphics’:\n",
            "\n",
            "    layout\n",
            "\n",
            "\n",
            "\n",
            "Attaching package: ‘reshape2’\n",
            "\n",
            "\n",
            "The following object is masked from ‘package:tidyr’:\n",
            "\n",
            "    smiths\n",
            "\n",
            "\n"
          ]
        }
      ]
    },
    {
      "cell_type": "code",
      "source": [
        "if (file.exists(\"/usr/local/lib/python3.7/dist-packages/google/colab/_ipython.py\")) { #may update python version  \n",
        "                                       #occasionally\n",
        "  install.packages(\"R.utils\")\n",
        "  library(\"R.utils\")\n",
        "  library(\"httr\")\n",
        "  my_check <- function() {return(TRUE)}\n",
        "  reassignInPackage(\"is_interactive\", pkgName = \"httr\", my_check) \n",
        "  options(rlang_interactive=TRUE)\n",
        "}"
      ],
      "metadata": {
        "id": "5N6k__9ylau2"
      },
      "execution_count": null,
      "outputs": []
    },
    {
      "cell_type": "code",
      "source": [
        "lagpad <- function(x, k) {\n",
        "  if (k>0 & (k %% 5 != 0)) {\n",
        "    return (c(rep(NA, k), x)[1 : length(x)] );\n",
        "  }\n",
        "  else {\n",
        "    return (c(x[(-k+1) : length(x)], rep(NA, -k)));\n",
        "  }\n",
        "}"
      ],
      "metadata": {
        "id": "ChJ9rmbNk8l7"
      },
      "execution_count": null,
      "outputs": []
    },
    {
      "cell_type": "code",
      "source": [
        "x <- drive_get(\"~/deaths_by_month_2.txt\")\n",
        "drive_download(x)\n",
        "cdc <- read.table(\"/content/deaths_by_month_2.txt\", header = TRUE, sep = '\\t', dec = \".\", row.names=NULL)"
      ],
      "metadata": {
        "colab": {
          "base_uri": "https://localhost:8080/",
          "height": 305
        },
        "id": "ckvmW974k-DD",
        "outputId": "abc250f1-e3d4-4831-abb3-8c0c18dd70c1"
      },
      "execution_count": null,
      "outputs": [
        {
          "output_type": "stream",
          "name": "stderr",
          "text": [
            "\u001b[32m✔\u001b[39m The input `path` resolved to exactly 1 file.\n",
            "\n"
          ]
        },
        {
          "output_type": "error",
          "ename": "ERROR",
          "evalue": "ignored",
          "traceback": [
            "Error: Path exists and overwrite is FALSE\nTraceback:\n",
            "1. drive_download(x)",
            "2. request_make(request, httr::write_disk(path, overwrite = overwrite))",
            "3. gargle::request_make(x, ..., user_agent = drive_ua())",
            "4. method(url = x$url, body = x$body, x$token, encode = encode, \n .     user_agent, ...)",
            "5. handle_url(handle, url, ...)",
            "6. named(list(...))",
            "7. httr::write_disk(path, overwrite = overwrite)",
            "8. stop(\"Path exists and overwrite is FALSE\", call. = FALSE)"
          ]
        }
      ]
    },
    {
      "cell_type": "code",
      "source": [
        "cdc"
      ],
      "metadata": {
        "colab": {
          "base_uri": "https://localhost:8080/",
          "height": 1000
        },
        "id": "S1EQncEQpayY",
        "outputId": "8b1715ad-37ef-4a2a-bba6-288202b19556"
      },
      "execution_count": null,
      "outputs": [
        {
          "output_type": "display_data",
          "data": {
            "text/html": [
              "<table class=\"dataframe\">\n",
              "<caption>A data.frame: 204 × 8</caption>\n",
              "<thead>\n",
              "\t<tr><th scope=col>Notes</th><th scope=col>State</th><th scope=col>State.Code</th><th scope=col>Year</th><th scope=col>Year.Code</th><th scope=col>Deaths</th><th scope=col>Population</th><th scope=col>Crude.Rate</th></tr>\n",
              "\t<tr><th scope=col>&lt;lgl&gt;</th><th scope=col>&lt;chr&gt;</th><th scope=col>&lt;int&gt;</th><th scope=col>&lt;dbl&gt;</th><th scope=col>&lt;int&gt;</th><th scope=col>&lt;int&gt;</th><th scope=col>&lt;int&gt;</th><th scope=col>&lt;dbl&gt;</th></tr>\n",
              "</thead>\n",
              "<tbody>\n",
              "\t<tr><td>NA</td><td>Alabama    </td><td> 1</td><td>2018</td><td>2018</td><td>1060</td><td> 4887871</td><td>21.7</td></tr>\n",
              "\t<tr><td>NA</td><td>Alabama    </td><td> 1</td><td>2019</td><td>2019</td><td>1071</td><td> 4903185</td><td>21.8</td></tr>\n",
              "\t<tr><td>NA</td><td>Alabama    </td><td> 1</td><td>2020</td><td>2020</td><td>1135</td><td> 4921532</td><td>23.1</td></tr>\n",
              "\t<tr><td>NA</td><td>Alabama    </td><td> 1</td><td>2021</td><td>2021</td><td>1304</td><td> 5039877</td><td>25.9</td></tr>\n",
              "\t<tr><td>NA</td><td>Alaska     </td><td> 2</td><td>2018</td><td>2018</td><td> 151</td><td>  737438</td><td>20.5</td></tr>\n",
              "\t<tr><td>NA</td><td>Alaska     </td><td> 2</td><td>2019</td><td>2019</td><td> 175</td><td>  731545</td><td>23.9</td></tr>\n",
              "\t<tr><td>NA</td><td>Alaska     </td><td> 2</td><td>2020</td><td>2020</td><td> 170</td><td>  731158</td><td>23.3</td></tr>\n",
              "\t<tr><td>NA</td><td>Alaska     </td><td> 2</td><td>2021</td><td>2021</td><td> 181</td><td>  732673</td><td>24.7</td></tr>\n",
              "\t<tr><td>NA</td><td>Arizona    </td><td> 4</td><td>2018</td><td>2018</td><td>1122</td><td> 7171646</td><td>15.6</td></tr>\n",
              "\t<tr><td>NA</td><td>Arizona    </td><td> 4</td><td>2019</td><td>2019</td><td>1123</td><td> 7278717</td><td>15.4</td></tr>\n",
              "\t<tr><td>NA</td><td>Arizona    </td><td> 4</td><td>2020</td><td>2020</td><td>1235</td><td> 7421401</td><td>16.6</td></tr>\n",
              "\t<tr><td>NA</td><td>Arizona    </td><td> 4</td><td>2021</td><td>2021</td><td>1339</td><td> 7276316</td><td>18.4</td></tr>\n",
              "\t<tr><td>NA</td><td>Arkansas   </td><td> 5</td><td>2018</td><td>2018</td><td> 559</td><td> 3013825</td><td>18.5</td></tr>\n",
              "\t<tr><td>NA</td><td>Arkansas   </td><td> 5</td><td>2019</td><td>2019</td><td> 571</td><td> 3017804</td><td>18.9</td></tr>\n",
              "\t<tr><td>NA</td><td>Arkansas   </td><td> 5</td><td>2020</td><td>2020</td><td> 667</td><td> 3030522</td><td>22.0</td></tr>\n",
              "\t<tr><td>NA</td><td>Arkansas   </td><td> 5</td><td>2021</td><td>2021</td><td> 691</td><td> 3025891</td><td>22.8</td></tr>\n",
              "\t<tr><td>NA</td><td>California </td><td> 6</td><td>2018</td><td>2018</td><td>2959</td><td>39557045</td><td> 7.5</td></tr>\n",
              "\t<tr><td>NA</td><td>California </td><td> 6</td><td>2019</td><td>2019</td><td>2869</td><td>39512223</td><td> 7.3</td></tr>\n",
              "\t<tr><td>NA</td><td>California </td><td> 6</td><td>2020</td><td>2020</td><td>3350</td><td>39368078</td><td> 8.5</td></tr>\n",
              "\t<tr><td>NA</td><td>California </td><td> 6</td><td>2021</td><td>2021</td><td>3487</td><td>39237836</td><td> 8.9</td></tr>\n",
              "\t<tr><td>NA</td><td>Colorado   </td><td> 8</td><td>2018</td><td>2018</td><td> 864</td><td> 5695564</td><td>15.2</td></tr>\n",
              "\t<tr><td>NA</td><td>Colorado   </td><td> 8</td><td>2019</td><td>2019</td><td> 825</td><td> 5758736</td><td>14.3</td></tr>\n",
              "\t<tr><td>NA</td><td>Colorado   </td><td> 8</td><td>2020</td><td>2020</td><td> 900</td><td> 5807719</td><td>15.5</td></tr>\n",
              "\t<tr><td>NA</td><td>Colorado   </td><td> 8</td><td>2021</td><td>2021</td><td>1035</td><td> 5812069</td><td>17.8</td></tr>\n",
              "\t<tr><td>NA</td><td>Connecticut</td><td> 9</td><td>2018</td><td>2018</td><td> 184</td><td> 3572665</td><td> 5.2</td></tr>\n",
              "\t<tr><td>NA</td><td>Connecticut</td><td> 9</td><td>2019</td><td>2019</td><td> 186</td><td> 3565287</td><td> 5.2</td></tr>\n",
              "\t<tr><td>NA</td><td>Connecticut</td><td> 9</td><td>2020</td><td>2020</td><td> 214</td><td> 3557006</td><td> 6.0</td></tr>\n",
              "\t<tr><td>NA</td><td>Connecticut</td><td> 9</td><td>2021</td><td>2021</td><td> 244</td><td> 3605597</td><td> 6.8</td></tr>\n",
              "\t<tr><td>NA</td><td>Delaware   </td><td>10</td><td>2018</td><td>2018</td><td> 107</td><td>  967171</td><td>11.1</td></tr>\n",
              "\t<tr><td>NA</td><td>Delaware   </td><td>10</td><td>2019</td><td>2019</td><td>  91</td><td>  973764</td><td> 9.3</td></tr>\n",
              "\t<tr><td>⋮</td><td>⋮</td><td>⋮</td><td>⋮</td><td>⋮</td><td>⋮</td><td>⋮</td><td>⋮</td></tr>\n",
              "\t<tr><td>NA</td><td>Texas        </td><td>48</td><td>2020</td><td>2020</td><td>4113</td><td>29360759</td><td>14.0</td></tr>\n",
              "\t<tr><td>NA</td><td>Texas        </td><td>48</td><td>2021</td><td>2021</td><td>4575</td><td>29527941</td><td>15.5</td></tr>\n",
              "\t<tr><td>NA</td><td>Utah         </td><td>49</td><td>2018</td><td>2018</td><td> 379</td><td> 3161105</td><td>12.0</td></tr>\n",
              "\t<tr><td>NA</td><td>Utah         </td><td>49</td><td>2019</td><td>2019</td><td> 388</td><td> 3205958</td><td>12.1</td></tr>\n",
              "\t<tr><td>NA</td><td>Utah         </td><td>49</td><td>2020</td><td>2020</td><td> 417</td><td> 3249879</td><td>12.8</td></tr>\n",
              "\t<tr><td>NA</td><td>Utah         </td><td>49</td><td>2021</td><td>2021</td><td> 444</td><td> 3337975</td><td>13.3</td></tr>\n",
              "\t<tr><td>NA</td><td>Vermont      </td><td>50</td><td>2018</td><td>2018</td><td>  80</td><td>  626299</td><td>12.8</td></tr>\n",
              "\t<tr><td>NA</td><td>Vermont      </td><td>50</td><td>2019</td><td>2019</td><td>  64</td><td>  623989</td><td>10.3</td></tr>\n",
              "\t<tr><td>NA</td><td>Vermont      </td><td>50</td><td>2020</td><td>2020</td><td>  76</td><td>  623347</td><td>12.2</td></tr>\n",
              "\t<tr><td>NA</td><td>Vermont      </td><td>50</td><td>2021</td><td>2021</td><td>  82</td><td>  645570</td><td>12.7</td></tr>\n",
              "\t<tr><td>NA</td><td>Virginia     </td><td>51</td><td>2018</td><td>2018</td><td>1030</td><td> 8517685</td><td>12.1</td></tr>\n",
              "\t<tr><td>NA</td><td>Virginia     </td><td>51</td><td>2019</td><td>2019</td><td>1019</td><td> 8535519</td><td>11.9</td></tr>\n",
              "\t<tr><td>NA</td><td>Virginia     </td><td>51</td><td>2020</td><td>2020</td><td>1167</td><td> 8590563</td><td>13.6</td></tr>\n",
              "\t<tr><td>NA</td><td>Virginia     </td><td>51</td><td>2021</td><td>2021</td><td>1244</td><td> 8642274</td><td>14.4</td></tr>\n",
              "\t<tr><td>NA</td><td>Washington   </td><td>53</td><td>2018</td><td>2018</td><td> 787</td><td> 7535591</td><td>10.4</td></tr>\n",
              "\t<tr><td>NA</td><td>Washington   </td><td>53</td><td>2019</td><td>2019</td><td> 814</td><td> 7614893</td><td>10.7</td></tr>\n",
              "\t<tr><td>NA</td><td>Washington   </td><td>53</td><td>2020</td><td>2020</td><td> 840</td><td> 7693612</td><td>10.9</td></tr>\n",
              "\t<tr><td>NA</td><td>Washington   </td><td>53</td><td>2021</td><td>2021</td><td> 889</td><td> 7738692</td><td>11.5</td></tr>\n",
              "\t<tr><td>NA</td><td>West Virginia</td><td>54</td><td>2018</td><td>2018</td><td> 339</td><td> 1805832</td><td>18.8</td></tr>\n",
              "\t<tr><td>NA</td><td>West Virginia</td><td>54</td><td>2019</td><td>2019</td><td> 294</td><td> 1792147</td><td>16.4</td></tr>\n",
              "\t<tr><td>NA</td><td>West Virginia</td><td>54</td><td>2020</td><td>2020</td><td> 320</td><td> 1784787</td><td>17.9</td></tr>\n",
              "\t<tr><td>NA</td><td>West Virginia</td><td>54</td><td>2021</td><td>2021</td><td> 318</td><td> 1782959</td><td>17.8</td></tr>\n",
              "\t<tr><td>NA</td><td>Wisconsin    </td><td>55</td><td>2018</td><td>2018</td><td> 586</td><td> 5813568</td><td>10.1</td></tr>\n",
              "\t<tr><td>NA</td><td>Wisconsin    </td><td>55</td><td>2019</td><td>2019</td><td> 589</td><td> 5822434</td><td>10.1</td></tr>\n",
              "\t<tr><td>NA</td><td>Wisconsin    </td><td>55</td><td>2020</td><td>2020</td><td> 708</td><td> 5832655</td><td>12.1</td></tr>\n",
              "\t<tr><td>NA</td><td>Wisconsin    </td><td>55</td><td>2021</td><td>2021</td><td> 785</td><td> 5895908</td><td>13.3</td></tr>\n",
              "\t<tr><td>NA</td><td>Wyoming      </td><td>56</td><td>2018</td><td>2018</td><td> 123</td><td>  577737</td><td>21.3</td></tr>\n",
              "\t<tr><td>NA</td><td>Wyoming      </td><td>56</td><td>2019</td><td>2019</td><td> 131</td><td>  578759</td><td>22.6</td></tr>\n",
              "\t<tr><td>NA</td><td>Wyoming      </td><td>56</td><td>2020</td><td>2020</td><td> 151</td><td>  582328</td><td>25.9</td></tr>\n",
              "\t<tr><td>NA</td><td>Wyoming      </td><td>56</td><td>2021</td><td>2021</td><td> 152</td><td>  578803</td><td>26.3</td></tr>\n",
              "</tbody>\n",
              "</table>\n"
            ],
            "text/markdown": "\nA data.frame: 204 × 8\n\n| Notes &lt;lgl&gt; | State &lt;chr&gt; | State.Code &lt;int&gt; | Year &lt;dbl&gt; | Year.Code &lt;int&gt; | Deaths &lt;int&gt; | Population &lt;int&gt; | Crude.Rate &lt;dbl&gt; |\n|---|---|---|---|---|---|---|---|\n| NA | Alabama     |  1 | 2018 | 2018 | 1060 |  4887871 | 21.7 |\n| NA | Alabama     |  1 | 2019 | 2019 | 1071 |  4903185 | 21.8 |\n| NA | Alabama     |  1 | 2020 | 2020 | 1135 |  4921532 | 23.1 |\n| NA | Alabama     |  1 | 2021 | 2021 | 1304 |  5039877 | 25.9 |\n| NA | Alaska      |  2 | 2018 | 2018 |  151 |   737438 | 20.5 |\n| NA | Alaska      |  2 | 2019 | 2019 |  175 |   731545 | 23.9 |\n| NA | Alaska      |  2 | 2020 | 2020 |  170 |   731158 | 23.3 |\n| NA | Alaska      |  2 | 2021 | 2021 |  181 |   732673 | 24.7 |\n| NA | Arizona     |  4 | 2018 | 2018 | 1122 |  7171646 | 15.6 |\n| NA | Arizona     |  4 | 2019 | 2019 | 1123 |  7278717 | 15.4 |\n| NA | Arizona     |  4 | 2020 | 2020 | 1235 |  7421401 | 16.6 |\n| NA | Arizona     |  4 | 2021 | 2021 | 1339 |  7276316 | 18.4 |\n| NA | Arkansas    |  5 | 2018 | 2018 |  559 |  3013825 | 18.5 |\n| NA | Arkansas    |  5 | 2019 | 2019 |  571 |  3017804 | 18.9 |\n| NA | Arkansas    |  5 | 2020 | 2020 |  667 |  3030522 | 22.0 |\n| NA | Arkansas    |  5 | 2021 | 2021 |  691 |  3025891 | 22.8 |\n| NA | California  |  6 | 2018 | 2018 | 2959 | 39557045 |  7.5 |\n| NA | California  |  6 | 2019 | 2019 | 2869 | 39512223 |  7.3 |\n| NA | California  |  6 | 2020 | 2020 | 3350 | 39368078 |  8.5 |\n| NA | California  |  6 | 2021 | 2021 | 3487 | 39237836 |  8.9 |\n| NA | Colorado    |  8 | 2018 | 2018 |  864 |  5695564 | 15.2 |\n| NA | Colorado    |  8 | 2019 | 2019 |  825 |  5758736 | 14.3 |\n| NA | Colorado    |  8 | 2020 | 2020 |  900 |  5807719 | 15.5 |\n| NA | Colorado    |  8 | 2021 | 2021 | 1035 |  5812069 | 17.8 |\n| NA | Connecticut |  9 | 2018 | 2018 |  184 |  3572665 |  5.2 |\n| NA | Connecticut |  9 | 2019 | 2019 |  186 |  3565287 |  5.2 |\n| NA | Connecticut |  9 | 2020 | 2020 |  214 |  3557006 |  6.0 |\n| NA | Connecticut |  9 | 2021 | 2021 |  244 |  3605597 |  6.8 |\n| NA | Delaware    | 10 | 2018 | 2018 |  107 |   967171 | 11.1 |\n| NA | Delaware    | 10 | 2019 | 2019 |   91 |   973764 |  9.3 |\n| ⋮ | ⋮ | ⋮ | ⋮ | ⋮ | ⋮ | ⋮ | ⋮ |\n| NA | Texas         | 48 | 2020 | 2020 | 4113 | 29360759 | 14.0 |\n| NA | Texas         | 48 | 2021 | 2021 | 4575 | 29527941 | 15.5 |\n| NA | Utah          | 49 | 2018 | 2018 |  379 |  3161105 | 12.0 |\n| NA | Utah          | 49 | 2019 | 2019 |  388 |  3205958 | 12.1 |\n| NA | Utah          | 49 | 2020 | 2020 |  417 |  3249879 | 12.8 |\n| NA | Utah          | 49 | 2021 | 2021 |  444 |  3337975 | 13.3 |\n| NA | Vermont       | 50 | 2018 | 2018 |   80 |   626299 | 12.8 |\n| NA | Vermont       | 50 | 2019 | 2019 |   64 |   623989 | 10.3 |\n| NA | Vermont       | 50 | 2020 | 2020 |   76 |   623347 | 12.2 |\n| NA | Vermont       | 50 | 2021 | 2021 |   82 |   645570 | 12.7 |\n| NA | Virginia      | 51 | 2018 | 2018 | 1030 |  8517685 | 12.1 |\n| NA | Virginia      | 51 | 2019 | 2019 | 1019 |  8535519 | 11.9 |\n| NA | Virginia      | 51 | 2020 | 2020 | 1167 |  8590563 | 13.6 |\n| NA | Virginia      | 51 | 2021 | 2021 | 1244 |  8642274 | 14.4 |\n| NA | Washington    | 53 | 2018 | 2018 |  787 |  7535591 | 10.4 |\n| NA | Washington    | 53 | 2019 | 2019 |  814 |  7614893 | 10.7 |\n| NA | Washington    | 53 | 2020 | 2020 |  840 |  7693612 | 10.9 |\n| NA | Washington    | 53 | 2021 | 2021 |  889 |  7738692 | 11.5 |\n| NA | West Virginia | 54 | 2018 | 2018 |  339 |  1805832 | 18.8 |\n| NA | West Virginia | 54 | 2019 | 2019 |  294 |  1792147 | 16.4 |\n| NA | West Virginia | 54 | 2020 | 2020 |  320 |  1784787 | 17.9 |\n| NA | West Virginia | 54 | 2021 | 2021 |  318 |  1782959 | 17.8 |\n| NA | Wisconsin     | 55 | 2018 | 2018 |  586 |  5813568 | 10.1 |\n| NA | Wisconsin     | 55 | 2019 | 2019 |  589 |  5822434 | 10.1 |\n| NA | Wisconsin     | 55 | 2020 | 2020 |  708 |  5832655 | 12.1 |\n| NA | Wisconsin     | 55 | 2021 | 2021 |  785 |  5895908 | 13.3 |\n| NA | Wyoming       | 56 | 2018 | 2018 |  123 |   577737 | 21.3 |\n| NA | Wyoming       | 56 | 2019 | 2019 |  131 |   578759 | 22.6 |\n| NA | Wyoming       | 56 | 2020 | 2020 |  151 |   582328 | 25.9 |\n| NA | Wyoming       | 56 | 2021 | 2021 |  152 |   578803 | 26.3 |\n\n",
            "text/latex": "A data.frame: 204 × 8\n\\begin{tabular}{llllllll}\n Notes & State & State.Code & Year & Year.Code & Deaths & Population & Crude.Rate\\\\\n <lgl> & <chr> & <int> & <dbl> & <int> & <int> & <int> & <dbl>\\\\\n\\hline\n\t NA & Alabama     &  1 & 2018 & 2018 & 1060 &  4887871 & 21.7\\\\\n\t NA & Alabama     &  1 & 2019 & 2019 & 1071 &  4903185 & 21.8\\\\\n\t NA & Alabama     &  1 & 2020 & 2020 & 1135 &  4921532 & 23.1\\\\\n\t NA & Alabama     &  1 & 2021 & 2021 & 1304 &  5039877 & 25.9\\\\\n\t NA & Alaska      &  2 & 2018 & 2018 &  151 &   737438 & 20.5\\\\\n\t NA & Alaska      &  2 & 2019 & 2019 &  175 &   731545 & 23.9\\\\\n\t NA & Alaska      &  2 & 2020 & 2020 &  170 &   731158 & 23.3\\\\\n\t NA & Alaska      &  2 & 2021 & 2021 &  181 &   732673 & 24.7\\\\\n\t NA & Arizona     &  4 & 2018 & 2018 & 1122 &  7171646 & 15.6\\\\\n\t NA & Arizona     &  4 & 2019 & 2019 & 1123 &  7278717 & 15.4\\\\\n\t NA & Arizona     &  4 & 2020 & 2020 & 1235 &  7421401 & 16.6\\\\\n\t NA & Arizona     &  4 & 2021 & 2021 & 1339 &  7276316 & 18.4\\\\\n\t NA & Arkansas    &  5 & 2018 & 2018 &  559 &  3013825 & 18.5\\\\\n\t NA & Arkansas    &  5 & 2019 & 2019 &  571 &  3017804 & 18.9\\\\\n\t NA & Arkansas    &  5 & 2020 & 2020 &  667 &  3030522 & 22.0\\\\\n\t NA & Arkansas    &  5 & 2021 & 2021 &  691 &  3025891 & 22.8\\\\\n\t NA & California  &  6 & 2018 & 2018 & 2959 & 39557045 &  7.5\\\\\n\t NA & California  &  6 & 2019 & 2019 & 2869 & 39512223 &  7.3\\\\\n\t NA & California  &  6 & 2020 & 2020 & 3350 & 39368078 &  8.5\\\\\n\t NA & California  &  6 & 2021 & 2021 & 3487 & 39237836 &  8.9\\\\\n\t NA & Colorado    &  8 & 2018 & 2018 &  864 &  5695564 & 15.2\\\\\n\t NA & Colorado    &  8 & 2019 & 2019 &  825 &  5758736 & 14.3\\\\\n\t NA & Colorado    &  8 & 2020 & 2020 &  900 &  5807719 & 15.5\\\\\n\t NA & Colorado    &  8 & 2021 & 2021 & 1035 &  5812069 & 17.8\\\\\n\t NA & Connecticut &  9 & 2018 & 2018 &  184 &  3572665 &  5.2\\\\\n\t NA & Connecticut &  9 & 2019 & 2019 &  186 &  3565287 &  5.2\\\\\n\t NA & Connecticut &  9 & 2020 & 2020 &  214 &  3557006 &  6.0\\\\\n\t NA & Connecticut &  9 & 2021 & 2021 &  244 &  3605597 &  6.8\\\\\n\t NA & Delaware    & 10 & 2018 & 2018 &  107 &   967171 & 11.1\\\\\n\t NA & Delaware    & 10 & 2019 & 2019 &   91 &   973764 &  9.3\\\\\n\t ⋮ & ⋮ & ⋮ & ⋮ & ⋮ & ⋮ & ⋮ & ⋮\\\\\n\t NA & Texas         & 48 & 2020 & 2020 & 4113 & 29360759 & 14.0\\\\\n\t NA & Texas         & 48 & 2021 & 2021 & 4575 & 29527941 & 15.5\\\\\n\t NA & Utah          & 49 & 2018 & 2018 &  379 &  3161105 & 12.0\\\\\n\t NA & Utah          & 49 & 2019 & 2019 &  388 &  3205958 & 12.1\\\\\n\t NA & Utah          & 49 & 2020 & 2020 &  417 &  3249879 & 12.8\\\\\n\t NA & Utah          & 49 & 2021 & 2021 &  444 &  3337975 & 13.3\\\\\n\t NA & Vermont       & 50 & 2018 & 2018 &   80 &   626299 & 12.8\\\\\n\t NA & Vermont       & 50 & 2019 & 2019 &   64 &   623989 & 10.3\\\\\n\t NA & Vermont       & 50 & 2020 & 2020 &   76 &   623347 & 12.2\\\\\n\t NA & Vermont       & 50 & 2021 & 2021 &   82 &   645570 & 12.7\\\\\n\t NA & Virginia      & 51 & 2018 & 2018 & 1030 &  8517685 & 12.1\\\\\n\t NA & Virginia      & 51 & 2019 & 2019 & 1019 &  8535519 & 11.9\\\\\n\t NA & Virginia      & 51 & 2020 & 2020 & 1167 &  8590563 & 13.6\\\\\n\t NA & Virginia      & 51 & 2021 & 2021 & 1244 &  8642274 & 14.4\\\\\n\t NA & Washington    & 53 & 2018 & 2018 &  787 &  7535591 & 10.4\\\\\n\t NA & Washington    & 53 & 2019 & 2019 &  814 &  7614893 & 10.7\\\\\n\t NA & Washington    & 53 & 2020 & 2020 &  840 &  7693612 & 10.9\\\\\n\t NA & Washington    & 53 & 2021 & 2021 &  889 &  7738692 & 11.5\\\\\n\t NA & West Virginia & 54 & 2018 & 2018 &  339 &  1805832 & 18.8\\\\\n\t NA & West Virginia & 54 & 2019 & 2019 &  294 &  1792147 & 16.4\\\\\n\t NA & West Virginia & 54 & 2020 & 2020 &  320 &  1784787 & 17.9\\\\\n\t NA & West Virginia & 54 & 2021 & 2021 &  318 &  1782959 & 17.8\\\\\n\t NA & Wisconsin     & 55 & 2018 & 2018 &  586 &  5813568 & 10.1\\\\\n\t NA & Wisconsin     & 55 & 2019 & 2019 &  589 &  5822434 & 10.1\\\\\n\t NA & Wisconsin     & 55 & 2020 & 2020 &  708 &  5832655 & 12.1\\\\\n\t NA & Wisconsin     & 55 & 2021 & 2021 &  785 &  5895908 & 13.3\\\\\n\t NA & Wyoming       & 56 & 2018 & 2018 &  123 &   577737 & 21.3\\\\\n\t NA & Wyoming       & 56 & 2019 & 2019 &  131 &   578759 & 22.6\\\\\n\t NA & Wyoming       & 56 & 2020 & 2020 &  151 &   582328 & 25.9\\\\\n\t NA & Wyoming       & 56 & 2021 & 2021 &  152 &   578803 & 26.3\\\\\n\\end{tabular}\n",
            "text/plain": [
              "    Notes State         State.Code Year Year.Code Deaths Population Crude.Rate\n",
              "1   NA    Alabama        1         2018 2018      1060    4887871   21.7      \n",
              "2   NA    Alabama        1         2019 2019      1071    4903185   21.8      \n",
              "3   NA    Alabama        1         2020 2020      1135    4921532   23.1      \n",
              "4   NA    Alabama        1         2021 2021      1304    5039877   25.9      \n",
              "5   NA    Alaska         2         2018 2018       151     737438   20.5      \n",
              "6   NA    Alaska         2         2019 2019       175     731545   23.9      \n",
              "7   NA    Alaska         2         2020 2020       170     731158   23.3      \n",
              "8   NA    Alaska         2         2021 2021       181     732673   24.7      \n",
              "9   NA    Arizona        4         2018 2018      1122    7171646   15.6      \n",
              "10  NA    Arizona        4         2019 2019      1123    7278717   15.4      \n",
              "11  NA    Arizona        4         2020 2020      1235    7421401   16.6      \n",
              "12  NA    Arizona        4         2021 2021      1339    7276316   18.4      \n",
              "13  NA    Arkansas       5         2018 2018       559    3013825   18.5      \n",
              "14  NA    Arkansas       5         2019 2019       571    3017804   18.9      \n",
              "15  NA    Arkansas       5         2020 2020       667    3030522   22.0      \n",
              "16  NA    Arkansas       5         2021 2021       691    3025891   22.8      \n",
              "17  NA    California     6         2018 2018      2959   39557045    7.5      \n",
              "18  NA    California     6         2019 2019      2869   39512223    7.3      \n",
              "19  NA    California     6         2020 2020      3350   39368078    8.5      \n",
              "20  NA    California     6         2021 2021      3487   39237836    8.9      \n",
              "21  NA    Colorado       8         2018 2018       864    5695564   15.2      \n",
              "22  NA    Colorado       8         2019 2019       825    5758736   14.3      \n",
              "23  NA    Colorado       8         2020 2020       900    5807719   15.5      \n",
              "24  NA    Colorado       8         2021 2021      1035    5812069   17.8      \n",
              "25  NA    Connecticut    9         2018 2018       184    3572665    5.2      \n",
              "26  NA    Connecticut    9         2019 2019       186    3565287    5.2      \n",
              "27  NA    Connecticut    9         2020 2020       214    3557006    6.0      \n",
              "28  NA    Connecticut    9         2021 2021       244    3605597    6.8      \n",
              "29  NA    Delaware      10         2018 2018       107     967171   11.1      \n",
              "30  NA    Delaware      10         2019 2019        91     973764    9.3      \n",
              "⋮   ⋮     ⋮             ⋮          ⋮    ⋮         ⋮      ⋮          ⋮         \n",
              "175 NA    Texas         48         2020 2020      4113   29360759   14.0      \n",
              "176 NA    Texas         48         2021 2021      4575   29527941   15.5      \n",
              "177 NA    Utah          49         2018 2018       379    3161105   12.0      \n",
              "178 NA    Utah          49         2019 2019       388    3205958   12.1      \n",
              "179 NA    Utah          49         2020 2020       417    3249879   12.8      \n",
              "180 NA    Utah          49         2021 2021       444    3337975   13.3      \n",
              "181 NA    Vermont       50         2018 2018        80     626299   12.8      \n",
              "182 NA    Vermont       50         2019 2019        64     623989   10.3      \n",
              "183 NA    Vermont       50         2020 2020        76     623347   12.2      \n",
              "184 NA    Vermont       50         2021 2021        82     645570   12.7      \n",
              "185 NA    Virginia      51         2018 2018      1030    8517685   12.1      \n",
              "186 NA    Virginia      51         2019 2019      1019    8535519   11.9      \n",
              "187 NA    Virginia      51         2020 2020      1167    8590563   13.6      \n",
              "188 NA    Virginia      51         2021 2021      1244    8642274   14.4      \n",
              "189 NA    Washington    53         2018 2018       787    7535591   10.4      \n",
              "190 NA    Washington    53         2019 2019       814    7614893   10.7      \n",
              "191 NA    Washington    53         2020 2020       840    7693612   10.9      \n",
              "192 NA    Washington    53         2021 2021       889    7738692   11.5      \n",
              "193 NA    West Virginia 54         2018 2018       339    1805832   18.8      \n",
              "194 NA    West Virginia 54         2019 2019       294    1792147   16.4      \n",
              "195 NA    West Virginia 54         2020 2020       320    1784787   17.9      \n",
              "196 NA    West Virginia 54         2021 2021       318    1782959   17.8      \n",
              "197 NA    Wisconsin     55         2018 2018       586    5813568   10.1      \n",
              "198 NA    Wisconsin     55         2019 2019       589    5822434   10.1      \n",
              "199 NA    Wisconsin     55         2020 2020       708    5832655   12.1      \n",
              "200 NA    Wisconsin     55         2021 2021       785    5895908   13.3      \n",
              "201 NA    Wyoming       56         2018 2018       123     577737   21.3      \n",
              "202 NA    Wyoming       56         2019 2019       131     578759   22.6      \n",
              "203 NA    Wyoming       56         2020 2020       151     582328   25.9      \n",
              "204 NA    Wyoming       56         2021 2021       152     578803   26.3      "
            ]
          },
          "metadata": {}
        }
      ]
    },
    {
      "cell_type": "code",
      "source": [],
      "metadata": {
        "id": "zcxP3vtWpxAM"
      },
      "execution_count": null,
      "outputs": []
    }
  ]
}