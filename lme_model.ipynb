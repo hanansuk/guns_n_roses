{
 "cells": [
  {
   "cell_type": "markdown",
   "metadata": {
    "colab_type": "text",
    "id": "view-in-github"
   },
   "source": [
    "<a href=\"https://colab.research.google.com/github/hanansuk/guns_n_roses/blob/main/lme_model.ipynb\" target=\"_parent\"><img src=\"https://colab.research.google.com/assets/colab-badge.svg\" alt=\"Open In Colab\"/></a>"
   ]
  },
  {
   "cell_type": "markdown",
   "metadata": {
    "id": "cL-S0ScOHQ94"
   },
   "source": [
    "# Predicting Gun Law Effects\n",
    "## Using a Linear Mixed Effects Model, BERT, and Regression\n",
    "Written by Hannah George"
   ]
  },
  {
   "cell_type": "markdown",
   "metadata": {
    "id": "ViuEsNNvHyHJ"
   },
   "source": [
    "## Imports"
   ]
  },
  {
   "cell_type": "code",
   "execution_count": 28,
   "metadata": {
    "id": "BpXWxGWXIad3",
    "tags": []
   },
   "outputs": [],
   "source": [
    "from datetime import datetime\n",
    "from sklearn.decomposition import NMF\n",
    "from sklearn.feature_extraction.text import TfidfVectorizer\n",
    "from sklearn.model_selection import train_test_split\n",
    "import matplotlib.pyplot as plt\n",
    "import numpy as np\n",
    "import pandas as pd\n",
    "import statsmodels.formula.api as smf\n",
    "from statsmodels.regression.mixed_linear_model import MixedLM\n",
    "\n",
    "%config InlineBackend.figure_format = 'retina'\n",
    "%matplotlib inline\n",
    "plt.style.use('ggplot')"
   ]
  },
  {
   "cell_type": "markdown",
   "metadata": {
    "id": "yxslFjQZH0nJ"
   },
   "source": [
    "## Reading in the Data"
   ]
  },
  {
   "cell_type": "code",
   "execution_count": 2,
   "metadata": {
    "id": "eHnIToloIcH1",
    "tags": []
   },
   "outputs": [],
   "source": [
    "deaths = pd.read_csv('cdc_monthly_state_gun_deaths_imputed.csv')\n",
    "laws = pd.read_csv('RAND.csv')"
   ]
  },
  {
   "cell_type": "code",
   "execution_count": 3,
   "metadata": {
    "colab": {
     "base_uri": "https://localhost:8080/",
     "height": 206
    },
    "id": "dF1a3coEJQGZ",
    "outputId": "0a4d032c-6099-4dea-f7a9-627ee28b1cba",
    "tags": []
   },
   "outputs": [
    {
     "data": {
      "text/html": [
       "<div>\n",
       "<style scoped>\n",
       "    .dataframe tbody tr th:only-of-type {\n",
       "        vertical-align: middle;\n",
       "    }\n",
       "\n",
       "    .dataframe tbody tr th {\n",
       "        vertical-align: top;\n",
       "    }\n",
       "\n",
       "    .dataframe thead th {\n",
       "        text-align: right;\n",
       "    }\n",
       "</style>\n",
       "<table border=\"1\" class=\"dataframe\">\n",
       "  <thead>\n",
       "    <tr style=\"text-align: right;\">\n",
       "      <th></th>\n",
       "      <th>Unnamed: 0</th>\n",
       "      <th>state</th>\n",
       "      <th>year</th>\n",
       "      <th>period</th>\n",
       "      <th>monthly_gun_deaths</th>\n",
       "    </tr>\n",
       "  </thead>\n",
       "  <tbody>\n",
       "    <tr>\n",
       "      <th>0</th>\n",
       "      <td>0</td>\n",
       "      <td>Alabama</td>\n",
       "      <td>2021</td>\n",
       "      <td>2021-01-01</td>\n",
       "      <td>122.0</td>\n",
       "    </tr>\n",
       "    <tr>\n",
       "      <th>1</th>\n",
       "      <td>1</td>\n",
       "      <td>Alabama</td>\n",
       "      <td>2021</td>\n",
       "      <td>2021-02-01</td>\n",
       "      <td>104.0</td>\n",
       "    </tr>\n",
       "    <tr>\n",
       "      <th>2</th>\n",
       "      <td>2</td>\n",
       "      <td>Alabama</td>\n",
       "      <td>2021</td>\n",
       "      <td>2021-03-01</td>\n",
       "      <td>103.0</td>\n",
       "    </tr>\n",
       "    <tr>\n",
       "      <th>3</th>\n",
       "      <td>3</td>\n",
       "      <td>Alabama</td>\n",
       "      <td>2021</td>\n",
       "      <td>2021-04-01</td>\n",
       "      <td>102.0</td>\n",
       "    </tr>\n",
       "    <tr>\n",
       "      <th>4</th>\n",
       "      <td>4</td>\n",
       "      <td>Alabama</td>\n",
       "      <td>2021</td>\n",
       "      <td>2021-05-01</td>\n",
       "      <td>108.0</td>\n",
       "    </tr>\n",
       "  </tbody>\n",
       "</table>\n",
       "</div>"
      ],
      "text/plain": [
       "   Unnamed: 0    state  year      period  monthly_gun_deaths\n",
       "0           0  Alabama  2021  2021-01-01               122.0\n",
       "1           1  Alabama  2021  2021-02-01               104.0\n",
       "2           2  Alabama  2021  2021-03-01               103.0\n",
       "3           3  Alabama  2021  2021-04-01               102.0\n",
       "4           4  Alabama  2021  2021-05-01               108.0"
      ]
     },
     "execution_count": 3,
     "metadata": {},
     "output_type": "execute_result"
    }
   ],
   "source": [
    "deaths.head()"
   ]
  },
  {
   "cell_type": "code",
   "execution_count": 4,
   "metadata": {
    "colab": {
     "base_uri": "https://localhost:8080/",
     "height": 490
    },
    "id": "Z60ttL6gJS14",
    "outputId": "9410f4ad-d6ba-4de2-a912-c247d5426231",
    "tags": []
   },
   "outputs": [
    {
     "data": {
      "text/html": [
       "<div>\n",
       "<style scoped>\n",
       "    .dataframe tbody tr th:only-of-type {\n",
       "        vertical-align: middle;\n",
       "    }\n",
       "\n",
       "    .dataframe tbody tr th {\n",
       "        vertical-align: top;\n",
       "    }\n",
       "\n",
       "    .dataframe thead th {\n",
       "        text-align: right;\n",
       "    }\n",
       "</style>\n",
       "<table border=\"1\" class=\"dataframe\">\n",
       "  <thead>\n",
       "    <tr style=\"text-align: right;\">\n",
       "      <th></th>\n",
       "      <th>Law.ID</th>\n",
       "      <th>State</th>\n",
       "      <th>State.Postal.Abbreviation</th>\n",
       "      <th>FIPS.Code</th>\n",
       "      <th>Law.Class..num.</th>\n",
       "      <th>Law.Class</th>\n",
       "      <th>Law.Class.Subtype</th>\n",
       "      <th>Handguns.or.Long.Guns</th>\n",
       "      <th>Effect</th>\n",
       "      <th>Type.of.Change</th>\n",
       "      <th>...</th>\n",
       "      <th>Supersession.Date</th>\n",
       "      <th>Supersession.Date.Year</th>\n",
       "      <th>Supersession.Date.Month</th>\n",
       "      <th>Supersession.Date.Day</th>\n",
       "      <th>Controlling.Law.at.Beginning.of.Period..1979.</th>\n",
       "      <th>Age.for.Minimum.Age.Laws</th>\n",
       "      <th>Length.of.Waiting.Period..days..handguns.</th>\n",
       "      <th>Additional.Context.and.Notes</th>\n",
       "      <th>Caveats.and.Ambiguities</th>\n",
       "      <th>Exception.Code</th>\n",
       "    </tr>\n",
       "  </thead>\n",
       "  <tbody>\n",
       "    <tr>\n",
       "      <th>0</th>\n",
       "      <td>AK1001</td>\n",
       "      <td>Alaska</td>\n",
       "      <td>AK</td>\n",
       "      <td>2</td>\n",
       "      <td>1</td>\n",
       "      <td>background checks</td>\n",
       "      <td>private sales</td>\n",
       "      <td>handgun</td>\n",
       "      <td>NaN</td>\n",
       "      <td>NaN</td>\n",
       "      <td>...</td>\n",
       "      <td>NaN</td>\n",
       "      <td>NaN</td>\n",
       "      <td>NaN</td>\n",
       "      <td>NaN</td>\n",
       "      <td>1</td>\n",
       "      <td>NaN</td>\n",
       "      <td>NaN</td>\n",
       "      <td>NaN</td>\n",
       "      <td>NaN</td>\n",
       "      <td>NaN</td>\n",
       "    </tr>\n",
       "    <tr>\n",
       "      <th>1</th>\n",
       "      <td>AK1002</td>\n",
       "      <td>Alaska</td>\n",
       "      <td>AK</td>\n",
       "      <td>2</td>\n",
       "      <td>2</td>\n",
       "      <td>carrying a concealed weapon (ccw)</td>\n",
       "      <td>prohibited</td>\n",
       "      <td>handgun</td>\n",
       "      <td>Restrictive</td>\n",
       "      <td>Implement</td>\n",
       "      <td>...</td>\n",
       "      <td>1994-10-01</td>\n",
       "      <td>1994.0</td>\n",
       "      <td>10.0</td>\n",
       "      <td>1.0</td>\n",
       "      <td>1</td>\n",
       "      <td>NaN</td>\n",
       "      <td>NaN</td>\n",
       "      <td>Prior law prohibiting concealed carry enacted ...</td>\n",
       "      <td>NaN</td>\n",
       "      <td>NaN</td>\n",
       "    </tr>\n",
       "    <tr>\n",
       "      <th>2</th>\n",
       "      <td>AK1003</td>\n",
       "      <td>Alaska</td>\n",
       "      <td>AK</td>\n",
       "      <td>2</td>\n",
       "      <td>2</td>\n",
       "      <td>carrying a concealed weapon (ccw)</td>\n",
       "      <td>shall issue</td>\n",
       "      <td>handgun</td>\n",
       "      <td>Permissive</td>\n",
       "      <td>Modify</td>\n",
       "      <td>...</td>\n",
       "      <td>2003-09-09</td>\n",
       "      <td>2003.0</td>\n",
       "      <td>9.0</td>\n",
       "      <td>9.0</td>\n",
       "      <td>NaN</td>\n",
       "      <td>NaN</td>\n",
       "      <td>NaN</td>\n",
       "      <td>NaN</td>\n",
       "      <td>NaN</td>\n",
       "      <td>NaN</td>\n",
       "    </tr>\n",
       "    <tr>\n",
       "      <th>3</th>\n",
       "      <td>AK1004</td>\n",
       "      <td>Alaska</td>\n",
       "      <td>AK</td>\n",
       "      <td>2</td>\n",
       "      <td>2</td>\n",
       "      <td>carrying a concealed weapon (ccw)</td>\n",
       "      <td>shall issue (permit not required)</td>\n",
       "      <td>handgun</td>\n",
       "      <td>Permissive</td>\n",
       "      <td>Modify</td>\n",
       "      <td>...</td>\n",
       "      <td>NaN</td>\n",
       "      <td>NaN</td>\n",
       "      <td>NaN</td>\n",
       "      <td>NaN</td>\n",
       "      <td>NaN</td>\n",
       "      <td>NaN</td>\n",
       "      <td>NaN</td>\n",
       "      <td>Permitting system maintained for residents see...</td>\n",
       "      <td>NaN</td>\n",
       "      <td>NaN</td>\n",
       "    </tr>\n",
       "    <tr>\n",
       "      <th>4</th>\n",
       "      <td>AK1005</td>\n",
       "      <td>Alaska</td>\n",
       "      <td>AK</td>\n",
       "      <td>2</td>\n",
       "      <td>3</td>\n",
       "      <td>castle doctrine</td>\n",
       "      <td>NaN</td>\n",
       "      <td>handgun and/or long gun</td>\n",
       "      <td>Permissive</td>\n",
       "      <td>Modify</td>\n",
       "      <td>...</td>\n",
       "      <td>2006-09-13</td>\n",
       "      <td>2006.0</td>\n",
       "      <td>9.0</td>\n",
       "      <td>13.0</td>\n",
       "      <td>1</td>\n",
       "      <td>NaN</td>\n",
       "      <td>NaN</td>\n",
       "      <td>See 2006 S.B. No. 200 Ch. 68.</td>\n",
       "      <td>NaN</td>\n",
       "      <td>NaN</td>\n",
       "    </tr>\n",
       "  </tbody>\n",
       "</table>\n",
       "<p>5 rows × 27 columns</p>\n",
       "</div>"
      ],
      "text/plain": [
       "   Law.ID   State State.Postal.Abbreviation  FIPS.Code  Law.Class..num.   \n",
       "0  AK1001  Alaska                        AK          2                1  \\\n",
       "1  AK1002  Alaska                        AK          2                2   \n",
       "2  AK1003  Alaska                        AK          2                2   \n",
       "3  AK1004  Alaska                        AK          2                2   \n",
       "4  AK1005  Alaska                        AK          2                3   \n",
       "\n",
       "                           Law.Class                  Law.Class.Subtype   \n",
       "0                  background checks                      private sales  \\\n",
       "1  carrying a concealed weapon (ccw)                         prohibited   \n",
       "2  carrying a concealed weapon (ccw)                        shall issue   \n",
       "3  carrying a concealed weapon (ccw)  shall issue (permit not required)   \n",
       "4                    castle doctrine                                NaN   \n",
       "\n",
       "     Handguns.or.Long.Guns       Effect Type.of.Change  ... Supersession.Date   \n",
       "0                  handgun          NaN            NaN  ...               NaN  \\\n",
       "1                  handgun  Restrictive      Implement  ...        1994-10-01   \n",
       "2                  handgun   Permissive         Modify  ...        2003-09-09   \n",
       "3                  handgun   Permissive         Modify  ...               NaN   \n",
       "4  handgun and/or long gun   Permissive         Modify  ...        2006-09-13   \n",
       "\n",
       "  Supersession.Date.Year  Supersession.Date.Month  Supersession.Date.Day   \n",
       "0                    NaN                      NaN                    NaN  \\\n",
       "1                 1994.0                     10.0                    1.0   \n",
       "2                 2003.0                      9.0                    9.0   \n",
       "3                    NaN                      NaN                    NaN   \n",
       "4                 2006.0                      9.0                   13.0   \n",
       "\n",
       "   Controlling.Law.at.Beginning.of.Period..1979. Age.for.Minimum.Age.Laws   \n",
       "0                                              1                      NaN  \\\n",
       "1                                              1                      NaN   \n",
       "2                                            NaN                      NaN   \n",
       "3                                            NaN                      NaN   \n",
       "4                                              1                      NaN   \n",
       "\n",
       "  Length.of.Waiting.Period..days..handguns.   \n",
       "0                                       NaN  \\\n",
       "1                                       NaN   \n",
       "2                                       NaN   \n",
       "3                                       NaN   \n",
       "4                                       NaN   \n",
       "\n",
       "                        Additional.Context.and.Notes  Caveats.and.Ambiguities   \n",
       "0                                                NaN                      NaN  \\\n",
       "1  Prior law prohibiting concealed carry enacted ...                      NaN   \n",
       "2                                                NaN                      NaN   \n",
       "3  Permitting system maintained for residents see...                      NaN   \n",
       "4                      See 2006 S.B. No. 200 Ch. 68.                      NaN   \n",
       "\n",
       "   Exception.Code  \n",
       "0             NaN  \n",
       "1             NaN  \n",
       "2             NaN  \n",
       "3             NaN  \n",
       "4             NaN  \n",
       "\n",
       "[5 rows x 27 columns]"
      ]
     },
     "execution_count": 4,
     "metadata": {},
     "output_type": "execute_result"
    }
   ],
   "source": [
    "laws.head()"
   ]
  },
  {
   "cell_type": "markdown",
   "metadata": {
    "id": "ny8V40K4Em7-"
   },
   "source": [
    "## Data Preprocessing"
   ]
  },
  {
   "cell_type": "markdown",
   "metadata": {},
   "source": [
    "### Filtering Laws Dataset to Reduce Volume"
   ]
  },
  {
   "cell_type": "code",
   "execution_count": 5,
   "metadata": {
    "tags": []
   },
   "outputs": [],
   "source": [
    "filtered_laws = laws[laws['Type.of.Change'].isin(['Permissive', 'Implement'])].reset_index().copy()"
   ]
  },
  {
   "cell_type": "markdown",
   "metadata": {
    "id": "Bnpt4UyqEuLe"
   },
   "source": [
    "### Converting Dates to Datetime Objects"
   ]
  },
  {
   "cell_type": "code",
   "execution_count": 6,
   "metadata": {
    "id": "A_r-rEftLzwD",
    "tags": []
   },
   "outputs": [],
   "source": [
    "deaths['period'] = pd.to_datetime(deaths.period)\n",
    "filtered_laws['Effective.Date'] = pd.to_datetime(filtered_laws['Effective.Date'])\n",
    "filtered_laws['Supersession.Date'] = pd.to_datetime(filtered_laws['Supersession.Date'])"
   ]
  },
  {
   "cell_type": "code",
   "execution_count": 7,
   "metadata": {
    "id": "OIYO8df9qabr",
    "tags": []
   },
   "outputs": [],
   "source": [
    "# If the law has not been superseeded then set the date to the future.\n",
    "filtered_laws['Supersession.Date'] = filtered_laws['Supersession.Date'].fillna('2099-12-01')"
   ]
  },
  {
   "cell_type": "markdown",
   "metadata": {
    "id": "aQyUkvgkEFKj"
   },
   "source": [
    "### Creating Lagged Monthly Gun Deaths Variable"
   ]
  },
  {
   "cell_type": "code",
   "execution_count": 8,
   "metadata": {
    "id": "sciwoNXvOtNb",
    "tags": []
   },
   "outputs": [],
   "source": [
    "deaths['prior_monthly_deaths'] = deaths.groupby(['state'])['monthly_gun_deaths'].shift(1)"
   ]
  },
  {
   "cell_type": "markdown",
   "metadata": {
    "id": "334Jfw5vLaB-"
   },
   "source": [
    "### Using NMF Topic Modeling to Transform Gun Laws"
   ]
  },
  {
   "cell_type": "code",
   "execution_count": 9,
   "metadata": {
    "colab": {
     "base_uri": "https://localhost:8080/"
    },
    "id": "Ut9vXtjhLzHt",
    "outputId": "cac0f85e-3156-43cc-8c15-0f26987b0627",
    "tags": []
   },
   "outputs": [
    {
     "name": "stderr",
     "output_type": "stream",
     "text": [
      "/home/ec2-user/anaconda3/envs/python3/lib/python3.10/site-packages/sklearn/feature_extraction/text.py:1682: RuntimeWarning: divide by zero encountered in true_divide\n",
      "  idf = np.log(n_samples / df) + 1\n"
     ]
    }
   ],
   "source": [
    "tfidf_vectorizer = TfidfVectorizer(stop_words='english')\n",
    "tfidf = tfidf_vectorizer.fit_transform(filtered_laws.Content.to_list())"
   ]
  },
  {
   "cell_type": "code",
   "execution_count": 10,
   "metadata": {
    "colab": {
     "base_uri": "https://localhost:8080/"
    },
    "id": "tlRF2Vh8LaKl",
    "outputId": "fd47b699-9ae1-4fd2-c0ec-43ed6e0905c7",
    "tags": []
   },
   "outputs": [],
   "source": [
    "n_topics = 20\n",
    "nmf = NMF(\n",
    "    n_components=n_topics,\n",
    "    init='nndsvd'\n",
    ").fit(tfidf)"
   ]
  },
  {
   "cell_type": "code",
   "execution_count": 11,
   "metadata": {
    "tags": []
   },
   "outputs": [],
   "source": [
    "topic_col_names = [f'topic_{i}' for i in range(n_topics)]\n",
    "gun_law_topics = pd.concat([filtered_laws, pd.DataFrame(data=nmf.transform(tfidf), columns=topic_col_names)], axis=1)"
   ]
  },
  {
   "cell_type": "code",
   "execution_count": 12,
   "metadata": {
    "tags": []
   },
   "outputs": [
    {
     "data": {
      "text/html": [
       "<div>\n",
       "<style scoped>\n",
       "    .dataframe tbody tr th:only-of-type {\n",
       "        vertical-align: middle;\n",
       "    }\n",
       "\n",
       "    .dataframe tbody tr th {\n",
       "        vertical-align: top;\n",
       "    }\n",
       "\n",
       "    .dataframe thead th {\n",
       "        text-align: right;\n",
       "    }\n",
       "</style>\n",
       "<table border=\"1\" class=\"dataframe\">\n",
       "  <thead>\n",
       "    <tr style=\"text-align: right;\">\n",
       "      <th></th>\n",
       "      <th>index</th>\n",
       "      <th>Law.ID</th>\n",
       "      <th>State</th>\n",
       "      <th>State.Postal.Abbreviation</th>\n",
       "      <th>FIPS.Code</th>\n",
       "      <th>Law.Class..num.</th>\n",
       "      <th>Law.Class</th>\n",
       "      <th>Law.Class.Subtype</th>\n",
       "      <th>Handguns.or.Long.Guns</th>\n",
       "      <th>Effect</th>\n",
       "      <th>...</th>\n",
       "      <th>topic_10</th>\n",
       "      <th>topic_11</th>\n",
       "      <th>topic_12</th>\n",
       "      <th>topic_13</th>\n",
       "      <th>topic_14</th>\n",
       "      <th>topic_15</th>\n",
       "      <th>topic_16</th>\n",
       "      <th>topic_17</th>\n",
       "      <th>topic_18</th>\n",
       "      <th>topic_19</th>\n",
       "    </tr>\n",
       "  </thead>\n",
       "  <tbody>\n",
       "    <tr>\n",
       "      <th>0</th>\n",
       "      <td>1</td>\n",
       "      <td>AK1002</td>\n",
       "      <td>Alaska</td>\n",
       "      <td>AK</td>\n",
       "      <td>2</td>\n",
       "      <td>2</td>\n",
       "      <td>carrying a concealed weapon (ccw)</td>\n",
       "      <td>prohibited</td>\n",
       "      <td>handgun</td>\n",
       "      <td>Restrictive</td>\n",
       "      <td>...</td>\n",
       "      <td>0.014685</td>\n",
       "      <td>0.0</td>\n",
       "      <td>0.017689</td>\n",
       "      <td>0.175634</td>\n",
       "      <td>0.000000</td>\n",
       "      <td>0.0</td>\n",
       "      <td>0.0</td>\n",
       "      <td>0.063923</td>\n",
       "      <td>0.000000</td>\n",
       "      <td>0.0</td>\n",
       "    </tr>\n",
       "    <tr>\n",
       "      <th>1</th>\n",
       "      <td>8</td>\n",
       "      <td>AK1009</td>\n",
       "      <td>Alaska</td>\n",
       "      <td>AK</td>\n",
       "      <td>2</td>\n",
       "      <td>7</td>\n",
       "      <td>minimum age</td>\n",
       "      <td>youth possession</td>\n",
       "      <td>long gun</td>\n",
       "      <td>Restrictive</td>\n",
       "      <td>...</td>\n",
       "      <td>0.000000</td>\n",
       "      <td>0.0</td>\n",
       "      <td>0.000000</td>\n",
       "      <td>0.032295</td>\n",
       "      <td>0.185969</td>\n",
       "      <td>0.0</td>\n",
       "      <td>0.0</td>\n",
       "      <td>0.052253</td>\n",
       "      <td>0.006759</td>\n",
       "      <td>0.0</td>\n",
       "    </tr>\n",
       "    <tr>\n",
       "      <th>2</th>\n",
       "      <td>10</td>\n",
       "      <td>AK1011</td>\n",
       "      <td>Alaska</td>\n",
       "      <td>AK</td>\n",
       "      <td>2</td>\n",
       "      <td>7</td>\n",
       "      <td>minimum age</td>\n",
       "      <td>purchase and sale</td>\n",
       "      <td>long gun</td>\n",
       "      <td>Restrictive</td>\n",
       "      <td>...</td>\n",
       "      <td>0.000000</td>\n",
       "      <td>0.0</td>\n",
       "      <td>0.000000</td>\n",
       "      <td>0.091448</td>\n",
       "      <td>0.000000</td>\n",
       "      <td>0.0</td>\n",
       "      <td>0.0</td>\n",
       "      <td>0.140420</td>\n",
       "      <td>0.018312</td>\n",
       "      <td>0.0</td>\n",
       "    </tr>\n",
       "    <tr>\n",
       "      <th>3</th>\n",
       "      <td>13</td>\n",
       "      <td>AK1015</td>\n",
       "      <td>Alaska</td>\n",
       "      <td>AK</td>\n",
       "      <td>2</td>\n",
       "      <td>7</td>\n",
       "      <td>minimum age</td>\n",
       "      <td>youth possession</td>\n",
       "      <td>handgun</td>\n",
       "      <td>Restrictive</td>\n",
       "      <td>...</td>\n",
       "      <td>0.000000</td>\n",
       "      <td>0.0</td>\n",
       "      <td>0.000000</td>\n",
       "      <td>0.032295</td>\n",
       "      <td>0.185969</td>\n",
       "      <td>0.0</td>\n",
       "      <td>0.0</td>\n",
       "      <td>0.052253</td>\n",
       "      <td>0.006759</td>\n",
       "      <td>0.0</td>\n",
       "    </tr>\n",
       "    <tr>\n",
       "      <th>4</th>\n",
       "      <td>14</td>\n",
       "      <td>AK1016</td>\n",
       "      <td>Alaska</td>\n",
       "      <td>AK</td>\n",
       "      <td>2</td>\n",
       "      <td>7</td>\n",
       "      <td>minimum age</td>\n",
       "      <td>purchase and sale</td>\n",
       "      <td>handgun</td>\n",
       "      <td>Restrictive</td>\n",
       "      <td>...</td>\n",
       "      <td>0.000000</td>\n",
       "      <td>0.0</td>\n",
       "      <td>0.000000</td>\n",
       "      <td>0.091448</td>\n",
       "      <td>0.000000</td>\n",
       "      <td>0.0</td>\n",
       "      <td>0.0</td>\n",
       "      <td>0.140420</td>\n",
       "      <td>0.018312</td>\n",
       "      <td>0.0</td>\n",
       "    </tr>\n",
       "  </tbody>\n",
       "</table>\n",
       "<p>5 rows × 48 columns</p>\n",
       "</div>"
      ],
      "text/plain": [
       "   index  Law.ID   State State.Postal.Abbreviation  FIPS.Code   \n",
       "0      1  AK1002  Alaska                        AK          2  \\\n",
       "1      8  AK1009  Alaska                        AK          2   \n",
       "2     10  AK1011  Alaska                        AK          2   \n",
       "3     13  AK1015  Alaska                        AK          2   \n",
       "4     14  AK1016  Alaska                        AK          2   \n",
       "\n",
       "   Law.Class..num.                          Law.Class  Law.Class.Subtype   \n",
       "0                2  carrying a concealed weapon (ccw)         prohibited  \\\n",
       "1                7                        minimum age   youth possession   \n",
       "2                7                        minimum age  purchase and sale   \n",
       "3                7                        minimum age   youth possession   \n",
       "4                7                        minimum age  purchase and sale   \n",
       "\n",
       "  Handguns.or.Long.Guns       Effect  ...  topic_10 topic_11  topic_12   \n",
       "0               handgun  Restrictive  ...  0.014685      0.0  0.017689  \\\n",
       "1              long gun  Restrictive  ...  0.000000      0.0  0.000000   \n",
       "2              long gun  Restrictive  ...  0.000000      0.0  0.000000   \n",
       "3               handgun  Restrictive  ...  0.000000      0.0  0.000000   \n",
       "4               handgun  Restrictive  ...  0.000000      0.0  0.000000   \n",
       "\n",
       "   topic_13  topic_14  topic_15 topic_16  topic_17  topic_18  topic_19  \n",
       "0  0.175634  0.000000       0.0      0.0  0.063923  0.000000       0.0  \n",
       "1  0.032295  0.185969       0.0      0.0  0.052253  0.006759       0.0  \n",
       "2  0.091448  0.000000       0.0      0.0  0.140420  0.018312       0.0  \n",
       "3  0.032295  0.185969       0.0      0.0  0.052253  0.006759       0.0  \n",
       "4  0.091448  0.000000       0.0      0.0  0.140420  0.018312       0.0  \n",
       "\n",
       "[5 rows x 48 columns]"
      ]
     },
     "execution_count": 12,
     "metadata": {},
     "output_type": "execute_result"
    }
   ],
   "source": [
    "gun_law_topics.head()"
   ]
  },
  {
   "cell_type": "code",
   "execution_count": 13,
   "metadata": {
    "tags": []
   },
   "outputs": [
    {
     "name": "stdout",
     "output_type": "stream",
     "text": [
      "Topic 0: transferee statement officer law chief date enforcement transferor\n",
      "Topic 1: doctrine castle century common united states law 1920s\n",
      "Topic 2: age years 18 eighteen person possess 21 handgun\n",
      "Topic 3: licensee licensed transferee 103 established instant national section\n",
      "Topic 4: order respondent court protection petition risk extreme petitioner\n",
      "Topic 5: permit sheriff applicant application issue shall license police\n",
      "Topic 6: school college university public private grounds property educational\n",
      "Topic 7: theft loss report firearm stolen agency police occurred\n",
      "Topic 8: application applicant card authority illness time issued identification\n",
      "Topic 9: pistol revolver person 29 carry license issued shall\n",
      "Topic 10: mental committed mentally institution adjudicated incompetent possess person\n",
      "Topic 11: firearms ammunition ordinance ownership components transportation regulation possession\n",
      "Topic 12: bequest place acquire procured inheritance firearm business owner\n",
      "Topic 13: weapon concealed carry person carrying deadly knife assault\n",
      "Topic 14: minor guardian parent consent firearm dollars lawful age\n",
      "Topic 15: certificate safety handgun registration firearms firearm case training\n",
      "Topic 16: purchaser shall dealer transfer number department gun sale\n",
      "Topic 17: person firearm child offense commits knowingly intentionally felony\n",
      "Topic 18: officer domestic seize violence enforcement used peace alleged\n",
      "Topic 19: licensed dealer check background history transfer importer manufacturer\n"
     ]
    }
   ],
   "source": [
    "# Print the top 10 words\n",
    "n_words = 8\n",
    "feature_names = tfidf_vectorizer.get_feature_names_out()\n",
    "\n",
    "topic_list = []\n",
    "for topic_idx, topic in enumerate(nmf.components_):\n",
    "    top_n = [feature_names[i]\n",
    "             for i in topic.argsort()\n",
    "             [-n_words:]][::-1]\n",
    "    top_features = ' '.join(top_n)\n",
    "    topic_list.append(f\"topic_{'_'.join(top_n[:3])}\")\n",
    "\n",
    "    print(f\"Topic {topic_idx}: {top_features}\")"
   ]
  },
  {
   "cell_type": "markdown",
   "metadata": {
    "id": "Hmy8MPMTFPG2"
   },
   "source": [
    "### Creating a row for each law active during the time period"
   ]
  },
  {
   "cell_type": "code",
   "execution_count": 14,
   "metadata": {
    "id": "Q1CKZBbLor9Q",
    "tags": []
   },
   "outputs": [],
   "source": [
    "def find_active_laws(row: pd.Series):\n",
    "    this_state_laws = gun_law_topics[gun_law_topics.State == row.state].copy()\n",
    "    all_active_laws = this_state_laws[(row.period >= this_state_laws['Effective.Date']) & (row.period < this_state_laws['Supersession.Date'])].copy()\n",
    "    if len(all_active_laws) > 0:\n",
    "        all_active_laws = all_active_laws.assign(state = row.state)\n",
    "        all_active_laws = all_active_laws.assign(period = row.period)\n",
    "        all_active_laws = all_active_laws.assign(monthly_gun_deaths = row.monthly_gun_deaths)\n",
    "        all_active_laws = all_active_laws.assign(prior_monthly_deaths = row.prior_monthly_deaths)\n",
    "        return all_active_laws\n",
    "\n",
    "res = map(lambda row: find_active_laws(row[1]), deaths.iterrows())\n",
    "res = pd.concat(res)"
   ]
  },
  {
   "cell_type": "code",
   "execution_count": 15,
   "metadata": {
    "tags": []
   },
   "outputs": [
    {
     "data": {
      "text/html": [
       "<div>\n",
       "<style scoped>\n",
       "    .dataframe tbody tr th:only-of-type {\n",
       "        vertical-align: middle;\n",
       "    }\n",
       "\n",
       "    .dataframe tbody tr th {\n",
       "        vertical-align: top;\n",
       "    }\n",
       "\n",
       "    .dataframe thead th {\n",
       "        text-align: right;\n",
       "    }\n",
       "</style>\n",
       "<table border=\"1\" class=\"dataframe\">\n",
       "  <thead>\n",
       "    <tr style=\"text-align: right;\">\n",
       "      <th></th>\n",
       "      <th>index</th>\n",
       "      <th>Law.ID</th>\n",
       "      <th>State</th>\n",
       "      <th>State.Postal.Abbreviation</th>\n",
       "      <th>FIPS.Code</th>\n",
       "      <th>Law.Class..num.</th>\n",
       "      <th>Law.Class</th>\n",
       "      <th>Law.Class.Subtype</th>\n",
       "      <th>Handguns.or.Long.Guns</th>\n",
       "      <th>Effect</th>\n",
       "      <th>...</th>\n",
       "      <th>topic_14</th>\n",
       "      <th>topic_15</th>\n",
       "      <th>topic_16</th>\n",
       "      <th>topic_17</th>\n",
       "      <th>topic_18</th>\n",
       "      <th>topic_19</th>\n",
       "      <th>state</th>\n",
       "      <th>period</th>\n",
       "      <th>monthly_gun_deaths</th>\n",
       "      <th>prior_monthly_deaths</th>\n",
       "    </tr>\n",
       "  </thead>\n",
       "  <tbody>\n",
       "    <tr>\n",
       "      <th>12</th>\n",
       "      <td>55</td>\n",
       "      <td>AL1007</td>\n",
       "      <td>Alabama</td>\n",
       "      <td>AL</td>\n",
       "      <td>1</td>\n",
       "      <td>5</td>\n",
       "      <td>dealer license</td>\n",
       "      <td>NaN</td>\n",
       "      <td>handgun</td>\n",
       "      <td>Restrictive</td>\n",
       "      <td>...</td>\n",
       "      <td>0.000000</td>\n",
       "      <td>0.0</td>\n",
       "      <td>0.199642</td>\n",
       "      <td>0.000000</td>\n",
       "      <td>0.000000</td>\n",
       "      <td>0.040119</td>\n",
       "      <td>Alabama</td>\n",
       "      <td>2021-01-01</td>\n",
       "      <td>122.0</td>\n",
       "      <td>NaN</td>\n",
       "    </tr>\n",
       "    <tr>\n",
       "      <th>13</th>\n",
       "      <td>59</td>\n",
       "      <td>AL1011</td>\n",
       "      <td>Alabama</td>\n",
       "      <td>AL</td>\n",
       "      <td>1</td>\n",
       "      <td>7</td>\n",
       "      <td>minimum age</td>\n",
       "      <td>purchase and sale</td>\n",
       "      <td>handgun</td>\n",
       "      <td>Restrictive</td>\n",
       "      <td>...</td>\n",
       "      <td>0.094644</td>\n",
       "      <td>0.0</td>\n",
       "      <td>0.000000</td>\n",
       "      <td>0.000000</td>\n",
       "      <td>0.000000</td>\n",
       "      <td>0.003151</td>\n",
       "      <td>Alabama</td>\n",
       "      <td>2021-01-01</td>\n",
       "      <td>122.0</td>\n",
       "      <td>NaN</td>\n",
       "    </tr>\n",
       "    <tr>\n",
       "      <th>14</th>\n",
       "      <td>60</td>\n",
       "      <td>AL1012</td>\n",
       "      <td>Alabama</td>\n",
       "      <td>AL</td>\n",
       "      <td>1</td>\n",
       "      <td>7</td>\n",
       "      <td>minimum age</td>\n",
       "      <td>youth possession</td>\n",
       "      <td>handgun</td>\n",
       "      <td>Restrictive</td>\n",
       "      <td>...</td>\n",
       "      <td>0.120902</td>\n",
       "      <td>0.0</td>\n",
       "      <td>0.000000</td>\n",
       "      <td>0.007872</td>\n",
       "      <td>0.000000</td>\n",
       "      <td>0.000000</td>\n",
       "      <td>Alabama</td>\n",
       "      <td>2021-01-01</td>\n",
       "      <td>122.0</td>\n",
       "      <td>NaN</td>\n",
       "    </tr>\n",
       "    <tr>\n",
       "      <th>17</th>\n",
       "      <td>70</td>\n",
       "      <td>AL1023</td>\n",
       "      <td>Alabama</td>\n",
       "      <td>AL</td>\n",
       "      <td>1</td>\n",
       "      <td>10</td>\n",
       "      <td>prohibited possessor</td>\n",
       "      <td>dvro</td>\n",
       "      <td>handgun and/or long gun</td>\n",
       "      <td>Restrictive</td>\n",
       "      <td>...</td>\n",
       "      <td>0.000000</td>\n",
       "      <td>0.0</td>\n",
       "      <td>0.000000</td>\n",
       "      <td>0.083530</td>\n",
       "      <td>0.139741</td>\n",
       "      <td>0.000000</td>\n",
       "      <td>Alabama</td>\n",
       "      <td>2021-01-01</td>\n",
       "      <td>122.0</td>\n",
       "      <td>NaN</td>\n",
       "    </tr>\n",
       "    <tr>\n",
       "      <th>18</th>\n",
       "      <td>71</td>\n",
       "      <td>AL1024</td>\n",
       "      <td>Alabama</td>\n",
       "      <td>AL</td>\n",
       "      <td>1</td>\n",
       "      <td>10</td>\n",
       "      <td>prohibited possessor</td>\n",
       "      <td>mental health : adjudicated as mentally incomp...</td>\n",
       "      <td>handgun and/or long gun</td>\n",
       "      <td>Restrictive</td>\n",
       "      <td>...</td>\n",
       "      <td>0.001392</td>\n",
       "      <td>0.0</td>\n",
       "      <td>0.000000</td>\n",
       "      <td>0.060092</td>\n",
       "      <td>0.106370</td>\n",
       "      <td>0.000000</td>\n",
       "      <td>Alabama</td>\n",
       "      <td>2021-01-01</td>\n",
       "      <td>122.0</td>\n",
       "      <td>NaN</td>\n",
       "    </tr>\n",
       "  </tbody>\n",
       "</table>\n",
       "<p>5 rows × 52 columns</p>\n",
       "</div>"
      ],
      "text/plain": [
       "    index  Law.ID    State State.Postal.Abbreviation  FIPS.Code   \n",
       "12     55  AL1007  Alabama                        AL          1  \\\n",
       "13     59  AL1011  Alabama                        AL          1   \n",
       "14     60  AL1012  Alabama                        AL          1   \n",
       "17     70  AL1023  Alabama                        AL          1   \n",
       "18     71  AL1024  Alabama                        AL          1   \n",
       "\n",
       "    Law.Class..num.             Law.Class   \n",
       "12                5        dealer license  \\\n",
       "13                7           minimum age   \n",
       "14                7           minimum age   \n",
       "17               10  prohibited possessor   \n",
       "18               10  prohibited possessor   \n",
       "\n",
       "                                    Law.Class.Subtype   \n",
       "12                                                NaN  \\\n",
       "13                                  purchase and sale   \n",
       "14                                   youth possession   \n",
       "17                                               dvro   \n",
       "18  mental health : adjudicated as mentally incomp...   \n",
       "\n",
       "      Handguns.or.Long.Guns       Effect  ...  topic_14 topic_15  topic_16   \n",
       "12                  handgun  Restrictive  ...  0.000000      0.0  0.199642  \\\n",
       "13                  handgun  Restrictive  ...  0.094644      0.0  0.000000   \n",
       "14                  handgun  Restrictive  ...  0.120902      0.0  0.000000   \n",
       "17  handgun and/or long gun  Restrictive  ...  0.000000      0.0  0.000000   \n",
       "18  handgun and/or long gun  Restrictive  ...  0.001392      0.0  0.000000   \n",
       "\n",
       "    topic_17  topic_18  topic_19    state     period monthly_gun_deaths   \n",
       "12  0.000000  0.000000  0.040119  Alabama 2021-01-01              122.0  \\\n",
       "13  0.000000  0.000000  0.003151  Alabama 2021-01-01              122.0   \n",
       "14  0.007872  0.000000  0.000000  Alabama 2021-01-01              122.0   \n",
       "17  0.083530  0.139741  0.000000  Alabama 2021-01-01              122.0   \n",
       "18  0.060092  0.106370  0.000000  Alabama 2021-01-01              122.0   \n",
       "\n",
       "    prior_monthly_deaths  \n",
       "12                   NaN  \n",
       "13                   NaN  \n",
       "14                   NaN  \n",
       "17                   NaN  \n",
       "18                   NaN  \n",
       "\n",
       "[5 rows x 52 columns]"
      ]
     },
     "execution_count": 15,
     "metadata": {},
     "output_type": "execute_result"
    }
   ],
   "source": [
    "res.head()"
   ]
  },
  {
   "cell_type": "markdown",
   "metadata": {
    "id": "vmWQXvusFtTp"
   },
   "source": [
    "### Train-Test-Validation Split"
   ]
  },
  {
   "cell_type": "code",
   "execution_count": 40,
   "metadata": {
    "tags": []
   },
   "outputs": [],
   "source": [
    "dep_var_name = ['monthly_gun_deaths']\n",
    "fe_var_names = ['prior_monthly_deaths'] + ['period']\n",
    "re_var_names = topic_col_names\n",
    "group_var_name = ['state']\n",
    "all_var_names = dep_var_name + fe_var_names + re_var_names + group_var_name"
   ]
  },
  {
   "cell_type": "code",
   "execution_count": 41,
   "metadata": {
    "id": "ICYfdsWIvMk2",
    "tags": []
   },
   "outputs": [],
   "source": [
    "filtered = res[all_var_names].dropna().copy()\n",
    "train, test = train_test_split(filtered, test_size = 0.2)\n",
    "test, validate = train_test_split(test, test_size = 0.5)"
   ]
  },
  {
   "cell_type": "markdown",
   "metadata": {
    "id": "LBXUTAcvHCrC"
   },
   "source": [
    "## Creating the Model"
   ]
  },
  {
   "cell_type": "code",
   "execution_count": null,
   "metadata": {
    "id": "B_006KTTFon-",
    "tags": []
   },
   "outputs": [],
   "source": [
    "fe_formula = 'monthly_gun_deaths ~ ' + ' + '.join(fe_var_names)\n",
    "re_formula = '~ ' + ' + '.join(re_var_names)\n",
    "lme = smf.mixedlm(fe_formula, train, re_formula = re_formula, groups=train['state'])\n",
    "lme_fitted = lme.fit(method=[\"powell\", \"lbfgs\"])"
   ]
  },
  {
   "cell_type": "code",
   "execution_count": null,
   "metadata": {
    "tags": []
   },
   "outputs": [],
   "source": [
    "# lme = MixedLM(endog=train[dep_var_name], exog=train[indep_var_names], groups=train[group_var_name], exog_re=train[indep_var_names])\n",
    "# lme_fitted = lme.fit(method=[\"powell\", \"lbfgs\"])"
   ]
  },
  {
   "cell_type": "code",
   "execution_count": null,
   "metadata": {
    "tags": []
   },
   "outputs": [],
   "source": [
    "lme_fitted.summary()"
   ]
  },
  {
   "cell_type": "code",
   "execution_count": 25,
   "metadata": {
    "tags": []
   },
   "outputs": [
    {
     "data": {
      "text/plain": [
       "Intercept               19.433699\n",
       "prior_monthly_deaths     0.654720\n",
       "topic_0                 -1.276974\n",
       "topic_1                 -5.008788\n",
       "topic_2                 -2.293668\n",
       "topic_3                 -1.022886\n",
       "topic_4                  7.136687\n",
       "topic_5                 -4.847384\n",
       "topic_6                 -0.275521\n",
       "topic_7                  1.185867\n",
       "topic_8                  0.026121\n",
       "topic_9                 -0.340502\n",
       "topic_10                 1.347529\n",
       "topic_11                -0.741717\n",
       "topic_12                -0.871698\n",
       "topic_13                -1.165775\n",
       "topic_14                -0.442576\n",
       "topic_15                 0.742062\n",
       "topic_16                -2.713541\n",
       "topic_17                -2.561492\n",
       "topic_18                -0.491104\n",
       "topic_19                -0.891903\n",
       "Group Var                2.334306\n",
       "dtype: float64"
      ]
     },
     "execution_count": 25,
     "metadata": {},
     "output_type": "execute_result"
    }
   ],
   "source": [
    "lme_fitted.params"
   ]
  }
 ],
 "metadata": {
  "colab": {
   "authorship_tag": "ABX9TyNSCMw23cVGtBwuLAcmJ9K7",
   "include_colab_link": true,
   "provenance": [],
   "toc_visible": true
  },
  "kernelspec": {
   "display_name": "conda_python3",
   "language": "python",
   "name": "conda_python3"
  },
  "language_info": {
   "codemirror_mode": {
    "name": "ipython",
    "version": 3
   },
   "file_extension": ".py",
   "mimetype": "text/x-python",
   "name": "python",
   "nbconvert_exporter": "python",
   "pygments_lexer": "ipython3",
   "version": "3.10.10"
  }
 },
 "nbformat": 4,
 "nbformat_minor": 4
}
