{
  "cells": [
    {
      "cell_type": "markdown",
      "metadata": {
        "id": "view-in-github",
        "colab_type": "text"
      },
      "source": [
        "<a href=\"https://colab.research.google.com/github/hanansuk/guns_n_roses/blob/main/lme_model.ipynb\" target=\"_parent\"><img src=\"https://colab.research.google.com/assets/colab-badge.svg\" alt=\"Open In Colab\"/></a>"
      ]
    },
    {
      "cell_type": "markdown",
      "source": [
        "# Predicting Gun Law Effects\n",
        "## Using a Linear Mixed Effects Model, BERT, and Regression\n",
        "Written by Hannah George"
      ],
      "metadata": {
        "id": "cL-S0ScOHQ94"
      }
    },
    {
      "cell_type": "markdown",
      "source": [
        "## Imports"
      ],
      "metadata": {
        "id": "ViuEsNNvHyHJ"
      }
    },
    {
      "cell_type": "code",
      "execution_count": 9,
      "metadata": {
        "id": "BpXWxGWXIad3"
      },
      "outputs": [],
      "source": [
        "from datetime import datetime\n",
        "from sklearn.model_selection import train_test_split\n",
        "from sklearn.preprocessing import OneHotEncoder\n",
        "import matplotlib.pyplot as plt\n",
        "import numpy as np\n",
        "import pandas as pd\n",
        "import tensorflow as tf\n",
        "import tensorflow_probability as tfp\n",
        "\n",
        "tfd = tfp.distributions\n",
        "tfb = tfp.bijectors\n",
        "\n",
        "%config InlineBackend.figure_format = 'retina'\n",
        "%matplotlib inline\n",
        "plt.style.use('ggplot')"
      ]
    },
    {
      "cell_type": "markdown",
      "source": [
        "## Reading in the Data"
      ],
      "metadata": {
        "id": "yxslFjQZH0nJ"
      }
    },
    {
      "cell_type": "code",
      "execution_count": 4,
      "metadata": {
        "id": "eHnIToloIcH1"
      },
      "outputs": [],
      "source": [
        "token = 'GHSAT0AAAAAACDOBHUYRIABQK2RIYPJOUL2ZFAZBUA'\n",
        "deaths = pd.read_csv(f'https://raw.githubusercontent.com/hanansuk/guns_n_roses/main/cdc_monthly_state_gun_deaths_imputed.csv?token={token}')"
      ]
    },
    {
      "cell_type": "code",
      "execution_count": 5,
      "metadata": {
        "id": "tI8xI401IqlA"
      },
      "outputs": [],
      "source": [
        "token = 'GHSAT0AAAAAACDOBHUZ7W6CXPZYZT24SHI6ZFAZB6A'\n",
        "laws = pd.read_csv(f'https://raw.githubusercontent.com/hanansuk/guns_n_roses/main/RAND.csv?token={token}')"
      ]
    },
    {
      "cell_type": "code",
      "execution_count": 6,
      "metadata": {
        "colab": {
          "base_uri": "https://localhost:8080/",
          "height": 206
        },
        "id": "dF1a3coEJQGZ",
        "outputId": "54be34a3-aa33-43ca-ae49-c891dadfff23"
      },
      "outputs": [
        {
          "output_type": "execute_result",
          "data": {
            "text/plain": [
              "   Unnamed: 0    state  year      period  monthly_gun_deaths\n",
              "0           0  Alabama  2021  2021-01-01               122.0\n",
              "1           1  Alabama  2021  2021-02-01               104.0\n",
              "2           2  Alabama  2021  2021-03-01               103.0\n",
              "3           3  Alabama  2021  2021-04-01               102.0\n",
              "4           4  Alabama  2021  2021-05-01               108.0"
            ],
            "text/html": [
              "\n",
              "  <div id=\"df-c83d087c-0616-4f0d-8fb1-45872073da9a\">\n",
              "    <div class=\"colab-df-container\">\n",
              "      <div>\n",
              "<style scoped>\n",
              "    .dataframe tbody tr th:only-of-type {\n",
              "        vertical-align: middle;\n",
              "    }\n",
              "\n",
              "    .dataframe tbody tr th {\n",
              "        vertical-align: top;\n",
              "    }\n",
              "\n",
              "    .dataframe thead th {\n",
              "        text-align: right;\n",
              "    }\n",
              "</style>\n",
              "<table border=\"1\" class=\"dataframe\">\n",
              "  <thead>\n",
              "    <tr style=\"text-align: right;\">\n",
              "      <th></th>\n",
              "      <th>Unnamed: 0</th>\n",
              "      <th>state</th>\n",
              "      <th>year</th>\n",
              "      <th>period</th>\n",
              "      <th>monthly_gun_deaths</th>\n",
              "    </tr>\n",
              "  </thead>\n",
              "  <tbody>\n",
              "    <tr>\n",
              "      <th>0</th>\n",
              "      <td>0</td>\n",
              "      <td>Alabama</td>\n",
              "      <td>2021</td>\n",
              "      <td>2021-01-01</td>\n",
              "      <td>122.0</td>\n",
              "    </tr>\n",
              "    <tr>\n",
              "      <th>1</th>\n",
              "      <td>1</td>\n",
              "      <td>Alabama</td>\n",
              "      <td>2021</td>\n",
              "      <td>2021-02-01</td>\n",
              "      <td>104.0</td>\n",
              "    </tr>\n",
              "    <tr>\n",
              "      <th>2</th>\n",
              "      <td>2</td>\n",
              "      <td>Alabama</td>\n",
              "      <td>2021</td>\n",
              "      <td>2021-03-01</td>\n",
              "      <td>103.0</td>\n",
              "    </tr>\n",
              "    <tr>\n",
              "      <th>3</th>\n",
              "      <td>3</td>\n",
              "      <td>Alabama</td>\n",
              "      <td>2021</td>\n",
              "      <td>2021-04-01</td>\n",
              "      <td>102.0</td>\n",
              "    </tr>\n",
              "    <tr>\n",
              "      <th>4</th>\n",
              "      <td>4</td>\n",
              "      <td>Alabama</td>\n",
              "      <td>2021</td>\n",
              "      <td>2021-05-01</td>\n",
              "      <td>108.0</td>\n",
              "    </tr>\n",
              "  </tbody>\n",
              "</table>\n",
              "</div>\n",
              "      <button class=\"colab-df-convert\" onclick=\"convertToInteractive('df-c83d087c-0616-4f0d-8fb1-45872073da9a')\"\n",
              "              title=\"Convert this dataframe to an interactive table.\"\n",
              "              style=\"display:none;\">\n",
              "        \n",
              "  <svg xmlns=\"http://www.w3.org/2000/svg\" height=\"24px\"viewBox=\"0 0 24 24\"\n",
              "       width=\"24px\">\n",
              "    <path d=\"M0 0h24v24H0V0z\" fill=\"none\"/>\n",
              "    <path d=\"M18.56 5.44l.94 2.06.94-2.06 2.06-.94-2.06-.94-.94-2.06-.94 2.06-2.06.94zm-11 1L8.5 8.5l.94-2.06 2.06-.94-2.06-.94L8.5 2.5l-.94 2.06-2.06.94zm10 10l.94 2.06.94-2.06 2.06-.94-2.06-.94-.94-2.06-.94 2.06-2.06.94z\"/><path d=\"M17.41 7.96l-1.37-1.37c-.4-.4-.92-.59-1.43-.59-.52 0-1.04.2-1.43.59L10.3 9.45l-7.72 7.72c-.78.78-.78 2.05 0 2.83L4 21.41c.39.39.9.59 1.41.59.51 0 1.02-.2 1.41-.59l7.78-7.78 2.81-2.81c.8-.78.8-2.07 0-2.86zM5.41 20L4 18.59l7.72-7.72 1.47 1.35L5.41 20z\"/>\n",
              "  </svg>\n",
              "      </button>\n",
              "      \n",
              "  <style>\n",
              "    .colab-df-container {\n",
              "      display:flex;\n",
              "      flex-wrap:wrap;\n",
              "      gap: 12px;\n",
              "    }\n",
              "\n",
              "    .colab-df-convert {\n",
              "      background-color: #E8F0FE;\n",
              "      border: none;\n",
              "      border-radius: 50%;\n",
              "      cursor: pointer;\n",
              "      display: none;\n",
              "      fill: #1967D2;\n",
              "      height: 32px;\n",
              "      padding: 0 0 0 0;\n",
              "      width: 32px;\n",
              "    }\n",
              "\n",
              "    .colab-df-convert:hover {\n",
              "      background-color: #E2EBFA;\n",
              "      box-shadow: 0px 1px 2px rgba(60, 64, 67, 0.3), 0px 1px 3px 1px rgba(60, 64, 67, 0.15);\n",
              "      fill: #174EA6;\n",
              "    }\n",
              "\n",
              "    [theme=dark] .colab-df-convert {\n",
              "      background-color: #3B4455;\n",
              "      fill: #D2E3FC;\n",
              "    }\n",
              "\n",
              "    [theme=dark] .colab-df-convert:hover {\n",
              "      background-color: #434B5C;\n",
              "      box-shadow: 0px 1px 3px 1px rgba(0, 0, 0, 0.15);\n",
              "      filter: drop-shadow(0px 1px 2px rgba(0, 0, 0, 0.3));\n",
              "      fill: #FFFFFF;\n",
              "    }\n",
              "  </style>\n",
              "\n",
              "      <script>\n",
              "        const buttonEl =\n",
              "          document.querySelector('#df-c83d087c-0616-4f0d-8fb1-45872073da9a button.colab-df-convert');\n",
              "        buttonEl.style.display =\n",
              "          google.colab.kernel.accessAllowed ? 'block' : 'none';\n",
              "\n",
              "        async function convertToInteractive(key) {\n",
              "          const element = document.querySelector('#df-c83d087c-0616-4f0d-8fb1-45872073da9a');\n",
              "          const dataTable =\n",
              "            await google.colab.kernel.invokeFunction('convertToInteractive',\n",
              "                                                     [key], {});\n",
              "          if (!dataTable) return;\n",
              "\n",
              "          const docLinkHtml = 'Like what you see? Visit the ' +\n",
              "            '<a target=\"_blank\" href=https://colab.research.google.com/notebooks/data_table.ipynb>data table notebook</a>'\n",
              "            + ' to learn more about interactive tables.';\n",
              "          element.innerHTML = '';\n",
              "          dataTable['output_type'] = 'display_data';\n",
              "          await google.colab.output.renderOutput(dataTable, element);\n",
              "          const docLink = document.createElement('div');\n",
              "          docLink.innerHTML = docLinkHtml;\n",
              "          element.appendChild(docLink);\n",
              "        }\n",
              "      </script>\n",
              "    </div>\n",
              "  </div>\n",
              "  "
            ]
          },
          "metadata": {},
          "execution_count": 6
        }
      ],
      "source": [
        "deaths.head()"
      ]
    },
    {
      "cell_type": "code",
      "execution_count": 7,
      "metadata": {
        "colab": {
          "base_uri": "https://localhost:8080/",
          "height": 490
        },
        "id": "Z60ttL6gJS14",
        "outputId": "5d3187e1-c04d-4c01-bb75-0c2373f4ecc4"
      },
      "outputs": [
        {
          "output_type": "execute_result",
          "data": {
            "text/plain": [
              "   Law.ID   State State.Postal.Abbreviation  FIPS.Code  Law.Class..num.  \\\n",
              "0  AK1001  Alaska                        AK          2                1   \n",
              "1  AK1002  Alaska                        AK          2                2   \n",
              "2  AK1003  Alaska                        AK          2                2   \n",
              "3  AK1004  Alaska                        AK          2                2   \n",
              "4  AK1005  Alaska                        AK          2                3   \n",
              "\n",
              "                           Law.Class                  Law.Class.Subtype  \\\n",
              "0                  background checks                      private sales   \n",
              "1  carrying a concealed weapon (ccw)                         prohibited   \n",
              "2  carrying a concealed weapon (ccw)                        shall issue   \n",
              "3  carrying a concealed weapon (ccw)  shall issue (permit not required)   \n",
              "4                    castle doctrine                                NaN   \n",
              "\n",
              "     Handguns.or.Long.Guns       Effect Type.of.Change  ... Supersession.Date  \\\n",
              "0                  handgun          NaN            NaN  ...               NaN   \n",
              "1                  handgun  Restrictive      Implement  ...        1994-10-01   \n",
              "2                  handgun   Permissive         Modify  ...        2003-09-09   \n",
              "3                  handgun   Permissive         Modify  ...               NaN   \n",
              "4  handgun and/or long gun   Permissive         Modify  ...        2006-09-13   \n",
              "\n",
              "  Supersession.Date.Year  Supersession.Date.Month  Supersession.Date.Day  \\\n",
              "0                    NaN                      NaN                    NaN   \n",
              "1                 1994.0                     10.0                    1.0   \n",
              "2                 2003.0                      9.0                    9.0   \n",
              "3                    NaN                      NaN                    NaN   \n",
              "4                 2006.0                      9.0                   13.0   \n",
              "\n",
              "   Controlling.Law.at.Beginning.of.Period..1979. Age.for.Minimum.Age.Laws  \\\n",
              "0                                              1                      NaN   \n",
              "1                                              1                      NaN   \n",
              "2                                            NaN                      NaN   \n",
              "3                                            NaN                      NaN   \n",
              "4                                              1                      NaN   \n",
              "\n",
              "  Length.of.Waiting.Period..days..handguns.  \\\n",
              "0                                       NaN   \n",
              "1                                       NaN   \n",
              "2                                       NaN   \n",
              "3                                       NaN   \n",
              "4                                       NaN   \n",
              "\n",
              "                        Additional.Context.and.Notes  Caveats.and.Ambiguities  \\\n",
              "0                                                NaN                      NaN   \n",
              "1  Prior law prohibiting concealed carry enacted ...                      NaN   \n",
              "2                                                NaN                      NaN   \n",
              "3  Permitting system maintained for residents see...                      NaN   \n",
              "4                      See 2006 S.B. No. 200 Ch. 68.                      NaN   \n",
              "\n",
              "   Exception.Code  \n",
              "0             NaN  \n",
              "1             NaN  \n",
              "2             NaN  \n",
              "3             NaN  \n",
              "4             NaN  \n",
              "\n",
              "[5 rows x 27 columns]"
            ],
            "text/html": [
              "\n",
              "  <div id=\"df-299e3a66-1bdf-4442-af0d-db43c985b9e3\">\n",
              "    <div class=\"colab-df-container\">\n",
              "      <div>\n",
              "<style scoped>\n",
              "    .dataframe tbody tr th:only-of-type {\n",
              "        vertical-align: middle;\n",
              "    }\n",
              "\n",
              "    .dataframe tbody tr th {\n",
              "        vertical-align: top;\n",
              "    }\n",
              "\n",
              "    .dataframe thead th {\n",
              "        text-align: right;\n",
              "    }\n",
              "</style>\n",
              "<table border=\"1\" class=\"dataframe\">\n",
              "  <thead>\n",
              "    <tr style=\"text-align: right;\">\n",
              "      <th></th>\n",
              "      <th>Law.ID</th>\n",
              "      <th>State</th>\n",
              "      <th>State.Postal.Abbreviation</th>\n",
              "      <th>FIPS.Code</th>\n",
              "      <th>Law.Class..num.</th>\n",
              "      <th>Law.Class</th>\n",
              "      <th>Law.Class.Subtype</th>\n",
              "      <th>Handguns.or.Long.Guns</th>\n",
              "      <th>Effect</th>\n",
              "      <th>Type.of.Change</th>\n",
              "      <th>...</th>\n",
              "      <th>Supersession.Date</th>\n",
              "      <th>Supersession.Date.Year</th>\n",
              "      <th>Supersession.Date.Month</th>\n",
              "      <th>Supersession.Date.Day</th>\n",
              "      <th>Controlling.Law.at.Beginning.of.Period..1979.</th>\n",
              "      <th>Age.for.Minimum.Age.Laws</th>\n",
              "      <th>Length.of.Waiting.Period..days..handguns.</th>\n",
              "      <th>Additional.Context.and.Notes</th>\n",
              "      <th>Caveats.and.Ambiguities</th>\n",
              "      <th>Exception.Code</th>\n",
              "    </tr>\n",
              "  </thead>\n",
              "  <tbody>\n",
              "    <tr>\n",
              "      <th>0</th>\n",
              "      <td>AK1001</td>\n",
              "      <td>Alaska</td>\n",
              "      <td>AK</td>\n",
              "      <td>2</td>\n",
              "      <td>1</td>\n",
              "      <td>background checks</td>\n",
              "      <td>private sales</td>\n",
              "      <td>handgun</td>\n",
              "      <td>NaN</td>\n",
              "      <td>NaN</td>\n",
              "      <td>...</td>\n",
              "      <td>NaN</td>\n",
              "      <td>NaN</td>\n",
              "      <td>NaN</td>\n",
              "      <td>NaN</td>\n",
              "      <td>1</td>\n",
              "      <td>NaN</td>\n",
              "      <td>NaN</td>\n",
              "      <td>NaN</td>\n",
              "      <td>NaN</td>\n",
              "      <td>NaN</td>\n",
              "    </tr>\n",
              "    <tr>\n",
              "      <th>1</th>\n",
              "      <td>AK1002</td>\n",
              "      <td>Alaska</td>\n",
              "      <td>AK</td>\n",
              "      <td>2</td>\n",
              "      <td>2</td>\n",
              "      <td>carrying a concealed weapon (ccw)</td>\n",
              "      <td>prohibited</td>\n",
              "      <td>handgun</td>\n",
              "      <td>Restrictive</td>\n",
              "      <td>Implement</td>\n",
              "      <td>...</td>\n",
              "      <td>1994-10-01</td>\n",
              "      <td>1994.0</td>\n",
              "      <td>10.0</td>\n",
              "      <td>1.0</td>\n",
              "      <td>1</td>\n",
              "      <td>NaN</td>\n",
              "      <td>NaN</td>\n",
              "      <td>Prior law prohibiting concealed carry enacted ...</td>\n",
              "      <td>NaN</td>\n",
              "      <td>NaN</td>\n",
              "    </tr>\n",
              "    <tr>\n",
              "      <th>2</th>\n",
              "      <td>AK1003</td>\n",
              "      <td>Alaska</td>\n",
              "      <td>AK</td>\n",
              "      <td>2</td>\n",
              "      <td>2</td>\n",
              "      <td>carrying a concealed weapon (ccw)</td>\n",
              "      <td>shall issue</td>\n",
              "      <td>handgun</td>\n",
              "      <td>Permissive</td>\n",
              "      <td>Modify</td>\n",
              "      <td>...</td>\n",
              "      <td>2003-09-09</td>\n",
              "      <td>2003.0</td>\n",
              "      <td>9.0</td>\n",
              "      <td>9.0</td>\n",
              "      <td>NaN</td>\n",
              "      <td>NaN</td>\n",
              "      <td>NaN</td>\n",
              "      <td>NaN</td>\n",
              "      <td>NaN</td>\n",
              "      <td>NaN</td>\n",
              "    </tr>\n",
              "    <tr>\n",
              "      <th>3</th>\n",
              "      <td>AK1004</td>\n",
              "      <td>Alaska</td>\n",
              "      <td>AK</td>\n",
              "      <td>2</td>\n",
              "      <td>2</td>\n",
              "      <td>carrying a concealed weapon (ccw)</td>\n",
              "      <td>shall issue (permit not required)</td>\n",
              "      <td>handgun</td>\n",
              "      <td>Permissive</td>\n",
              "      <td>Modify</td>\n",
              "      <td>...</td>\n",
              "      <td>NaN</td>\n",
              "      <td>NaN</td>\n",
              "      <td>NaN</td>\n",
              "      <td>NaN</td>\n",
              "      <td>NaN</td>\n",
              "      <td>NaN</td>\n",
              "      <td>NaN</td>\n",
              "      <td>Permitting system maintained for residents see...</td>\n",
              "      <td>NaN</td>\n",
              "      <td>NaN</td>\n",
              "    </tr>\n",
              "    <tr>\n",
              "      <th>4</th>\n",
              "      <td>AK1005</td>\n",
              "      <td>Alaska</td>\n",
              "      <td>AK</td>\n",
              "      <td>2</td>\n",
              "      <td>3</td>\n",
              "      <td>castle doctrine</td>\n",
              "      <td>NaN</td>\n",
              "      <td>handgun and/or long gun</td>\n",
              "      <td>Permissive</td>\n",
              "      <td>Modify</td>\n",
              "      <td>...</td>\n",
              "      <td>2006-09-13</td>\n",
              "      <td>2006.0</td>\n",
              "      <td>9.0</td>\n",
              "      <td>13.0</td>\n",
              "      <td>1</td>\n",
              "      <td>NaN</td>\n",
              "      <td>NaN</td>\n",
              "      <td>See 2006 S.B. No. 200 Ch. 68.</td>\n",
              "      <td>NaN</td>\n",
              "      <td>NaN</td>\n",
              "    </tr>\n",
              "  </tbody>\n",
              "</table>\n",
              "<p>5 rows × 27 columns</p>\n",
              "</div>\n",
              "      <button class=\"colab-df-convert\" onclick=\"convertToInteractive('df-299e3a66-1bdf-4442-af0d-db43c985b9e3')\"\n",
              "              title=\"Convert this dataframe to an interactive table.\"\n",
              "              style=\"display:none;\">\n",
              "        \n",
              "  <svg xmlns=\"http://www.w3.org/2000/svg\" height=\"24px\"viewBox=\"0 0 24 24\"\n",
              "       width=\"24px\">\n",
              "    <path d=\"M0 0h24v24H0V0z\" fill=\"none\"/>\n",
              "    <path d=\"M18.56 5.44l.94 2.06.94-2.06 2.06-.94-2.06-.94-.94-2.06-.94 2.06-2.06.94zm-11 1L8.5 8.5l.94-2.06 2.06-.94-2.06-.94L8.5 2.5l-.94 2.06-2.06.94zm10 10l.94 2.06.94-2.06 2.06-.94-2.06-.94-.94-2.06-.94 2.06-2.06.94z\"/><path d=\"M17.41 7.96l-1.37-1.37c-.4-.4-.92-.59-1.43-.59-.52 0-1.04.2-1.43.59L10.3 9.45l-7.72 7.72c-.78.78-.78 2.05 0 2.83L4 21.41c.39.39.9.59 1.41.59.51 0 1.02-.2 1.41-.59l7.78-7.78 2.81-2.81c.8-.78.8-2.07 0-2.86zM5.41 20L4 18.59l7.72-7.72 1.47 1.35L5.41 20z\"/>\n",
              "  </svg>\n",
              "      </button>\n",
              "      \n",
              "  <style>\n",
              "    .colab-df-container {\n",
              "      display:flex;\n",
              "      flex-wrap:wrap;\n",
              "      gap: 12px;\n",
              "    }\n",
              "\n",
              "    .colab-df-convert {\n",
              "      background-color: #E8F0FE;\n",
              "      border: none;\n",
              "      border-radius: 50%;\n",
              "      cursor: pointer;\n",
              "      display: none;\n",
              "      fill: #1967D2;\n",
              "      height: 32px;\n",
              "      padding: 0 0 0 0;\n",
              "      width: 32px;\n",
              "    }\n",
              "\n",
              "    .colab-df-convert:hover {\n",
              "      background-color: #E2EBFA;\n",
              "      box-shadow: 0px 1px 2px rgba(60, 64, 67, 0.3), 0px 1px 3px 1px rgba(60, 64, 67, 0.15);\n",
              "      fill: #174EA6;\n",
              "    }\n",
              "\n",
              "    [theme=dark] .colab-df-convert {\n",
              "      background-color: #3B4455;\n",
              "      fill: #D2E3FC;\n",
              "    }\n",
              "\n",
              "    [theme=dark] .colab-df-convert:hover {\n",
              "      background-color: #434B5C;\n",
              "      box-shadow: 0px 1px 3px 1px rgba(0, 0, 0, 0.15);\n",
              "      filter: drop-shadow(0px 1px 2px rgba(0, 0, 0, 0.3));\n",
              "      fill: #FFFFFF;\n",
              "    }\n",
              "  </style>\n",
              "\n",
              "      <script>\n",
              "        const buttonEl =\n",
              "          document.querySelector('#df-299e3a66-1bdf-4442-af0d-db43c985b9e3 button.colab-df-convert');\n",
              "        buttonEl.style.display =\n",
              "          google.colab.kernel.accessAllowed ? 'block' : 'none';\n",
              "\n",
              "        async function convertToInteractive(key) {\n",
              "          const element = document.querySelector('#df-299e3a66-1bdf-4442-af0d-db43c985b9e3');\n",
              "          const dataTable =\n",
              "            await google.colab.kernel.invokeFunction('convertToInteractive',\n",
              "                                                     [key], {});\n",
              "          if (!dataTable) return;\n",
              "\n",
              "          const docLinkHtml = 'Like what you see? Visit the ' +\n",
              "            '<a target=\"_blank\" href=https://colab.research.google.com/notebooks/data_table.ipynb>data table notebook</a>'\n",
              "            + ' to learn more about interactive tables.';\n",
              "          element.innerHTML = '';\n",
              "          dataTable['output_type'] = 'display_data';\n",
              "          await google.colab.output.renderOutput(dataTable, element);\n",
              "          const docLink = document.createElement('div');\n",
              "          docLink.innerHTML = docLinkHtml;\n",
              "          element.appendChild(docLink);\n",
              "        }\n",
              "      </script>\n",
              "    </div>\n",
              "  </div>\n",
              "  "
            ]
          },
          "metadata": {},
          "execution_count": 7
        }
      ],
      "source": [
        "laws.head()"
      ]
    },
    {
      "cell_type": "markdown",
      "source": [
        "## Data Preprocessing"
      ],
      "metadata": {
        "id": "ny8V40K4Em7-"
      }
    },
    {
      "cell_type": "markdown",
      "source": [
        "### Converting Dates to Datetime Objects"
      ],
      "metadata": {
        "id": "Bnpt4UyqEuLe"
      }
    },
    {
      "cell_type": "code",
      "execution_count": 10,
      "metadata": {
        "id": "A_r-rEftLzwD"
      },
      "outputs": [],
      "source": [
        "deaths['period'] = pd.to_datetime(deaths.period)\n",
        "laws['Effective.Date'] = pd.to_datetime(laws['Effective.Date'])\n",
        "laws['Supersession.Date'] = pd.to_datetime(laws['Supersession.Date'])"
      ]
    },
    {
      "cell_type": "code",
      "execution_count": 11,
      "metadata": {
        "id": "OIYO8df9qabr"
      },
      "outputs": [],
      "source": [
        "# If the law has not been superseeded then set the date to the future.\n",
        "laws['Supersession.Date'] = laws['Supersession.Date'].fillna('2099-12-01')"
      ]
    },
    {
      "cell_type": "markdown",
      "source": [
        "### Creating Lagged Monthly Gun Deaths Variable"
      ],
      "metadata": {
        "id": "aQyUkvgkEFKj"
      }
    },
    {
      "cell_type": "code",
      "execution_count": 12,
      "metadata": {
        "id": "sciwoNXvOtNb"
      },
      "outputs": [],
      "source": [
        "deaths['prior_monthly_deaths'] = deaths.groupby(['state'])['monthly_gun_deaths'].shift(1)"
      ]
    },
    {
      "cell_type": "markdown",
      "source": [
        "### One-Hot Encoding State Values"
      ],
      "metadata": {
        "id": "fFZXDXw6EBHF"
      }
    },
    {
      "cell_type": "code",
      "execution_count": 13,
      "metadata": {
        "colab": {
          "base_uri": "https://localhost:8080/",
          "height": 370
        },
        "id": "WqAY2VKf6aHB",
        "outputId": "ed5c9ea3-a9f2-4ce4-ca27-e468317a3bf3"
      },
      "outputs": [
        {
          "output_type": "stream",
          "name": "stderr",
          "text": [
            "/usr/local/lib/python3.10/dist-packages/sklearn/preprocessing/_encoders.py:868: FutureWarning: `sparse` was renamed to `sparse_output` in version 1.2 and will be removed in 1.4. `sparse_output` is ignored unless you leave `sparse` to its default value.\n",
            "  warnings.warn(\n"
          ]
        },
        {
          "output_type": "execute_result",
          "data": {
            "text/plain": [
              "  Alabama Alaska Arizona Arkansas California Colorado Connecticut Delaware  \\\n",
              "0     1.0    0.0     0.0      0.0        0.0      0.0         0.0      0.0   \n",
              "1     0.0    1.0     0.0      0.0        0.0      0.0         0.0      0.0   \n",
              "2     0.0    0.0     1.0      0.0        0.0      0.0         0.0      0.0   \n",
              "3     0.0    0.0     0.0      1.0        0.0      0.0         0.0      0.0   \n",
              "4     0.0    0.0     0.0      0.0        1.0      0.0         0.0      0.0   \n",
              "\n",
              "  District of Columbia Florida  ... South Dakota Tennessee Texas Utah Vermont  \\\n",
              "0                  0.0     0.0  ...          0.0       0.0   0.0  0.0     0.0   \n",
              "1                  0.0     0.0  ...          0.0       0.0   0.0  0.0     0.0   \n",
              "2                  0.0     0.0  ...          0.0       0.0   0.0  0.0     0.0   \n",
              "3                  0.0     0.0  ...          0.0       0.0   0.0  0.0     0.0   \n",
              "4                  0.0     0.0  ...          0.0       0.0   0.0  0.0     0.0   \n",
              "\n",
              "  Virginia Washington West Virginia Wisconsin Wyoming  \n",
              "0      0.0        0.0           0.0       0.0     0.0  \n",
              "1      0.0        0.0           0.0       0.0     0.0  \n",
              "2      0.0        0.0           0.0       0.0     0.0  \n",
              "3      0.0        0.0           0.0       0.0     0.0  \n",
              "4      0.0        0.0           0.0       0.0     0.0  \n",
              "\n",
              "[5 rows x 51 columns]"
            ],
            "text/html": [
              "\n",
              "  <div id=\"df-576b3c0f-c659-4fef-9e11-aec19f34b861\">\n",
              "    <div class=\"colab-df-container\">\n",
              "      <div>\n",
              "<style scoped>\n",
              "    .dataframe tbody tr th:only-of-type {\n",
              "        vertical-align: middle;\n",
              "    }\n",
              "\n",
              "    .dataframe tbody tr th {\n",
              "        vertical-align: top;\n",
              "    }\n",
              "\n",
              "    .dataframe thead tr th {\n",
              "        text-align: left;\n",
              "    }\n",
              "</style>\n",
              "<table border=\"1\" class=\"dataframe\">\n",
              "  <thead>\n",
              "    <tr>\n",
              "      <th></th>\n",
              "      <th>Alabama</th>\n",
              "      <th>Alaska</th>\n",
              "      <th>Arizona</th>\n",
              "      <th>Arkansas</th>\n",
              "      <th>California</th>\n",
              "      <th>Colorado</th>\n",
              "      <th>Connecticut</th>\n",
              "      <th>Delaware</th>\n",
              "      <th>District of Columbia</th>\n",
              "      <th>Florida</th>\n",
              "      <th>...</th>\n",
              "      <th>South Dakota</th>\n",
              "      <th>Tennessee</th>\n",
              "      <th>Texas</th>\n",
              "      <th>Utah</th>\n",
              "      <th>Vermont</th>\n",
              "      <th>Virginia</th>\n",
              "      <th>Washington</th>\n",
              "      <th>West Virginia</th>\n",
              "      <th>Wisconsin</th>\n",
              "      <th>Wyoming</th>\n",
              "    </tr>\n",
              "  </thead>\n",
              "  <tbody>\n",
              "    <tr>\n",
              "      <th>0</th>\n",
              "      <td>1.0</td>\n",
              "      <td>0.0</td>\n",
              "      <td>0.0</td>\n",
              "      <td>0.0</td>\n",
              "      <td>0.0</td>\n",
              "      <td>0.0</td>\n",
              "      <td>0.0</td>\n",
              "      <td>0.0</td>\n",
              "      <td>0.0</td>\n",
              "      <td>0.0</td>\n",
              "      <td>...</td>\n",
              "      <td>0.0</td>\n",
              "      <td>0.0</td>\n",
              "      <td>0.0</td>\n",
              "      <td>0.0</td>\n",
              "      <td>0.0</td>\n",
              "      <td>0.0</td>\n",
              "      <td>0.0</td>\n",
              "      <td>0.0</td>\n",
              "      <td>0.0</td>\n",
              "      <td>0.0</td>\n",
              "    </tr>\n",
              "    <tr>\n",
              "      <th>1</th>\n",
              "      <td>0.0</td>\n",
              "      <td>1.0</td>\n",
              "      <td>0.0</td>\n",
              "      <td>0.0</td>\n",
              "      <td>0.0</td>\n",
              "      <td>0.0</td>\n",
              "      <td>0.0</td>\n",
              "      <td>0.0</td>\n",
              "      <td>0.0</td>\n",
              "      <td>0.0</td>\n",
              "      <td>...</td>\n",
              "      <td>0.0</td>\n",
              "      <td>0.0</td>\n",
              "      <td>0.0</td>\n",
              "      <td>0.0</td>\n",
              "      <td>0.0</td>\n",
              "      <td>0.0</td>\n",
              "      <td>0.0</td>\n",
              "      <td>0.0</td>\n",
              "      <td>0.0</td>\n",
              "      <td>0.0</td>\n",
              "    </tr>\n",
              "    <tr>\n",
              "      <th>2</th>\n",
              "      <td>0.0</td>\n",
              "      <td>0.0</td>\n",
              "      <td>1.0</td>\n",
              "      <td>0.0</td>\n",
              "      <td>0.0</td>\n",
              "      <td>0.0</td>\n",
              "      <td>0.0</td>\n",
              "      <td>0.0</td>\n",
              "      <td>0.0</td>\n",
              "      <td>0.0</td>\n",
              "      <td>...</td>\n",
              "      <td>0.0</td>\n",
              "      <td>0.0</td>\n",
              "      <td>0.0</td>\n",
              "      <td>0.0</td>\n",
              "      <td>0.0</td>\n",
              "      <td>0.0</td>\n",
              "      <td>0.0</td>\n",
              "      <td>0.0</td>\n",
              "      <td>0.0</td>\n",
              "      <td>0.0</td>\n",
              "    </tr>\n",
              "    <tr>\n",
              "      <th>3</th>\n",
              "      <td>0.0</td>\n",
              "      <td>0.0</td>\n",
              "      <td>0.0</td>\n",
              "      <td>1.0</td>\n",
              "      <td>0.0</td>\n",
              "      <td>0.0</td>\n",
              "      <td>0.0</td>\n",
              "      <td>0.0</td>\n",
              "      <td>0.0</td>\n",
              "      <td>0.0</td>\n",
              "      <td>...</td>\n",
              "      <td>0.0</td>\n",
              "      <td>0.0</td>\n",
              "      <td>0.0</td>\n",
              "      <td>0.0</td>\n",
              "      <td>0.0</td>\n",
              "      <td>0.0</td>\n",
              "      <td>0.0</td>\n",
              "      <td>0.0</td>\n",
              "      <td>0.0</td>\n",
              "      <td>0.0</td>\n",
              "    </tr>\n",
              "    <tr>\n",
              "      <th>4</th>\n",
              "      <td>0.0</td>\n",
              "      <td>0.0</td>\n",
              "      <td>0.0</td>\n",
              "      <td>0.0</td>\n",
              "      <td>1.0</td>\n",
              "      <td>0.0</td>\n",
              "      <td>0.0</td>\n",
              "      <td>0.0</td>\n",
              "      <td>0.0</td>\n",
              "      <td>0.0</td>\n",
              "      <td>...</td>\n",
              "      <td>0.0</td>\n",
              "      <td>0.0</td>\n",
              "      <td>0.0</td>\n",
              "      <td>0.0</td>\n",
              "      <td>0.0</td>\n",
              "      <td>0.0</td>\n",
              "      <td>0.0</td>\n",
              "      <td>0.0</td>\n",
              "      <td>0.0</td>\n",
              "      <td>0.0</td>\n",
              "    </tr>\n",
              "  </tbody>\n",
              "</table>\n",
              "<p>5 rows × 51 columns</p>\n",
              "</div>\n",
              "      <button class=\"colab-df-convert\" onclick=\"convertToInteractive('df-576b3c0f-c659-4fef-9e11-aec19f34b861')\"\n",
              "              title=\"Convert this dataframe to an interactive table.\"\n",
              "              style=\"display:none;\">\n",
              "        \n",
              "  <svg xmlns=\"http://www.w3.org/2000/svg\" height=\"24px\"viewBox=\"0 0 24 24\"\n",
              "       width=\"24px\">\n",
              "    <path d=\"M0 0h24v24H0V0z\" fill=\"none\"/>\n",
              "    <path d=\"M18.56 5.44l.94 2.06.94-2.06 2.06-.94-2.06-.94-.94-2.06-.94 2.06-2.06.94zm-11 1L8.5 8.5l.94-2.06 2.06-.94-2.06-.94L8.5 2.5l-.94 2.06-2.06.94zm10 10l.94 2.06.94-2.06 2.06-.94-2.06-.94-.94-2.06-.94 2.06-2.06.94z\"/><path d=\"M17.41 7.96l-1.37-1.37c-.4-.4-.92-.59-1.43-.59-.52 0-1.04.2-1.43.59L10.3 9.45l-7.72 7.72c-.78.78-.78 2.05 0 2.83L4 21.41c.39.39.9.59 1.41.59.51 0 1.02-.2 1.41-.59l7.78-7.78 2.81-2.81c.8-.78.8-2.07 0-2.86zM5.41 20L4 18.59l7.72-7.72 1.47 1.35L5.41 20z\"/>\n",
              "  </svg>\n",
              "      </button>\n",
              "      \n",
              "  <style>\n",
              "    .colab-df-container {\n",
              "      display:flex;\n",
              "      flex-wrap:wrap;\n",
              "      gap: 12px;\n",
              "    }\n",
              "\n",
              "    .colab-df-convert {\n",
              "      background-color: #E8F0FE;\n",
              "      border: none;\n",
              "      border-radius: 50%;\n",
              "      cursor: pointer;\n",
              "      display: none;\n",
              "      fill: #1967D2;\n",
              "      height: 32px;\n",
              "      padding: 0 0 0 0;\n",
              "      width: 32px;\n",
              "    }\n",
              "\n",
              "    .colab-df-convert:hover {\n",
              "      background-color: #E2EBFA;\n",
              "      box-shadow: 0px 1px 2px rgba(60, 64, 67, 0.3), 0px 1px 3px 1px rgba(60, 64, 67, 0.15);\n",
              "      fill: #174EA6;\n",
              "    }\n",
              "\n",
              "    [theme=dark] .colab-df-convert {\n",
              "      background-color: #3B4455;\n",
              "      fill: #D2E3FC;\n",
              "    }\n",
              "\n",
              "    [theme=dark] .colab-df-convert:hover {\n",
              "      background-color: #434B5C;\n",
              "      box-shadow: 0px 1px 3px 1px rgba(0, 0, 0, 0.15);\n",
              "      filter: drop-shadow(0px 1px 2px rgba(0, 0, 0, 0.3));\n",
              "      fill: #FFFFFF;\n",
              "    }\n",
              "  </style>\n",
              "\n",
              "      <script>\n",
              "        const buttonEl =\n",
              "          document.querySelector('#df-576b3c0f-c659-4fef-9e11-aec19f34b861 button.colab-df-convert');\n",
              "        buttonEl.style.display =\n",
              "          google.colab.kernel.accessAllowed ? 'block' : 'none';\n",
              "\n",
              "        async function convertToInteractive(key) {\n",
              "          const element = document.querySelector('#df-576b3c0f-c659-4fef-9e11-aec19f34b861');\n",
              "          const dataTable =\n",
              "            await google.colab.kernel.invokeFunction('convertToInteractive',\n",
              "                                                     [key], {});\n",
              "          if (!dataTable) return;\n",
              "\n",
              "          const docLinkHtml = 'Like what you see? Visit the ' +\n",
              "            '<a target=\"_blank\" href=https://colab.research.google.com/notebooks/data_table.ipynb>data table notebook</a>'\n",
              "            + ' to learn more about interactive tables.';\n",
              "          element.innerHTML = '';\n",
              "          dataTable['output_type'] = 'display_data';\n",
              "          await google.colab.output.renderOutput(dataTable, element);\n",
              "          const docLink = document.createElement('div');\n",
              "          docLink.innerHTML = docLinkHtml;\n",
              "          element.appendChild(docLink);\n",
              "        }\n",
              "      </script>\n",
              "    </div>\n",
              "  </div>\n",
              "  "
            ]
          },
          "metadata": {},
          "execution_count": 13
        }
      ],
      "source": [
        "one_hot_encoder = OneHotEncoder(sparse=False)\n",
        "one_hot_encoder.fit(pd.DataFrame(data=deaths['state'].unique(), columns=['state']))\n",
        "\n",
        "states_encoded = one_hot_encoder.transform(pd.DataFrame(data=deaths['state'].unique(), columns=['state']))\n",
        "states_encoded = pd.DataFrame(data=states_encoded, columns=one_hot_encoder.categories_)\n",
        "\n",
        "states_encoded.head()"
      ]
    },
    {
      "cell_type": "code",
      "execution_count": 14,
      "metadata": {
        "id": "eadGS3l38GH_"
      },
      "outputs": [],
      "source": [
        "deaths['state_encoded'] = [states_encoded[state].T.values.tolist()[0] for state in deaths['state']]"
      ]
    },
    {
      "cell_type": "markdown",
      "source": [
        "### Aggregating All Gun Laws Into List Per State\n",
        "The list contains all of the active gun laws for the period of time."
      ],
      "metadata": {
        "id": "Hmy8MPMTFPG2"
      }
    },
    {
      "cell_type": "code",
      "execution_count": 15,
      "metadata": {
        "id": "Q1CKZBbLor9Q"
      },
      "outputs": [],
      "source": [
        "active_gun_laws = []\n",
        "for _, row in deaths.iterrows():\n",
        "  this_state_laws = laws[laws.State == row.state]\n",
        "  all_active_laws = laws[(row.period >= laws['Effective.Date']) & (row.period < laws['Supersession.Date'])]\n",
        "  active_gun_laws.append(all_active_laws.Content.to_list())"
      ]
    },
    {
      "cell_type": "code",
      "execution_count": 16,
      "metadata": {
        "id": "y2xs_9YdrB_A"
      },
      "outputs": [],
      "source": [
        "deaths['active_gun_laws'] = active_gun_laws"
      ]
    },
    {
      "cell_type": "markdown",
      "source": [
        "### Train-Test-Validation Split"
      ],
      "metadata": {
        "id": "vmWQXvusFtTp"
      }
    },
    {
      "cell_type": "code",
      "source": [
        "deaths"
      ],
      "metadata": {
        "colab": {
          "base_uri": "https://localhost:8080/",
          "height": 424
        },
        "id": "cvmqq5CiJcoL",
        "outputId": "858b058a-7277-429a-f536-d062b4a20155"
      },
      "execution_count": 34,
      "outputs": [
        {
          "output_type": "execute_result",
          "data": {
            "text/plain": [
              "       Unnamed: 0    state  year     period  monthly_gun_deaths  \\\n",
              "1               1  Alabama  2021 2021-02-01               104.0   \n",
              "2               2  Alabama  2021 2021-03-01               103.0   \n",
              "3               3  Alabama  2021 2021-04-01               102.0   \n",
              "4               4  Alabama  2021 2021-05-01               108.0   \n",
              "5               5  Alabama  2021 2021-06-01               128.0   \n",
              "...           ...      ...   ...        ...                 ...   \n",
              "14071       14071  Wyoming  2020 2020-08-01                17.0   \n",
              "14072       14072  Wyoming  2020 2020-09-01                13.0   \n",
              "14073       14073  Wyoming  2020 2020-10-01                 8.0   \n",
              "14074       14074  Wyoming  2020 2020-11-01                 8.0   \n",
              "14075       14075  Wyoming  2020 2020-12-01                12.0   \n",
              "\n",
              "       prior_monthly_deaths  \\\n",
              "1                     122.0   \n",
              "2                     104.0   \n",
              "3                     103.0   \n",
              "4                     102.0   \n",
              "5                     108.0   \n",
              "...                     ...   \n",
              "14071                  22.0   \n",
              "14072                  17.0   \n",
              "14073                  13.0   \n",
              "14074                   8.0   \n",
              "14075                   8.0   \n",
              "\n",
              "                                           state_encoded  \\\n",
              "1      [1.0, 0.0, 0.0, 0.0, 0.0, 0.0, 0.0, 0.0, 0.0, ...   \n",
              "2      [1.0, 0.0, 0.0, 0.0, 0.0, 0.0, 0.0, 0.0, 0.0, ...   \n",
              "3      [1.0, 0.0, 0.0, 0.0, 0.0, 0.0, 0.0, 0.0, 0.0, ...   \n",
              "4      [1.0, 0.0, 0.0, 0.0, 0.0, 0.0, 0.0, 0.0, 0.0, ...   \n",
              "5      [1.0, 0.0, 0.0, 0.0, 0.0, 0.0, 0.0, 0.0, 0.0, ...   \n",
              "...                                                  ...   \n",
              "14071  [0.0, 0.0, 0.0, 0.0, 0.0, 0.0, 0.0, 0.0, 0.0, ...   \n",
              "14072  [0.0, 0.0, 0.0, 0.0, 0.0, 0.0, 0.0, 0.0, 0.0, ...   \n",
              "14073  [0.0, 0.0, 0.0, 0.0, 0.0, 0.0, 0.0, 0.0, 0.0, ...   \n",
              "14074  [0.0, 0.0, 0.0, 0.0, 0.0, 0.0, 0.0, 0.0, 0.0, ...   \n",
              "14075  [0.0, 0.0, 0.0, 0.0, 0.0, 0.0, 0.0, 0.0, 0.0, ...   \n",
              "\n",
              "                                         active_gun_laws  \n",
              "1      [§ 11.61.220(a) A person commits the crime of ...  \n",
              "2      [§ 11.61.220(a) A person commits the crime of ...  \n",
              "3      [§ 11.61.220(a) A person commits the crime of ...  \n",
              "4      [§ 11.61.220(a) A person commits the crime of ...  \n",
              "5      [§ 11.61.220(a) A person commits the crime of ...  \n",
              "...                                                  ...  \n",
              "14071  [§ 11.61.220(a) A person commits the crime of ...  \n",
              "14072  [§ 11.61.220(a) A person commits the crime of ...  \n",
              "14073  [§ 11.61.220(a) A person commits the crime of ...  \n",
              "14074  [§ 11.61.220(a) A person commits the crime of ...  \n",
              "14075  [§ 11.61.220(a) A person commits the crime of ...  \n",
              "\n",
              "[13319 rows x 8 columns]"
            ],
            "text/html": [
              "\n",
              "  <div id=\"df-58c898ec-7e91-4dc8-b219-f4da281ff60f\">\n",
              "    <div class=\"colab-df-container\">\n",
              "      <div>\n",
              "<style scoped>\n",
              "    .dataframe tbody tr th:only-of-type {\n",
              "        vertical-align: middle;\n",
              "    }\n",
              "\n",
              "    .dataframe tbody tr th {\n",
              "        vertical-align: top;\n",
              "    }\n",
              "\n",
              "    .dataframe thead th {\n",
              "        text-align: right;\n",
              "    }\n",
              "</style>\n",
              "<table border=\"1\" class=\"dataframe\">\n",
              "  <thead>\n",
              "    <tr style=\"text-align: right;\">\n",
              "      <th></th>\n",
              "      <th>Unnamed: 0</th>\n",
              "      <th>state</th>\n",
              "      <th>year</th>\n",
              "      <th>period</th>\n",
              "      <th>monthly_gun_deaths</th>\n",
              "      <th>prior_monthly_deaths</th>\n",
              "      <th>state_encoded</th>\n",
              "      <th>active_gun_laws</th>\n",
              "    </tr>\n",
              "  </thead>\n",
              "  <tbody>\n",
              "    <tr>\n",
              "      <th>1</th>\n",
              "      <td>1</td>\n",
              "      <td>Alabama</td>\n",
              "      <td>2021</td>\n",
              "      <td>2021-02-01</td>\n",
              "      <td>104.0</td>\n",
              "      <td>122.0</td>\n",
              "      <td>[1.0, 0.0, 0.0, 0.0, 0.0, 0.0, 0.0, 0.0, 0.0, ...</td>\n",
              "      <td>[§ 11.61.220(a) A person commits the crime of ...</td>\n",
              "    </tr>\n",
              "    <tr>\n",
              "      <th>2</th>\n",
              "      <td>2</td>\n",
              "      <td>Alabama</td>\n",
              "      <td>2021</td>\n",
              "      <td>2021-03-01</td>\n",
              "      <td>103.0</td>\n",
              "      <td>104.0</td>\n",
              "      <td>[1.0, 0.0, 0.0, 0.0, 0.0, 0.0, 0.0, 0.0, 0.0, ...</td>\n",
              "      <td>[§ 11.61.220(a) A person commits the crime of ...</td>\n",
              "    </tr>\n",
              "    <tr>\n",
              "      <th>3</th>\n",
              "      <td>3</td>\n",
              "      <td>Alabama</td>\n",
              "      <td>2021</td>\n",
              "      <td>2021-04-01</td>\n",
              "      <td>102.0</td>\n",
              "      <td>103.0</td>\n",
              "      <td>[1.0, 0.0, 0.0, 0.0, 0.0, 0.0, 0.0, 0.0, 0.0, ...</td>\n",
              "      <td>[§ 11.61.220(a) A person commits the crime of ...</td>\n",
              "    </tr>\n",
              "    <tr>\n",
              "      <th>4</th>\n",
              "      <td>4</td>\n",
              "      <td>Alabama</td>\n",
              "      <td>2021</td>\n",
              "      <td>2021-05-01</td>\n",
              "      <td>108.0</td>\n",
              "      <td>102.0</td>\n",
              "      <td>[1.0, 0.0, 0.0, 0.0, 0.0, 0.0, 0.0, 0.0, 0.0, ...</td>\n",
              "      <td>[§ 11.61.220(a) A person commits the crime of ...</td>\n",
              "    </tr>\n",
              "    <tr>\n",
              "      <th>5</th>\n",
              "      <td>5</td>\n",
              "      <td>Alabama</td>\n",
              "      <td>2021</td>\n",
              "      <td>2021-06-01</td>\n",
              "      <td>128.0</td>\n",
              "      <td>108.0</td>\n",
              "      <td>[1.0, 0.0, 0.0, 0.0, 0.0, 0.0, 0.0, 0.0, 0.0, ...</td>\n",
              "      <td>[§ 11.61.220(a) A person commits the crime of ...</td>\n",
              "    </tr>\n",
              "    <tr>\n",
              "      <th>...</th>\n",
              "      <td>...</td>\n",
              "      <td>...</td>\n",
              "      <td>...</td>\n",
              "      <td>...</td>\n",
              "      <td>...</td>\n",
              "      <td>...</td>\n",
              "      <td>...</td>\n",
              "      <td>...</td>\n",
              "    </tr>\n",
              "    <tr>\n",
              "      <th>14071</th>\n",
              "      <td>14071</td>\n",
              "      <td>Wyoming</td>\n",
              "      <td>2020</td>\n",
              "      <td>2020-08-01</td>\n",
              "      <td>17.0</td>\n",
              "      <td>22.0</td>\n",
              "      <td>[0.0, 0.0, 0.0, 0.0, 0.0, 0.0, 0.0, 0.0, 0.0, ...</td>\n",
              "      <td>[§ 11.61.220(a) A person commits the crime of ...</td>\n",
              "    </tr>\n",
              "    <tr>\n",
              "      <th>14072</th>\n",
              "      <td>14072</td>\n",
              "      <td>Wyoming</td>\n",
              "      <td>2020</td>\n",
              "      <td>2020-09-01</td>\n",
              "      <td>13.0</td>\n",
              "      <td>17.0</td>\n",
              "      <td>[0.0, 0.0, 0.0, 0.0, 0.0, 0.0, 0.0, 0.0, 0.0, ...</td>\n",
              "      <td>[§ 11.61.220(a) A person commits the crime of ...</td>\n",
              "    </tr>\n",
              "    <tr>\n",
              "      <th>14073</th>\n",
              "      <td>14073</td>\n",
              "      <td>Wyoming</td>\n",
              "      <td>2020</td>\n",
              "      <td>2020-10-01</td>\n",
              "      <td>8.0</td>\n",
              "      <td>13.0</td>\n",
              "      <td>[0.0, 0.0, 0.0, 0.0, 0.0, 0.0, 0.0, 0.0, 0.0, ...</td>\n",
              "      <td>[§ 11.61.220(a) A person commits the crime of ...</td>\n",
              "    </tr>\n",
              "    <tr>\n",
              "      <th>14074</th>\n",
              "      <td>14074</td>\n",
              "      <td>Wyoming</td>\n",
              "      <td>2020</td>\n",
              "      <td>2020-11-01</td>\n",
              "      <td>8.0</td>\n",
              "      <td>8.0</td>\n",
              "      <td>[0.0, 0.0, 0.0, 0.0, 0.0, 0.0, 0.0, 0.0, 0.0, ...</td>\n",
              "      <td>[§ 11.61.220(a) A person commits the crime of ...</td>\n",
              "    </tr>\n",
              "    <tr>\n",
              "      <th>14075</th>\n",
              "      <td>14075</td>\n",
              "      <td>Wyoming</td>\n",
              "      <td>2020</td>\n",
              "      <td>2020-12-01</td>\n",
              "      <td>12.0</td>\n",
              "      <td>8.0</td>\n",
              "      <td>[0.0, 0.0, 0.0, 0.0, 0.0, 0.0, 0.0, 0.0, 0.0, ...</td>\n",
              "      <td>[§ 11.61.220(a) A person commits the crime of ...</td>\n",
              "    </tr>\n",
              "  </tbody>\n",
              "</table>\n",
              "<p>13319 rows × 8 columns</p>\n",
              "</div>\n",
              "      <button class=\"colab-df-convert\" onclick=\"convertToInteractive('df-58c898ec-7e91-4dc8-b219-f4da281ff60f')\"\n",
              "              title=\"Convert this dataframe to an interactive table.\"\n",
              "              style=\"display:none;\">\n",
              "        \n",
              "  <svg xmlns=\"http://www.w3.org/2000/svg\" height=\"24px\"viewBox=\"0 0 24 24\"\n",
              "       width=\"24px\">\n",
              "    <path d=\"M0 0h24v24H0V0z\" fill=\"none\"/>\n",
              "    <path d=\"M18.56 5.44l.94 2.06.94-2.06 2.06-.94-2.06-.94-.94-2.06-.94 2.06-2.06.94zm-11 1L8.5 8.5l.94-2.06 2.06-.94-2.06-.94L8.5 2.5l-.94 2.06-2.06.94zm10 10l.94 2.06.94-2.06 2.06-.94-2.06-.94-.94-2.06-.94 2.06-2.06.94z\"/><path d=\"M17.41 7.96l-1.37-1.37c-.4-.4-.92-.59-1.43-.59-.52 0-1.04.2-1.43.59L10.3 9.45l-7.72 7.72c-.78.78-.78 2.05 0 2.83L4 21.41c.39.39.9.59 1.41.59.51 0 1.02-.2 1.41-.59l7.78-7.78 2.81-2.81c.8-.78.8-2.07 0-2.86zM5.41 20L4 18.59l7.72-7.72 1.47 1.35L5.41 20z\"/>\n",
              "  </svg>\n",
              "      </button>\n",
              "      \n",
              "  <style>\n",
              "    .colab-df-container {\n",
              "      display:flex;\n",
              "      flex-wrap:wrap;\n",
              "      gap: 12px;\n",
              "    }\n",
              "\n",
              "    .colab-df-convert {\n",
              "      background-color: #E8F0FE;\n",
              "      border: none;\n",
              "      border-radius: 50%;\n",
              "      cursor: pointer;\n",
              "      display: none;\n",
              "      fill: #1967D2;\n",
              "      height: 32px;\n",
              "      padding: 0 0 0 0;\n",
              "      width: 32px;\n",
              "    }\n",
              "\n",
              "    .colab-df-convert:hover {\n",
              "      background-color: #E2EBFA;\n",
              "      box-shadow: 0px 1px 2px rgba(60, 64, 67, 0.3), 0px 1px 3px 1px rgba(60, 64, 67, 0.15);\n",
              "      fill: #174EA6;\n",
              "    }\n",
              "\n",
              "    [theme=dark] .colab-df-convert {\n",
              "      background-color: #3B4455;\n",
              "      fill: #D2E3FC;\n",
              "    }\n",
              "\n",
              "    [theme=dark] .colab-df-convert:hover {\n",
              "      background-color: #434B5C;\n",
              "      box-shadow: 0px 1px 3px 1px rgba(0, 0, 0, 0.15);\n",
              "      filter: drop-shadow(0px 1px 2px rgba(0, 0, 0, 0.3));\n",
              "      fill: #FFFFFF;\n",
              "    }\n",
              "  </style>\n",
              "\n",
              "      <script>\n",
              "        const buttonEl =\n",
              "          document.querySelector('#df-58c898ec-7e91-4dc8-b219-f4da281ff60f button.colab-df-convert');\n",
              "        buttonEl.style.display =\n",
              "          google.colab.kernel.accessAllowed ? 'block' : 'none';\n",
              "\n",
              "        async function convertToInteractive(key) {\n",
              "          const element = document.querySelector('#df-58c898ec-7e91-4dc8-b219-f4da281ff60f');\n",
              "          const dataTable =\n",
              "            await google.colab.kernel.invokeFunction('convertToInteractive',\n",
              "                                                     [key], {});\n",
              "          if (!dataTable) return;\n",
              "\n",
              "          const docLinkHtml = 'Like what you see? Visit the ' +\n",
              "            '<a target=\"_blank\" href=https://colab.research.google.com/notebooks/data_table.ipynb>data table notebook</a>'\n",
              "            + ' to learn more about interactive tables.';\n",
              "          element.innerHTML = '';\n",
              "          dataTable['output_type'] = 'display_data';\n",
              "          await google.colab.output.renderOutput(dataTable, element);\n",
              "          const docLink = document.createElement('div');\n",
              "          docLink.innerHTML = docLinkHtml;\n",
              "          element.appendChild(docLink);\n",
              "        }\n",
              "      </script>\n",
              "    </div>\n",
              "  </div>\n",
              "  "
            ]
          },
          "metadata": {},
          "execution_count": 34
        }
      ]
    },
    {
      "cell_type": "code",
      "execution_count": 17,
      "metadata": {
        "id": "ICYfdsWIvMk2"
      },
      "outputs": [],
      "source": [
        "deaths = deaths[deaths['prior_monthly_deaths'].notnull()]\n",
        "y = deaths['monthly_gun_deaths']\n",
        "X = deaths.drop(['monthly_gun_deaths', 'Unnamed: 0', 'year', 'period'], axis=1)\n",
        "X_train, X_test, y_train, y_test = train_test_split(X, y, test_size=0.2)\n",
        "X_test, X_validate, y_test, y_validate = train_test_split(X_test, y_test, test_size = 0.5)"
      ]
    },
    {
      "cell_type": "code",
      "execution_count": 18,
      "metadata": {
        "id": "qXGCr_DVzPTv"
      },
      "outputs": [],
      "source": [
        "features_train = {\n",
        "    'state': np.matrix([np.array(x) for x in X_train['state_encoded'].values]),\n",
        "    'prior_monthly_gun_deaths': X_train['prior_monthly_deaths'].values.astype(np.int32)}\n",
        "labels_train = y_train.values.astype(np.int32)\n",
        "\n",
        "features_validate = {\n",
        "    'state': np.matrix([np.array(x) for x in X_validate['state_encoded'].values]),\n",
        "    'prior_monthly_gun_deaths': X_validate['prior_monthly_deaths'].values.astype(np.int32)}\n",
        "labels_validate = y_validate.values.astype(np.int32)\n",
        "\n",
        "features_test = {\n",
        "    'state': np.matrix([np.array(x) for x in X_test['state_encoded'].values]),\n",
        "    'prior_monthly_gun_deaths': X_test['prior_monthly_deaths'].values.astype(np.int32)}\n",
        "labels_test = y_test.values.astype(np.int32)"
      ]
    },
    {
      "cell_type": "markdown",
      "source": [
        "### Defining Variables"
      ],
      "metadata": {
        "id": "nl57OEf_G8j5"
      }
    },
    {
      "cell_type": "code",
      "execution_count": 19,
      "metadata": {
        "id": "3tagaFjsy-hP"
      },
      "outputs": [],
      "source": [
        "max_deaths = max(features_train['prior_monthly_gun_deaths']) + 1\n",
        "state_names = deaths['state'].unique()\n",
        "num_states = len(state_names) + 1"
      ]
    },
    {
      "cell_type": "markdown",
      "source": [
        "## Creating the Model\n",
        "Based on the code from: https://www.tensorflow.org/probability/examples/Linear_Mixed_Effects_Models"
      ],
      "metadata": {
        "id": "LBXUTAcvHCrC"
      }
    },
    {
      "cell_type": "code",
      "execution_count": 20,
      "metadata": {
        "id": "B_006KTTFon-"
      },
      "outputs": [],
      "source": [
        "class LinearMixedEffectModel(tf.Module):\n",
        "  def __init__(self):\n",
        "    # Set up fixed effects and other parameters.\n",
        "    # These are free parameters to be optimized in E-steps\n",
        "    self._intercept = tf.Variable(0., name=\"intercept\")\n",
        "    # self._effect_state = [tf.Variable(0., name=f\"effect_{state}\") for state in state_names]\n",
        "    self._stddev_deaths_t = tfp.util.TransformedVariable(\n",
        "        1., bijector=tfb.Exp(), name=\"stddev_deaths_t\")\n",
        "\n",
        "  def __call__(self, features):\n",
        "    model = tfd.JointDistributionSequential([\n",
        "      # Set up random effects.\n",
        "      tfd.MultivariateNormalDiag(\n",
        "          loc=tf.zeros(max_deaths),\n",
        "          scale_diag=self._stddev_deaths_t * tf.ones(max_deaths)),\n",
        "      # This is the likelihood for the observed.\n",
        "      lambda effect_deaths_t: tfd.Independent(\n",
        "          tfd.Normal(\n",
        "              loc=(#np.dot(self._effect_state, np.transpose(features[\"state\"])) +\n",
        "                  tf.gather(effect_deaths_t, features[\"prior_monthly_gun_deaths\"], axis=-1) +\n",
        "                  self._intercept),\n",
        "              scale=1.),\n",
        "              reinterpreted_batch_ndims=1)\n",
        "    ])\n",
        "\n",
        "    model._to_track = self\n",
        "    return model\n",
        "\n",
        "lmm_jointdist = LinearMixedEffectModel()\n",
        "lmm_train = lmm_jointdist(features_train)"
      ]
    },
    {
      "cell_type": "code",
      "execution_count": 21,
      "metadata": {
        "colab": {
          "base_uri": "https://localhost:8080/"
        },
        "id": "_JBXO0Pj2LZI",
        "outputId": "7cb73732-a830-4ecd-f6c7-dd173e73dffc"
      },
      "outputs": [
        {
          "output_type": "execute_result",
          "data": {
            "text/plain": [
              "(<tf.Variable 'intercept:0' shape=() dtype=float32, numpy=0.0>,\n",
              " <tf.Variable 'stddev_deaths_t:0' shape=() dtype=float32, numpy=0.0>)"
            ]
          },
          "metadata": {},
          "execution_count": 21
        }
      ],
      "source": [
        "lmm_train.trainable_variables"
      ]
    },
    {
      "cell_type": "code",
      "execution_count": 22,
      "metadata": {
        "colab": {
          "base_uri": "https://localhost:8080/"
        },
        "id": "bDFqYSIcTwNs",
        "outputId": "1da9c308-4ab6-4074-84c4-426ef3906dbd"
      },
      "outputs": [
        {
          "output_type": "execute_result",
          "data": {
            "text/plain": [
              "(('effect_deaths_t', ()), ('x', ('effect_deaths_t',)))"
            ]
          },
          "metadata": {},
          "execution_count": 22
        }
      ],
      "source": [
        "lmm_train.resolve_graph()"
      ]
    },
    {
      "cell_type": "markdown",
      "source": [
        "## Model Training"
      ],
      "metadata": {
        "id": "7wQjKDGQHHKT"
      }
    },
    {
      "cell_type": "code",
      "execution_count": 23,
      "metadata": {
        "id": "_AQuO0_6T8Ni"
      },
      "outputs": [],
      "source": [
        "target_log_prob_fn = lambda *x: lmm_train.log_prob(x + (labels_train,))\n",
        "trainable_variables = lmm_train.trainable_variables\n",
        "current_state = lmm_train.sample()[:-1]"
      ]
    },
    {
      "cell_type": "code",
      "execution_count": 24,
      "metadata": {
        "colab": {
          "base_uri": "https://localhost:8080/"
        },
        "id": "amhyn_V5m2_Y",
        "outputId": "e5f66de1-6a24-46a9-a3dc-11c0da51b3ca"
      },
      "outputs": [
        {
          "output_type": "execute_result",
          "data": {
            "text/plain": [
              "<tf.Tensor: shape=(), dtype=float32, numpy=-4.3811017e+19>"
            ]
          },
          "metadata": {},
          "execution_count": 24
        }
      ],
      "source": [
        "# For debugging\n",
        "target_log_prob_fn(*current_state)"
      ]
    },
    {
      "cell_type": "code",
      "execution_count": 25,
      "metadata": {
        "id": "45oZBfxHUJfl"
      },
      "outputs": [],
      "source": [
        "# Set up E-step (MCMC).\n",
        "hmc = tfp.mcmc.HamiltonianMonteCarlo(\n",
        "    target_log_prob_fn=target_log_prob_fn,\n",
        "    step_size=0.015,\n",
        "    num_leapfrog_steps=3)\n",
        "kernel_results = hmc.bootstrap_results(current_state)\n",
        "\n",
        "@tf.function(autograph=False, jit_compile=True)\n",
        "def one_e_step(current_state, kernel_results):\n",
        "  next_state, next_kernel_results = hmc.one_step(\n",
        "      current_state=current_state,\n",
        "      previous_kernel_results=kernel_results)\n",
        "  return next_state, next_kernel_results\n",
        "\n",
        "optimizer = tf.optimizers.Adam(learning_rate=.01)\n",
        "\n",
        "# Set up M-step (gradient descent).\n",
        "@tf.function(autograph=False, jit_compile=True)\n",
        "def one_m_step(current_state):\n",
        "  with tf.GradientTape() as tape:\n",
        "    loss = -target_log_prob_fn(*current_state)\n",
        "  grads = tape.gradient(loss, trainable_variables)\n",
        "  optimizer.apply_gradients(zip(grads, trainable_variables))\n",
        "  return loss"
      ]
    },
    {
      "cell_type": "code",
      "execution_count": 26,
      "metadata": {
        "id": "k4Blyeavn_gd"
      },
      "outputs": [],
      "source": [
        "num_warmup_iters = 1000\n",
        "num_iters = 1500\n",
        "num_accepted = 0\n",
        "effect_prior_deaths_samples = np.zeros([num_iters, max_deaths])\n",
        "loss_history = np.zeros([num_iters])"
      ]
    },
    {
      "cell_type": "code",
      "execution_count": 27,
      "metadata": {
        "colab": {
          "base_uri": "https://localhost:8080/"
        },
        "id": "VKW_EluCoGWT",
        "outputId": "5604e727-989e-4643-81ca-14eb3900802c"
      },
      "outputs": [
        {
          "output_type": "stream",
          "name": "stdout",
          "text": [
            "Warm-Up Iteration:   0 Acceptance Rate: 1.000\n",
            "Warm-Up Iteration: 500 Acceptance Rate: 0.070\n"
          ]
        },
        {
          "output_type": "stream",
          "name": "stderr",
          "text": [
            "WARNING:tensorflow:Gradients do not exist for variables ['stddev_deaths_t:0'] when minimizing the loss. If you're using `model.compile()`, did you forget to provide a `loss` argument?\n",
            "WARNING:tensorflow:Gradients do not exist for variables ['stddev_deaths_t:0'] when minimizing the loss. If you're using `model.compile()`, did you forget to provide a `loss` argument?\n"
          ]
        },
        {
          "output_type": "stream",
          "name": "stdout",
          "text": [
            "Warm-Up Iteration: 999 Acceptance Rate: 0.035\n"
          ]
        },
        {
          "output_type": "stream",
          "name": "stderr",
          "text": [
            "WARNING:tensorflow:Gradients do not exist for variables ['stddev_deaths_t:0'] when minimizing the loss. If you're using `model.compile()`, did you forget to provide a `loss` argument?\n",
            "WARNING:tensorflow:Gradients do not exist for variables ['stddev_deaths_t:0'] when minimizing the loss. If you're using `model.compile()`, did you forget to provide a `loss` argument?\n"
          ]
        },
        {
          "output_type": "stream",
          "name": "stdout",
          "text": [
            "Iteration:    0 Acceptance Rate: 0.000 Loss: 42815954753876393984.000\n",
            "Iteration:  500 Acceptance Rate: 0.000 Loss: 42815954753876393984.000\n",
            "Iteration: 1000 Acceptance Rate: 0.000 Loss: 42815954753876393984.000\n",
            "Iteration: 1499 Acceptance Rate: 0.000 Loss: 42815954753876393984.000\n"
          ]
        }
      ],
      "source": [
        "# Run warm-up stage.\n",
        "for t in range(num_warmup_iters):\n",
        "  current_state, kernel_results = one_e_step(current_state, kernel_results)\n",
        "  num_accepted += kernel_results.is_accepted.numpy()\n",
        "  if t % 500 == 0 or t == num_warmup_iters - 1:\n",
        "    print(\"Warm-Up Iteration: {:>3} Acceptance Rate: {:.3f}\".format(\n",
        "        t, num_accepted / (t + 1)))\n",
        "\n",
        "num_accepted = 0  # reset acceptance rate counter\n",
        "\n",
        "# Run training.\n",
        "for t in range(num_iters):\n",
        "  # run 5 MCMC iterations before every joint EM update\n",
        "  for _ in range(5):\n",
        "    current_state, kernel_results = one_e_step(current_state, kernel_results)\n",
        "  loss = one_m_step(current_state)\n",
        "  effect_prior_deaths_samples[t, :] = current_state[0].numpy()\n",
        "  num_accepted += kernel_results.is_accepted.numpy()\n",
        "  loss_history[t] = loss.numpy()\n",
        "  if t % 500 == 0 or t == num_iters - 1:\n",
        "    print(\"Iteration: {:>4} Acceptance Rate: {:.3f} Loss: {:.3f}\".format(\n",
        "        t, num_accepted / (t + 1), loss_history[t]))"
      ]
    },
    {
      "cell_type": "code",
      "execution_count": 28,
      "metadata": {
        "id": "EyP-KOR1oTng"
      },
      "outputs": [],
      "source": [
        "@tf.function(autograph=False, jit_compile=True)\n",
        "def run_k_e_steps(k, current_state, kernel_results):\n",
        "  _, next_state, next_kernel_results = tf.while_loop(\n",
        "      cond=lambda i, state, pkr: i < k,\n",
        "      body=lambda i, state, pkr: (i+1, *one_e_step(state, pkr)),\n",
        "      loop_vars=(tf.constant(0), current_state, kernel_results)\n",
        "  )\n",
        "  return next_state, next_kernel_results"
      ]
    },
    {
      "cell_type": "markdown",
      "source": [
        "## Plots"
      ],
      "metadata": {
        "id": "6o6qvPkxHNMM"
      }
    },
    {
      "cell_type": "code",
      "execution_count": 29,
      "metadata": {
        "colab": {
          "base_uri": "https://localhost:8080/",
          "height": 467
        },
        "id": "PU7WJTPBoaCI",
        "outputId": "b1f47ae4-9081-4500-8b43-ff454dd3d955"
      },
      "outputs": [
        {
          "output_type": "display_data",
          "data": {
            "text/plain": [
              "<Figure size 640x480 with 1 Axes>"
            ],
            "image/png": "[encoded data removed]"
          },
          "metadata": {
            "image/png": {
              "width": 571,
              "height": 450
            }
          }
        }
      ],
      "source": [
        "plt.plot(loss_history)\n",
        "plt.ylabel(r'Loss $-\\log$ $p(y\\mid\\mathbf{x})$')\n",
        "plt.xlabel('Iteration')\n",
        "plt.show()"
      ]
    },
    {
      "cell_type": "code",
      "execution_count": 30,
      "metadata": {
        "colab": {
          "base_uri": "https://localhost:8080/",
          "height": 467
        },
        "id": "km2LXZs7omK0",
        "outputId": "577f8f6d-cb25-4712-b10a-622c619afa6c"
      },
      "outputs": [
        {
          "output_type": "display_data",
          "data": {
            "text/plain": [
              "<Figure size 640x480 with 1 Axes>"
            ],
            "image/png": "[encoded data removed]"
          },
          "metadata": {
            "image/png": {
              "width": 581,
              "height": 450
            }
          }
        }
      ],
      "source": [
        "# TODO: Change plot to states effects once it's included in the model.\n",
        "for i in range(10):\n",
        "  plt.plot(effect_prior_deaths_samples[:, i])\n",
        "\n",
        "plt.legend([i for i in range(10)], loc='lower right')\n",
        "plt.ylabel('Instructor Effects')\n",
        "plt.xlabel('Iteration')\n",
        "plt.show()"
      ]
    },
    {
      "cell_type": "code",
      "execution_count": 31,
      "metadata": {
        "id": "ZCIBtwiwo19x"
      },
      "outputs": [],
      "source": [
        "lmm_test = lmm_jointdist(features_test)\n",
        "\n",
        "effect_prior_deaths_mean = np.mean(effect_prior_deaths_samples, axis=0).astype(np.float32)\n",
        "\n",
        "\n",
        "# Get the posterior predictive distribution\n",
        "(*posterior_conditionals, ratings_posterior), _ = lmm_test.sample_distributions(\n",
        "    value=(effect_prior_deaths_mean,))\n",
        "\n",
        "ratings_prediction = ratings_posterior.mean()"
      ]
    },
    {
      "cell_type": "code",
      "execution_count": 32,
      "metadata": {
        "colab": {
          "base_uri": "https://localhost:8080/",
          "height": 472
        },
        "id": "8BUI2OBzqmN0",
        "outputId": "6531c06a-a2e6-4fdd-d4e3-558f8b0a42cb"
      },
      "outputs": [
        {
          "output_type": "display_data",
          "data": {
            "text/plain": [
              "<Figure size 640x480 with 1 Axes>"
            ],
            "image/png": "[encoded data removed]"
          },
          "metadata": {
            "image/png": {
              "width": 561,
              "height": 455
            }
          }
        }
      ],
      "source": [
        "plt.title(\"Residuals for Predicted Ratings on Test Set\")\n",
        "plt.hist(ratings_prediction - labels_test, 100)\n",
        "plt.show()"
      ]
    },
    {
      "cell_type": "code",
      "execution_count": 33,
      "metadata": {
        "colab": {
          "base_uri": "https://localhost:8080/",
          "height": 472
        },
        "id": "OmxdqQiiyEkg",
        "outputId": "7d015bce-1b18-455a-bcd2-6eee5e1cf348"
      },
      "outputs": [
        {
          "output_type": "display_data",
          "data": {
            "text/plain": [
              "<Figure size 640x480 with 1 Axes>"
            ],
            "image/png": "[encoded data removed]"
          },
          "metadata": {
            "image/png": {
              "width": 552,
              "height": 455
            }
          }
        }
      ],
      "source": [
        "plt.title(\"Histogram of Prior Deaths Effects\")\n",
        "plt.hist(effect_prior_deaths_mean)\n",
        "plt.show()"
      ]
    }
  ],
  "metadata": {
    "colab": {
      "provenance": [],
      "toc_visible": true,
      "authorship_tag": "ABX9TyPSEeQQkWwAymrgxW9yTqJv",
      "include_colab_link": true
    },
    "kernelspec": {
      "display_name": "Python 3",
      "name": "python3"
    },
    "language_info": {
      "name": "python"
    }
  },
  "nbformat": 4,
  "nbformat_minor": 0
}