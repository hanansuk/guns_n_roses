{
 "cells": [
  {
   "cell_type": "markdown",
   "id": "2667a73c-81ed-47c5-a3fa-758545e7236a",
   "metadata": {},
   "source": [
    "# Linear Mixed Effects Model\n",
    "## Used to determine the effect of a particular gun law on gun deaths\n",
    "\n",
    "Written by Hannah George\n",
    "\n",
    "Environment: R"
   ]
  },
  {
   "cell_type": "markdown",
   "id": "32fdf9c3-da19-41d7-a7d1-a3d89975ec7b",
   "metadata": {},
   "source": [
    "## Imports"
   ]
  },
  {
   "cell_type": "code",
   "execution_count": 3,
   "id": "146c2bd1-6522-4a24-a06a-a90db58b9f18",
   "metadata": {
    "tags": []
   },
   "outputs": [
    {
     "name": "stderr",
     "output_type": "stream",
     "text": [
      "Warning message in install.packages(\"RcppEigen\", type = \"source\"):\n",
      "“installation of package ‘RcppEigen’ had non-zero exit status”\n",
      "Updating HTML index of packages in '.Library'\n",
      "\n",
      "Making 'packages.html' ...\n",
      " done\n",
      "\n",
      "Warning message in install.packages(\"nloptr\"):\n",
      "“installation of package ‘nloptr’ had non-zero exit status”\n",
      "Updating HTML index of packages in '.Library'\n",
      "\n",
      "Making 'packages.html' ...\n",
      " done\n",
      "\n"
     ]
    }
   ],
   "source": [
    "install.packages(\"RcppEigen\", type = \"source\")\n",
    "install.packages(\"nloptr\")"
   ]
  },
  {
   "cell_type": "code",
   "execution_count": null,
   "id": "a653b552-2b1a-4299-812d-6026a609a0ae",
   "metadata": {
    "tags": []
   },
   "outputs": [
    {
     "name": "stderr",
     "output_type": "stream",
     "text": [
      "also installing the dependencies ‘nloptr’, ‘RcppEigen’\n",
      "\n",
      "\n",
      "Warning message in install.packages(\"lme4\", type = \"source\"):\n",
      "“installation of package ‘nloptr’ had non-zero exit status”\n"
     ]
    }
   ],
   "source": [
    "install.packages(\"lme4\", type = \"source\")"
   ]
  },
  {
   "cell_type": "code",
   "execution_count": 4,
   "id": "9c14a0d5-7f1a-42d3-8d67-86f62b38444a",
   "metadata": {
    "tags": []
   },
   "outputs": [
    {
     "ename": "ERROR",
     "evalue": "Error in library(lme4): there is no package called ‘lme4’\n",
     "output_type": "error",
     "traceback": [
      "Error in library(lme4): there is no package called ‘lme4’\nTraceback:\n",
      "1. library(lme4)"
     ]
    }
   ],
   "source": [
    "library(lme4)\n",
    "library(ggplot2)\n",
    "library(dplyr)\n",
    "library(tidyverse)"
   ]
  },
  {
   "cell_type": "markdown",
   "id": "e884b0b3-70b8-4b5b-9543-62a30abb494c",
   "metadata": {},
   "source": [
    "## Data Reading & Formattting"
   ]
  },
  {
   "cell_type": "code",
   "execution_count": 3,
   "id": "a562d069-34af-4adf-a75c-924a1e147652",
   "metadata": {
    "tags": []
   },
   "outputs": [],
   "source": [
    "input <- read.csv('model_ready.csv')"
   ]
  },
  {
   "cell_type": "code",
   "execution_count": 4,
   "id": "2a998ba1-7fad-41bd-bc5c-2507709805b4",
   "metadata": {
    "tags": []
   },
   "outputs": [],
   "source": [
    "input$period <- as.integer(as.Date(input$period))"
   ]
  },
  {
   "cell_type": "code",
   "execution_count": 5,
   "id": "1cec967e-9f4a-4a1b-9c62-bab8cbda1f56",
   "metadata": {
    "tags": []
   },
   "outputs": [
    {
     "data": {
      "text/html": [
       "<table class=\"dataframe\">\n",
       "<caption>A data.frame: 6 × 30</caption>\n",
       "<thead>\n",
       "\t<tr><th></th><th scope=col>X</th><th scope=col>law_id</th><th scope=col>state</th><th scope=col>period</th><th scope=col>monthly_gun_deaths</th><th scope=col>prior_monthly_deaths</th><th scope=col>topic_0</th><th scope=col>topic_1</th><th scope=col>topic_2</th><th scope=col>topic_3</th><th scope=col>⋯</th><th scope=col>topic_14</th><th scope=col>topic_15</th><th scope=col>topic_16</th><th scope=col>topic_17</th><th scope=col>topic_18</th><th scope=col>topic_19</th><th scope=col>law_class</th><th scope=col>law_class_subtype</th><th scope=col>gun_type</th><th scope=col>effect</th></tr>\n",
       "\t<tr><th></th><th scope=col>&lt;int&gt;</th><th scope=col>&lt;chr&gt;</th><th scope=col>&lt;chr&gt;</th><th scope=col>&lt;int&gt;</th><th scope=col>&lt;dbl&gt;</th><th scope=col>&lt;dbl&gt;</th><th scope=col>&lt;dbl&gt;</th><th scope=col>&lt;dbl&gt;</th><th scope=col>&lt;dbl&gt;</th><th scope=col>&lt;dbl&gt;</th><th scope=col>⋯</th><th scope=col>&lt;dbl&gt;</th><th scope=col>&lt;dbl&gt;</th><th scope=col>&lt;dbl&gt;</th><th scope=col>&lt;dbl&gt;</th><th scope=col>&lt;dbl&gt;</th><th scope=col>&lt;dbl&gt;</th><th scope=col>&lt;chr&gt;</th><th scope=col>&lt;chr&gt;</th><th scope=col>&lt;chr&gt;</th><th scope=col>&lt;chr&gt;</th></tr>\n",
       "</thead>\n",
       "<tbody>\n",
       "\t<tr><th scope=row>1</th><td>13</td><td>AL1011</td><td>Alabama</td><td>18659</td><td>104</td><td>122</td><td>0.0000000000</td><td>0</td><td>0</td><td>0.0000000000</td><td>⋯</td><td>0.095259036</td><td>0</td><td>0</td><td>0.000000000</td><td>0.00000000</td><td>0.002975432</td><td>minimum age         </td><td>purchase and sale                                                          </td><td>handgun                </td><td>Restrictive</td></tr>\n",
       "\t<tr><th scope=row>2</th><td>14</td><td>AL1012</td><td>Alabama</td><td>18659</td><td>104</td><td>122</td><td>0.0006507182</td><td>0</td><td>0</td><td>0.0008240609</td><td>⋯</td><td>0.121678120</td><td>0</td><td>0</td><td>0.007990536</td><td>0.00000000</td><td>0.000000000</td><td>minimum age         </td><td>youth possession                                                           </td><td>handgun                </td><td>Restrictive</td></tr>\n",
       "\t<tr><th scope=row>3</th><td>17</td><td>AL1023</td><td>Alabama</td><td>18659</td><td>104</td><td>122</td><td>0.0000000000</td><td>0</td><td>0</td><td>0.0076477076</td><td>⋯</td><td>0.000000000</td><td>0</td><td>0</td><td>0.084762697</td><td>0.14030139</td><td>0.000000000</td><td>prohibited possessor</td><td>dvro                                                                       </td><td>handgun and/or long gun</td><td>Restrictive</td></tr>\n",
       "\t<tr><th scope=row>4</th><td>18</td><td>AL1024</td><td>Alabama</td><td>18659</td><td>104</td><td>122</td><td>0.0000000000</td><td>0</td><td>0</td><td>0.0031596749</td><td>⋯</td><td>0.001398318</td><td>0</td><td>0</td><td>0.060976691</td><td>0.10679727</td><td>0.000000000</td><td>prohibited possessor</td><td>mental health : adjudicated as mentally incompetent//incapacitated/disabled</td><td>handgun and/or long gun</td><td>Restrictive</td></tr>\n",
       "\t<tr><th scope=row>5</th><td>19</td><td>AL1025</td><td>Alabama</td><td>18659</td><td>104</td><td>122</td><td>0.0000000000</td><td>0</td><td>0</td><td>0.0006479395</td><td>⋯</td><td>0.000000000</td><td>0</td><td>0</td><td>0.054430937</td><td>0.08598238</td><td>0.005967719</td><td>prohibited possessor</td><td>mental health : committed to mh facility                                   </td><td>handgun and/or long gun</td><td>Restrictive</td></tr>\n",
       "\t<tr><th scope=row>6</th><td>20</td><td>AL1031</td><td>Alabama</td><td>18659</td><td>104</td><td>122</td><td>0.2742454791</td><td>0</td><td>0</td><td>0.0000000000</td><td>⋯</td><td>0.000000000</td><td>0</td><td>0</td><td>0.000000000</td><td>0.00000000</td><td>0.000000000</td><td>background checks   </td><td>sales from dealer : federal                                                </td><td>handgun                </td><td>Restrictive</td></tr>\n",
       "</tbody>\n",
       "</table>\n"
      ],
      "text/latex": [
       "A data.frame: 6 × 30\n",
       "\\begin{tabular}{r|lllllllllllllllllllll}\n",
       "  & X & law\\_id & state & period & monthly\\_gun\\_deaths & prior\\_monthly\\_deaths & topic\\_0 & topic\\_1 & topic\\_2 & topic\\_3 & ⋯ & topic\\_14 & topic\\_15 & topic\\_16 & topic\\_17 & topic\\_18 & topic\\_19 & law\\_class & law\\_class\\_subtype & gun\\_type & effect\\\\\n",
       "  & <int> & <chr> & <chr> & <int> & <dbl> & <dbl> & <dbl> & <dbl> & <dbl> & <dbl> & ⋯ & <dbl> & <dbl> & <dbl> & <dbl> & <dbl> & <dbl> & <chr> & <chr> & <chr> & <chr>\\\\\n",
       "\\hline\n",
       "\t1 & 13 & AL1011 & Alabama & 18659 & 104 & 122 & 0.0000000000 & 0 & 0 & 0.0000000000 & ⋯ & 0.095259036 & 0 & 0 & 0.000000000 & 0.00000000 & 0.002975432 & minimum age          & purchase and sale                                                           & handgun                 & Restrictive\\\\\n",
       "\t2 & 14 & AL1012 & Alabama & 18659 & 104 & 122 & 0.0006507182 & 0 & 0 & 0.0008240609 & ⋯ & 0.121678120 & 0 & 0 & 0.007990536 & 0.00000000 & 0.000000000 & minimum age          & youth possession                                                            & handgun                 & Restrictive\\\\\n",
       "\t3 & 17 & AL1023 & Alabama & 18659 & 104 & 122 & 0.0000000000 & 0 & 0 & 0.0076477076 & ⋯ & 0.000000000 & 0 & 0 & 0.084762697 & 0.14030139 & 0.000000000 & prohibited possessor & dvro                                                                        & handgun and/or long gun & Restrictive\\\\\n",
       "\t4 & 18 & AL1024 & Alabama & 18659 & 104 & 122 & 0.0000000000 & 0 & 0 & 0.0031596749 & ⋯ & 0.001398318 & 0 & 0 & 0.060976691 & 0.10679727 & 0.000000000 & prohibited possessor & mental health : adjudicated as mentally incompetent//incapacitated/disabled & handgun and/or long gun & Restrictive\\\\\n",
       "\t5 & 19 & AL1025 & Alabama & 18659 & 104 & 122 & 0.0000000000 & 0 & 0 & 0.0006479395 & ⋯ & 0.000000000 & 0 & 0 & 0.054430937 & 0.08598238 & 0.005967719 & prohibited possessor & mental health : committed to mh facility                                    & handgun and/or long gun & Restrictive\\\\\n",
       "\t6 & 20 & AL1031 & Alabama & 18659 & 104 & 122 & 0.2742454791 & 0 & 0 & 0.0000000000 & ⋯ & 0.000000000 & 0 & 0 & 0.000000000 & 0.00000000 & 0.000000000 & background checks    & sales from dealer : federal                                                 & handgun                 & Restrictive\\\\\n",
       "\\end{tabular}\n"
      ],
      "text/markdown": [
       "\n",
       "A data.frame: 6 × 30\n",
       "\n",
       "| <!--/--> | X &lt;int&gt; | law_id &lt;chr&gt; | state &lt;chr&gt; | period &lt;int&gt; | monthly_gun_deaths &lt;dbl&gt; | prior_monthly_deaths &lt;dbl&gt; | topic_0 &lt;dbl&gt; | topic_1 &lt;dbl&gt; | topic_2 &lt;dbl&gt; | topic_3 &lt;dbl&gt; | ⋯ ⋯ | topic_14 &lt;dbl&gt; | topic_15 &lt;dbl&gt; | topic_16 &lt;dbl&gt; | topic_17 &lt;dbl&gt; | topic_18 &lt;dbl&gt; | topic_19 &lt;dbl&gt; | law_class &lt;chr&gt; | law_class_subtype &lt;chr&gt; | gun_type &lt;chr&gt; | effect &lt;chr&gt; |\n",
       "|---|---|---|---|---|---|---|---|---|---|---|---|---|---|---|---|---|---|---|---|---|---|\n",
       "| 1 | 13 | AL1011 | Alabama | 18659 | 104 | 122 | 0.0000000000 | 0 | 0 | 0.0000000000 | ⋯ | 0.095259036 | 0 | 0 | 0.000000000 | 0.00000000 | 0.002975432 | minimum age          | purchase and sale                                                           | handgun                 | Restrictive |\n",
       "| 2 | 14 | AL1012 | Alabama | 18659 | 104 | 122 | 0.0006507182 | 0 | 0 | 0.0008240609 | ⋯ | 0.121678120 | 0 | 0 | 0.007990536 | 0.00000000 | 0.000000000 | minimum age          | youth possession                                                            | handgun                 | Restrictive |\n",
       "| 3 | 17 | AL1023 | Alabama | 18659 | 104 | 122 | 0.0000000000 | 0 | 0 | 0.0076477076 | ⋯ | 0.000000000 | 0 | 0 | 0.084762697 | 0.14030139 | 0.000000000 | prohibited possessor | dvro                                                                        | handgun and/or long gun | Restrictive |\n",
       "| 4 | 18 | AL1024 | Alabama | 18659 | 104 | 122 | 0.0000000000 | 0 | 0 | 0.0031596749 | ⋯ | 0.001398318 | 0 | 0 | 0.060976691 | 0.10679727 | 0.000000000 | prohibited possessor | mental health : adjudicated as mentally incompetent//incapacitated/disabled | handgun and/or long gun | Restrictive |\n",
       "| 5 | 19 | AL1025 | Alabama | 18659 | 104 | 122 | 0.0000000000 | 0 | 0 | 0.0006479395 | ⋯ | 0.000000000 | 0 | 0 | 0.054430937 | 0.08598238 | 0.005967719 | prohibited possessor | mental health : committed to mh facility                                    | handgun and/or long gun | Restrictive |\n",
       "| 6 | 20 | AL1031 | Alabama | 18659 | 104 | 122 | 0.2742454791 | 0 | 0 | 0.0000000000 | ⋯ | 0.000000000 | 0 | 0 | 0.000000000 | 0.00000000 | 0.000000000 | background checks    | sales from dealer : federal                                                 | handgun                 | Restrictive |\n",
       "\n"
      ],
      "text/plain": [
       "  X  law_id state   period monthly_gun_deaths prior_monthly_deaths topic_0     \n",
       "1 13 AL1011 Alabama 18659  104                122                  0.0000000000\n",
       "2 14 AL1012 Alabama 18659  104                122                  0.0006507182\n",
       "3 17 AL1023 Alabama 18659  104                122                  0.0000000000\n",
       "4 18 AL1024 Alabama 18659  104                122                  0.0000000000\n",
       "5 19 AL1025 Alabama 18659  104                122                  0.0000000000\n",
       "6 20 AL1031 Alabama 18659  104                122                  0.2742454791\n",
       "  topic_1 topic_2 topic_3      ⋯ topic_14    topic_15 topic_16 topic_17   \n",
       "1 0       0       0.0000000000 ⋯ 0.095259036 0        0        0.000000000\n",
       "2 0       0       0.0008240609 ⋯ 0.121678120 0        0        0.007990536\n",
       "3 0       0       0.0076477076 ⋯ 0.000000000 0        0        0.084762697\n",
       "4 0       0       0.0031596749 ⋯ 0.001398318 0        0        0.060976691\n",
       "5 0       0       0.0006479395 ⋯ 0.000000000 0        0        0.054430937\n",
       "6 0       0       0.0000000000 ⋯ 0.000000000 0        0        0.000000000\n",
       "  topic_18   topic_19    law_class           \n",
       "1 0.00000000 0.002975432 minimum age         \n",
       "2 0.00000000 0.000000000 minimum age         \n",
       "3 0.14030139 0.000000000 prohibited possessor\n",
       "4 0.10679727 0.000000000 prohibited possessor\n",
       "5 0.08598238 0.005967719 prohibited possessor\n",
       "6 0.00000000 0.000000000 background checks   \n",
       "  law_class_subtype                                                          \n",
       "1 purchase and sale                                                          \n",
       "2 youth possession                                                           \n",
       "3 dvro                                                                       \n",
       "4 mental health : adjudicated as mentally incompetent//incapacitated/disabled\n",
       "5 mental health : committed to mh facility                                   \n",
       "6 sales from dealer : federal                                                \n",
       "  gun_type                effect     \n",
       "1 handgun                 Restrictive\n",
       "2 handgun                 Restrictive\n",
       "3 handgun and/or long gun Restrictive\n",
       "4 handgun and/or long gun Restrictive\n",
       "5 handgun and/or long gun Restrictive\n",
       "6 handgun                 Restrictive"
      ]
     },
     "metadata": {},
     "output_type": "display_data"
    }
   ],
   "source": [
    "head(input)"
   ]
  },
  {
   "cell_type": "markdown",
   "id": "1208de20-bf21-428e-88cf-987b320939af",
   "metadata": {},
   "source": [
    "## Running the Model"
   ]
  },
  {
   "cell_type": "markdown",
   "id": "d47593bd-3f22-49e0-bed8-a387f747b444",
   "metadata": {},
   "source": [
    "### Topics as Fixed Effects"
   ]
  },
  {
   "cell_type": "code",
   "execution_count": 6,
   "id": "12361c52-472a-49ea-8a63-0e0da98f5315",
   "metadata": {
    "tags": []
   },
   "outputs": [],
   "source": [
    "topics_fe_model <- lmer(monthly_gun_deaths ~ topic_0 + topic_1 + topic_2 + topic_3 + topic_4 + topic_5 + \n",
    "              topic_6 + topic_7 + topic_8 + topic_9 + topic_10 + topic_11 + topic_12 + topic_13 +\n",
    "              topic_14 + topic_15 + topic_16 + topic_17 + topic_18 + topic_19 + (1 | state) + \n",
    "              (1 | period) + (1 | prior_monthly_deaths), data=input)"
   ]
  },
  {
   "cell_type": "code",
   "execution_count": 7,
   "id": "f09ca87d-41ed-4e51-8cbd-51db0baa93d1",
   "metadata": {
    "tags": []
   },
   "outputs": [
    {
     "name": "stderr",
     "output_type": "stream",
     "text": [
      "\n",
      "Correlation matrix not shown by default, as p = 21 > 12.\n",
      "Use print(obj, correlation=TRUE)  or\n",
      "    vcov(obj)        if you need it\n",
      "\n",
      "\n"
     ]
    },
    {
     "data": {
      "text/plain": [
       "Linear mixed model fit by REML ['lmerMod']\n",
       "Formula: monthly_gun_deaths ~ topic_0 + topic_1 + topic_2 + topic_3 +  \n",
       "    topic_4 + topic_5 + topic_6 + topic_7 + topic_8 + topic_9 +  \n",
       "    topic_10 + topic_11 + topic_12 + topic_13 + topic_14 + topic_15 +  \n",
       "    topic_16 + topic_17 + topic_18 + topic_19 + (1 | state) +  \n",
       "    (1 | period) + (1 | prior_monthly_deaths)\n",
       "   Data: input\n",
       "\n",
       "REML criterion at convergence: 1278232\n",
       "\n",
       "Scaled residuals: \n",
       "    Min      1Q  Median      3Q     Max \n",
       "-7.7794 -0.5377 -0.0195  0.5123  8.1282 \n",
       "\n",
       "Random effects:\n",
       " Groups               Name        Variance Std.Dev.\n",
       " prior_monthly_deaths (Intercept) 4507.78  67.140  \n",
       " period               (Intercept)   33.33   5.773  \n",
       " state                (Intercept)  929.83  30.493  \n",
       " Residual                          108.26  10.405  \n",
       "Number of obs: 169167, groups:  \n",
       "prior_monthly_deaths, 433; period, 275; state, 51\n",
       "\n",
       "Fixed effects:\n",
       "            Estimate Std. Error t value\n",
       "(Intercept) 104.0907     5.3677  19.392\n",
       "topic_0      -0.4030     0.5884  -0.685\n",
       "topic_1       4.3874     6.3417   0.692\n",
       "topic_2      -0.8664     1.0296  -0.842\n",
       "topic_3      -0.3626     0.3848  -0.942\n",
       "topic_4       1.7527     0.6412   2.733\n",
       "topic_5      -2.5972     0.7301  -3.557\n",
       "topic_6      -0.5912     0.4557  -1.297\n",
       "topic_7      -1.0421     0.6613  -1.576\n",
       "topic_8       1.0986     0.5982   1.837\n",
       "topic_9       0.7656     0.7560   1.013\n",
       "topic_10      0.9512     0.5419   1.755\n",
       "topic_11     -0.3330     0.5755  -0.579\n",
       "topic_12      0.1376     0.8871   0.155\n",
       "topic_13     -0.1589     0.8084  -0.197\n",
       "topic_14     -0.2137     0.5679  -0.376\n",
       "topic_15     -0.5757     0.6045  -0.952\n",
       "topic_16     -2.3942     0.8728  -2.743\n",
       "topic_17     -0.9192     0.6456  -1.424\n",
       "topic_18     -0.3530     0.5738  -0.615\n",
       "topic_19     -1.0503     0.6540  -1.606"
      ]
     },
     "metadata": {},
     "output_type": "display_data"
    }
   ],
   "source": [
    "summary(topics_fe_model)"
   ]
  },
  {
   "cell_type": "markdown",
   "id": "fe2454d1-2938-44d5-b4a1-f08871d9691d",
   "metadata": {},
   "source": [
    "## Topics as Fixed Effects Grouped by State"
   ]
  },
  {
   "cell_type": "code",
   "execution_count": 8,
   "id": "a93b59c0-cfc9-49f2-938d-3778b94b1cb9",
   "metadata": {
    "tags": []
   },
   "outputs": [
    {
     "name": "stderr",
     "output_type": "stream",
     "text": [
      "boundary (singular) fit: see help('isSingular')\n",
      "\n"
     ]
    }
   ],
   "source": [
    "topics_state_model <- lmer(monthly_gun_deaths ~ (topic_0 + topic_1 + topic_2 + topic_3 + topic_4 +\n",
    "                                                 topic_5 + topic_6 + topic_7 + topic_8 + topic_9 + \n",
    "                                                 topic_10 + topic_11 + topic_12 + topic_13 + \n",
    "                                                 topic_14 + topic_15 + topic_16 + topic_17 + \n",
    "                                                 topic_18 + topic_19 || state) + \n",
    "                           (1 | period) + (1 | prior_monthly_deaths), data=input)"
   ]
  },
  {
   "cell_type": "code",
   "execution_count": 9,
   "id": "8b8c88ee-0782-44cb-b5bb-2881ecd84444",
   "metadata": {
    "tags": []
   },
   "outputs": [
    {
     "data": {
      "text/plain": [
       "Linear mixed model fit by REML ['lmerMod']\n",
       "Formula: monthly_gun_deaths ~ ((1 | state) + (0 + topic_0 | state) + (0 +  \n",
       "    topic_1 | state) + (0 + topic_2 | state) + (0 + topic_3 |  \n",
       "    state) + (0 + topic_4 | state) + (0 + topic_5 | state) +  \n",
       "    (0 + topic_6 | state) + (0 + topic_7 | state) + (0 + topic_8 |  \n",
       "    state) + (0 + topic_9 | state) + (0 + topic_10 | state) +  \n",
       "    (0 + topic_11 | state) + (0 + topic_12 | state) + (0 + topic_13 |  \n",
       "    state) + (0 + topic_14 | state) + (0 + topic_15 | state) +  \n",
       "    (0 + topic_16 | state) + (0 + topic_17 | state) + (0 + topic_18 |  \n",
       "    state) + (0 + topic_19 | state)) + (1 | period) + (1 | prior_monthly_deaths)\n",
       "   Data: input\n",
       "\n",
       "REML criterion at convergence: 1277469\n",
       "\n",
       "Scaled residuals: \n",
       "    Min      1Q  Median      3Q     Max \n",
       "-7.7574 -0.5369 -0.0210  0.5121  8.3154 \n",
       "\n",
       "Random effects:\n",
       " Groups               Name        Variance  Std.Dev. \n",
       " prior_monthly_deaths (Intercept) 4.338e+03 6.586e+01\n",
       " period               (Intercept) 3.389e+01 5.821e+00\n",
       " state                topic_19    2.408e+02 1.552e+01\n",
       " state.1              topic_18    0.000e+00 0.000e+00\n",
       " state.2              topic_17    1.484e+01 3.852e+00\n",
       " state.3              topic_16    3.833e+01 6.192e+00\n",
       " state.4              topic_15    9.957e+03 9.978e+01\n",
       " state.5              topic_14    0.000e+00 0.000e+00\n",
       " state.6              topic_13    8.669e+02 2.944e+01\n",
       " state.7              topic_12    0.000e+00 0.000e+00\n",
       " state.8              topic_11    0.000e+00 0.000e+00\n",
       " state.9              topic_10    4.066e+01 6.376e+00\n",
       " state.10             topic_9     2.601e-06 1.613e-03\n",
       " state.11             topic_8     5.062e+01 7.115e+00\n",
       " state.12             topic_7     3.436e+01 5.862e+00\n",
       " state.13             topic_6     2.892e+01 5.377e+00\n",
       " state.14             topic_5     4.763e+01 6.901e+00\n",
       " state.15             topic_4     4.896e+02 2.213e+01\n",
       " state.16             topic_3     4.519e-08 2.126e-04\n",
       " state.17             topic_2     2.230e-07 4.722e-04\n",
       " state.18             topic_1     7.758e+02 2.785e+01\n",
       " state.19             topic_0     0.000e+00 0.000e+00\n",
       " state.20             (Intercept) 9.666e+02 3.109e+01\n",
       " Residual                         1.073e+02 1.036e+01\n",
       "Number of obs: 169167, groups:  \n",
       "prior_monthly_deaths, 433; period, 275; state, 51\n",
       "\n",
       "Fixed effects:\n",
       "            Estimate Std. Error t value\n",
       "(Intercept)  102.985      5.397   19.08\n",
       "optimizer (nloptwrap) convergence code: 0 (OK)\n",
       "boundary (singular) fit: see help('isSingular')\n"
      ]
     },
     "metadata": {},
     "output_type": "display_data"
    }
   ],
   "source": [
    "summary(topics_state_model)"
   ]
  },
  {
   "cell_type": "markdown",
   "id": "898ea5aa-7258-4bde-8c5d-a027d19c55f4",
   "metadata": {},
   "source": [
    "## RAND Categorical Input Instead of Topics"
   ]
  },
  {
   "cell_type": "code",
   "execution_count": null,
   "id": "250977ea-d4d0-4197-931d-cacab2b5c208",
   "metadata": {
    "tags": []
   },
   "outputs": [],
   "source": [
    "rand_model <- lmer(monthly_gun_deaths ~ law_class + gun_type + effect + \n",
    "                   (1 | state) +\n",
    "                   (1 | period) + (1 | prior_monthly_deaths), data=input)"
   ]
  },
  {
   "cell_type": "code",
   "execution_count": null,
   "id": "1fc961d4-8192-4030-a6ca-7e3ade1b3073",
   "metadata": {
    "tags": []
   },
   "outputs": [],
   "source": [
    "summary(rand_model)"
   ]
  },
  {
   "cell_type": "markdown",
   "id": "41e9dc30-1494-455b-a202-25f713f19cf5",
   "metadata": {},
   "source": [
    "## Save Selected Model Coefficients to CSV"
   ]
  },
  {
   "cell_type": "code",
   "execution_count": 19,
   "id": "50d4aa5d-fd4d-4636-995f-d353d801a1d2",
   "metadata": {
    "tags": []
   },
   "outputs": [
    {
     "data": {
      "text/html": [
       "<table class=\"dataframe\">\n",
       "<caption>A data.frame: 6 × 21</caption>\n",
       "<thead>\n",
       "\t<tr><th></th><th scope=col>topic_19</th><th scope=col>topic_18</th><th scope=col>topic_17</th><th scope=col>topic_16</th><th scope=col>topic_15</th><th scope=col>topic_14</th><th scope=col>topic_13</th><th scope=col>topic_12</th><th scope=col>topic_11</th><th scope=col>topic_10</th><th scope=col>⋯</th><th scope=col>topic_8</th><th scope=col>topic_7</th><th scope=col>topic_6</th><th scope=col>topic_5</th><th scope=col>topic_4</th><th scope=col>topic_3</th><th scope=col>topic_2</th><th scope=col>topic_1</th><th scope=col>topic_0</th><th scope=col>(Intercept)</th></tr>\n",
       "\t<tr><th></th><th scope=col>&lt;dbl&gt;</th><th scope=col>&lt;dbl&gt;</th><th scope=col>&lt;dbl&gt;</th><th scope=col>&lt;dbl&gt;</th><th scope=col>&lt;dbl&gt;</th><th scope=col>&lt;dbl&gt;</th><th scope=col>&lt;dbl&gt;</th><th scope=col>&lt;dbl&gt;</th><th scope=col>&lt;dbl&gt;</th><th scope=col>&lt;dbl&gt;</th><th scope=col>⋯</th><th scope=col>&lt;dbl&gt;</th><th scope=col>&lt;dbl&gt;</th><th scope=col>&lt;dbl&gt;</th><th scope=col>&lt;dbl&gt;</th><th scope=col>&lt;dbl&gt;</th><th scope=col>&lt;dbl&gt;</th><th scope=col>&lt;dbl&gt;</th><th scope=col>&lt;dbl&gt;</th><th scope=col>&lt;dbl&gt;</th><th scope=col>&lt;dbl&gt;</th></tr>\n",
       "</thead>\n",
       "<tbody>\n",
       "\t<tr><th scope=row>Alabama</th><td>-0.184381782</td><td>0</td><td> 1.596775958</td><td>  0.00000000</td><td> 0.0000000</td><td>0</td><td> -8.53376804</td><td>0</td><td>0</td><td> 6.8951766</td><td>⋯</td><td> 3.743477528</td><td>  0.008645186</td><td>0.00000000</td><td> 0.009072713</td><td> 43.2452260</td><td>-3.190779e-08</td><td> 0.000000e+00</td><td> 0.172598342</td><td>0</td><td>121.34133</td></tr>\n",
       "\t<tr><th scope=row>Alaska</th><td>-0.001284411</td><td>0</td><td>-0.005229552</td><td>  0.00000000</td><td>-0.1459286</td><td>0</td><td> -0.02957828</td><td>0</td><td>0</td><td> 0.0000000</td><td>⋯</td><td>-0.003590407</td><td>  0.000000000</td><td>0.00000000</td><td> 0.000000000</td><td> -0.0112287</td><td>-1.527949e-10</td><td>-5.037384e-11</td><td> 0.001953818</td><td>0</td><td> 72.86635</td></tr>\n",
       "\t<tr><th scope=row>Arizona</th><td> 1.784968505</td><td>0</td><td> 0.010292736</td><td> -0.32256359</td><td>-1.7822917</td><td>0</td><td>  5.66407337</td><td>0</td><td>0</td><td>-2.0112624</td><td>⋯</td><td>-0.929889982</td><td> -0.227364696</td><td>0.60609597</td><td>-0.715122696</td><td> -2.2260028</td><td>-2.079985e-09</td><td> 2.396048e-09</td><td>-1.388145479</td><td>0</td><td>125.55288</td></tr>\n",
       "\t<tr><th scope=row>Arkansas</th><td> 0.095983166</td><td>0</td><td>-0.055303007</td><td>  0.02425379</td><td>-0.4647966</td><td>0</td><td> -0.36901191</td><td>0</td><td>0</td><td>-0.4395749</td><td>⋯</td><td> 0.000000000</td><td>  0.001881812</td><td>1.74216636</td><td> 0.004104375</td><td>  0.0000000</td><td>-1.087919e-09</td><td>-1.041466e-09</td><td> 1.312002327</td><td>0</td><td> 99.53718</td></tr>\n",
       "\t<tr><th scope=row>California</th><td>13.797400278</td><td>0</td><td> 6.988041268</td><td>-10.50857149</td><td>-3.3731639</td><td>0</td><td>  3.21553338</td><td>0</td><td>0</td><td> 0.7700881</td><td>⋯</td><td> 0.072697922</td><td>-12.463452703</td><td>0.09974654</td><td> 0.044011716</td><td>-13.3133081</td><td>-9.514903e-09</td><td> 3.307781e-08</td><td>-0.837396812</td><td>0</td><td>191.19130</td></tr>\n",
       "\t<tr><th scope=row>Colorado</th><td>25.155792372</td><td>0</td><td>-2.092449806</td><td>  0.54156468</td><td> 5.4955491</td><td>0</td><td>-16.22805787</td><td>0</td><td>0</td><td>-0.5146701</td><td>⋯</td><td> 1.083271322</td><td> -0.573522583</td><td>1.96631274</td><td>-0.961592998</td><td> 14.5758777</td><td>-9.345934e-09</td><td>-2.428862e-10</td><td>-1.435255739</td><td>0</td><td>107.61333</td></tr>\n",
       "</tbody>\n",
       "</table>\n"
      ],
      "text/latex": [
       "A data.frame: 6 × 21\n",
       "\\begin{tabular}{r|lllllllllllllllllllll}\n",
       "  & topic\\_19 & topic\\_18 & topic\\_17 & topic\\_16 & topic\\_15 & topic\\_14 & topic\\_13 & topic\\_12 & topic\\_11 & topic\\_10 & ⋯ & topic\\_8 & topic\\_7 & topic\\_6 & topic\\_5 & topic\\_4 & topic\\_3 & topic\\_2 & topic\\_1 & topic\\_0 & (Intercept)\\\\\n",
       "  & <dbl> & <dbl> & <dbl> & <dbl> & <dbl> & <dbl> & <dbl> & <dbl> & <dbl> & <dbl> & ⋯ & <dbl> & <dbl> & <dbl> & <dbl> & <dbl> & <dbl> & <dbl> & <dbl> & <dbl> & <dbl>\\\\\n",
       "\\hline\n",
       "\tAlabama & -0.184381782 & 0 &  1.596775958 &   0.00000000 &  0.0000000 & 0 &  -8.53376804 & 0 & 0 &  6.8951766 & ⋯ &  3.743477528 &   0.008645186 & 0.00000000 &  0.009072713 &  43.2452260 & -3.190779e-08 &  0.000000e+00 &  0.172598342 & 0 & 121.34133\\\\\n",
       "\tAlaska & -0.001284411 & 0 & -0.005229552 &   0.00000000 & -0.1459286 & 0 &  -0.02957828 & 0 & 0 &  0.0000000 & ⋯ & -0.003590407 &   0.000000000 & 0.00000000 &  0.000000000 &  -0.0112287 & -1.527949e-10 & -5.037384e-11 &  0.001953818 & 0 &  72.86635\\\\\n",
       "\tArizona &  1.784968505 & 0 &  0.010292736 &  -0.32256359 & -1.7822917 & 0 &   5.66407337 & 0 & 0 & -2.0112624 & ⋯ & -0.929889982 &  -0.227364696 & 0.60609597 & -0.715122696 &  -2.2260028 & -2.079985e-09 &  2.396048e-09 & -1.388145479 & 0 & 125.55288\\\\\n",
       "\tArkansas &  0.095983166 & 0 & -0.055303007 &   0.02425379 & -0.4647966 & 0 &  -0.36901191 & 0 & 0 & -0.4395749 & ⋯ &  0.000000000 &   0.001881812 & 1.74216636 &  0.004104375 &   0.0000000 & -1.087919e-09 & -1.041466e-09 &  1.312002327 & 0 &  99.53718\\\\\n",
       "\tCalifornia & 13.797400278 & 0 &  6.988041268 & -10.50857149 & -3.3731639 & 0 &   3.21553338 & 0 & 0 &  0.7700881 & ⋯ &  0.072697922 & -12.463452703 & 0.09974654 &  0.044011716 & -13.3133081 & -9.514903e-09 &  3.307781e-08 & -0.837396812 & 0 & 191.19130\\\\\n",
       "\tColorado & 25.155792372 & 0 & -2.092449806 &   0.54156468 &  5.4955491 & 0 & -16.22805787 & 0 & 0 & -0.5146701 & ⋯ &  1.083271322 &  -0.573522583 & 1.96631274 & -0.961592998 &  14.5758777 & -9.345934e-09 & -2.428862e-10 & -1.435255739 & 0 & 107.61333\\\\\n",
       "\\end{tabular}\n"
      ],
      "text/markdown": [
       "\n",
       "A data.frame: 6 × 21\n",
       "\n",
       "| <!--/--> | topic_19 &lt;dbl&gt; | topic_18 &lt;dbl&gt; | topic_17 &lt;dbl&gt; | topic_16 &lt;dbl&gt; | topic_15 &lt;dbl&gt; | topic_14 &lt;dbl&gt; | topic_13 &lt;dbl&gt; | topic_12 &lt;dbl&gt; | topic_11 &lt;dbl&gt; | topic_10 &lt;dbl&gt; | ⋯ ⋯ | topic_8 &lt;dbl&gt; | topic_7 &lt;dbl&gt; | topic_6 &lt;dbl&gt; | topic_5 &lt;dbl&gt; | topic_4 &lt;dbl&gt; | topic_3 &lt;dbl&gt; | topic_2 &lt;dbl&gt; | topic_1 &lt;dbl&gt; | topic_0 &lt;dbl&gt; | (Intercept) &lt;dbl&gt; |\n",
       "|---|---|---|---|---|---|---|---|---|---|---|---|---|---|---|---|---|---|---|---|---|---|\n",
       "| Alabama | -0.184381782 | 0 |  1.596775958 |   0.00000000 |  0.0000000 | 0 |  -8.53376804 | 0 | 0 |  6.8951766 | ⋯ |  3.743477528 |   0.008645186 | 0.00000000 |  0.009072713 |  43.2452260 | -3.190779e-08 |  0.000000e+00 |  0.172598342 | 0 | 121.34133 |\n",
       "| Alaska | -0.001284411 | 0 | -0.005229552 |   0.00000000 | -0.1459286 | 0 |  -0.02957828 | 0 | 0 |  0.0000000 | ⋯ | -0.003590407 |   0.000000000 | 0.00000000 |  0.000000000 |  -0.0112287 | -1.527949e-10 | -5.037384e-11 |  0.001953818 | 0 |  72.86635 |\n",
       "| Arizona |  1.784968505 | 0 |  0.010292736 |  -0.32256359 | -1.7822917 | 0 |   5.66407337 | 0 | 0 | -2.0112624 | ⋯ | -0.929889982 |  -0.227364696 | 0.60609597 | -0.715122696 |  -2.2260028 | -2.079985e-09 |  2.396048e-09 | -1.388145479 | 0 | 125.55288 |\n",
       "| Arkansas |  0.095983166 | 0 | -0.055303007 |   0.02425379 | -0.4647966 | 0 |  -0.36901191 | 0 | 0 | -0.4395749 | ⋯ |  0.000000000 |   0.001881812 | 1.74216636 |  0.004104375 |   0.0000000 | -1.087919e-09 | -1.041466e-09 |  1.312002327 | 0 |  99.53718 |\n",
       "| California | 13.797400278 | 0 |  6.988041268 | -10.50857149 | -3.3731639 | 0 |   3.21553338 | 0 | 0 |  0.7700881 | ⋯ |  0.072697922 | -12.463452703 | 0.09974654 |  0.044011716 | -13.3133081 | -9.514903e-09 |  3.307781e-08 | -0.837396812 | 0 | 191.19130 |\n",
       "| Colorado | 25.155792372 | 0 | -2.092449806 |   0.54156468 |  5.4955491 | 0 | -16.22805787 | 0 | 0 | -0.5146701 | ⋯ |  1.083271322 |  -0.573522583 | 1.96631274 | -0.961592998 |  14.5758777 | -9.345934e-09 | -2.428862e-10 | -1.435255739 | 0 | 107.61333 |\n",
       "\n"
      ],
      "text/plain": [
       "           topic_19     topic_18 topic_17     topic_16     topic_15   topic_14\n",
       "Alabama    -0.184381782 0         1.596775958   0.00000000  0.0000000 0       \n",
       "Alaska     -0.001284411 0        -0.005229552   0.00000000 -0.1459286 0       \n",
       "Arizona     1.784968505 0         0.010292736  -0.32256359 -1.7822917 0       \n",
       "Arkansas    0.095983166 0        -0.055303007   0.02425379 -0.4647966 0       \n",
       "California 13.797400278 0         6.988041268 -10.50857149 -3.3731639 0       \n",
       "Colorado   25.155792372 0        -2.092449806   0.54156468  5.4955491 0       \n",
       "           topic_13     topic_12 topic_11 topic_10   ⋯ topic_8     \n",
       "Alabama     -8.53376804 0        0         6.8951766 ⋯  3.743477528\n",
       "Alaska      -0.02957828 0        0         0.0000000 ⋯ -0.003590407\n",
       "Arizona      5.66407337 0        0        -2.0112624 ⋯ -0.929889982\n",
       "Arkansas    -0.36901191 0        0        -0.4395749 ⋯  0.000000000\n",
       "California   3.21553338 0        0         0.7700881 ⋯  0.072697922\n",
       "Colorado   -16.22805787 0        0        -0.5146701 ⋯  1.083271322\n",
       "           topic_7       topic_6    topic_5      topic_4     topic_3      \n",
       "Alabama      0.008645186 0.00000000  0.009072713  43.2452260 -3.190779e-08\n",
       "Alaska       0.000000000 0.00000000  0.000000000  -0.0112287 -1.527949e-10\n",
       "Arizona     -0.227364696 0.60609597 -0.715122696  -2.2260028 -2.079985e-09\n",
       "Arkansas     0.001881812 1.74216636  0.004104375   0.0000000 -1.087919e-09\n",
       "California -12.463452703 0.09974654  0.044011716 -13.3133081 -9.514903e-09\n",
       "Colorado    -0.573522583 1.96631274 -0.961592998  14.5758777 -9.345934e-09\n",
       "           topic_2       topic_1      topic_0 (Intercept)\n",
       "Alabama     0.000000e+00  0.172598342 0       121.34133  \n",
       "Alaska     -5.037384e-11  0.001953818 0        72.86635  \n",
       "Arizona     2.396048e-09 -1.388145479 0       125.55288  \n",
       "Arkansas   -1.041466e-09  1.312002327 0        99.53718  \n",
       "California  3.307781e-08 -0.837396812 0       191.19130  \n",
       "Colorado   -2.428862e-10 -1.435255739 0       107.61333  "
      ]
     },
     "metadata": {},
     "output_type": "display_data"
    }
   ],
   "source": [
    "coef_df <- coef(topics_state_model)$state\n",
    "head(coef_df)"
   ]
  },
  {
   "cell_type": "code",
   "execution_count": 29,
   "id": "8221ce4b-26f4-42d5-86b3-b1ef5b792b23",
   "metadata": {
    "tags": []
   },
   "outputs": [],
   "source": [
    "coef_df$state <- rownames(coef_df)\n",
    "rownames(coef_df) <- NULL"
   ]
  },
  {
   "cell_type": "code",
   "execution_count": null,
   "id": "06aee4bb-dbd2-482d-b3ce-5847cbccb4ca",
   "metadata": {},
   "outputs": [],
   "source": [
    "names(coef_df) <- c('coef_topic_19', 'coef_topic_18', 'coef_topic_17', 'coef_topic_16', \n",
    "                    'coef_topic_15', 'coef_topic_14', 'coef_topic_13', 'coef_topic_12',\n",
    "                    'coef_topic_11', 'coef_topic_10', 'coef_topic_9', 'coef_topic_8',\n",
    "                    'coef_topic_7', 'coef_topic_6', 'coef_topic_5', 'coef_topic_4',\n",
    "                    'coef_topic_3', 'coef_topic_2', 'coef_topic_1', 'coef_topic_0',\n",
    "                    'intercept', 'state')"
   ]
  },
  {
   "cell_type": "code",
   "execution_count": 32,
   "id": "53b5b0f2-9eb6-49e7-846b-8bb26f187afd",
   "metadata": {
    "tags": []
   },
   "outputs": [],
   "source": [
    "write.csv(coef_df, \"lme_coefficients.csv\", row.names=FALSE)"
   ]
  }
 ],
 "metadata": {
  "availableInstances": [
   {
    "_defaultOrder": 0,
    "_isFastLaunch": true,
    "category": "General purpose",
    "gpuNum": 0,
    "hideHardwareSpecs": false,
    "memoryGiB": 4,
    "name": "ml.t3.medium",
    "vcpuNum": 2
   },
   {
    "_defaultOrder": 1,
    "_isFastLaunch": false,
    "category": "General purpose",
    "gpuNum": 0,
    "hideHardwareSpecs": false,
    "memoryGiB": 8,
    "name": "ml.t3.large",
    "vcpuNum": 2
   },
   {
    "_defaultOrder": 2,
    "_isFastLaunch": false,
    "category": "General purpose",
    "gpuNum": 0,
    "hideHardwareSpecs": false,
    "memoryGiB": 16,
    "name": "ml.t3.xlarge",
    "vcpuNum": 4
   },
   {
    "_defaultOrder": 3,
    "_isFastLaunch": false,
    "category": "General purpose",
    "gpuNum": 0,
    "hideHardwareSpecs": false,
    "memoryGiB": 32,
    "name": "ml.t3.2xlarge",
    "vcpuNum": 8
   },
   {
    "_defaultOrder": 4,
    "_isFastLaunch": true,
    "category": "General purpose",
    "gpuNum": 0,
    "hideHardwareSpecs": false,
    "memoryGiB": 8,
    "name": "ml.m5.large",
    "vcpuNum": 2
   },
   {
    "_defaultOrder": 5,
    "_isFastLaunch": false,
    "category": "General purpose",
    "gpuNum": 0,
    "hideHardwareSpecs": false,
    "memoryGiB": 16,
    "name": "ml.m5.xlarge",
    "vcpuNum": 4
   },
   {
    "_defaultOrder": 6,
    "_isFastLaunch": false,
    "category": "General purpose",
    "gpuNum": 0,
    "hideHardwareSpecs": false,
    "memoryGiB": 32,
    "name": "ml.m5.2xlarge",
    "vcpuNum": 8
   },
   {
    "_defaultOrder": 7,
    "_isFastLaunch": false,
    "category": "General purpose",
    "gpuNum": 0,
    "hideHardwareSpecs": false,
    "memoryGiB": 64,
    "name": "ml.m5.4xlarge",
    "vcpuNum": 16
   },
   {
    "_defaultOrder": 8,
    "_isFastLaunch": false,
    "category": "General purpose",
    "gpuNum": 0,
    "hideHardwareSpecs": false,
    "memoryGiB": 128,
    "name": "ml.m5.8xlarge",
    "vcpuNum": 32
   },
   {
    "_defaultOrder": 9,
    "_isFastLaunch": false,
    "category": "General purpose",
    "gpuNum": 0,
    "hideHardwareSpecs": false,
    "memoryGiB": 192,
    "name": "ml.m5.12xlarge",
    "vcpuNum": 48
   },
   {
    "_defaultOrder": 10,
    "_isFastLaunch": false,
    "category": "General purpose",
    "gpuNum": 0,
    "hideHardwareSpecs": false,
    "memoryGiB": 256,
    "name": "ml.m5.16xlarge",
    "vcpuNum": 64
   },
   {
    "_defaultOrder": 11,
    "_isFastLaunch": false,
    "category": "General purpose",
    "gpuNum": 0,
    "hideHardwareSpecs": false,
    "memoryGiB": 384,
    "name": "ml.m5.24xlarge",
    "vcpuNum": 96
   },
   {
    "_defaultOrder": 12,
    "_isFastLaunch": false,
    "category": "General purpose",
    "gpuNum": 0,
    "hideHardwareSpecs": false,
    "memoryGiB": 8,
    "name": "ml.m5d.large",
    "vcpuNum": 2
   },
   {
    "_defaultOrder": 13,
    "_isFastLaunch": false,
    "category": "General purpose",
    "gpuNum": 0,
    "hideHardwareSpecs": false,
    "memoryGiB": 16,
    "name": "ml.m5d.xlarge",
    "vcpuNum": 4
   },
   {
    "_defaultOrder": 14,
    "_isFastLaunch": false,
    "category": "General purpose",
    "gpuNum": 0,
    "hideHardwareSpecs": false,
    "memoryGiB": 32,
    "name": "ml.m5d.2xlarge",
    "vcpuNum": 8
   },
   {
    "_defaultOrder": 15,
    "_isFastLaunch": false,
    "category": "General purpose",
    "gpuNum": 0,
    "hideHardwareSpecs": false,
    "memoryGiB": 64,
    "name": "ml.m5d.4xlarge",
    "vcpuNum": 16
   },
   {
    "_defaultOrder": 16,
    "_isFastLaunch": false,
    "category": "General purpose",
    "gpuNum": 0,
    "hideHardwareSpecs": false,
    "memoryGiB": 128,
    "name": "ml.m5d.8xlarge",
    "vcpuNum": 32
   },
   {
    "_defaultOrder": 17,
    "_isFastLaunch": false,
    "category": "General purpose",
    "gpuNum": 0,
    "hideHardwareSpecs": false,
    "memoryGiB": 192,
    "name": "ml.m5d.12xlarge",
    "vcpuNum": 48
   },
   {
    "_defaultOrder": 18,
    "_isFastLaunch": false,
    "category": "General purpose",
    "gpuNum": 0,
    "hideHardwareSpecs": false,
    "memoryGiB": 256,
    "name": "ml.m5d.16xlarge",
    "vcpuNum": 64
   },
   {
    "_defaultOrder": 19,
    "_isFastLaunch": false,
    "category": "General purpose",
    "gpuNum": 0,
    "hideHardwareSpecs": false,
    "memoryGiB": 384,
    "name": "ml.m5d.24xlarge",
    "vcpuNum": 96
   },
   {
    "_defaultOrder": 20,
    "_isFastLaunch": false,
    "category": "General purpose",
    "gpuNum": 0,
    "hideHardwareSpecs": true,
    "memoryGiB": 0,
    "name": "ml.geospatial.interactive",
    "supportedImageNames": [
     "sagemaker-geospatial-v1-0"
    ],
    "vcpuNum": 0
   },
   {
    "_defaultOrder": 21,
    "_isFastLaunch": true,
    "category": "Compute optimized",
    "gpuNum": 0,
    "hideHardwareSpecs": false,
    "memoryGiB": 4,
    "name": "ml.c5.large",
    "vcpuNum": 2
   },
   {
    "_defaultOrder": 22,
    "_isFastLaunch": false,
    "category": "Compute optimized",
    "gpuNum": 0,
    "hideHardwareSpecs": false,
    "memoryGiB": 8,
    "name": "ml.c5.xlarge",
    "vcpuNum": 4
   },
   {
    "_defaultOrder": 23,
    "_isFastLaunch": false,
    "category": "Compute optimized",
    "gpuNum": 0,
    "hideHardwareSpecs": false,
    "memoryGiB": 16,
    "name": "ml.c5.2xlarge",
    "vcpuNum": 8
   },
   {
    "_defaultOrder": 24,
    "_isFastLaunch": false,
    "category": "Compute optimized",
    "gpuNum": 0,
    "hideHardwareSpecs": false,
    "memoryGiB": 32,
    "name": "ml.c5.4xlarge",
    "vcpuNum": 16
   },
   {
    "_defaultOrder": 25,
    "_isFastLaunch": false,
    "category": "Compute optimized",
    "gpuNum": 0,
    "hideHardwareSpecs": false,
    "memoryGiB": 72,
    "name": "ml.c5.9xlarge",
    "vcpuNum": 36
   },
   {
    "_defaultOrder": 26,
    "_isFastLaunch": false,
    "category": "Compute optimized",
    "gpuNum": 0,
    "hideHardwareSpecs": false,
    "memoryGiB": 96,
    "name": "ml.c5.12xlarge",
    "vcpuNum": 48
   },
   {
    "_defaultOrder": 27,
    "_isFastLaunch": false,
    "category": "Compute optimized",
    "gpuNum": 0,
    "hideHardwareSpecs": false,
    "memoryGiB": 144,
    "name": "ml.c5.18xlarge",
    "vcpuNum": 72
   },
   {
    "_defaultOrder": 28,
    "_isFastLaunch": false,
    "category": "Compute optimized",
    "gpuNum": 0,
    "hideHardwareSpecs": false,
    "memoryGiB": 192,
    "name": "ml.c5.24xlarge",
    "vcpuNum": 96
   },
   {
    "_defaultOrder": 29,
    "_isFastLaunch": true,
    "category": "Accelerated computing",
    "gpuNum": 1,
    "hideHardwareSpecs": false,
    "memoryGiB": 16,
    "name": "ml.g4dn.xlarge",
    "vcpuNum": 4
   },
   {
    "_defaultOrder": 30,
    "_isFastLaunch": false,
    "category": "Accelerated computing",
    "gpuNum": 1,
    "hideHardwareSpecs": false,
    "memoryGiB": 32,
    "name": "ml.g4dn.2xlarge",
    "vcpuNum": 8
   },
   {
    "_defaultOrder": 31,
    "_isFastLaunch": false,
    "category": "Accelerated computing",
    "gpuNum": 1,
    "hideHardwareSpecs": false,
    "memoryGiB": 64,
    "name": "ml.g4dn.4xlarge",
    "vcpuNum": 16
   },
   {
    "_defaultOrder": 32,
    "_isFastLaunch": false,
    "category": "Accelerated computing",
    "gpuNum": 1,
    "hideHardwareSpecs": false,
    "memoryGiB": 128,
    "name": "ml.g4dn.8xlarge",
    "vcpuNum": 32
   },
   {
    "_defaultOrder": 33,
    "_isFastLaunch": false,
    "category": "Accelerated computing",
    "gpuNum": 4,
    "hideHardwareSpecs": false,
    "memoryGiB": 192,
    "name": "ml.g4dn.12xlarge",
    "vcpuNum": 48
   },
   {
    "_defaultOrder": 34,
    "_isFastLaunch": false,
    "category": "Accelerated computing",
    "gpuNum": 1,
    "hideHardwareSpecs": false,
    "memoryGiB": 256,
    "name": "ml.g4dn.16xlarge",
    "vcpuNum": 64
   },
   {
    "_defaultOrder": 35,
    "_isFastLaunch": false,
    "category": "Accelerated computing",
    "gpuNum": 1,
    "hideHardwareSpecs": false,
    "memoryGiB": 61,
    "name": "ml.p3.2xlarge",
    "vcpuNum": 8
   },
   {
    "_defaultOrder": 36,
    "_isFastLaunch": false,
    "category": "Accelerated computing",
    "gpuNum": 4,
    "hideHardwareSpecs": false,
    "memoryGiB": 244,
    "name": "ml.p3.8xlarge",
    "vcpuNum": 32
   },
   {
    "_defaultOrder": 37,
    "_isFastLaunch": false,
    "category": "Accelerated computing",
    "gpuNum": 8,
    "hideHardwareSpecs": false,
    "memoryGiB": 488,
    "name": "ml.p3.16xlarge",
    "vcpuNum": 64
   },
   {
    "_defaultOrder": 38,
    "_isFastLaunch": false,
    "category": "Accelerated computing",
    "gpuNum": 8,
    "hideHardwareSpecs": false,
    "memoryGiB": 768,
    "name": "ml.p3dn.24xlarge",
    "vcpuNum": 96
   },
   {
    "_defaultOrder": 39,
    "_isFastLaunch": false,
    "category": "Memory Optimized",
    "gpuNum": 0,
    "hideHardwareSpecs": false,
    "memoryGiB": 16,
    "name": "ml.r5.large",
    "vcpuNum": 2
   },
   {
    "_defaultOrder": 40,
    "_isFastLaunch": false,
    "category": "Memory Optimized",
    "gpuNum": 0,
    "hideHardwareSpecs": false,
    "memoryGiB": 32,
    "name": "ml.r5.xlarge",
    "vcpuNum": 4
   },
   {
    "_defaultOrder": 41,
    "_isFastLaunch": false,
    "category": "Memory Optimized",
    "gpuNum": 0,
    "hideHardwareSpecs": false,
    "memoryGiB": 64,
    "name": "ml.r5.2xlarge",
    "vcpuNum": 8
   },
   {
    "_defaultOrder": 42,
    "_isFastLaunch": false,
    "category": "Memory Optimized",
    "gpuNum": 0,
    "hideHardwareSpecs": false,
    "memoryGiB": 128,
    "name": "ml.r5.4xlarge",
    "vcpuNum": 16
   },
   {
    "_defaultOrder": 43,
    "_isFastLaunch": false,
    "category": "Memory Optimized",
    "gpuNum": 0,
    "hideHardwareSpecs": false,
    "memoryGiB": 256,
    "name": "ml.r5.8xlarge",
    "vcpuNum": 32
   },
   {
    "_defaultOrder": 44,
    "_isFastLaunch": false,
    "category": "Memory Optimized",
    "gpuNum": 0,
    "hideHardwareSpecs": false,
    "memoryGiB": 384,
    "name": "ml.r5.12xlarge",
    "vcpuNum": 48
   },
   {
    "_defaultOrder": 45,
    "_isFastLaunch": false,
    "category": "Memory Optimized",
    "gpuNum": 0,
    "hideHardwareSpecs": false,
    "memoryGiB": 512,
    "name": "ml.r5.16xlarge",
    "vcpuNum": 64
   },
   {
    "_defaultOrder": 46,
    "_isFastLaunch": false,
    "category": "Memory Optimized",
    "gpuNum": 0,
    "hideHardwareSpecs": false,
    "memoryGiB": 768,
    "name": "ml.r5.24xlarge",
    "vcpuNum": 96
   },
   {
    "_defaultOrder": 47,
    "_isFastLaunch": false,
    "category": "Accelerated computing",
    "gpuNum": 1,
    "hideHardwareSpecs": false,
    "memoryGiB": 16,
    "name": "ml.g5.xlarge",
    "vcpuNum": 4
   },
   {
    "_defaultOrder": 48,
    "_isFastLaunch": false,
    "category": "Accelerated computing",
    "gpuNum": 1,
    "hideHardwareSpecs": false,
    "memoryGiB": 32,
    "name": "ml.g5.2xlarge",
    "vcpuNum": 8
   },
   {
    "_defaultOrder": 49,
    "_isFastLaunch": false,
    "category": "Accelerated computing",
    "gpuNum": 1,
    "hideHardwareSpecs": false,
    "memoryGiB": 64,
    "name": "ml.g5.4xlarge",
    "vcpuNum": 16
   },
   {
    "_defaultOrder": 50,
    "_isFastLaunch": false,
    "category": "Accelerated computing",
    "gpuNum": 1,
    "hideHardwareSpecs": false,
    "memoryGiB": 128,
    "name": "ml.g5.8xlarge",
    "vcpuNum": 32
   },
   {
    "_defaultOrder": 51,
    "_isFastLaunch": false,
    "category": "Accelerated computing",
    "gpuNum": 1,
    "hideHardwareSpecs": false,
    "memoryGiB": 256,
    "name": "ml.g5.16xlarge",
    "vcpuNum": 64
   },
   {
    "_defaultOrder": 52,
    "_isFastLaunch": false,
    "category": "Accelerated computing",
    "gpuNum": 4,
    "hideHardwareSpecs": false,
    "memoryGiB": 192,
    "name": "ml.g5.12xlarge",
    "vcpuNum": 48
   },
   {
    "_defaultOrder": 53,
    "_isFastLaunch": false,
    "category": "Accelerated computing",
    "gpuNum": 4,
    "hideHardwareSpecs": false,
    "memoryGiB": 384,
    "name": "ml.g5.24xlarge",
    "vcpuNum": 96
   },
   {
    "_defaultOrder": 54,
    "_isFastLaunch": false,
    "category": "Accelerated computing",
    "gpuNum": 8,
    "hideHardwareSpecs": false,
    "memoryGiB": 768,
    "name": "ml.g5.48xlarge",
    "vcpuNum": 192
   },
   {
    "_defaultOrder": 55,
    "_isFastLaunch": false,
    "category": "Accelerated computing",
    "gpuNum": 8,
    "hideHardwareSpecs": false,
    "memoryGiB": 1152,
    "name": "ml.p4d.24xlarge",
    "vcpuNum": 96
   },
   {
    "_defaultOrder": 56,
    "_isFastLaunch": false,
    "category": "Accelerated computing",
    "gpuNum": 8,
    "hideHardwareSpecs": false,
    "memoryGiB": 1152,
    "name": "ml.p4de.24xlarge",
    "vcpuNum": 96
   }
  ],
  "instance_type": "ml.g4dn.16xlarge",
  "kernelspec": {
   "display_name": "R (arn:aws:sagemaker:us-west-2:236514542706:image/datascience-1.0)",
   "language": "R",
   "name": "ir__SAGEMAKER_INTERNAL__arn:aws:sagemaker:us-west-2:236514542706:image/datascience-1.0"
  },
  "language_info": {
   "codemirror_mode": "r",
   "file_extension": ".r",
   "mimetype": "text/x-r-source",
   "name": "R",
   "pygments_lexer": "r",
   "version": "3.6.1"
  }
 },
 "nbformat": 4,
 "nbformat_minor": 5
}
