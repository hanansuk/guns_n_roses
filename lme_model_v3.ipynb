{
 "cells": [
  {
   "cell_type": "markdown",
   "id": "2667a73c-81ed-47c5-a3fa-758545e7236a",
   "metadata": {},
   "source": [
    "# Linear Mixed Effects Model\n",
    "## Used to determine the effect of a particular gun law on gun deaths\n",
    "\n",
    "Written by Hannah George\n",
    "\n",
    "Environment: R"
   ]
  },
  {
   "cell_type": "markdown",
   "id": "32fdf9c3-da19-41d7-a7d1-a3d89975ec7b",
   "metadata": {},
   "source": [
    "## Imports"
   ]
  },
  {
   "cell_type": "code",
   "execution_count": 1,
   "id": "146c2bd1-6522-4a24-a06a-a90db58b9f18",
   "metadata": {
    "tags": []
   },
   "outputs": [
    {
     "name": "stderr",
     "output_type": "stream",
     "text": [
      "Updating HTML index of packages in '.Library'\n",
      "\n",
      "Making 'packages.html' ...\n",
      " done\n",
      "\n",
      "Updating HTML index of packages in '.Library'\n",
      "\n",
      "Making 'packages.html' ...\n",
      " done\n",
      "\n",
      "Updating HTML index of packages in '.Library'\n",
      "\n",
      "Making 'packages.html' ...\n",
      " done\n",
      "\n",
      "Updating HTML index of packages in '.Library'\n",
      "\n",
      "Making 'packages.html' ...\n",
      " done\n",
      "\n",
      "Updating HTML index of packages in '.Library'\n",
      "\n",
      "Making 'packages.html' ...\n",
      " done\n",
      "\n"
     ]
    }
   ],
   "source": [
    "install.packages(\"RcppEigen\", type = \"source\")\n",
    "install.packages(\"nloptr\")\n",
    "install.packages(\"languageserver\")\n",
    "install.packages(\"lme4\", type = \"source\")\n",
    "install.packages(\"wrapr\")"
   ]
  },
  {
   "cell_type": "code",
   "execution_count": 2,
   "id": "9c14a0d5-7f1a-42d3-8d67-86f62b38444a",
   "metadata": {
    "tags": []
   },
   "outputs": [
    {
     "name": "stderr",
     "output_type": "stream",
     "text": [
      "Loading required package: Matrix\n",
      "\n",
      "\n",
      "Attaching package: ‘dplyr’\n",
      "\n",
      "\n",
      "The following objects are masked from ‘package:stats’:\n",
      "\n",
      "    filter, lag\n",
      "\n",
      "\n",
      "The following objects are masked from ‘package:base’:\n",
      "\n",
      "    intersect, setdiff, setequal, union\n",
      "\n",
      "\n",
      "── \u001b[1mAttaching core tidyverse packages\u001b[22m ──────────────────────── tidyverse 2.0.0 ──\n",
      "\u001b[32m✔\u001b[39m \u001b[34mforcats  \u001b[39m 1.0.0     \u001b[32m✔\u001b[39m \u001b[34mstringr  \u001b[39m 1.5.0\n",
      "\u001b[32m✔\u001b[39m \u001b[34mlubridate\u001b[39m 1.9.2     \u001b[32m✔\u001b[39m \u001b[34mtibble   \u001b[39m 3.2.1\n",
      "\u001b[32m✔\u001b[39m \u001b[34mpurrr    \u001b[39m 1.0.1     \u001b[32m✔\u001b[39m \u001b[34mtidyr    \u001b[39m 1.3.0\n",
      "\u001b[32m✔\u001b[39m \u001b[34mreadr    \u001b[39m 2.1.4     \n",
      "── \u001b[1mConflicts\u001b[22m ────────────────────────────────────────── tidyverse_conflicts() ──\n",
      "\u001b[31m✖\u001b[39m \u001b[34mtidyr\u001b[39m::\u001b[32mexpand()\u001b[39m masks \u001b[34mMatrix\u001b[39m::expand()\n",
      "\u001b[31m✖\u001b[39m \u001b[34mdplyr\u001b[39m::\u001b[32mfilter()\u001b[39m masks \u001b[34mstats\u001b[39m::filter()\n",
      "\u001b[31m✖\u001b[39m \u001b[34mdplyr\u001b[39m::\u001b[32mlag()\u001b[39m    masks \u001b[34mstats\u001b[39m::lag()\n",
      "\u001b[31m✖\u001b[39m \u001b[34mtidyr\u001b[39m::\u001b[32mpack()\u001b[39m   masks \u001b[34mMatrix\u001b[39m::pack()\n",
      "\u001b[31m✖\u001b[39m \u001b[34mtidyr\u001b[39m::\u001b[32munpack()\u001b[39m masks \u001b[34mMatrix\u001b[39m::unpack()\n",
      "\u001b[36mℹ\u001b[39m Use the conflicted package (\u001b[3m\u001b[34m<http://conflicted.r-lib.org/>\u001b[39m\u001b[23m) to force all conflicts to become errors\n",
      "\n",
      "Attaching package: ‘wrapr’\n",
      "\n",
      "\n",
      "The following objects are masked from ‘package:tidyr’:\n",
      "\n",
      "    pack, unpack\n",
      "\n",
      "\n",
      "The following object is masked from ‘package:tibble’:\n",
      "\n",
      "    view\n",
      "\n",
      "\n",
      "The following object is masked from ‘package:dplyr’:\n",
      "\n",
      "    coalesce\n",
      "\n",
      "\n",
      "The following objects are masked from ‘package:Matrix’:\n",
      "\n",
      "    pack, unpack\n",
      "\n",
      "\n"
     ]
    }
   ],
   "source": [
    "library(lme4)\n",
    "library(ggplot2)\n",
    "library(dplyr)\n",
    "library(tidyverse)\n",
    "library(languageserver)\n",
    "library(wrapr)"
   ]
  },
  {
   "cell_type": "markdown",
   "id": "e884b0b3-70b8-4b5b-9543-62a30abb494c",
   "metadata": {},
   "source": [
    "## Data Reading & Formattting"
   ]
  },
  {
   "cell_type": "code",
   "execution_count": 3,
   "id": "a562d069-34af-4adf-a75c-924a1e147652",
   "metadata": {
    "tags": []
   },
   "outputs": [],
   "source": [
    "input <- read.csv('model_ready_v3.csv')\n",
    "topics_and_responses <- read.csv('topics_and_responses.csv')"
   ]
  },
  {
   "cell_type": "code",
   "execution_count": 4,
   "id": "2a998ba1-7fad-41bd-bc5c-2507709805b4",
   "metadata": {
    "tags": []
   },
   "outputs": [],
   "source": [
    "input$period <- as.integer(as.Date(input$period))"
   ]
  },
  {
   "cell_type": "code",
   "execution_count": 5,
   "id": "1cec967e-9f4a-4a1b-9c62-bab8cbda1f56",
   "metadata": {
    "tags": []
   },
   "outputs": [
    {
     "data": {
      "text/html": [
       "<table class=\"dataframe\">\n",
       "<caption>A data.frame: 6 × 40</caption>\n",
       "<thead>\n",
       "\t<tr><th></th><th scope=col>X</th><th scope=col>law_id</th><th scope=col>state</th><th scope=col>period</th><th scope=col>monthly_gun_deaths</th><th scope=col>prior_monthly_deaths</th><th scope=col>topic_0</th><th scope=col>topic_1</th><th scope=col>topic_2</th><th scope=col>topic_3</th><th scope=col>⋯</th><th scope=col>topic_24</th><th scope=col>topic_25</th><th scope=col>topic_26</th><th scope=col>topic_27</th><th scope=col>topic_28</th><th scope=col>topic_29</th><th scope=col>law_class</th><th scope=col>law_class_subtype</th><th scope=col>gun_type</th><th scope=col>effect</th></tr>\n",
       "\t<tr><th></th><th scope=col>&lt;int&gt;</th><th scope=col>&lt;chr&gt;</th><th scope=col>&lt;chr&gt;</th><th scope=col>&lt;int&gt;</th><th scope=col>&lt;dbl&gt;</th><th scope=col>&lt;dbl&gt;</th><th scope=col>&lt;dbl&gt;</th><th scope=col>&lt;dbl&gt;</th><th scope=col>&lt;dbl&gt;</th><th scope=col>&lt;dbl&gt;</th><th scope=col>⋯</th><th scope=col>&lt;dbl&gt;</th><th scope=col>&lt;dbl&gt;</th><th scope=col>&lt;dbl&gt;</th><th scope=col>&lt;dbl&gt;</th><th scope=col>&lt;dbl&gt;</th><th scope=col>&lt;dbl&gt;</th><th scope=col>&lt;chr&gt;</th><th scope=col>&lt;chr&gt;</th><th scope=col>&lt;chr&gt;</th><th scope=col>&lt;chr&gt;</th></tr>\n",
       "</thead>\n",
       "<tbody>\n",
       "\t<tr><th scope=row>1</th><td>13</td><td>AL1011</td><td>Alabama</td><td>18659</td><td>104</td><td>122</td><td>0.7412793</td><td>0.0000000</td><td>0.3996449</td><td>0.07698733</td><td>⋯</td><td>0.00000000</td><td>0.47808020</td><td>0.00000000</td><td>0.00000000</td><td>0.0000000</td><td>0.08247723</td><td>minimum age         </td><td>purchase and sale                                                          </td><td>handgun                </td><td>Restrictive</td></tr>\n",
       "\t<tr><th scope=row>2</th><td>14</td><td>AL1012</td><td>Alabama</td><td>18659</td><td>104</td><td>122</td><td>0.8380055</td><td>0.0617550</td><td>0.5881827</td><td>0.06054969</td><td>⋯</td><td>0.09185956</td><td>0.02956950</td><td>0.06611288</td><td>0.00000000</td><td>0.5333703</td><td>0.14123730</td><td>minimum age         </td><td>youth possession                                                           </td><td>handgun                </td><td>Restrictive</td></tr>\n",
       "\t<tr><th scope=row>3</th><td>17</td><td>AL1023</td><td>Alabama</td><td>18659</td><td>104</td><td>122</td><td>0.7061533</td><td>0.2400103</td><td>1.1013777</td><td>0.08278415</td><td>⋯</td><td>0.00000000</td><td>0.14658213</td><td>0.08075277</td><td>0.00000000</td><td>1.0879730</td><td>0.09007878</td><td>prohibited possessor</td><td>dvro                                                                       </td><td>handgun and/or long gun</td><td>Restrictive</td></tr>\n",
       "\t<tr><th scope=row>4</th><td>18</td><td>AL1024</td><td>Alabama</td><td>18659</td><td>104</td><td>122</td><td>0.4919999</td><td>0.3287847</td><td>0.0000000</td><td>0.54921526</td><td>⋯</td><td>0.12998086</td><td>0.35755184</td><td>0.00000000</td><td>0.00000000</td><td>1.5993187</td><td>0.28354220</td><td>prohibited possessor</td><td>mental health : adjudicated as mentally incompetent//incapacitated/disabled</td><td>handgun and/or long gun</td><td>Restrictive</td></tr>\n",
       "\t<tr><th scope=row>5</th><td>19</td><td>AL1025</td><td>Alabama</td><td>18659</td><td>104</td><td>122</td><td>0.9139149</td><td>0.0000000</td><td>0.0000000</td><td>1.16450510</td><td>⋯</td><td>0.58353900</td><td>0.04831076</td><td>0.10736682</td><td>0.04868733</td><td>0.3842420</td><td>0.11709394</td><td>prohibited possessor</td><td>mental health : committed to mh facility                                   </td><td>handgun and/or long gun</td><td>Restrictive</td></tr>\n",
       "\t<tr><th scope=row>6</th><td>20</td><td>AL1031</td><td>Alabama</td><td>18659</td><td>104</td><td>122</td><td>1.1511353</td><td>0.4736995</td><td>0.0000000</td><td>0.00000000</td><td>⋯</td><td>1.13498510</td><td>0.00000000</td><td>0.00000000</td><td>0.25353146</td><td>0.0000000</td><td>0.00000000</td><td>background checks   </td><td>sales from dealer : federal                                                </td><td>handgun                </td><td>Restrictive</td></tr>\n",
       "</tbody>\n",
       "</table>\n"
      ],
      "text/latex": [
       "A data.frame: 6 × 40\n",
       "\\begin{tabular}{r|lllllllllllllllllllll}\n",
       "  & X & law\\_id & state & period & monthly\\_gun\\_deaths & prior\\_monthly\\_deaths & topic\\_0 & topic\\_1 & topic\\_2 & topic\\_3 & ⋯ & topic\\_24 & topic\\_25 & topic\\_26 & topic\\_27 & topic\\_28 & topic\\_29 & law\\_class & law\\_class\\_subtype & gun\\_type & effect\\\\\n",
       "  & <int> & <chr> & <chr> & <int> & <dbl> & <dbl> & <dbl> & <dbl> & <dbl> & <dbl> & ⋯ & <dbl> & <dbl> & <dbl> & <dbl> & <dbl> & <dbl> & <chr> & <chr> & <chr> & <chr>\\\\\n",
       "\\hline\n",
       "\t1 & 13 & AL1011 & Alabama & 18659 & 104 & 122 & 0.7412793 & 0.0000000 & 0.3996449 & 0.07698733 & ⋯ & 0.00000000 & 0.47808020 & 0.00000000 & 0.00000000 & 0.0000000 & 0.08247723 & minimum age          & purchase and sale                                                           & handgun                 & Restrictive\\\\\n",
       "\t2 & 14 & AL1012 & Alabama & 18659 & 104 & 122 & 0.8380055 & 0.0617550 & 0.5881827 & 0.06054969 & ⋯ & 0.09185956 & 0.02956950 & 0.06611288 & 0.00000000 & 0.5333703 & 0.14123730 & minimum age          & youth possession                                                            & handgun                 & Restrictive\\\\\n",
       "\t3 & 17 & AL1023 & Alabama & 18659 & 104 & 122 & 0.7061533 & 0.2400103 & 1.1013777 & 0.08278415 & ⋯ & 0.00000000 & 0.14658213 & 0.08075277 & 0.00000000 & 1.0879730 & 0.09007878 & prohibited possessor & dvro                                                                        & handgun and/or long gun & Restrictive\\\\\n",
       "\t4 & 18 & AL1024 & Alabama & 18659 & 104 & 122 & 0.4919999 & 0.3287847 & 0.0000000 & 0.54921526 & ⋯ & 0.12998086 & 0.35755184 & 0.00000000 & 0.00000000 & 1.5993187 & 0.28354220 & prohibited possessor & mental health : adjudicated as mentally incompetent//incapacitated/disabled & handgun and/or long gun & Restrictive\\\\\n",
       "\t5 & 19 & AL1025 & Alabama & 18659 & 104 & 122 & 0.9139149 & 0.0000000 & 0.0000000 & 1.16450510 & ⋯ & 0.58353900 & 0.04831076 & 0.10736682 & 0.04868733 & 0.3842420 & 0.11709394 & prohibited possessor & mental health : committed to mh facility                                    & handgun and/or long gun & Restrictive\\\\\n",
       "\t6 & 20 & AL1031 & Alabama & 18659 & 104 & 122 & 1.1511353 & 0.4736995 & 0.0000000 & 0.00000000 & ⋯ & 1.13498510 & 0.00000000 & 0.00000000 & 0.25353146 & 0.0000000 & 0.00000000 & background checks    & sales from dealer : federal                                                 & handgun                 & Restrictive\\\\\n",
       "\\end{tabular}\n"
      ],
      "text/markdown": [
       "\n",
       "A data.frame: 6 × 40\n",
       "\n",
       "| <!--/--> | X &lt;int&gt; | law_id &lt;chr&gt; | state &lt;chr&gt; | period &lt;int&gt; | monthly_gun_deaths &lt;dbl&gt; | prior_monthly_deaths &lt;dbl&gt; | topic_0 &lt;dbl&gt; | topic_1 &lt;dbl&gt; | topic_2 &lt;dbl&gt; | topic_3 &lt;dbl&gt; | ⋯ ⋯ | topic_24 &lt;dbl&gt; | topic_25 &lt;dbl&gt; | topic_26 &lt;dbl&gt; | topic_27 &lt;dbl&gt; | topic_28 &lt;dbl&gt; | topic_29 &lt;dbl&gt; | law_class &lt;chr&gt; | law_class_subtype &lt;chr&gt; | gun_type &lt;chr&gt; | effect &lt;chr&gt; |\n",
       "|---|---|---|---|---|---|---|---|---|---|---|---|---|---|---|---|---|---|---|---|---|---|\n",
       "| 1 | 13 | AL1011 | Alabama | 18659 | 104 | 122 | 0.7412793 | 0.0000000 | 0.3996449 | 0.07698733 | ⋯ | 0.00000000 | 0.47808020 | 0.00000000 | 0.00000000 | 0.0000000 | 0.08247723 | minimum age          | purchase and sale                                                           | handgun                 | Restrictive |\n",
       "| 2 | 14 | AL1012 | Alabama | 18659 | 104 | 122 | 0.8380055 | 0.0617550 | 0.5881827 | 0.06054969 | ⋯ | 0.09185956 | 0.02956950 | 0.06611288 | 0.00000000 | 0.5333703 | 0.14123730 | minimum age          | youth possession                                                            | handgun                 | Restrictive |\n",
       "| 3 | 17 | AL1023 | Alabama | 18659 | 104 | 122 | 0.7061533 | 0.2400103 | 1.1013777 | 0.08278415 | ⋯ | 0.00000000 | 0.14658213 | 0.08075277 | 0.00000000 | 1.0879730 | 0.09007878 | prohibited possessor | dvro                                                                        | handgun and/or long gun | Restrictive |\n",
       "| 4 | 18 | AL1024 | Alabama | 18659 | 104 | 122 | 0.4919999 | 0.3287847 | 0.0000000 | 0.54921526 | ⋯ | 0.12998086 | 0.35755184 | 0.00000000 | 0.00000000 | 1.5993187 | 0.28354220 | prohibited possessor | mental health : adjudicated as mentally incompetent//incapacitated/disabled | handgun and/or long gun | Restrictive |\n",
       "| 5 | 19 | AL1025 | Alabama | 18659 | 104 | 122 | 0.9139149 | 0.0000000 | 0.0000000 | 1.16450510 | ⋯ | 0.58353900 | 0.04831076 | 0.10736682 | 0.04868733 | 0.3842420 | 0.11709394 | prohibited possessor | mental health : committed to mh facility                                    | handgun and/or long gun | Restrictive |\n",
       "| 6 | 20 | AL1031 | Alabama | 18659 | 104 | 122 | 1.1511353 | 0.4736995 | 0.0000000 | 0.00000000 | ⋯ | 1.13498510 | 0.00000000 | 0.00000000 | 0.25353146 | 0.0000000 | 0.00000000 | background checks    | sales from dealer : federal                                                 | handgun                 | Restrictive |\n",
       "\n"
      ],
      "text/plain": [
       "  X  law_id state   period monthly_gun_deaths prior_monthly_deaths topic_0  \n",
       "1 13 AL1011 Alabama 18659  104                122                  0.7412793\n",
       "2 14 AL1012 Alabama 18659  104                122                  0.8380055\n",
       "3 17 AL1023 Alabama 18659  104                122                  0.7061533\n",
       "4 18 AL1024 Alabama 18659  104                122                  0.4919999\n",
       "5 19 AL1025 Alabama 18659  104                122                  0.9139149\n",
       "6 20 AL1031 Alabama 18659  104                122                  1.1511353\n",
       "  topic_1   topic_2   topic_3    ⋯ topic_24   topic_25   topic_26   topic_27  \n",
       "1 0.0000000 0.3996449 0.07698733 ⋯ 0.00000000 0.47808020 0.00000000 0.00000000\n",
       "2 0.0617550 0.5881827 0.06054969 ⋯ 0.09185956 0.02956950 0.06611288 0.00000000\n",
       "3 0.2400103 1.1013777 0.08278415 ⋯ 0.00000000 0.14658213 0.08075277 0.00000000\n",
       "4 0.3287847 0.0000000 0.54921526 ⋯ 0.12998086 0.35755184 0.00000000 0.00000000\n",
       "5 0.0000000 0.0000000 1.16450510 ⋯ 0.58353900 0.04831076 0.10736682 0.04868733\n",
       "6 0.4736995 0.0000000 0.00000000 ⋯ 1.13498510 0.00000000 0.00000000 0.25353146\n",
       "  topic_28  topic_29   law_class           \n",
       "1 0.0000000 0.08247723 minimum age         \n",
       "2 0.5333703 0.14123730 minimum age         \n",
       "3 1.0879730 0.09007878 prohibited possessor\n",
       "4 1.5993187 0.28354220 prohibited possessor\n",
       "5 0.3842420 0.11709394 prohibited possessor\n",
       "6 0.0000000 0.00000000 background checks   \n",
       "  law_class_subtype                                                          \n",
       "1 purchase and sale                                                          \n",
       "2 youth possession                                                           \n",
       "3 dvro                                                                       \n",
       "4 mental health : adjudicated as mentally incompetent//incapacitated/disabled\n",
       "5 mental health : committed to mh facility                                   \n",
       "6 sales from dealer : federal                                                \n",
       "  gun_type                effect     \n",
       "1 handgun                 Restrictive\n",
       "2 handgun                 Restrictive\n",
       "3 handgun and/or long gun Restrictive\n",
       "4 handgun and/or long gun Restrictive\n",
       "5 handgun and/or long gun Restrictive\n",
       "6 handgun                 Restrictive"
      ]
     },
     "metadata": {},
     "output_type": "display_data"
    }
   ],
   "source": [
    "head(input)"
   ]
  },
  {
   "cell_type": "markdown",
   "id": "1208de20-bf21-428e-88cf-987b320939af",
   "metadata": {},
   "source": [
    "## Running the Model"
   ]
  },
  {
   "cell_type": "markdown",
   "id": "d47593bd-3f22-49e0-bed8-a387f747b444",
   "metadata": {},
   "source": [
    "### Topics as Fixed Effects"
   ]
  },
  {
   "cell_type": "code",
   "execution_count": 6,
   "id": "12361c52-472a-49ea-8a63-0e0da98f5315",
   "metadata": {
    "tags": []
   },
   "outputs": [],
   "source": [
    "topics_fe_model <- lmer(monthly_gun_deaths ~ topic_0 + topic_1 + topic_2 + topic_3 + topic_4 + topic_5 + \n",
    "              topic_6 + topic_7 + topic_8 + topic_9 + topic_10 + topic_11 + topic_12 + topic_13 +\n",
    "              topic_14 + topic_15 + topic_16 + topic_17 + topic_18 + topic_19 + topic_20 + topic_21  + topic_22 +\n",
    "                + topic_23  + topic_24  + topic_25  + topic_26  + topic_27  + topic_28 +\n",
    "                + topic_29 + (1 | state) + (1 | period) + (1 | prior_monthly_deaths), data=input)"
   ]
  },
  {
   "cell_type": "code",
   "execution_count": 7,
   "id": "f09ca87d-41ed-4e51-8cbd-51db0baa93d1",
   "metadata": {
    "tags": []
   },
   "outputs": [
    {
     "name": "stderr",
     "output_type": "stream",
     "text": [
      "\n",
      "Correlation matrix not shown by default, as p = 31 > 12.\n",
      "Use print(obj, correlation=TRUE)  or\n",
      "    vcov(obj)        if you need it\n",
      "\n",
      "\n"
     ]
    },
    {
     "data": {
      "text/plain": [
       "Linear mixed model fit by REML ['lmerMod']\n",
       "Formula: monthly_gun_deaths ~ topic_0 + topic_1 + topic_2 + topic_3 +  \n",
       "    topic_4 + topic_5 + topic_6 + topic_7 + topic_8 + topic_9 +  \n",
       "    topic_10 + topic_11 + topic_12 + topic_13 + topic_14 + topic_15 +  \n",
       "    topic_16 + topic_17 + topic_18 + topic_19 + topic_20 + topic_21 +  \n",
       "    topic_22 + +topic_23 + topic_24 + topic_25 + topic_26 + topic_27 +  \n",
       "    topic_28 + +topic_29 + (1 | state) + (1 | period) + (1 |  \n",
       "    prior_monthly_deaths)\n",
       "   Data: input\n",
       "\n",
       "REML criterion at convergence: 1278298\n",
       "\n",
       "Scaled residuals: \n",
       "    Min      1Q  Median      3Q     Max \n",
       "-7.7689 -0.5369 -0.0202  0.5123  8.1362 \n",
       "\n",
       "Random effects:\n",
       " Groups               Name        Variance Std.Dev.\n",
       " prior_monthly_deaths (Intercept) 4505.92  67.126  \n",
       " period               (Intercept)   33.42   5.781  \n",
       " state                (Intercept)  928.66  30.474  \n",
       " Residual                          108.26  10.405  \n",
       "Number of obs: 169167, groups:  \n",
       "prior_monthly_deaths, 433; period, 275; state, 51\n",
       "\n",
       "Fixed effects:\n",
       "            Estimate Std. Error t value\n",
       "(Intercept)  77.4521    15.6554   4.947\n",
       "topic_0       3.0433     1.5209   2.001\n",
       "topic_1       2.9520     1.7157   1.721\n",
       "topic_2       4.1221     2.3580   1.748\n",
       "topic_3       3.0157     1.7734   1.700\n",
       "topic_4       5.5106     3.1039   1.775\n",
       "topic_5       8.6062     4.6963   1.833\n",
       "topic_6       5.6126     3.1007   1.810\n",
       "topic_7       3.9893     1.9741   2.021\n",
       "topic_8       5.6820     3.1176   1.823\n",
       "topic_9       4.9438     2.7399   1.804\n",
       "topic_10      6.9596     4.0907   1.701\n",
       "topic_11      5.4949     3.1425   1.749\n",
       "topic_12      6.2006     3.4378   1.804\n",
       "topic_13      4.5647     3.0251   1.509\n",
       "topic_14      6.8884     4.3585   1.580\n",
       "topic_15      3.5360     2.0823   1.698\n",
       "topic_16      5.2302     2.8591   1.829\n",
       "topic_17      3.9730     1.9587   2.028\n",
       "topic_18      3.9612     2.2967   1.725\n",
       "topic_19      2.0405     1.1529   1.770\n",
       "topic_20      3.4771     1.7915   1.941\n",
       "topic_21      5.5613     3.1176   1.784\n",
       "topic_22      3.7946     2.3720   1.600\n",
       "topic_23      4.6875     2.4724   1.896\n",
       "topic_24      4.9068     2.9562   1.660\n",
       "topic_25      6.1903     3.6519   1.695\n",
       "topic_26      3.4570     1.8874   1.832\n",
       "topic_27     13.7804     7.3689   1.870\n",
       "topic_28      1.5890     0.9485   1.675\n",
       "topic_29      6.1478     3.4158   1.800"
      ]
     },
     "metadata": {},
     "output_type": "display_data"
    }
   ],
   "source": [
    "summary(topics_fe_model)"
   ]
  },
  {
   "cell_type": "markdown",
   "id": "fe2454d1-2938-44d5-b4a1-f08871d9691d",
   "metadata": {},
   "source": [
    "## Topics as Fixed Effects Grouped by State"
   ]
  },
  {
   "cell_type": "code",
   "execution_count": 8,
   "id": "a93b59c0-cfc9-49f2-938d-3778b94b1cb9",
   "metadata": {
    "tags": []
   },
   "outputs": [
    {
     "name": "stderr",
     "output_type": "stream",
     "text": [
      "boundary (singular) fit: see help('isSingular')\n",
      "\n"
     ]
    }
   ],
   "source": [
    "topics_state_model <- lmer(monthly_gun_deaths ~ (topic_0 + topic_1 + topic_2 + topic_3 + topic_4 +\n",
    "                                                 topic_5 + topic_6 + topic_7 + topic_8 + topic_9 + \n",
    "                                                 topic_10 + topic_11 + topic_12 + topic_13 + \n",
    "                                                 topic_14 + topic_15 + topic_16 + topic_17 + \n",
    "                                                 topic_18 + topic_19 + topic_20 + topic_21  + topic_22 +\n",
    "                                                + topic_23  + topic_24  + topic_25  + topic_26  + topic_27  + topic_28 +\n",
    "                                                + topic_29 || state) + (1 | period) + (1 | prior_monthly_deaths), data=input)"
   ]
  },
  {
   "cell_type": "code",
   "execution_count": 9,
   "id": "8b8c88ee-0782-44cb-b5bb-2881ecd84444",
   "metadata": {
    "tags": []
   },
   "outputs": [
    {
     "data": {
      "text/plain": [
       "Linear mixed model fit by REML ['lmerMod']\n",
       "Formula: monthly_gun_deaths ~ ((1 | state) + (0 + topic_0 | state) + (0 +  \n",
       "    topic_1 | state) + (0 + topic_2 | state) + (0 + topic_3 |  \n",
       "    state) + (0 + topic_4 | state) + (0 + topic_5 | state) +  \n",
       "    (0 + topic_6 | state) + (0 + topic_7 | state) + (0 + topic_8 |  \n",
       "    state) + (0 + topic_9 | state) + (0 + topic_10 | state) +  \n",
       "    (0 + topic_11 | state) + (0 + topic_12 | state) + (0 + topic_13 |  \n",
       "    state) + (0 + topic_14 | state) + (0 + topic_15 | state) +  \n",
       "    (0 + topic_16 | state) + (0 + topic_17 | state) + (0 + topic_18 |  \n",
       "    state) + (0 + topic_19 | state) + (0 + topic_20 | state) +  \n",
       "    (0 + topic_21 | state) + (0 + topic_22 | state) + (0 + topic_23 |  \n",
       "    state) + (0 + topic_24 | state) + (0 + topic_25 | state) +  \n",
       "    (0 + topic_26 | state) + (0 + topic_27 | state) + (0 + topic_28 |  \n",
       "    state) + (0 + topic_29 | state)) + (1 | period) + (1 | prior_monthly_deaths)\n",
       "   Data: input\n",
       "\n",
       "REML criterion at convergence: 1277650\n",
       "\n",
       "Scaled residuals: \n",
       "    Min      1Q  Median      3Q     Max \n",
       "-7.7561 -0.5360 -0.0218  0.5108  8.3388 \n",
       "\n",
       "Random effects:\n",
       " Groups               Name        Variance  Std.Dev. \n",
       " prior_monthly_deaths (Intercept) 4.317e+03 6.571e+01\n",
       " period               (Intercept) 3.417e+01 5.846e+00\n",
       " state                topic_29    8.993e+00 2.999e+00\n",
       " state.1              topic_28    4.505e-01 6.712e-01\n",
       " state.2              topic_27    1.601e+01 4.001e+00\n",
       " state.3              topic_26    0.000e+00 0.000e+00\n",
       " state.4              topic_25    3.044e+01 5.517e+00\n",
       " state.5              topic_24    9.244e-01 9.615e-01\n",
       " state.6              topic_23    2.305e+01 4.801e+00\n",
       " state.7              topic_22    1.322e+00 1.150e+00\n",
       " state.8              topic_21    1.241e-08 1.114e-04\n",
       " state.9              topic_20    1.600e+00 1.265e+00\n",
       " state.10             topic_19    1.444e-01 3.800e-01\n",
       " state.11             topic_18    0.000e+00 0.000e+00\n",
       " state.12             topic_17    2.510e+01 5.010e+00\n",
       " state.13             topic_16    0.000e+00 0.000e+00\n",
       " state.14             topic_15    8.831e+00 2.972e+00\n",
       " state.15             topic_14    1.944e+01 4.410e+00\n",
       " state.16             topic_13    1.850e-06 1.360e-03\n",
       " state.17             topic_12    1.478e+01 3.844e+00\n",
       " state.18             topic_11    2.824e+00 1.681e+00\n",
       " state.19             topic_10    9.046e-01 9.511e-01\n",
       " state.20             topic_9     2.831e-01 5.321e-01\n",
       " state.21             topic_8     5.737e-01 7.574e-01\n",
       " state.22             topic_7     7.730e-01 8.792e-01\n",
       " state.23             topic_6     3.322e+00 1.823e+00\n",
       " state.24             topic_5     9.192e-01 9.587e-01\n",
       " state.25             topic_4     1.430e+00 1.196e+00\n",
       " state.26             topic_3     0.000e+00 0.000e+00\n",
       " state.27             topic_2     2.193e+00 1.481e+00\n",
       " state.28             topic_1     1.150e-07 3.391e-04\n",
       " state.29             topic_0     7.001e-01 8.367e-01\n",
       " state.30             (Intercept) 9.458e+02 3.075e+01\n",
       " Residual                         1.072e+02 1.035e+01\n",
       "Number of obs: 169167, groups:  \n",
       "prior_monthly_deaths, 433; period, 275; state, 51\n",
       "\n",
       "Fixed effects:\n",
       "            Estimate Std. Error t value\n",
       "(Intercept)  102.631      5.359   19.15\n",
       "optimizer (nloptwrap) convergence code: 0 (OK)\n",
       "boundary (singular) fit: see help('isSingular')\n"
      ]
     },
     "metadata": {},
     "output_type": "display_data"
    }
   ],
   "source": [
    "summary(topics_state_model)"
   ]
  },
  {
   "cell_type": "markdown",
   "id": "898ea5aa-7258-4bde-8c5d-a027d19c55f4",
   "metadata": {},
   "source": [
    "## RAND Categorical Input Instead of Topics"
   ]
  },
  {
   "cell_type": "code",
   "execution_count": 10,
   "id": "250977ea-d4d0-4197-931d-cacab2b5c208",
   "metadata": {
    "tags": []
   },
   "outputs": [],
   "source": [
    "rand_model <- lmer(monthly_gun_deaths ~ law_class + gun_type + effect + \n",
    "                   (1 | state) +\n",
    "                   (1 | period) + (1 | prior_monthly_deaths), data=input)"
   ]
  },
  {
   "cell_type": "code",
   "execution_count": 11,
   "id": "1fc961d4-8192-4030-a6ca-7e3ade1b3073",
   "metadata": {
    "tags": []
   },
   "outputs": [
    {
     "name": "stderr",
     "output_type": "stream",
     "text": [
      "\n",
      "Correlation matrix not shown by default, as p = 22 > 12.\n",
      "Use print(obj, correlation=TRUE)  or\n",
      "    vcov(obj)        if you need it\n",
      "\n",
      "\n"
     ]
    },
    {
     "data": {
      "text/plain": [
       "Linear mixed model fit by REML ['lmerMod']\n",
       "Formula: monthly_gun_deaths ~ law_class + gun_type + effect + (1 | state) +  \n",
       "    (1 | period) + (1 | prior_monthly_deaths)\n",
       "   Data: input\n",
       "\n",
       "REML criterion at convergence: 1278219\n",
       "\n",
       "Scaled residuals: \n",
       "    Min      1Q  Median      3Q     Max \n",
       "-7.7485 -0.5376 -0.0204  0.5133  8.1450 \n",
       "\n",
       "Random effects:\n",
       " Groups               Name        Variance Std.Dev.\n",
       " prior_monthly_deaths (Intercept) 4494.06  67.038  \n",
       " period               (Intercept)   33.29   5.769  \n",
       " state                (Intercept)  930.04  30.497  \n",
       " Residual                          108.23  10.403  \n",
       "Number of obs: 169167, groups:  \n",
       "prior_monthly_deaths, 433; period, 275; state, 51\n",
       "\n",
       "Fixed effects:\n",
       "                                                        Estimate Std. Error\n",
       "(Intercept)                                            109.38225    6.53616\n",
       "law_classcarrying a concealed weapon (ccw)              -0.53254    0.22169\n",
       "law_classcastle doctrine                                -0.85659    0.54001\n",
       "law_classchild access laws                              -0.27277    0.26715\n",
       "law_classdealer license                                  6.54451    1.81330\n",
       "law_classfirearm removal at scene of domestic violence  -0.31075    0.28579\n",
       "law_classfirearm sales restrictions                      0.15054    0.14291\n",
       "law_classfirearms in college/university                  0.03662    0.09637\n",
       "law_classfirearms in K-12 educational settings           4.36233    0.67257\n",
       "law_classgun trafficking                                -0.79710    0.34078\n",
       "law_classlocal laws preempted by state                  -0.88258    0.30140\n",
       "law_classminimum age                                     0.02365    0.08040\n",
       "law_classopen carry                                     -0.12098    0.16284\n",
       "law_classpermit to purchase                             -0.43607    0.35407\n",
       "law_classprohibited possessor                           -0.09292    0.24829\n",
       "law_classrequired reporting of lost or stolen firearms  -0.27128    0.16345\n",
       "law_classsafety training required                       -0.48591    0.24292\n",
       "law_classwaiting period                                  1.27704    1.94518\n",
       "gun_typehandgun and/or long gun                          0.34940    0.23718\n",
       "gun_typelong gun                                        -0.03759    0.06391\n",
       "effectPermissive                                        -4.92695    3.73711\n",
       "effectRestrictive                                       -5.52874    3.74057\n",
       "                                                       t value\n",
       "(Intercept)                                             16.735\n",
       "law_classcarrying a concealed weapon (ccw)              -2.402\n",
       "law_classcastle doctrine                                -1.586\n",
       "law_classchild access laws                              -1.021\n",
       "law_classdealer license                                  3.609\n",
       "law_classfirearm removal at scene of domestic violence  -1.087\n",
       "law_classfirearm sales restrictions                      1.053\n",
       "law_classfirearms in college/university                  0.380\n",
       "law_classfirearms in K-12 educational settings           6.486\n",
       "law_classgun trafficking                                -2.339\n",
       "law_classlocal laws preempted by state                  -2.928\n",
       "law_classminimum age                                     0.294\n",
       "law_classopen carry                                     -0.743\n",
       "law_classpermit to purchase                             -1.232\n",
       "law_classprohibited possessor                           -0.374\n",
       "law_classrequired reporting of lost or stolen firearms  -1.660\n",
       "law_classsafety training required                       -2.000\n",
       "law_classwaiting period                                  0.657\n",
       "gun_typehandgun and/or long gun                          1.473\n",
       "gun_typelong gun                                        -0.588\n",
       "effectPermissive                                        -1.318\n",
       "effectRestrictive                                       -1.478"
      ]
     },
     "metadata": {},
     "output_type": "display_data"
    }
   ],
   "source": [
    "summary(rand_model)"
   ]
  },
  {
   "cell_type": "markdown",
   "id": "41e9dc30-1494-455b-a202-25f713f19cf5",
   "metadata": {},
   "source": [
    "## Save Selected Model Coefficients to CSV"
   ]
  },
  {
   "cell_type": "code",
   "execution_count": 12,
   "id": "50d4aa5d-fd4d-4636-995f-d353d801a1d2",
   "metadata": {
    "tags": []
   },
   "outputs": [
    {
     "data": {
      "text/html": [
       "<table class=\"dataframe\">\n",
       "<caption>A data.frame: 6 × 31</caption>\n",
       "<thead>\n",
       "\t<tr><th></th><th scope=col>topic_29</th><th scope=col>topic_28</th><th scope=col>topic_27</th><th scope=col>topic_26</th><th scope=col>topic_25</th><th scope=col>topic_24</th><th scope=col>topic_23</th><th scope=col>topic_22</th><th scope=col>topic_21</th><th scope=col>topic_20</th><th scope=col>⋯</th><th scope=col>topic_8</th><th scope=col>topic_7</th><th scope=col>topic_6</th><th scope=col>topic_5</th><th scope=col>topic_4</th><th scope=col>topic_3</th><th scope=col>topic_2</th><th scope=col>topic_1</th><th scope=col>topic_0</th><th scope=col>(Intercept)</th></tr>\n",
       "\t<tr><th></th><th scope=col>&lt;dbl&gt;</th><th scope=col>&lt;dbl&gt;</th><th scope=col>&lt;dbl&gt;</th><th scope=col>&lt;dbl&gt;</th><th scope=col>&lt;dbl&gt;</th><th scope=col>&lt;dbl&gt;</th><th scope=col>&lt;dbl&gt;</th><th scope=col>&lt;dbl&gt;</th><th scope=col>&lt;dbl&gt;</th><th scope=col>&lt;dbl&gt;</th><th scope=col>⋯</th><th scope=col>&lt;dbl&gt;</th><th scope=col>&lt;dbl&gt;</th><th scope=col>&lt;dbl&gt;</th><th scope=col>&lt;dbl&gt;</th><th scope=col>&lt;dbl&gt;</th><th scope=col>&lt;dbl&gt;</th><th scope=col>&lt;dbl&gt;</th><th scope=col>&lt;dbl&gt;</th><th scope=col>&lt;dbl&gt;</th><th scope=col>&lt;dbl&gt;</th></tr>\n",
       "</thead>\n",
       "<tbody>\n",
       "\t<tr><th scope=row>Alabama</th><td> 1.33789985</td><td> 0.172039934</td><td> 0.11342324</td><td>0</td><td>-3.32223051</td><td>-0.134446698</td><td> 1.5886461</td><td>-0.040043640</td><td> 2.027202e-09</td><td>-0.388175249</td><td>⋯</td><td> 0.279116754</td><td>-0.376556315</td><td> 0.522375601</td><td> 0.0250256002</td><td> 0.05890575</td><td>0</td><td> 0.89771918</td><td>-1.814153e-07</td><td>-0.26774369</td><td>122.95768</td></tr>\n",
       "\t<tr><th scope=row>Alaska</th><td>-0.03379297</td><td>-0.008871784</td><td>-0.01031871</td><td>0</td><td>-0.04099766</td><td>-0.007145184</td><td>-0.0398692</td><td>-0.003716062</td><td>-5.397339e-11</td><td>-0.011110026</td><td>⋯</td><td>-0.005372681</td><td>-0.008754677</td><td>-0.007841334</td><td>-0.0001649544</td><td>-0.01127375</td><td>0</td><td>-0.02087439</td><td>-2.098014e-09</td><td>-0.01947516</td><td> 72.83614</td></tr>\n",
       "\t<tr><th scope=row>Arizona</th><td>-0.42570507</td><td>-0.113901499</td><td> 0.37692022</td><td>0</td><td> 0.54815744</td><td>-0.156341101</td><td> 1.7037543</td><td> 0.006937830</td><td> 1.249944e-09</td><td>-0.008212827</td><td>⋯</td><td> 0.011935568</td><td>-0.090049391</td><td>-0.184375919</td><td>-0.1658620106</td><td> 0.10107768</td><td>0</td><td> 0.19024512</td><td>-2.041640e-08</td><td> 0.01862643</td><td>125.27452</td></tr>\n",
       "\t<tr><th scope=row>Arkansas</th><td> 0.31856720</td><td> 0.009243717</td><td>-0.03002181</td><td>0</td><td> 0.01215105</td><td> 0.008368649</td><td>-0.5477209</td><td> 0.004446691</td><td>-1.639152e-09</td><td>-0.007959154</td><td>⋯</td><td>-0.053861913</td><td> 0.082638120</td><td> 0.202381782</td><td> 0.0301531195</td><td>-0.01829905</td><td>0</td><td>-0.15850028</td><td> 8.457436e-09</td><td>-0.04345982</td><td> 99.57079</td></tr>\n",
       "\t<tr><th scope=row>California</th><td>-0.77021596</td><td> 0.203917069</td><td> 0.59923268</td><td>0</td><td> 2.35322652</td><td> 0.344150736</td><td>-3.0271460</td><td>-0.714016491</td><td>-1.304600e-08</td><td> 0.334692972</td><td>⋯</td><td> 0.603758238</td><td>-0.143410782</td><td>-4.951451751</td><td> 0.2154185787</td><td> 1.60686410</td><td>0</td><td> 0.95522520</td><td>-1.871157e-08</td><td> 0.46423358</td><td>190.72172</td></tr>\n",
       "\t<tr><th scope=row>Colorado</th><td> 0.35767977</td><td> 0.231045900</td><td>-1.47184985</td><td>0</td><td> 2.05853954</td><td> 0.317288545</td><td> 4.6284214</td><td> 1.223943335</td><td> 2.779270e-09</td><td> 0.510082909</td><td>⋯</td><td> 0.416132741</td><td> 1.037535099</td><td>-0.910159119</td><td>-0.1966486651</td><td> 1.52191633</td><td>0</td><td>-3.11082908</td><td>-1.941764e-07</td><td>-0.94372444</td><td>107.23122</td></tr>\n",
       "</tbody>\n",
       "</table>\n"
      ],
      "text/latex": [
       "A data.frame: 6 × 31\n",
       "\\begin{tabular}{r|lllllllllllllllllllll}\n",
       "  & topic\\_29 & topic\\_28 & topic\\_27 & topic\\_26 & topic\\_25 & topic\\_24 & topic\\_23 & topic\\_22 & topic\\_21 & topic\\_20 & ⋯ & topic\\_8 & topic\\_7 & topic\\_6 & topic\\_5 & topic\\_4 & topic\\_3 & topic\\_2 & topic\\_1 & topic\\_0 & (Intercept)\\\\\n",
       "  & <dbl> & <dbl> & <dbl> & <dbl> & <dbl> & <dbl> & <dbl> & <dbl> & <dbl> & <dbl> & ⋯ & <dbl> & <dbl> & <dbl> & <dbl> & <dbl> & <dbl> & <dbl> & <dbl> & <dbl> & <dbl>\\\\\n",
       "\\hline\n",
       "\tAlabama &  1.33789985 &  0.172039934 &  0.11342324 & 0 & -3.32223051 & -0.134446698 &  1.5886461 & -0.040043640 &  2.027202e-09 & -0.388175249 & ⋯ &  0.279116754 & -0.376556315 &  0.522375601 &  0.0250256002 &  0.05890575 & 0 &  0.89771918 & -1.814153e-07 & -0.26774369 & 122.95768\\\\\n",
       "\tAlaska & -0.03379297 & -0.008871784 & -0.01031871 & 0 & -0.04099766 & -0.007145184 & -0.0398692 & -0.003716062 & -5.397339e-11 & -0.011110026 & ⋯ & -0.005372681 & -0.008754677 & -0.007841334 & -0.0001649544 & -0.01127375 & 0 & -0.02087439 & -2.098014e-09 & -0.01947516 &  72.83614\\\\\n",
       "\tArizona & -0.42570507 & -0.113901499 &  0.37692022 & 0 &  0.54815744 & -0.156341101 &  1.7037543 &  0.006937830 &  1.249944e-09 & -0.008212827 & ⋯ &  0.011935568 & -0.090049391 & -0.184375919 & -0.1658620106 &  0.10107768 & 0 &  0.19024512 & -2.041640e-08 &  0.01862643 & 125.27452\\\\\n",
       "\tArkansas &  0.31856720 &  0.009243717 & -0.03002181 & 0 &  0.01215105 &  0.008368649 & -0.5477209 &  0.004446691 & -1.639152e-09 & -0.007959154 & ⋯ & -0.053861913 &  0.082638120 &  0.202381782 &  0.0301531195 & -0.01829905 & 0 & -0.15850028 &  8.457436e-09 & -0.04345982 &  99.57079\\\\\n",
       "\tCalifornia & -0.77021596 &  0.203917069 &  0.59923268 & 0 &  2.35322652 &  0.344150736 & -3.0271460 & -0.714016491 & -1.304600e-08 &  0.334692972 & ⋯ &  0.603758238 & -0.143410782 & -4.951451751 &  0.2154185787 &  1.60686410 & 0 &  0.95522520 & -1.871157e-08 &  0.46423358 & 190.72172\\\\\n",
       "\tColorado &  0.35767977 &  0.231045900 & -1.47184985 & 0 &  2.05853954 &  0.317288545 &  4.6284214 &  1.223943335 &  2.779270e-09 &  0.510082909 & ⋯ &  0.416132741 &  1.037535099 & -0.910159119 & -0.1966486651 &  1.52191633 & 0 & -3.11082908 & -1.941764e-07 & -0.94372444 & 107.23122\\\\\n",
       "\\end{tabular}\n"
      ],
      "text/markdown": [
       "\n",
       "A data.frame: 6 × 31\n",
       "\n",
       "| <!--/--> | topic_29 &lt;dbl&gt; | topic_28 &lt;dbl&gt; | topic_27 &lt;dbl&gt; | topic_26 &lt;dbl&gt; | topic_25 &lt;dbl&gt; | topic_24 &lt;dbl&gt; | topic_23 &lt;dbl&gt; | topic_22 &lt;dbl&gt; | topic_21 &lt;dbl&gt; | topic_20 &lt;dbl&gt; | ⋯ ⋯ | topic_8 &lt;dbl&gt; | topic_7 &lt;dbl&gt; | topic_6 &lt;dbl&gt; | topic_5 &lt;dbl&gt; | topic_4 &lt;dbl&gt; | topic_3 &lt;dbl&gt; | topic_2 &lt;dbl&gt; | topic_1 &lt;dbl&gt; | topic_0 &lt;dbl&gt; | (Intercept) &lt;dbl&gt; |\n",
       "|---|---|---|---|---|---|---|---|---|---|---|---|---|---|---|---|---|---|---|---|---|---|\n",
       "| Alabama |  1.33789985 |  0.172039934 |  0.11342324 | 0 | -3.32223051 | -0.134446698 |  1.5886461 | -0.040043640 |  2.027202e-09 | -0.388175249 | ⋯ |  0.279116754 | -0.376556315 |  0.522375601 |  0.0250256002 |  0.05890575 | 0 |  0.89771918 | -1.814153e-07 | -0.26774369 | 122.95768 |\n",
       "| Alaska | -0.03379297 | -0.008871784 | -0.01031871 | 0 | -0.04099766 | -0.007145184 | -0.0398692 | -0.003716062 | -5.397339e-11 | -0.011110026 | ⋯ | -0.005372681 | -0.008754677 | -0.007841334 | -0.0001649544 | -0.01127375 | 0 | -0.02087439 | -2.098014e-09 | -0.01947516 |  72.83614 |\n",
       "| Arizona | -0.42570507 | -0.113901499 |  0.37692022 | 0 |  0.54815744 | -0.156341101 |  1.7037543 |  0.006937830 |  1.249944e-09 | -0.008212827 | ⋯ |  0.011935568 | -0.090049391 | -0.184375919 | -0.1658620106 |  0.10107768 | 0 |  0.19024512 | -2.041640e-08 |  0.01862643 | 125.27452 |\n",
       "| Arkansas |  0.31856720 |  0.009243717 | -0.03002181 | 0 |  0.01215105 |  0.008368649 | -0.5477209 |  0.004446691 | -1.639152e-09 | -0.007959154 | ⋯ | -0.053861913 |  0.082638120 |  0.202381782 |  0.0301531195 | -0.01829905 | 0 | -0.15850028 |  8.457436e-09 | -0.04345982 |  99.57079 |\n",
       "| California | -0.77021596 |  0.203917069 |  0.59923268 | 0 |  2.35322652 |  0.344150736 | -3.0271460 | -0.714016491 | -1.304600e-08 |  0.334692972 | ⋯ |  0.603758238 | -0.143410782 | -4.951451751 |  0.2154185787 |  1.60686410 | 0 |  0.95522520 | -1.871157e-08 |  0.46423358 | 190.72172 |\n",
       "| Colorado |  0.35767977 |  0.231045900 | -1.47184985 | 0 |  2.05853954 |  0.317288545 |  4.6284214 |  1.223943335 |  2.779270e-09 |  0.510082909 | ⋯ |  0.416132741 |  1.037535099 | -0.910159119 | -0.1966486651 |  1.52191633 | 0 | -3.11082908 | -1.941764e-07 | -0.94372444 | 107.23122 |\n",
       "\n"
      ],
      "text/plain": [
       "           topic_29    topic_28     topic_27    topic_26 topic_25   \n",
       "Alabama     1.33789985  0.172039934  0.11342324 0        -3.32223051\n",
       "Alaska     -0.03379297 -0.008871784 -0.01031871 0        -0.04099766\n",
       "Arizona    -0.42570507 -0.113901499  0.37692022 0         0.54815744\n",
       "Arkansas    0.31856720  0.009243717 -0.03002181 0         0.01215105\n",
       "California -0.77021596  0.203917069  0.59923268 0         2.35322652\n",
       "Colorado    0.35767977  0.231045900 -1.47184985 0         2.05853954\n",
       "           topic_24     topic_23   topic_22     topic_21      topic_20     ⋯\n",
       "Alabama    -0.134446698  1.5886461 -0.040043640  2.027202e-09 -0.388175249 ⋯\n",
       "Alaska     -0.007145184 -0.0398692 -0.003716062 -5.397339e-11 -0.011110026 ⋯\n",
       "Arizona    -0.156341101  1.7037543  0.006937830  1.249944e-09 -0.008212827 ⋯\n",
       "Arkansas    0.008368649 -0.5477209  0.004446691 -1.639152e-09 -0.007959154 ⋯\n",
       "California  0.344150736 -3.0271460 -0.714016491 -1.304600e-08  0.334692972 ⋯\n",
       "Colorado    0.317288545  4.6284214  1.223943335  2.779270e-09  0.510082909 ⋯\n",
       "           topic_8      topic_7      topic_6      topic_5       topic_4    \n",
       "Alabama     0.279116754 -0.376556315  0.522375601  0.0250256002  0.05890575\n",
       "Alaska     -0.005372681 -0.008754677 -0.007841334 -0.0001649544 -0.01127375\n",
       "Arizona     0.011935568 -0.090049391 -0.184375919 -0.1658620106  0.10107768\n",
       "Arkansas   -0.053861913  0.082638120  0.202381782  0.0301531195 -0.01829905\n",
       "California  0.603758238 -0.143410782 -4.951451751  0.2154185787  1.60686410\n",
       "Colorado    0.416132741  1.037535099 -0.910159119 -0.1966486651  1.52191633\n",
       "           topic_3 topic_2     topic_1       topic_0     (Intercept)\n",
       "Alabama    0        0.89771918 -1.814153e-07 -0.26774369 122.95768  \n",
       "Alaska     0       -0.02087439 -2.098014e-09 -0.01947516  72.83614  \n",
       "Arizona    0        0.19024512 -2.041640e-08  0.01862643 125.27452  \n",
       "Arkansas   0       -0.15850028  8.457436e-09 -0.04345982  99.57079  \n",
       "California 0        0.95522520 -1.871157e-08  0.46423358 190.72172  \n",
       "Colorado   0       -3.11082908 -1.941764e-07 -0.94372444 107.23122  "
      ]
     },
     "metadata": {},
     "output_type": "display_data"
    }
   ],
   "source": [
    "coef_df <- coef(topics_state_model)$state\n",
    "head(coef_df)"
   ]
  },
  {
   "cell_type": "code",
   "execution_count": 13,
   "id": "8221ce4b-26f4-42d5-86b3-b1ef5b792b23",
   "metadata": {
    "tags": []
   },
   "outputs": [],
   "source": [
    "coef_df$state <- rownames(coef_df)\n",
    "rownames(coef_df) <- NULL"
   ]
  },
  {
   "cell_type": "code",
   "execution_count": 14,
   "id": "06aee4bb-dbd2-482d-b3ce-5847cbccb4ca",
   "metadata": {
    "tags": []
   },
   "outputs": [],
   "source": [
    "names(coef_df) <- c('coef_topic_29','coef_topic_28','coef_topic_27','coef_topic_26',\n",
    "                    'coef_topic_25','coef_topic_24','coef_topic_23','coef_topic_22','coef_topic_21',\n",
    "                    'coef_topic_20','coef_topic_19', 'coef_topic_18', 'coef_topic_17', 'coef_topic_16', \n",
    "                    'coef_topic_15', 'coef_topic_14', 'coef_topic_13', 'coef_topic_12',\n",
    "                    'coef_topic_11', 'coef_topic_10', 'coef_topic_9', 'coef_topic_8',\n",
    "                    'coef_topic_7', 'coef_topic_6', 'coef_topic_5', 'coef_topic_4',\n",
    "                    'coef_topic_3', 'coef_topic_2', 'coef_topic_1', 'coef_topic_0',\n",
    "                    'intercept', 'state')"
   ]
  },
  {
   "cell_type": "code",
   "execution_count": 15,
   "id": "3a59bc1c-f7eb-4a02-8b98-5c73734d2dd6",
   "metadata": {
    "tags": []
   },
   "outputs": [
    {
     "data": {
      "text/html": [
       "<table class=\"dataframe\">\n",
       "<caption>A data.frame: 6 × 32</caption>\n",
       "<thead>\n",
       "\t<tr><th></th><th scope=col>coef_topic_29</th><th scope=col>coef_topic_28</th><th scope=col>coef_topic_27</th><th scope=col>coef_topic_26</th><th scope=col>coef_topic_25</th><th scope=col>coef_topic_24</th><th scope=col>coef_topic_23</th><th scope=col>coef_topic_22</th><th scope=col>coef_topic_21</th><th scope=col>coef_topic_20</th><th scope=col>⋯</th><th scope=col>coef_topic_7</th><th scope=col>coef_topic_6</th><th scope=col>coef_topic_5</th><th scope=col>coef_topic_4</th><th scope=col>coef_topic_3</th><th scope=col>coef_topic_2</th><th scope=col>coef_topic_1</th><th scope=col>coef_topic_0</th><th scope=col>intercept</th><th scope=col>state</th></tr>\n",
       "\t<tr><th></th><th scope=col>&lt;dbl&gt;</th><th scope=col>&lt;dbl&gt;</th><th scope=col>&lt;dbl&gt;</th><th scope=col>&lt;dbl&gt;</th><th scope=col>&lt;dbl&gt;</th><th scope=col>&lt;dbl&gt;</th><th scope=col>&lt;dbl&gt;</th><th scope=col>&lt;dbl&gt;</th><th scope=col>&lt;dbl&gt;</th><th scope=col>&lt;dbl&gt;</th><th scope=col>⋯</th><th scope=col>&lt;dbl&gt;</th><th scope=col>&lt;dbl&gt;</th><th scope=col>&lt;dbl&gt;</th><th scope=col>&lt;dbl&gt;</th><th scope=col>&lt;dbl&gt;</th><th scope=col>&lt;dbl&gt;</th><th scope=col>&lt;dbl&gt;</th><th scope=col>&lt;dbl&gt;</th><th scope=col>&lt;dbl&gt;</th><th scope=col>&lt;chr&gt;</th></tr>\n",
       "</thead>\n",
       "<tbody>\n",
       "\t<tr><th scope=row>1</th><td> 1.33789985</td><td> 0.172039934</td><td> 0.11342324</td><td>0</td><td>-3.32223051</td><td>-0.134446698</td><td> 1.5886461</td><td>-0.040043640</td><td> 2.027202e-09</td><td>-0.388175249</td><td>⋯</td><td>-0.376556315</td><td> 0.522375601</td><td> 0.0250256002</td><td> 0.05890575</td><td>0</td><td> 0.89771918</td><td>-1.814153e-07</td><td>-0.26774369</td><td>122.95768</td><td>Alabama   </td></tr>\n",
       "\t<tr><th scope=row>2</th><td>-0.03379297</td><td>-0.008871784</td><td>-0.01031871</td><td>0</td><td>-0.04099766</td><td>-0.007145184</td><td>-0.0398692</td><td>-0.003716062</td><td>-5.397339e-11</td><td>-0.011110026</td><td>⋯</td><td>-0.008754677</td><td>-0.007841334</td><td>-0.0001649544</td><td>-0.01127375</td><td>0</td><td>-0.02087439</td><td>-2.098014e-09</td><td>-0.01947516</td><td> 72.83614</td><td>Alaska    </td></tr>\n",
       "\t<tr><th scope=row>3</th><td>-0.42570507</td><td>-0.113901499</td><td> 0.37692022</td><td>0</td><td> 0.54815744</td><td>-0.156341101</td><td> 1.7037543</td><td> 0.006937830</td><td> 1.249944e-09</td><td>-0.008212827</td><td>⋯</td><td>-0.090049391</td><td>-0.184375919</td><td>-0.1658620106</td><td> 0.10107768</td><td>0</td><td> 0.19024512</td><td>-2.041640e-08</td><td> 0.01862643</td><td>125.27452</td><td>Arizona   </td></tr>\n",
       "\t<tr><th scope=row>4</th><td> 0.31856720</td><td> 0.009243717</td><td>-0.03002181</td><td>0</td><td> 0.01215105</td><td> 0.008368649</td><td>-0.5477209</td><td> 0.004446691</td><td>-1.639152e-09</td><td>-0.007959154</td><td>⋯</td><td> 0.082638120</td><td> 0.202381782</td><td> 0.0301531195</td><td>-0.01829905</td><td>0</td><td>-0.15850028</td><td> 8.457436e-09</td><td>-0.04345982</td><td> 99.57079</td><td>Arkansas  </td></tr>\n",
       "\t<tr><th scope=row>5</th><td>-0.77021596</td><td> 0.203917069</td><td> 0.59923268</td><td>0</td><td> 2.35322652</td><td> 0.344150736</td><td>-3.0271460</td><td>-0.714016491</td><td>-1.304600e-08</td><td> 0.334692972</td><td>⋯</td><td>-0.143410782</td><td>-4.951451751</td><td> 0.2154185787</td><td> 1.60686410</td><td>0</td><td> 0.95522520</td><td>-1.871157e-08</td><td> 0.46423358</td><td>190.72172</td><td>California</td></tr>\n",
       "\t<tr><th scope=row>6</th><td> 0.35767977</td><td> 0.231045900</td><td>-1.47184985</td><td>0</td><td> 2.05853954</td><td> 0.317288545</td><td> 4.6284214</td><td> 1.223943335</td><td> 2.779270e-09</td><td> 0.510082909</td><td>⋯</td><td> 1.037535099</td><td>-0.910159119</td><td>-0.1966486651</td><td> 1.52191633</td><td>0</td><td>-3.11082908</td><td>-1.941764e-07</td><td>-0.94372444</td><td>107.23122</td><td>Colorado  </td></tr>\n",
       "</tbody>\n",
       "</table>\n"
      ],
      "text/latex": [
       "A data.frame: 6 × 32\n",
       "\\begin{tabular}{r|lllllllllllllllllllll}\n",
       "  & coef\\_topic\\_29 & coef\\_topic\\_28 & coef\\_topic\\_27 & coef\\_topic\\_26 & coef\\_topic\\_25 & coef\\_topic\\_24 & coef\\_topic\\_23 & coef\\_topic\\_22 & coef\\_topic\\_21 & coef\\_topic\\_20 & ⋯ & coef\\_topic\\_7 & coef\\_topic\\_6 & coef\\_topic\\_5 & coef\\_topic\\_4 & coef\\_topic\\_3 & coef\\_topic\\_2 & coef\\_topic\\_1 & coef\\_topic\\_0 & intercept & state\\\\\n",
       "  & <dbl> & <dbl> & <dbl> & <dbl> & <dbl> & <dbl> & <dbl> & <dbl> & <dbl> & <dbl> & ⋯ & <dbl> & <dbl> & <dbl> & <dbl> & <dbl> & <dbl> & <dbl> & <dbl> & <dbl> & <chr>\\\\\n",
       "\\hline\n",
       "\t1 &  1.33789985 &  0.172039934 &  0.11342324 & 0 & -3.32223051 & -0.134446698 &  1.5886461 & -0.040043640 &  2.027202e-09 & -0.388175249 & ⋯ & -0.376556315 &  0.522375601 &  0.0250256002 &  0.05890575 & 0 &  0.89771918 & -1.814153e-07 & -0.26774369 & 122.95768 & Alabama   \\\\\n",
       "\t2 & -0.03379297 & -0.008871784 & -0.01031871 & 0 & -0.04099766 & -0.007145184 & -0.0398692 & -0.003716062 & -5.397339e-11 & -0.011110026 & ⋯ & -0.008754677 & -0.007841334 & -0.0001649544 & -0.01127375 & 0 & -0.02087439 & -2.098014e-09 & -0.01947516 &  72.83614 & Alaska    \\\\\n",
       "\t3 & -0.42570507 & -0.113901499 &  0.37692022 & 0 &  0.54815744 & -0.156341101 &  1.7037543 &  0.006937830 &  1.249944e-09 & -0.008212827 & ⋯ & -0.090049391 & -0.184375919 & -0.1658620106 &  0.10107768 & 0 &  0.19024512 & -2.041640e-08 &  0.01862643 & 125.27452 & Arizona   \\\\\n",
       "\t4 &  0.31856720 &  0.009243717 & -0.03002181 & 0 &  0.01215105 &  0.008368649 & -0.5477209 &  0.004446691 & -1.639152e-09 & -0.007959154 & ⋯ &  0.082638120 &  0.202381782 &  0.0301531195 & -0.01829905 & 0 & -0.15850028 &  8.457436e-09 & -0.04345982 &  99.57079 & Arkansas  \\\\\n",
       "\t5 & -0.77021596 &  0.203917069 &  0.59923268 & 0 &  2.35322652 &  0.344150736 & -3.0271460 & -0.714016491 & -1.304600e-08 &  0.334692972 & ⋯ & -0.143410782 & -4.951451751 &  0.2154185787 &  1.60686410 & 0 &  0.95522520 & -1.871157e-08 &  0.46423358 & 190.72172 & California\\\\\n",
       "\t6 &  0.35767977 &  0.231045900 & -1.47184985 & 0 &  2.05853954 &  0.317288545 &  4.6284214 &  1.223943335 &  2.779270e-09 &  0.510082909 & ⋯ &  1.037535099 & -0.910159119 & -0.1966486651 &  1.52191633 & 0 & -3.11082908 & -1.941764e-07 & -0.94372444 & 107.23122 & Colorado  \\\\\n",
       "\\end{tabular}\n"
      ],
      "text/markdown": [
       "\n",
       "A data.frame: 6 × 32\n",
       "\n",
       "| <!--/--> | coef_topic_29 &lt;dbl&gt; | coef_topic_28 &lt;dbl&gt; | coef_topic_27 &lt;dbl&gt; | coef_topic_26 &lt;dbl&gt; | coef_topic_25 &lt;dbl&gt; | coef_topic_24 &lt;dbl&gt; | coef_topic_23 &lt;dbl&gt; | coef_topic_22 &lt;dbl&gt; | coef_topic_21 &lt;dbl&gt; | coef_topic_20 &lt;dbl&gt; | ⋯ ⋯ | coef_topic_7 &lt;dbl&gt; | coef_topic_6 &lt;dbl&gt; | coef_topic_5 &lt;dbl&gt; | coef_topic_4 &lt;dbl&gt; | coef_topic_3 &lt;dbl&gt; | coef_topic_2 &lt;dbl&gt; | coef_topic_1 &lt;dbl&gt; | coef_topic_0 &lt;dbl&gt; | intercept &lt;dbl&gt; | state &lt;chr&gt; |\n",
       "|---|---|---|---|---|---|---|---|---|---|---|---|---|---|---|---|---|---|---|---|---|---|\n",
       "| 1 |  1.33789985 |  0.172039934 |  0.11342324 | 0 | -3.32223051 | -0.134446698 |  1.5886461 | -0.040043640 |  2.027202e-09 | -0.388175249 | ⋯ | -0.376556315 |  0.522375601 |  0.0250256002 |  0.05890575 | 0 |  0.89771918 | -1.814153e-07 | -0.26774369 | 122.95768 | Alabama    |\n",
       "| 2 | -0.03379297 | -0.008871784 | -0.01031871 | 0 | -0.04099766 | -0.007145184 | -0.0398692 | -0.003716062 | -5.397339e-11 | -0.011110026 | ⋯ | -0.008754677 | -0.007841334 | -0.0001649544 | -0.01127375 | 0 | -0.02087439 | -2.098014e-09 | -0.01947516 |  72.83614 | Alaska     |\n",
       "| 3 | -0.42570507 | -0.113901499 |  0.37692022 | 0 |  0.54815744 | -0.156341101 |  1.7037543 |  0.006937830 |  1.249944e-09 | -0.008212827 | ⋯ | -0.090049391 | -0.184375919 | -0.1658620106 |  0.10107768 | 0 |  0.19024512 | -2.041640e-08 |  0.01862643 | 125.27452 | Arizona    |\n",
       "| 4 |  0.31856720 |  0.009243717 | -0.03002181 | 0 |  0.01215105 |  0.008368649 | -0.5477209 |  0.004446691 | -1.639152e-09 | -0.007959154 | ⋯ |  0.082638120 |  0.202381782 |  0.0301531195 | -0.01829905 | 0 | -0.15850028 |  8.457436e-09 | -0.04345982 |  99.57079 | Arkansas   |\n",
       "| 5 | -0.77021596 |  0.203917069 |  0.59923268 | 0 |  2.35322652 |  0.344150736 | -3.0271460 | -0.714016491 | -1.304600e-08 |  0.334692972 | ⋯ | -0.143410782 | -4.951451751 |  0.2154185787 |  1.60686410 | 0 |  0.95522520 | -1.871157e-08 |  0.46423358 | 190.72172 | California |\n",
       "| 6 |  0.35767977 |  0.231045900 | -1.47184985 | 0 |  2.05853954 |  0.317288545 |  4.6284214 |  1.223943335 |  2.779270e-09 |  0.510082909 | ⋯ |  1.037535099 | -0.910159119 | -0.1966486651 |  1.52191633 | 0 | -3.11082908 | -1.941764e-07 | -0.94372444 | 107.23122 | Colorado   |\n",
       "\n"
      ],
      "text/plain": [
       "  coef_topic_29 coef_topic_28 coef_topic_27 coef_topic_26 coef_topic_25\n",
       "1  1.33789985    0.172039934   0.11342324   0             -3.32223051  \n",
       "2 -0.03379297   -0.008871784  -0.01031871   0             -0.04099766  \n",
       "3 -0.42570507   -0.113901499   0.37692022   0              0.54815744  \n",
       "4  0.31856720    0.009243717  -0.03002181   0              0.01215105  \n",
       "5 -0.77021596    0.203917069   0.59923268   0              2.35322652  \n",
       "6  0.35767977    0.231045900  -1.47184985   0              2.05853954  \n",
       "  coef_topic_24 coef_topic_23 coef_topic_22 coef_topic_21 coef_topic_20 ⋯\n",
       "1 -0.134446698   1.5886461    -0.040043640   2.027202e-09 -0.388175249  ⋯\n",
       "2 -0.007145184  -0.0398692    -0.003716062  -5.397339e-11 -0.011110026  ⋯\n",
       "3 -0.156341101   1.7037543     0.006937830   1.249944e-09 -0.008212827  ⋯\n",
       "4  0.008368649  -0.5477209     0.004446691  -1.639152e-09 -0.007959154  ⋯\n",
       "5  0.344150736  -3.0271460    -0.714016491  -1.304600e-08  0.334692972  ⋯\n",
       "6  0.317288545   4.6284214     1.223943335   2.779270e-09  0.510082909  ⋯\n",
       "  coef_topic_7 coef_topic_6 coef_topic_5  coef_topic_4 coef_topic_3\n",
       "1 -0.376556315  0.522375601  0.0250256002  0.05890575  0           \n",
       "2 -0.008754677 -0.007841334 -0.0001649544 -0.01127375  0           \n",
       "3 -0.090049391 -0.184375919 -0.1658620106  0.10107768  0           \n",
       "4  0.082638120  0.202381782  0.0301531195 -0.01829905  0           \n",
       "5 -0.143410782 -4.951451751  0.2154185787  1.60686410  0           \n",
       "6  1.037535099 -0.910159119 -0.1966486651  1.52191633  0           \n",
       "  coef_topic_2 coef_topic_1  coef_topic_0 intercept state     \n",
       "1  0.89771918  -1.814153e-07 -0.26774369  122.95768 Alabama   \n",
       "2 -0.02087439  -2.098014e-09 -0.01947516   72.83614 Alaska    \n",
       "3  0.19024512  -2.041640e-08  0.01862643  125.27452 Arizona   \n",
       "4 -0.15850028   8.457436e-09 -0.04345982   99.57079 Arkansas  \n",
       "5  0.95522520  -1.871157e-08  0.46423358  190.72172 California\n",
       "6 -3.11082908  -1.941764e-07 -0.94372444  107.23122 Colorado  "
      ]
     },
     "metadata": {},
     "output_type": "display_data"
    }
   ],
   "source": [
    "head(coef_df)"
   ]
  },
  {
   "cell_type": "code",
   "execution_count": 16,
   "id": "18237ab4-1046-49eb-b50d-d9ad32d3ef4c",
   "metadata": {
    "tags": []
   },
   "outputs": [
    {
     "data": {
      "text/html": [
       "338334"
      ],
      "text/latex": [
       "338334"
      ],
      "text/markdown": [
       "338334"
      ],
      "text/plain": [
       "[1] 338334"
      ]
     },
     "metadata": {},
     "output_type": "display_data"
    }
   ],
   "source": [
    "options(max.print = 50)\n",
    "\n",
    "# Find the column indices for the top 2 topics with the highest probabilities in each row\n",
    "top2_topic_indices <- t(apply(input[, paste0(\"topic_\", 0:29)], 1, function(x) sort.int(x, index.return=TRUE)$ix[29:30]))\n",
    "length(top2_topic_indices)"
   ]
  },
  {
   "cell_type": "code",
   "execution_count": 17,
   "id": "47bc8405-062d-4a08-ac01-04dce848fcd2",
   "metadata": {
    "tags": []
   },
   "outputs": [
    {
     "data": {
      "text/html": [
       "<style>\n",
       ".list-inline {list-style: none; margin:0; padding: 0}\n",
       ".list-inline>li {display: inline-block}\n",
       ".list-inline>li:not(:last-child)::after {content: \"\\00b7\"; padding: 0 .5ex}\n",
       "</style>\n",
       "<ol class=list-inline><li>169167</li><li>30</li></ol>\n"
      ],
      "text/latex": [
       "\\begin{enumerate*}\n",
       "\\item 169167\n",
       "\\item 30\n",
       "\\end{enumerate*}\n"
      ],
      "text/markdown": [
       "1. 169167\n",
       "2. 30\n",
       "\n",
       "\n"
      ],
      "text/plain": [
       "[1] 169167     30"
      ]
     },
     "metadata": {},
     "output_type": "display_data"
    },
    {
     "data": {
      "text/html": [
       "<style>\n",
       ".list-inline {list-style: none; margin:0; padding: 0}\n",
       ".list-inline>li {display: inline-block}\n",
       ".list-inline>li:not(:last-child)::after {content: \"\\00b7\"; padding: 0 .5ex}\n",
       "</style>\n",
       "<ol class=list-inline><li>169167</li><li>30</li></ol>\n"
      ],
      "text/latex": [
       "\\begin{enumerate*}\n",
       "\\item 169167\n",
       "\\item 30\n",
       "\\end{enumerate*}\n"
      ],
      "text/markdown": [
       "1. 169167\n",
       "2. 30\n",
       "\n",
       "\n"
      ],
      "text/plain": [
       "[1] 169167     30"
      ]
     },
     "metadata": {},
     "output_type": "display_data"
    },
    {
     "data": {
      "text/html": [
       "<table class=\"dataframe\">\n",
       "<caption>A matrix: 6 × 30 of type dbl</caption>\n",
       "<tbody>\n",
       "\t<tr><td>0</td><td>0</td><td>0</td><td>0</td><td>0</td><td>0</td><td>0</td><td>0</td><td>1</td><td>0</td><td>⋯</td><td>0</td><td>1</td><td>0</td><td>0</td><td>0</td><td>0</td><td>0</td><td>0</td><td>0</td><td>0</td></tr>\n",
       "\t<tr><td>1</td><td>0</td><td>0</td><td>0</td><td>0</td><td>0</td><td>0</td><td>0</td><td>1</td><td>0</td><td>⋯</td><td>0</td><td>0</td><td>0</td><td>0</td><td>0</td><td>0</td><td>0</td><td>0</td><td>0</td><td>0</td></tr>\n",
       "\t<tr><td>0</td><td>0</td><td>1</td><td>0</td><td>0</td><td>0</td><td>0</td><td>0</td><td>0</td><td>0</td><td>⋯</td><td>0</td><td>0</td><td>0</td><td>0</td><td>0</td><td>0</td><td>0</td><td>0</td><td>1</td><td>0</td></tr>\n",
       "\t<tr><td>0</td><td>0</td><td>0</td><td>0</td><td>0</td><td>0</td><td>1</td><td>0</td><td>0</td><td>0</td><td>⋯</td><td>0</td><td>0</td><td>0</td><td>0</td><td>0</td><td>0</td><td>0</td><td>0</td><td>1</td><td>0</td></tr>\n",
       "\t<tr><td>1</td><td>0</td><td>0</td><td>1</td><td>0</td><td>0</td><td>0</td><td>0</td><td>0</td><td>0</td><td>⋯</td><td>0</td><td>0</td><td>0</td><td>0</td><td>0</td><td>0</td><td>0</td><td>0</td><td>0</td><td>0</td></tr>\n",
       "\t<tr><td>1</td><td>0</td><td>0</td><td>0</td><td>0</td><td>0</td><td>0</td><td>0</td><td>0</td><td>0</td><td>⋯</td><td>0</td><td>0</td><td>0</td><td>0</td><td>1</td><td>0</td><td>0</td><td>0</td><td>0</td><td>0</td></tr>\n",
       "</tbody>\n",
       "</table>\n"
      ],
      "text/latex": [
       "A matrix: 6 × 30 of type dbl\n",
       "\\begin{tabular}{lllllllllllllllllllll}\n",
       "\t 0 & 0 & 0 & 0 & 0 & 0 & 0 & 0 & 1 & 0 & ⋯ & 0 & 1 & 0 & 0 & 0 & 0 & 0 & 0 & 0 & 0\\\\\n",
       "\t 1 & 0 & 0 & 0 & 0 & 0 & 0 & 0 & 1 & 0 & ⋯ & 0 & 0 & 0 & 0 & 0 & 0 & 0 & 0 & 0 & 0\\\\\n",
       "\t 0 & 0 & 1 & 0 & 0 & 0 & 0 & 0 & 0 & 0 & ⋯ & 0 & 0 & 0 & 0 & 0 & 0 & 0 & 0 & 1 & 0\\\\\n",
       "\t 0 & 0 & 0 & 0 & 0 & 0 & 1 & 0 & 0 & 0 & ⋯ & 0 & 0 & 0 & 0 & 0 & 0 & 0 & 0 & 1 & 0\\\\\n",
       "\t 1 & 0 & 0 & 1 & 0 & 0 & 0 & 0 & 0 & 0 & ⋯ & 0 & 0 & 0 & 0 & 0 & 0 & 0 & 0 & 0 & 0\\\\\n",
       "\t 1 & 0 & 0 & 0 & 0 & 0 & 0 & 0 & 0 & 0 & ⋯ & 0 & 0 & 0 & 0 & 1 & 0 & 0 & 0 & 0 & 0\\\\\n",
       "\\end{tabular}\n"
      ],
      "text/markdown": [
       "\n",
       "A matrix: 6 × 30 of type dbl\n",
       "\n",
       "| 0 | 0 | 0 | 0 | 0 | 0 | 0 | 0 | 1 | 0 | ⋯ | 0 | 1 | 0 | 0 | 0 | 0 | 0 | 0 | 0 | 0 |\n",
       "| 1 | 0 | 0 | 0 | 0 | 0 | 0 | 0 | 1 | 0 | ⋯ | 0 | 0 | 0 | 0 | 0 | 0 | 0 | 0 | 0 | 0 |\n",
       "| 0 | 0 | 1 | 0 | 0 | 0 | 0 | 0 | 0 | 0 | ⋯ | 0 | 0 | 0 | 0 | 0 | 0 | 0 | 0 | 1 | 0 |\n",
       "| 0 | 0 | 0 | 0 | 0 | 0 | 1 | 0 | 0 | 0 | ⋯ | 0 | 0 | 0 | 0 | 0 | 0 | 0 | 0 | 1 | 0 |\n",
       "| 1 | 0 | 0 | 1 | 0 | 0 | 0 | 0 | 0 | 0 | ⋯ | 0 | 0 | 0 | 0 | 0 | 0 | 0 | 0 | 0 | 0 |\n",
       "| 1 | 0 | 0 | 0 | 0 | 0 | 0 | 0 | 0 | 0 | ⋯ | 0 | 0 | 0 | 0 | 1 | 0 | 0 | 0 | 0 | 0 |\n",
       "\n"
      ],
      "text/plain": [
       "     [,1] [,2] [,3] [,4] [,5] [,6] [,7] [,8] [,9] [,10] [,11] [,12] [,13] [,14]\n",
       "[1,] 0    0    0    0    0    0    0    0    1    0     ⋯     0     1     0    \n",
       "[2,] 1    0    0    0    0    0    0    0    1    0     ⋯     0     0     0    \n",
       "     [,15] [,16] [,17] [,18] [,19] [,20] [,21]\n",
       "[1,] 0     0     0     0     0     0     0    \n",
       "[2,] 0     0     0     0     0     0     0    \n",
       " [ reached getOption(\"max.print\") -- omitted 4 rows ]"
      ]
     },
     "metadata": {},
     "output_type": "display_data"
    },
    {
     "data": {
      "text/html": [
       "<table class=\"dataframe\">\n",
       "<caption>A data.frame: 6 × 32</caption>\n",
       "<thead>\n",
       "\t<tr><th></th><th scope=col>state</th><th scope=col>law_id</th><th scope=col>V3</th><th scope=col>V4</th><th scope=col>V5</th><th scope=col>V6</th><th scope=col>V7</th><th scope=col>V8</th><th scope=col>V9</th><th scope=col>V10</th><th scope=col>⋯</th><th scope=col>V23</th><th scope=col>V24</th><th scope=col>V25</th><th scope=col>V26</th><th scope=col>V27</th><th scope=col>V28</th><th scope=col>V29</th><th scope=col>V30</th><th scope=col>V31</th><th scope=col>V32</th></tr>\n",
       "\t<tr><th></th><th scope=col>&lt;chr&gt;</th><th scope=col>&lt;chr&gt;</th><th scope=col>&lt;chr&gt;</th><th scope=col>&lt;chr&gt;</th><th scope=col>&lt;chr&gt;</th><th scope=col>&lt;chr&gt;</th><th scope=col>&lt;chr&gt;</th><th scope=col>&lt;chr&gt;</th><th scope=col>&lt;chr&gt;</th><th scope=col>&lt;chr&gt;</th><th scope=col>⋯</th><th scope=col>&lt;chr&gt;</th><th scope=col>&lt;chr&gt;</th><th scope=col>&lt;chr&gt;</th><th scope=col>&lt;chr&gt;</th><th scope=col>&lt;chr&gt;</th><th scope=col>&lt;chr&gt;</th><th scope=col>&lt;chr&gt;</th><th scope=col>&lt;chr&gt;</th><th scope=col>&lt;chr&gt;</th><th scope=col>&lt;chr&gt;</th></tr>\n",
       "</thead>\n",
       "<tbody>\n",
       "\t<tr><th scope=row>1</th><td>Alabama</td><td>AL1011</td><td>0</td><td>0</td><td>0</td><td>0</td><td>0</td><td>0</td><td>0</td><td>0</td><td>⋯</td><td>0</td><td>1</td><td>0</td><td>0</td><td>0</td><td>0</td><td>0</td><td>0</td><td>0</td><td>0</td></tr>\n",
       "\t<tr><th scope=row>2</th><td>Alabama</td><td>AL1012</td><td>1</td><td>0</td><td>0</td><td>0</td><td>0</td><td>0</td><td>0</td><td>0</td><td>⋯</td><td>0</td><td>0</td><td>0</td><td>0</td><td>0</td><td>0</td><td>0</td><td>0</td><td>0</td><td>0</td></tr>\n",
       "\t<tr><th scope=row>3</th><td>Alabama</td><td>AL1023</td><td>0</td><td>0</td><td>1</td><td>0</td><td>0</td><td>0</td><td>0</td><td>0</td><td>⋯</td><td>0</td><td>0</td><td>0</td><td>0</td><td>0</td><td>0</td><td>0</td><td>0</td><td>1</td><td>0</td></tr>\n",
       "\t<tr><th scope=row>4</th><td>Alabama</td><td>AL1024</td><td>0</td><td>0</td><td>0</td><td>0</td><td>0</td><td>0</td><td>1</td><td>0</td><td>⋯</td><td>0</td><td>0</td><td>0</td><td>0</td><td>0</td><td>0</td><td>0</td><td>0</td><td>1</td><td>0</td></tr>\n",
       "\t<tr><th scope=row>5</th><td>Alabama</td><td>AL1025</td><td>1</td><td>0</td><td>0</td><td>1</td><td>0</td><td>0</td><td>0</td><td>0</td><td>⋯</td><td>0</td><td>0</td><td>0</td><td>0</td><td>0</td><td>0</td><td>0</td><td>0</td><td>0</td><td>0</td></tr>\n",
       "\t<tr><th scope=row>6</th><td>Alabama</td><td>AL1031</td><td>1</td><td>0</td><td>0</td><td>0</td><td>0</td><td>0</td><td>0</td><td>0</td><td>⋯</td><td>0</td><td>0</td><td>0</td><td>0</td><td>1</td><td>0</td><td>0</td><td>0</td><td>0</td><td>0</td></tr>\n",
       "</tbody>\n",
       "</table>\n"
      ],
      "text/latex": [
       "A data.frame: 6 × 32\n",
       "\\begin{tabular}{r|lllllllllllllllllllll}\n",
       "  & state & law\\_id & V3 & V4 & V5 & V6 & V7 & V8 & V9 & V10 & ⋯ & V23 & V24 & V25 & V26 & V27 & V28 & V29 & V30 & V31 & V32\\\\\n",
       "  & <chr> & <chr> & <chr> & <chr> & <chr> & <chr> & <chr> & <chr> & <chr> & <chr> & ⋯ & <chr> & <chr> & <chr> & <chr> & <chr> & <chr> & <chr> & <chr> & <chr> & <chr>\\\\\n",
       "\\hline\n",
       "\t1 & Alabama & AL1011 & 0 & 0 & 0 & 0 & 0 & 0 & 0 & 0 & ⋯ & 0 & 1 & 0 & 0 & 0 & 0 & 0 & 0 & 0 & 0\\\\\n",
       "\t2 & Alabama & AL1012 & 1 & 0 & 0 & 0 & 0 & 0 & 0 & 0 & ⋯ & 0 & 0 & 0 & 0 & 0 & 0 & 0 & 0 & 0 & 0\\\\\n",
       "\t3 & Alabama & AL1023 & 0 & 0 & 1 & 0 & 0 & 0 & 0 & 0 & ⋯ & 0 & 0 & 0 & 0 & 0 & 0 & 0 & 0 & 1 & 0\\\\\n",
       "\t4 & Alabama & AL1024 & 0 & 0 & 0 & 0 & 0 & 0 & 1 & 0 & ⋯ & 0 & 0 & 0 & 0 & 0 & 0 & 0 & 0 & 1 & 0\\\\\n",
       "\t5 & Alabama & AL1025 & 1 & 0 & 0 & 1 & 0 & 0 & 0 & 0 & ⋯ & 0 & 0 & 0 & 0 & 0 & 0 & 0 & 0 & 0 & 0\\\\\n",
       "\t6 & Alabama & AL1031 & 1 & 0 & 0 & 0 & 0 & 0 & 0 & 0 & ⋯ & 0 & 0 & 0 & 0 & 1 & 0 & 0 & 0 & 0 & 0\\\\\n",
       "\\end{tabular}\n"
      ],
      "text/markdown": [
       "\n",
       "A data.frame: 6 × 32\n",
       "\n",
       "| <!--/--> | state &lt;chr&gt; | law_id &lt;chr&gt; | V3 &lt;chr&gt; | V4 &lt;chr&gt; | V5 &lt;chr&gt; | V6 &lt;chr&gt; | V7 &lt;chr&gt; | V8 &lt;chr&gt; | V9 &lt;chr&gt; | V10 &lt;chr&gt; | ⋯ ⋯ | V23 &lt;chr&gt; | V24 &lt;chr&gt; | V25 &lt;chr&gt; | V26 &lt;chr&gt; | V27 &lt;chr&gt; | V28 &lt;chr&gt; | V29 &lt;chr&gt; | V30 &lt;chr&gt; | V31 &lt;chr&gt; | V32 &lt;chr&gt; |\n",
       "|---|---|---|---|---|---|---|---|---|---|---|---|---|---|---|---|---|---|---|---|---|---|\n",
       "| 1 | Alabama | AL1011 | 0 | 0 | 0 | 0 | 0 | 0 | 0 | 0 | ⋯ | 0 | 1 | 0 | 0 | 0 | 0 | 0 | 0 | 0 | 0 |\n",
       "| 2 | Alabama | AL1012 | 1 | 0 | 0 | 0 | 0 | 0 | 0 | 0 | ⋯ | 0 | 0 | 0 | 0 | 0 | 0 | 0 | 0 | 0 | 0 |\n",
       "| 3 | Alabama | AL1023 | 0 | 0 | 1 | 0 | 0 | 0 | 0 | 0 | ⋯ | 0 | 0 | 0 | 0 | 0 | 0 | 0 | 0 | 1 | 0 |\n",
       "| 4 | Alabama | AL1024 | 0 | 0 | 0 | 0 | 0 | 0 | 1 | 0 | ⋯ | 0 | 0 | 0 | 0 | 0 | 0 | 0 | 0 | 1 | 0 |\n",
       "| 5 | Alabama | AL1025 | 1 | 0 | 0 | 1 | 0 | 0 | 0 | 0 | ⋯ | 0 | 0 | 0 | 0 | 0 | 0 | 0 | 0 | 0 | 0 |\n",
       "| 6 | Alabama | AL1031 | 1 | 0 | 0 | 0 | 0 | 0 | 0 | 0 | ⋯ | 0 | 0 | 0 | 0 | 1 | 0 | 0 | 0 | 0 | 0 |\n",
       "\n"
      ],
      "text/plain": [
       "  state   law_id V3 V4 V5 V6 V7 V8 V9 V10 ⋯ V23 V24 V25 V26 V27 V28 V29 V30 V31\n",
       "1 Alabama AL1011 0  0  0  0  0  0  0  0   ⋯ 0   1   0   0   0   0   0   0   0  \n",
       "2 Alabama AL1012 1  0  0  0  0  0  0  0   ⋯ 0   0   0   0   0   0   0   0   0  \n",
       "  V32\n",
       "1 0  \n",
       "2 0  \n",
       " [ reached getOption(\"max.print\") -- omitted 4 rows ]"
      ]
     },
     "metadata": {},
     "output_type": "display_data"
    }
   ],
   "source": [
    "# Create a boolean matrix with 1 for the top 2 topics and 0 for others\n",
    "boolean_matrix <- matrix(0, nrow = nrow(input), ncol = 30)\n",
    "dim(boolean_matrix)\n",
    "for (i in 1:nrow(input)) {\n",
    "  boolean_matrix[i, top2_topic_indices[i, ]] <- 1\n",
    "}\n",
    "dim(boolean_matrix)\n",
    "head(boolean_matrix)\n",
    "\n",
    "# Convert the matrix to a data frame and add columns for states and Law IDs\n",
    "boolean_df <- as.data.frame(cbind(state = input$state, law_id = input$law_id, boolean_matrix))\n",
    "head(boolean_df)"
   ]
  },
  {
   "cell_type": "code",
   "execution_count": 18,
   "id": "d938d3c1-dcca-4f7e-920b-fe9ff87a66ff",
   "metadata": {
    "tags": []
   },
   "outputs": [
    {
     "data": {
      "text/html": [
       "<table class=\"dataframe\">\n",
       "<caption>A data.frame: 6 × 32</caption>\n",
       "<thead>\n",
       "\t<tr><th></th><th scope=col>state</th><th scope=col>law_id</th><th scope=col>topic_0</th><th scope=col>topic_1</th><th scope=col>topic_2</th><th scope=col>topic_3</th><th scope=col>topic_4</th><th scope=col>topic_5</th><th scope=col>topic_6</th><th scope=col>topic_7</th><th scope=col>⋯</th><th scope=col>topic_20</th><th scope=col>topic_21</th><th scope=col>topic_22</th><th scope=col>topic_23</th><th scope=col>topic_24</th><th scope=col>topic_25</th><th scope=col>topic_26</th><th scope=col>topic_27</th><th scope=col>topic_28</th><th scope=col>topic_29</th></tr>\n",
       "\t<tr><th></th><th scope=col>&lt;chr&gt;</th><th scope=col>&lt;chr&gt;</th><th scope=col>&lt;chr&gt;</th><th scope=col>&lt;chr&gt;</th><th scope=col>&lt;chr&gt;</th><th scope=col>&lt;chr&gt;</th><th scope=col>&lt;chr&gt;</th><th scope=col>&lt;chr&gt;</th><th scope=col>&lt;chr&gt;</th><th scope=col>&lt;chr&gt;</th><th scope=col>⋯</th><th scope=col>&lt;chr&gt;</th><th scope=col>&lt;chr&gt;</th><th scope=col>&lt;chr&gt;</th><th scope=col>&lt;chr&gt;</th><th scope=col>&lt;chr&gt;</th><th scope=col>&lt;chr&gt;</th><th scope=col>&lt;chr&gt;</th><th scope=col>&lt;chr&gt;</th><th scope=col>&lt;chr&gt;</th><th scope=col>&lt;chr&gt;</th></tr>\n",
       "</thead>\n",
       "<tbody>\n",
       "\t<tr><th scope=row>1</th><td>Alabama</td><td>AL1011</td><td>0</td><td>0</td><td>0</td><td>0</td><td>0</td><td>0</td><td>0</td><td>0</td><td>⋯</td><td>0</td><td>1</td><td>0</td><td>0</td><td>0</td><td>0</td><td>0</td><td>0</td><td>0</td><td>0</td></tr>\n",
       "\t<tr><th scope=row>2</th><td>Alabama</td><td>AL1012</td><td>1</td><td>0</td><td>0</td><td>0</td><td>0</td><td>0</td><td>0</td><td>0</td><td>⋯</td><td>0</td><td>0</td><td>0</td><td>0</td><td>0</td><td>0</td><td>0</td><td>0</td><td>0</td><td>0</td></tr>\n",
       "\t<tr><th scope=row>3</th><td>Alabama</td><td>AL1023</td><td>0</td><td>0</td><td>1</td><td>0</td><td>0</td><td>0</td><td>0</td><td>0</td><td>⋯</td><td>0</td><td>0</td><td>0</td><td>0</td><td>0</td><td>0</td><td>0</td><td>0</td><td>1</td><td>0</td></tr>\n",
       "\t<tr><th scope=row>4</th><td>Alabama</td><td>AL1024</td><td>0</td><td>0</td><td>0</td><td>0</td><td>0</td><td>0</td><td>1</td><td>0</td><td>⋯</td><td>0</td><td>0</td><td>0</td><td>0</td><td>0</td><td>0</td><td>0</td><td>0</td><td>1</td><td>0</td></tr>\n",
       "\t<tr><th scope=row>5</th><td>Alabama</td><td>AL1025</td><td>1</td><td>0</td><td>0</td><td>1</td><td>0</td><td>0</td><td>0</td><td>0</td><td>⋯</td><td>0</td><td>0</td><td>0</td><td>0</td><td>0</td><td>0</td><td>0</td><td>0</td><td>0</td><td>0</td></tr>\n",
       "\t<tr><th scope=row>6</th><td>Alabama</td><td>AL1031</td><td>1</td><td>0</td><td>0</td><td>0</td><td>0</td><td>0</td><td>0</td><td>0</td><td>⋯</td><td>0</td><td>0</td><td>0</td><td>0</td><td>1</td><td>0</td><td>0</td><td>0</td><td>0</td><td>0</td></tr>\n",
       "</tbody>\n",
       "</table>\n"
      ],
      "text/latex": [
       "A data.frame: 6 × 32\n",
       "\\begin{tabular}{r|lllllllllllllllllllll}\n",
       "  & state & law\\_id & topic\\_0 & topic\\_1 & topic\\_2 & topic\\_3 & topic\\_4 & topic\\_5 & topic\\_6 & topic\\_7 & ⋯ & topic\\_20 & topic\\_21 & topic\\_22 & topic\\_23 & topic\\_24 & topic\\_25 & topic\\_26 & topic\\_27 & topic\\_28 & topic\\_29\\\\\n",
       "  & <chr> & <chr> & <chr> & <chr> & <chr> & <chr> & <chr> & <chr> & <chr> & <chr> & ⋯ & <chr> & <chr> & <chr> & <chr> & <chr> & <chr> & <chr> & <chr> & <chr> & <chr>\\\\\n",
       "\\hline\n",
       "\t1 & Alabama & AL1011 & 0 & 0 & 0 & 0 & 0 & 0 & 0 & 0 & ⋯ & 0 & 1 & 0 & 0 & 0 & 0 & 0 & 0 & 0 & 0\\\\\n",
       "\t2 & Alabama & AL1012 & 1 & 0 & 0 & 0 & 0 & 0 & 0 & 0 & ⋯ & 0 & 0 & 0 & 0 & 0 & 0 & 0 & 0 & 0 & 0\\\\\n",
       "\t3 & Alabama & AL1023 & 0 & 0 & 1 & 0 & 0 & 0 & 0 & 0 & ⋯ & 0 & 0 & 0 & 0 & 0 & 0 & 0 & 0 & 1 & 0\\\\\n",
       "\t4 & Alabama & AL1024 & 0 & 0 & 0 & 0 & 0 & 0 & 1 & 0 & ⋯ & 0 & 0 & 0 & 0 & 0 & 0 & 0 & 0 & 1 & 0\\\\\n",
       "\t5 & Alabama & AL1025 & 1 & 0 & 0 & 1 & 0 & 0 & 0 & 0 & ⋯ & 0 & 0 & 0 & 0 & 0 & 0 & 0 & 0 & 0 & 0\\\\\n",
       "\t6 & Alabama & AL1031 & 1 & 0 & 0 & 0 & 0 & 0 & 0 & 0 & ⋯ & 0 & 0 & 0 & 0 & 1 & 0 & 0 & 0 & 0 & 0\\\\\n",
       "\\end{tabular}\n"
      ],
      "text/markdown": [
       "\n",
       "A data.frame: 6 × 32\n",
       "\n",
       "| <!--/--> | state &lt;chr&gt; | law_id &lt;chr&gt; | topic_0 &lt;chr&gt; | topic_1 &lt;chr&gt; | topic_2 &lt;chr&gt; | topic_3 &lt;chr&gt; | topic_4 &lt;chr&gt; | topic_5 &lt;chr&gt; | topic_6 &lt;chr&gt; | topic_7 &lt;chr&gt; | ⋯ ⋯ | topic_20 &lt;chr&gt; | topic_21 &lt;chr&gt; | topic_22 &lt;chr&gt; | topic_23 &lt;chr&gt; | topic_24 &lt;chr&gt; | topic_25 &lt;chr&gt; | topic_26 &lt;chr&gt; | topic_27 &lt;chr&gt; | topic_28 &lt;chr&gt; | topic_29 &lt;chr&gt; |\n",
       "|---|---|---|---|---|---|---|---|---|---|---|---|---|---|---|---|---|---|---|---|---|---|\n",
       "| 1 | Alabama | AL1011 | 0 | 0 | 0 | 0 | 0 | 0 | 0 | 0 | ⋯ | 0 | 1 | 0 | 0 | 0 | 0 | 0 | 0 | 0 | 0 |\n",
       "| 2 | Alabama | AL1012 | 1 | 0 | 0 | 0 | 0 | 0 | 0 | 0 | ⋯ | 0 | 0 | 0 | 0 | 0 | 0 | 0 | 0 | 0 | 0 |\n",
       "| 3 | Alabama | AL1023 | 0 | 0 | 1 | 0 | 0 | 0 | 0 | 0 | ⋯ | 0 | 0 | 0 | 0 | 0 | 0 | 0 | 0 | 1 | 0 |\n",
       "| 4 | Alabama | AL1024 | 0 | 0 | 0 | 0 | 0 | 0 | 1 | 0 | ⋯ | 0 | 0 | 0 | 0 | 0 | 0 | 0 | 0 | 1 | 0 |\n",
       "| 5 | Alabama | AL1025 | 1 | 0 | 0 | 1 | 0 | 0 | 0 | 0 | ⋯ | 0 | 0 | 0 | 0 | 0 | 0 | 0 | 0 | 0 | 0 |\n",
       "| 6 | Alabama | AL1031 | 1 | 0 | 0 | 0 | 0 | 0 | 0 | 0 | ⋯ | 0 | 0 | 0 | 0 | 1 | 0 | 0 | 0 | 0 | 0 |\n",
       "\n"
      ],
      "text/plain": [
       "  state   law_id topic_0 topic_1 topic_2 topic_3 topic_4 topic_5 topic_6\n",
       "1 Alabama AL1011 0       0       0       0       0       0       0      \n",
       "2 Alabama AL1012 1       0       0       0       0       0       0      \n",
       "  topic_7 ⋯ topic_20 topic_21 topic_22 topic_23 topic_24 topic_25 topic_26\n",
       "1 0       ⋯ 0        1        0        0        0        0        0       \n",
       "2 0       ⋯ 0        0        0        0        0        0        0       \n",
       "  topic_27 topic_28 topic_29\n",
       "1 0        0        0       \n",
       "2 0        0        0       \n",
       " [ reached getOption(\"max.print\") -- omitted 4 rows ]"
      ]
     },
     "metadata": {},
     "output_type": "display_data"
    }
   ],
   "source": [
    "# Add columns for the topic names\n",
    "colnames(boolean_df)[3:(ncol(boolean_df))] <- paste0(\"topic_\", 0:29)\n",
    "head(boolean_df)"
   ]
  },
  {
   "cell_type": "code",
   "execution_count": 19,
   "id": "522f60a7-151f-45ab-81b6-a947a401a78f",
   "metadata": {
    "tags": []
   },
   "outputs": [
    {
     "data": {
      "text/html": [
       "<table class=\"dataframe\">\n",
       "<caption>A tibble: 6 × 31</caption>\n",
       "<thead>\n",
       "\t<tr><th scope=col>state</th><th scope=col>topic_0</th><th scope=col>topic_1</th><th scope=col>topic_2</th><th scope=col>topic_3</th><th scope=col>topic_4</th><th scope=col>topic_5</th><th scope=col>topic_6</th><th scope=col>topic_7</th><th scope=col>topic_8</th><th scope=col>⋯</th><th scope=col>topic_20</th><th scope=col>topic_21</th><th scope=col>topic_22</th><th scope=col>topic_23</th><th scope=col>topic_24</th><th scope=col>topic_25</th><th scope=col>topic_26</th><th scope=col>topic_27</th><th scope=col>topic_28</th><th scope=col>topic_29</th></tr>\n",
       "\t<tr><th scope=col>&lt;chr&gt;</th><th scope=col>&lt;chr&gt;</th><th scope=col>&lt;chr&gt;</th><th scope=col>&lt;chr&gt;</th><th scope=col>&lt;chr&gt;</th><th scope=col>&lt;chr&gt;</th><th scope=col>&lt;chr&gt;</th><th scope=col>&lt;chr&gt;</th><th scope=col>&lt;chr&gt;</th><th scope=col>&lt;chr&gt;</th><th scope=col>⋯</th><th scope=col>&lt;chr&gt;</th><th scope=col>&lt;chr&gt;</th><th scope=col>&lt;chr&gt;</th><th scope=col>&lt;chr&gt;</th><th scope=col>&lt;chr&gt;</th><th scope=col>&lt;chr&gt;</th><th scope=col>&lt;chr&gt;</th><th scope=col>&lt;chr&gt;</th><th scope=col>&lt;chr&gt;</th><th scope=col>&lt;chr&gt;</th></tr>\n",
       "</thead>\n",
       "<tbody>\n",
       "\t<tr><td>Alabama   </td><td>1</td><td>1</td><td>1</td><td>1</td><td>0</td><td>1</td><td>1</td><td>0</td><td>1</td><td>⋯</td><td>0</td><td>1</td><td>0</td><td>0</td><td>1</td><td>0</td><td>0</td><td>0</td><td>1</td><td>0</td></tr>\n",
       "\t<tr><td>Alaska    </td><td>1</td><td>1</td><td>1</td><td>0</td><td>1</td><td>0</td><td>0</td><td>0</td><td>1</td><td>⋯</td><td>0</td><td>0</td><td>0</td><td>0</td><td>1</td><td>0</td><td>0</td><td>0</td><td>1</td><td>0</td></tr>\n",
       "\t<tr><td>Arizona   </td><td>1</td><td>1</td><td>0</td><td>1</td><td>0</td><td>0</td><td>1</td><td>1</td><td>0</td><td>⋯</td><td>0</td><td>0</td><td>0</td><td>0</td><td>1</td><td>0</td><td>0</td><td>0</td><td>1</td><td>0</td></tr>\n",
       "\t<tr><td>Arkansas  </td><td>1</td><td>1</td><td>1</td><td>0</td><td>0</td><td>0</td><td>1</td><td>1</td><td>1</td><td>⋯</td><td>0</td><td>1</td><td>0</td><td>0</td><td>0</td><td>0</td><td>0</td><td>0</td><td>1</td><td>0</td></tr>\n",
       "\t<tr><td>California</td><td>1</td><td>1</td><td>1</td><td>1</td><td>1</td><td>1</td><td>1</td><td>1</td><td>1</td><td>⋯</td><td>0</td><td>1</td><td>0</td><td>0</td><td>1</td><td>0</td><td>1</td><td>0</td><td>1</td><td>1</td></tr>\n",
       "\t<tr><td>Colorado  </td><td>1</td><td>1</td><td>1</td><td>0</td><td>1</td><td>0</td><td>1</td><td>1</td><td>1</td><td>⋯</td><td>0</td><td>0</td><td>0</td><td>0</td><td>0</td><td>0</td><td>1</td><td>0</td><td>1</td><td>0</td></tr>\n",
       "</tbody>\n",
       "</table>\n"
      ],
      "text/latex": [
       "A tibble: 6 × 31\n",
       "\\begin{tabular}{lllllllllllllllllllll}\n",
       " state & topic\\_0 & topic\\_1 & topic\\_2 & topic\\_3 & topic\\_4 & topic\\_5 & topic\\_6 & topic\\_7 & topic\\_8 & ⋯ & topic\\_20 & topic\\_21 & topic\\_22 & topic\\_23 & topic\\_24 & topic\\_25 & topic\\_26 & topic\\_27 & topic\\_28 & topic\\_29\\\\\n",
       " <chr> & <chr> & <chr> & <chr> & <chr> & <chr> & <chr> & <chr> & <chr> & <chr> & ⋯ & <chr> & <chr> & <chr> & <chr> & <chr> & <chr> & <chr> & <chr> & <chr> & <chr>\\\\\n",
       "\\hline\n",
       "\t Alabama    & 1 & 1 & 1 & 1 & 0 & 1 & 1 & 0 & 1 & ⋯ & 0 & 1 & 0 & 0 & 1 & 0 & 0 & 0 & 1 & 0\\\\\n",
       "\t Alaska     & 1 & 1 & 1 & 0 & 1 & 0 & 0 & 0 & 1 & ⋯ & 0 & 0 & 0 & 0 & 1 & 0 & 0 & 0 & 1 & 0\\\\\n",
       "\t Arizona    & 1 & 1 & 0 & 1 & 0 & 0 & 1 & 1 & 0 & ⋯ & 0 & 0 & 0 & 0 & 1 & 0 & 0 & 0 & 1 & 0\\\\\n",
       "\t Arkansas   & 1 & 1 & 1 & 0 & 0 & 0 & 1 & 1 & 1 & ⋯ & 0 & 1 & 0 & 0 & 0 & 0 & 0 & 0 & 1 & 0\\\\\n",
       "\t California & 1 & 1 & 1 & 1 & 1 & 1 & 1 & 1 & 1 & ⋯ & 0 & 1 & 0 & 0 & 1 & 0 & 1 & 0 & 1 & 1\\\\\n",
       "\t Colorado   & 1 & 1 & 1 & 0 & 1 & 0 & 1 & 1 & 1 & ⋯ & 0 & 0 & 0 & 0 & 0 & 0 & 1 & 0 & 1 & 0\\\\\n",
       "\\end{tabular}\n"
      ],
      "text/markdown": [
       "\n",
       "A tibble: 6 × 31\n",
       "\n",
       "| state &lt;chr&gt; | topic_0 &lt;chr&gt; | topic_1 &lt;chr&gt; | topic_2 &lt;chr&gt; | topic_3 &lt;chr&gt; | topic_4 &lt;chr&gt; | topic_5 &lt;chr&gt; | topic_6 &lt;chr&gt; | topic_7 &lt;chr&gt; | topic_8 &lt;chr&gt; | ⋯ ⋯ | topic_20 &lt;chr&gt; | topic_21 &lt;chr&gt; | topic_22 &lt;chr&gt; | topic_23 &lt;chr&gt; | topic_24 &lt;chr&gt; | topic_25 &lt;chr&gt; | topic_26 &lt;chr&gt; | topic_27 &lt;chr&gt; | topic_28 &lt;chr&gt; | topic_29 &lt;chr&gt; |\n",
       "|---|---|---|---|---|---|---|---|---|---|---|---|---|---|---|---|---|---|---|---|---|\n",
       "| Alabama    | 1 | 1 | 1 | 1 | 0 | 1 | 1 | 0 | 1 | ⋯ | 0 | 1 | 0 | 0 | 1 | 0 | 0 | 0 | 1 | 0 |\n",
       "| Alaska     | 1 | 1 | 1 | 0 | 1 | 0 | 0 | 0 | 1 | ⋯ | 0 | 0 | 0 | 0 | 1 | 0 | 0 | 0 | 1 | 0 |\n",
       "| Arizona    | 1 | 1 | 0 | 1 | 0 | 0 | 1 | 1 | 0 | ⋯ | 0 | 0 | 0 | 0 | 1 | 0 | 0 | 0 | 1 | 0 |\n",
       "| Arkansas   | 1 | 1 | 1 | 0 | 0 | 0 | 1 | 1 | 1 | ⋯ | 0 | 1 | 0 | 0 | 0 | 0 | 0 | 0 | 1 | 0 |\n",
       "| California | 1 | 1 | 1 | 1 | 1 | 1 | 1 | 1 | 1 | ⋯ | 0 | 1 | 0 | 0 | 1 | 0 | 1 | 0 | 1 | 1 |\n",
       "| Colorado   | 1 | 1 | 1 | 0 | 1 | 0 | 1 | 1 | 1 | ⋯ | 0 | 0 | 0 | 0 | 0 | 0 | 1 | 0 | 1 | 0 |\n",
       "\n"
      ],
      "text/plain": [
       "  state      topic_0 topic_1 topic_2 topic_3 topic_4 topic_5 topic_6 topic_7\n",
       "1 Alabama    1       1       1       1       0       1       1       0      \n",
       "2 Alaska     1       1       1       0       1       0       0       0      \n",
       "  topic_8 ⋯ topic_20 topic_21 topic_22 topic_23 topic_24 topic_25 topic_26\n",
       "1 1       ⋯ 0        1        0        0        1        0        0       \n",
       "2 1       ⋯ 0        0        0        0        1        0        0       \n",
       "  topic_27 topic_28 topic_29\n",
       "1 0        1        0       \n",
       "2 0        1        0       \n",
       " [ reached getOption(\"max.print\") -- omitted 4 rows ]"
      ]
     },
     "metadata": {},
     "output_type": "display_data"
    }
   ],
   "source": [
    "# Group by 'state' and summarize the topics by taking the maximum value (1 if any law_id has the topic, 0 if no law_id has the topic)\n",
    "state_topic_df <- boolean_df %>%\n",
    "  group_by(state) %>%\n",
    "  summarize(across(starts_with(\"topic_\"), ~ max(.x)))\n",
    "\n",
    "# Print the resulting DataFrame\n",
    "head(state_topic_df)"
   ]
  },
  {
   "cell_type": "code",
   "execution_count": 20,
   "id": "53b5b0f2-9eb6-49e7-846b-8bb26f187afd",
   "metadata": {
    "tags": []
   },
   "outputs": [],
   "source": [
    "write.csv(coef_df, \"lme_coefficients_v3.csv\", row.names=FALSE)"
   ]
  },
  {
   "cell_type": "code",
   "execution_count": 21,
   "id": "61d6fe9a-de64-4144-b9d8-27f5d20a3a66",
   "metadata": {
    "tags": []
   },
   "outputs": [],
   "source": [
    "write.csv(state_topic_df, \"unimplemeted_topics_per_state.csv\", row.names=FALSE)"
   ]
  },
  {
   "cell_type": "markdown",
   "id": "b76be0ea-99f7-42fb-adba-70ae15a072c9",
   "metadata": {},
   "source": [
    "## Get the top 10 topics for each state"
   ]
  },
  {
   "cell_type": "code",
   "execution_count": 27,
   "id": "a1f6f50b-3548-442a-9b85-04d7c79a79d0",
   "metadata": {
    "tags": []
   },
   "outputs": [
    {
     "data": {
      "text/html": [
       "<table class=\"dataframe\">\n",
       "<caption>A data.frame: 20 × 4</caption>\n",
       "<thead>\n",
       "\t<tr><th></th><th scope=col>state</th><th scope=col>topic</th><th scope=col>description</th><th scope=col>rank</th></tr>\n",
       "\t<tr><th></th><th scope=col>&lt;chr&gt;</th><th scope=col>&lt;chr&gt;</th><th scope=col>&lt;chr&gt;</th><th scope=col>&lt;int&gt;</th></tr>\n",
       "</thead>\n",
       "<tbody>\n",
       "\t<tr><th scope=row>1</th><td>Alabama</td><td>Topic 17</td><td>A firearms dealer must obtain a completed statement of intent, inspect proof of identity, and request a records check before transferring any handgun.                                                                                      </td><td> 1</td></tr>\n",
       "\t<tr><th scope=row>2</th><td>Alabama</td><td>Topic 25</td><td>Any person who sells, barters, gives, or furnishes a handgun to a minor, having good cause to believe them to be a minor, is guilty of a Class 6 felony, and must undergo a criminal history background check.                              </td><td> 2</td></tr>\n",
       "\t<tr><th scope=row>3</th><td>Alabama</td><td>Topic 15</td><td>Peace officers must arrest and charge a person suspected of committing a family violence crime, regardless of victim consent, relationship between suspects, or victim's request.                                                           </td><td> 3</td></tr>\n",
       "\t<tr><th scope=row>4</th><td>Alabama</td><td>Topic 20</td><td>A judge may grant up to one year permission to carry a concealed pistol or revolver to U.S. citizens who have submitted a petition to the district court clerk.                                                                             </td><td> 4</td></tr>\n",
       "\t<tr><th scope=row>5</th><td>Alabama</td><td>Topic 7 </td><td>Purchasing of antique cannons, rifles, and shotguns is prohibited, and applications for permits to purchase handguns and firearms purchaser identification cards must be in the form prescribed by the b.                                   </td><td> 5</td></tr>\n",
       "\t<tr><th scope=row>6</th><td>Alabama</td><td>Topic 22</td><td>No handgun shall be delivered to any person without a valid permit to purchase a firearm and at least seven days have elapsed, nor shall any pistol or revolver be delivered within five days of application.                               </td><td> 6</td></tr>\n",
       "\t<tr><th scope=row>7</th><td>Alabama</td><td>Topic 13</td><td>The State has preempted all firearm regulation, prohibiting political subdivisions from enacting any related ordinances.                                                                                                                    </td><td> 7</td></tr>\n",
       "\t<tr><th scope=row>8</th><td>Alabama</td><td>Topic 16</td><td>A person who intentionally or recklessly stores or leaves a loaded firearm within reach or easy access of a minor is guilty of unlawfully permitting access.                                                                                </td><td> 8</td></tr>\n",
       "\t<tr><th scope=row>9</th><td>Alabama</td><td>Topic 18</td><td>Any person who knowingly and intentionally sells, delivers, or transfers a firearm in violation of this section commits a misdemeanor of the second degree.                                                                                 </td><td> 9</td></tr>\n",
       "\t<tr><th scope=row>10</th><td>Alabama</td><td>Topic 26</td><td>The court may enter temporary orders to protect the plaintiff or minor child from abuse and may direct the defendant not to possess a firearm or other dangerous weapon.                                                                    </td><td>10</td></tr>\n",
       "\t<tr><th scope=row>11</th><td>Alaska </td><td>Topic 17</td><td>A firearms dealer must obtain a completed statement of intent, inspect proof of identity, and request a records check before transferring any handgun.                                                                                      </td><td> 1</td></tr>\n",
       "\t<tr><th scope=row>12</th><td>Alaska </td><td>Topic 14</td><td>No person may carry a pistol or revolver, possess a dangerous weapon, firearm, or short barreled shotgun, in any vehicle or on or about their person on school premises without a license or permit.                                        </td><td> 2</td></tr>\n",
       "\t<tr><th scope=row>13</th><td>Alaska </td><td>Topic 25</td><td>Any person who sells, barters, gives, or furnishes a handgun to a minor, having good cause to believe them to be a minor, is guilty of a Class 6 felony, and must undergo a criminal history background check.                              </td><td> 3</td></tr>\n",
       "\t<tr><th scope=row>14</th><td>Alaska </td><td>Topic 15</td><td>Peace officers must arrest and charge a person suspected of committing a family violence crime, regardless of victim consent, relationship between suspects, or victim's request.                                                           </td><td> 4</td></tr>\n",
       "\t<tr><th scope=row>15</th><td>Alaska </td><td>Topic 23</td><td>No person or organization may sell, purchase, or repair firearms, destructive devices, parts, or ammunition without a dealer's license; registrants must comply with all duties imposed by this act.                                        </td><td> 5</td></tr>\n",
       "\t<tr><th scope=row>16</th><td>Alaska </td><td>Topic 29</td><td>A protective order is a restraining order issued ex parte, after notice and hearing, or in a judgment, and prohibits a person subject to the order from owning, possessing, purchasing, or receiving firearms or ammunition while in effect.</td><td> 6</td></tr>\n",
       "\t<tr><th scope=row>17</th><td>Alaska </td><td>Topic 12</td><td>A licensing authority may grant a permit to purchase, rent, or lease firearms to adults, and the state has the authority to regulate firearms and knives, while municipalities may not.                                                     </td><td> 7</td></tr>\n",
       "\t<tr><th scope=row>18</th><td>Alaska </td><td>Topic 20</td><td>A judge may grant up to one year permission to carry a concealed pistol or revolver to U.S. citizens who have submitted a petition to the district court clerk.                                                                             </td><td> 8</td></tr>\n",
       "\t<tr><th scope=row>19</th><td>Alaska </td><td>Topic 27</td><td>Minors under eighteen cannot possess or carry deadly weapons, except on their own or family premises or with parental/guardian permission.                                                                                                  </td><td> 9</td></tr>\n",
       "\t<tr><th scope=row>20</th><td>Alaska </td><td>Topic 11</td><td>The common law castle doctrine in the US established that a person attacked in their home had the right to use deadly force if they reasonably believed it necessary to protect themselves.                                                 </td><td>10</td></tr>\n",
       "</tbody>\n",
       "</table>\n"
      ],
      "text/latex": [
       "A data.frame: 20 × 4\n",
       "\\begin{tabular}{r|llll}\n",
       "  & state & topic & description & rank\\\\\n",
       "  & <chr> & <chr> & <chr> & <int>\\\\\n",
       "\\hline\n",
       "\t1 & Alabama & Topic 17 & A firearms dealer must obtain a completed statement of intent, inspect proof of identity, and request a records check before transferring any handgun.                                                                                       &  1\\\\\n",
       "\t2 & Alabama & Topic 25 & Any person who sells, barters, gives, or furnishes a handgun to a minor, having good cause to believe them to be a minor, is guilty of a Class 6 felony, and must undergo a criminal history background check.                               &  2\\\\\n",
       "\t3 & Alabama & Topic 15 & Peace officers must arrest and charge a person suspected of committing a family violence crime, regardless of victim consent, relationship between suspects, or victim's request.                                                            &  3\\\\\n",
       "\t4 & Alabama & Topic 20 & A judge may grant up to one year permission to carry a concealed pistol or revolver to U.S. citizens who have submitted a petition to the district court clerk.                                                                              &  4\\\\\n",
       "\t5 & Alabama & Topic 7  & Purchasing of antique cannons, rifles, and shotguns is prohibited, and applications for permits to purchase handguns and firearms purchaser identification cards must be in the form prescribed by the b.                                    &  5\\\\\n",
       "\t6 & Alabama & Topic 22 & No handgun shall be delivered to any person without a valid permit to purchase a firearm and at least seven days have elapsed, nor shall any pistol or revolver be delivered within five days of application.                                &  6\\\\\n",
       "\t7 & Alabama & Topic 13 & The State has preempted all firearm regulation, prohibiting political subdivisions from enacting any related ordinances.                                                                                                                     &  7\\\\\n",
       "\t8 & Alabama & Topic 16 & A person who intentionally or recklessly stores or leaves a loaded firearm within reach or easy access of a minor is guilty of unlawfully permitting access.                                                                                 &  8\\\\\n",
       "\t9 & Alabama & Topic 18 & Any person who knowingly and intentionally sells, delivers, or transfers a firearm in violation of this section commits a misdemeanor of the second degree.                                                                                  &  9\\\\\n",
       "\t10 & Alabama & Topic 26 & The court may enter temporary orders to protect the plaintiff or minor child from abuse and may direct the defendant not to possess a firearm or other dangerous weapon.                                                                     & 10\\\\\n",
       "\t11 & Alaska  & Topic 17 & A firearms dealer must obtain a completed statement of intent, inspect proof of identity, and request a records check before transferring any handgun.                                                                                       &  1\\\\\n",
       "\t12 & Alaska  & Topic 14 & No person may carry a pistol or revolver, possess a dangerous weapon, firearm, or short barreled shotgun, in any vehicle or on or about their person on school premises without a license or permit.                                         &  2\\\\\n",
       "\t13 & Alaska  & Topic 25 & Any person who sells, barters, gives, or furnishes a handgun to a minor, having good cause to believe them to be a minor, is guilty of a Class 6 felony, and must undergo a criminal history background check.                               &  3\\\\\n",
       "\t14 & Alaska  & Topic 15 & Peace officers must arrest and charge a person suspected of committing a family violence crime, regardless of victim consent, relationship between suspects, or victim's request.                                                            &  4\\\\\n",
       "\t15 & Alaska  & Topic 23 & No person or organization may sell, purchase, or repair firearms, destructive devices, parts, or ammunition without a dealer's license; registrants must comply with all duties imposed by this act.                                         &  5\\\\\n",
       "\t16 & Alaska  & Topic 29 & A protective order is a restraining order issued ex parte, after notice and hearing, or in a judgment, and prohibits a person subject to the order from owning, possessing, purchasing, or receiving firearms or ammunition while in effect. &  6\\\\\n",
       "\t17 & Alaska  & Topic 12 & A licensing authority may grant a permit to purchase, rent, or lease firearms to adults, and the state has the authority to regulate firearms and knives, while municipalities may not.                                                      &  7\\\\\n",
       "\t18 & Alaska  & Topic 20 & A judge may grant up to one year permission to carry a concealed pistol or revolver to U.S. citizens who have submitted a petition to the district court clerk.                                                                              &  8\\\\\n",
       "\t19 & Alaska  & Topic 27 & Minors under eighteen cannot possess or carry deadly weapons, except on their own or family premises or with parental/guardian permission.                                                                                                   &  9\\\\\n",
       "\t20 & Alaska  & Topic 11 & The common law castle doctrine in the US established that a person attacked in their home had the right to use deadly force if they reasonably believed it necessary to protect themselves.                                                  & 10\\\\\n",
       "\\end{tabular}\n"
      ],
      "text/markdown": [
       "\n",
       "A data.frame: 20 × 4\n",
       "\n",
       "| <!--/--> | state &lt;chr&gt; | topic &lt;chr&gt; | description &lt;chr&gt; | rank &lt;int&gt; |\n",
       "|---|---|---|---|---|\n",
       "| 1 | Alabama | Topic 17 | A firearms dealer must obtain a completed statement of intent, inspect proof of identity, and request a records check before transferring any handgun.                                                                                       |  1 |\n",
       "| 2 | Alabama | Topic 25 | Any person who sells, barters, gives, or furnishes a handgun to a minor, having good cause to believe them to be a minor, is guilty of a Class 6 felony, and must undergo a criminal history background check.                               |  2 |\n",
       "| 3 | Alabama | Topic 15 | Peace officers must arrest and charge a person suspected of committing a family violence crime, regardless of victim consent, relationship between suspects, or victim's request.                                                            |  3 |\n",
       "| 4 | Alabama | Topic 20 | A judge may grant up to one year permission to carry a concealed pistol or revolver to U.S. citizens who have submitted a petition to the district court clerk.                                                                              |  4 |\n",
       "| 5 | Alabama | Topic 7  | Purchasing of antique cannons, rifles, and shotguns is prohibited, and applications for permits to purchase handguns and firearms purchaser identification cards must be in the form prescribed by the b.                                    |  5 |\n",
       "| 6 | Alabama | Topic 22 | No handgun shall be delivered to any person without a valid permit to purchase a firearm and at least seven days have elapsed, nor shall any pistol or revolver be delivered within five days of application.                                |  6 |\n",
       "| 7 | Alabama | Topic 13 | The State has preempted all firearm regulation, prohibiting political subdivisions from enacting any related ordinances.                                                                                                                     |  7 |\n",
       "| 8 | Alabama | Topic 16 | A person who intentionally or recklessly stores or leaves a loaded firearm within reach or easy access of a minor is guilty of unlawfully permitting access.                                                                                 |  8 |\n",
       "| 9 | Alabama | Topic 18 | Any person who knowingly and intentionally sells, delivers, or transfers a firearm in violation of this section commits a misdemeanor of the second degree.                                                                                  |  9 |\n",
       "| 10 | Alabama | Topic 26 | The court may enter temporary orders to protect the plaintiff or minor child from abuse and may direct the defendant not to possess a firearm or other dangerous weapon.                                                                     | 10 |\n",
       "| 11 | Alaska  | Topic 17 | A firearms dealer must obtain a completed statement of intent, inspect proof of identity, and request a records check before transferring any handgun.                                                                                       |  1 |\n",
       "| 12 | Alaska  | Topic 14 | No person may carry a pistol or revolver, possess a dangerous weapon, firearm, or short barreled shotgun, in any vehicle or on or about their person on school premises without a license or permit.                                         |  2 |\n",
       "| 13 | Alaska  | Topic 25 | Any person who sells, barters, gives, or furnishes a handgun to a minor, having good cause to believe them to be a minor, is guilty of a Class 6 felony, and must undergo a criminal history background check.                               |  3 |\n",
       "| 14 | Alaska  | Topic 15 | Peace officers must arrest and charge a person suspected of committing a family violence crime, regardless of victim consent, relationship between suspects, or victim's request.                                                            |  4 |\n",
       "| 15 | Alaska  | Topic 23 | No person or organization may sell, purchase, or repair firearms, destructive devices, parts, or ammunition without a dealer's license; registrants must comply with all duties imposed by this act.                                         |  5 |\n",
       "| 16 | Alaska  | Topic 29 | A protective order is a restraining order issued ex parte, after notice and hearing, or in a judgment, and prohibits a person subject to the order from owning, possessing, purchasing, or receiving firearms or ammunition while in effect. |  6 |\n",
       "| 17 | Alaska  | Topic 12 | A licensing authority may grant a permit to purchase, rent, or lease firearms to adults, and the state has the authority to regulate firearms and knives, while municipalities may not.                                                      |  7 |\n",
       "| 18 | Alaska  | Topic 20 | A judge may grant up to one year permission to carry a concealed pistol or revolver to U.S. citizens who have submitted a petition to the district court clerk.                                                                              |  8 |\n",
       "| 19 | Alaska  | Topic 27 | Minors under eighteen cannot possess or carry deadly weapons, except on their own or family premises or with parental/guardian permission.                                                                                                   |  9 |\n",
       "| 20 | Alaska  | Topic 11 | The common law castle doctrine in the US established that a person attacked in their home had the right to use deadly force if they reasonably believed it necessary to protect themselves.                                                  | 10 |\n",
       "\n"
      ],
      "text/plain": [
       "   state   topic   \n",
       "1  Alabama Topic 17\n",
       "2  Alabama Topic 25\n",
       "3  Alabama Topic 15\n",
       "4  Alabama Topic 20\n",
       "5  Alabama Topic 7 \n",
       "6  Alabama Topic 22\n",
       "7  Alabama Topic 13\n",
       "8  Alabama Topic 16\n",
       "9  Alabama Topic 18\n",
       "10 Alabama Topic 26\n",
       "11 Alaska  Topic 17\n",
       "12 Alaska  Topic 14\n",
       "   description                                                                                                                                                                                                                                 \n",
       "1  A firearms dealer must obtain a completed statement of intent, inspect proof of identity, and request a records check before transferring any handgun.                                                                                      \n",
       "2  Any person who sells, barters, gives, or furnishes a handgun to a minor, having good cause to believe them to be a minor, is guilty of a Class 6 felony, and must undergo a criminal history background check.                              \n",
       "3  Peace officers must arrest and charge a person suspected of committing a family violence crime, regardless of victim consent, relationship between suspects, or victim's request.                                                           \n",
       "4  A judge may grant up to one year permission to carry a concealed pistol or revolver to U.S. citizens who have submitted a petition to the district court clerk.                                                                             \n",
       "5  Purchasing of antique cannons, rifles, and shotguns is prohibited, and applications for permits to purchase handguns and firearms purchaser identification cards must be in the form prescribed by the b.                                   \n",
       "6  No handgun shall be delivered to any person without a valid permit to purchase a firearm and at least seven days have elapsed, nor shall any pistol or revolver be delivered within five days of application.                               \n",
       "7  The State has preempted all firearm regulation, prohibiting political subdivisions from enacting any related ordinances.                                                                                                                    \n",
       "8  A person who intentionally or recklessly stores or leaves a loaded firearm within reach or easy access of a minor is guilty of unlawfully permitting access.                                                                                \n",
       "9  Any person who knowingly and intentionally sells, delivers, or transfers a firearm in violation of this section commits a misdemeanor of the second degree.                                                                                 \n",
       "10 The court may enter temporary orders to protect the plaintiff or minor child from abuse and may direct the defendant not to possess a firearm or other dangerous weapon.                                                                    \n",
       "11 A firearms dealer must obtain a completed statement of intent, inspect proof of identity, and request a records check before transferring any handgun.                                                                                      \n",
       "12 No person may carry a pistol or revolver, possess a dangerous weapon, firearm, or short barreled shotgun, in any vehicle or on or about their person on school premises without a license or permit.                                        \n",
       "   rank\n",
       "1   1  \n",
       "2   2  \n",
       "3   3  \n",
       "4   4  \n",
       "5   5  \n",
       "6   6  \n",
       "7   7  \n",
       "8   8  \n",
       "9   9  \n",
       "10 10  \n",
       "11  1  \n",
       "12  2  \n",
       " [ reached getOption(\"max.print\") -- omitted 8 rows ]"
      ]
     },
     "metadata": {},
     "output_type": "display_data"
    }
   ],
   "source": [
    "# Initialize a list to store the results\n",
    "top_10_topics_per_state <- list()\n",
    "# Change the topics from numbers to a \"topic_x\" format\n",
    "topics_and_responses_2 <- topics_and_responses\n",
    "topics_and_responses_2$Topic <- paste0(\"coef_topic_\", topics_and_responses$Topic)\n",
    "\n",
    "for (state in unique(coef_df$state)) {\n",
    "  # Filter the coefficients for the current state\n",
    "  state_coefs <- coef_df[coef_df$state == state, ]\n",
    "  \n",
    "  # Exclude 'state' and 'intercept' from the topics\n",
    "  state_coefs <- state_coefs[!(names(state_coefs) %in% c('state', 'intercept'))]\n",
    "  \n",
    "  # Get the implemented topics for the current state\n",
    "  state_topic_subset <- state_topic_df[state_topic_df$state == state, -1]  # -1 to exclude the 'state' column\n",
    "  implemented_topics <- colnames(state_topic_subset)[apply(state_topic_subset, 2, function(x) any(x == 1))]\n",
    "  implemented_topics <- gsub(\"topic_\", \"coef_topic_\", implemented_topics)\n",
    "  # Filter out the implemented topics\n",
    "  unimplemented_topics <- state_coefs[!names(state_coefs) %in% implemented_topics]\n",
    "\n",
    "                                                           \n",
    "  # Filter out the implemented topics\n",
    "  unimplemented_topics <- state_coefs[!names(state_coefs) %in% implemented_topics]\n",
    "  \n",
    "  # Convert to data frame for sorting\n",
    "  unimplemented_topics_df <- data.frame(topic = names(unimplemented_topics), coefficient = as.numeric(unimplemented_topics), stringsAsFactors = FALSE)\n",
    "  \n",
    "  # Merge with topics_and_responses_2 to get the topic descriptions\n",
    "  unimplemented_topics_df <- merge(unimplemented_topics_df, topics_and_responses_2, by.x = \"topic\", by.y = \"Topic\", all.x = TRUE)\n",
    "  \n",
    "  # Filter to only include topics with a negative coefficient\n",
    "  unimplemented_topics_df <- unimplemented_topics_df[unimplemented_topics_df$coefficient < 1, ]\n",
    "  \n",
    "  # Sort the coefficients of unimplemented topics in increasing order\n",
    "  sorted_coefs <- unimplemented_topics_df[order(unimplemented_topics_df$coefficient), ]\n",
    "  \n",
    "  # Get the top 10 topics or fewer if not available\n",
    "  top_n_topics <- min(nrow(sorted_coefs), 10)\n",
    "  top_topics <- sorted_coefs[1:top_n_topics, ]\n",
    "  \n",
    "  # Store the top topics and their ranks in the list\n",
    "  top_10_topics_per_state[[state]] <- data.frame(topic = top_topics$topic, description = top_topics$Response, rank = 1:nrow(top_topics), stringsAsFactors = FALSE)\n",
    "}\n",
    "\n",
    "# Convert the list to a data frame\n",
    "top_10_topics_df <- do.call(rbind, lapply(names(top_10_topics_per_state), function(x) {\n",
    "  cbind(state = x, top_10_topics_per_state[[x]])\n",
    "}))\n",
    "\n",
    "# Reset rownames\n",
    "rownames(top_10_topics_df) <- NULL\n",
    "top_10_topics_df$topic <- gsub(\"coef_topic_\", \"Topic \", top_10_topics_df$topic)\n",
    "\n",
    "# Print the resulting DataFrame\n",
    "head(top_10_topics_df, 20)"
   ]
  },
  {
   "cell_type": "code",
   "execution_count": 28,
   "id": "369710be-77f1-40ce-b54e-2035d4cc7c0b",
   "metadata": {
    "tags": []
   },
   "outputs": [],
   "source": [
    "write.csv(top_10_topics_df, \"top_10_topics_per_state.csv\", row.names=FALSE)"
   ]
  },
  {
   "cell_type": "code",
   "execution_count": null,
   "id": "93dc4fdb-04f6-4f7f-b46f-314b459bd48d",
   "metadata": {},
   "outputs": [],
   "source": []
  }
 ],
 "metadata": {
  "availableInstances": [
   {
    "_defaultOrder": 0,
    "_isFastLaunch": true,
    "category": "General purpose",
    "gpuNum": 0,
    "hideHardwareSpecs": false,
    "memoryGiB": 4,
    "name": "ml.t3.medium",
    "vcpuNum": 2
   },
   {
    "_defaultOrder": 1,
    "_isFastLaunch": false,
    "category": "General purpose",
    "gpuNum": 0,
    "hideHardwareSpecs": false,
    "memoryGiB": 8,
    "name": "ml.t3.large",
    "vcpuNum": 2
   },
   {
    "_defaultOrder": 2,
    "_isFastLaunch": false,
    "category": "General purpose",
    "gpuNum": 0,
    "hideHardwareSpecs": false,
    "memoryGiB": 16,
    "name": "ml.t3.xlarge",
    "vcpuNum": 4
   },
   {
    "_defaultOrder": 3,
    "_isFastLaunch": false,
    "category": "General purpose",
    "gpuNum": 0,
    "hideHardwareSpecs": false,
    "memoryGiB": 32,
    "name": "ml.t3.2xlarge",
    "vcpuNum": 8
   },
   {
    "_defaultOrder": 4,
    "_isFastLaunch": true,
    "category": "General purpose",
    "gpuNum": 0,
    "hideHardwareSpecs": false,
    "memoryGiB": 8,
    "name": "ml.m5.large",
    "vcpuNum": 2
   },
   {
    "_defaultOrder": 5,
    "_isFastLaunch": false,
    "category": "General purpose",
    "gpuNum": 0,
    "hideHardwareSpecs": false,
    "memoryGiB": 16,
    "name": "ml.m5.xlarge",
    "vcpuNum": 4
   },
   {
    "_defaultOrder": 6,
    "_isFastLaunch": false,
    "category": "General purpose",
    "gpuNum": 0,
    "hideHardwareSpecs": false,
    "memoryGiB": 32,
    "name": "ml.m5.2xlarge",
    "vcpuNum": 8
   },
   {
    "_defaultOrder": 7,
    "_isFastLaunch": false,
    "category": "General purpose",
    "gpuNum": 0,
    "hideHardwareSpecs": false,
    "memoryGiB": 64,
    "name": "ml.m5.4xlarge",
    "vcpuNum": 16
   },
   {
    "_defaultOrder": 8,
    "_isFastLaunch": false,
    "category": "General purpose",
    "gpuNum": 0,
    "hideHardwareSpecs": false,
    "memoryGiB": 128,
    "name": "ml.m5.8xlarge",
    "vcpuNum": 32
   },
   {
    "_defaultOrder": 9,
    "_isFastLaunch": false,
    "category": "General purpose",
    "gpuNum": 0,
    "hideHardwareSpecs": false,
    "memoryGiB": 192,
    "name": "ml.m5.12xlarge",
    "vcpuNum": 48
   },
   {
    "_defaultOrder": 10,
    "_isFastLaunch": false,
    "category": "General purpose",
    "gpuNum": 0,
    "hideHardwareSpecs": false,
    "memoryGiB": 256,
    "name": "ml.m5.16xlarge",
    "vcpuNum": 64
   },
   {
    "_defaultOrder": 11,
    "_isFastLaunch": false,
    "category": "General purpose",
    "gpuNum": 0,
    "hideHardwareSpecs": false,
    "memoryGiB": 384,
    "name": "ml.m5.24xlarge",
    "vcpuNum": 96
   },
   {
    "_defaultOrder": 12,
    "_isFastLaunch": false,
    "category": "General purpose",
    "gpuNum": 0,
    "hideHardwareSpecs": false,
    "memoryGiB": 8,
    "name": "ml.m5d.large",
    "vcpuNum": 2
   },
   {
    "_defaultOrder": 13,
    "_isFastLaunch": false,
    "category": "General purpose",
    "gpuNum": 0,
    "hideHardwareSpecs": false,
    "memoryGiB": 16,
    "name": "ml.m5d.xlarge",
    "vcpuNum": 4
   },
   {
    "_defaultOrder": 14,
    "_isFastLaunch": false,
    "category": "General purpose",
    "gpuNum": 0,
    "hideHardwareSpecs": false,
    "memoryGiB": 32,
    "name": "ml.m5d.2xlarge",
    "vcpuNum": 8
   },
   {
    "_defaultOrder": 15,
    "_isFastLaunch": false,
    "category": "General purpose",
    "gpuNum": 0,
    "hideHardwareSpecs": false,
    "memoryGiB": 64,
    "name": "ml.m5d.4xlarge",
    "vcpuNum": 16
   },
   {
    "_defaultOrder": 16,
    "_isFastLaunch": false,
    "category": "General purpose",
    "gpuNum": 0,
    "hideHardwareSpecs": false,
    "memoryGiB": 128,
    "name": "ml.m5d.8xlarge",
    "vcpuNum": 32
   },
   {
    "_defaultOrder": 17,
    "_isFastLaunch": false,
    "category": "General purpose",
    "gpuNum": 0,
    "hideHardwareSpecs": false,
    "memoryGiB": 192,
    "name": "ml.m5d.12xlarge",
    "vcpuNum": 48
   },
   {
    "_defaultOrder": 18,
    "_isFastLaunch": false,
    "category": "General purpose",
    "gpuNum": 0,
    "hideHardwareSpecs": false,
    "memoryGiB": 256,
    "name": "ml.m5d.16xlarge",
    "vcpuNum": 64
   },
   {
    "_defaultOrder": 19,
    "_isFastLaunch": false,
    "category": "General purpose",
    "gpuNum": 0,
    "hideHardwareSpecs": false,
    "memoryGiB": 384,
    "name": "ml.m5d.24xlarge",
    "vcpuNum": 96
   },
   {
    "_defaultOrder": 20,
    "_isFastLaunch": false,
    "category": "General purpose",
    "gpuNum": 0,
    "hideHardwareSpecs": true,
    "memoryGiB": 0,
    "name": "ml.geospatial.interactive",
    "supportedImageNames": [
     "sagemaker-geospatial-v1-0"
    ],
    "vcpuNum": 0
   },
   {
    "_defaultOrder": 21,
    "_isFastLaunch": true,
    "category": "Compute optimized",
    "gpuNum": 0,
    "hideHardwareSpecs": false,
    "memoryGiB": 4,
    "name": "ml.c5.large",
    "vcpuNum": 2
   },
   {
    "_defaultOrder": 22,
    "_isFastLaunch": false,
    "category": "Compute optimized",
    "gpuNum": 0,
    "hideHardwareSpecs": false,
    "memoryGiB": 8,
    "name": "ml.c5.xlarge",
    "vcpuNum": 4
   },
   {
    "_defaultOrder": 23,
    "_isFastLaunch": false,
    "category": "Compute optimized",
    "gpuNum": 0,
    "hideHardwareSpecs": false,
    "memoryGiB": 16,
    "name": "ml.c5.2xlarge",
    "vcpuNum": 8
   },
   {
    "_defaultOrder": 24,
    "_isFastLaunch": false,
    "category": "Compute optimized",
    "gpuNum": 0,
    "hideHardwareSpecs": false,
    "memoryGiB": 32,
    "name": "ml.c5.4xlarge",
    "vcpuNum": 16
   },
   {
    "_defaultOrder": 25,
    "_isFastLaunch": false,
    "category": "Compute optimized",
    "gpuNum": 0,
    "hideHardwareSpecs": false,
    "memoryGiB": 72,
    "name": "ml.c5.9xlarge",
    "vcpuNum": 36
   },
   {
    "_defaultOrder": 26,
    "_isFastLaunch": false,
    "category": "Compute optimized",
    "gpuNum": 0,
    "hideHardwareSpecs": false,
    "memoryGiB": 96,
    "name": "ml.c5.12xlarge",
    "vcpuNum": 48
   },
   {
    "_defaultOrder": 27,
    "_isFastLaunch": false,
    "category": "Compute optimized",
    "gpuNum": 0,
    "hideHardwareSpecs": false,
    "memoryGiB": 144,
    "name": "ml.c5.18xlarge",
    "vcpuNum": 72
   },
   {
    "_defaultOrder": 28,
    "_isFastLaunch": false,
    "category": "Compute optimized",
    "gpuNum": 0,
    "hideHardwareSpecs": false,
    "memoryGiB": 192,
    "name": "ml.c5.24xlarge",
    "vcpuNum": 96
   },
   {
    "_defaultOrder": 29,
    "_isFastLaunch": true,
    "category": "Accelerated computing",
    "gpuNum": 1,
    "hideHardwareSpecs": false,
    "memoryGiB": 16,
    "name": "ml.g4dn.xlarge",
    "vcpuNum": 4
   },
   {
    "_defaultOrder": 30,
    "_isFastLaunch": false,
    "category": "Accelerated computing",
    "gpuNum": 1,
    "hideHardwareSpecs": false,
    "memoryGiB": 32,
    "name": "ml.g4dn.2xlarge",
    "vcpuNum": 8
   },
   {
    "_defaultOrder": 31,
    "_isFastLaunch": false,
    "category": "Accelerated computing",
    "gpuNum": 1,
    "hideHardwareSpecs": false,
    "memoryGiB": 64,
    "name": "ml.g4dn.4xlarge",
    "vcpuNum": 16
   },
   {
    "_defaultOrder": 32,
    "_isFastLaunch": false,
    "category": "Accelerated computing",
    "gpuNum": 1,
    "hideHardwareSpecs": false,
    "memoryGiB": 128,
    "name": "ml.g4dn.8xlarge",
    "vcpuNum": 32
   },
   {
    "_defaultOrder": 33,
    "_isFastLaunch": false,
    "category": "Accelerated computing",
    "gpuNum": 4,
    "hideHardwareSpecs": false,
    "memoryGiB": 192,
    "name": "ml.g4dn.12xlarge",
    "vcpuNum": 48
   },
   {
    "_defaultOrder": 34,
    "_isFastLaunch": false,
    "category": "Accelerated computing",
    "gpuNum": 1,
    "hideHardwareSpecs": false,
    "memoryGiB": 256,
    "name": "ml.g4dn.16xlarge",
    "vcpuNum": 64
   },
   {
    "_defaultOrder": 35,
    "_isFastLaunch": false,
    "category": "Accelerated computing",
    "gpuNum": 1,
    "hideHardwareSpecs": false,
    "memoryGiB": 61,
    "name": "ml.p3.2xlarge",
    "vcpuNum": 8
   },
   {
    "_defaultOrder": 36,
    "_isFastLaunch": false,
    "category": "Accelerated computing",
    "gpuNum": 4,
    "hideHardwareSpecs": false,
    "memoryGiB": 244,
    "name": "ml.p3.8xlarge",
    "vcpuNum": 32
   },
   {
    "_defaultOrder": 37,
    "_isFastLaunch": false,
    "category": "Accelerated computing",
    "gpuNum": 8,
    "hideHardwareSpecs": false,
    "memoryGiB": 488,
    "name": "ml.p3.16xlarge",
    "vcpuNum": 64
   },
   {
    "_defaultOrder": 38,
    "_isFastLaunch": false,
    "category": "Accelerated computing",
    "gpuNum": 8,
    "hideHardwareSpecs": false,
    "memoryGiB": 768,
    "name": "ml.p3dn.24xlarge",
    "vcpuNum": 96
   },
   {
    "_defaultOrder": 39,
    "_isFastLaunch": false,
    "category": "Memory Optimized",
    "gpuNum": 0,
    "hideHardwareSpecs": false,
    "memoryGiB": 16,
    "name": "ml.r5.large",
    "vcpuNum": 2
   },
   {
    "_defaultOrder": 40,
    "_isFastLaunch": false,
    "category": "Memory Optimized",
    "gpuNum": 0,
    "hideHardwareSpecs": false,
    "memoryGiB": 32,
    "name": "ml.r5.xlarge",
    "vcpuNum": 4
   },
   {
    "_defaultOrder": 41,
    "_isFastLaunch": false,
    "category": "Memory Optimized",
    "gpuNum": 0,
    "hideHardwareSpecs": false,
    "memoryGiB": 64,
    "name": "ml.r5.2xlarge",
    "vcpuNum": 8
   },
   {
    "_defaultOrder": 42,
    "_isFastLaunch": false,
    "category": "Memory Optimized",
    "gpuNum": 0,
    "hideHardwareSpecs": false,
    "memoryGiB": 128,
    "name": "ml.r5.4xlarge",
    "vcpuNum": 16
   },
   {
    "_defaultOrder": 43,
    "_isFastLaunch": false,
    "category": "Memory Optimized",
    "gpuNum": 0,
    "hideHardwareSpecs": false,
    "memoryGiB": 256,
    "name": "ml.r5.8xlarge",
    "vcpuNum": 32
   },
   {
    "_defaultOrder": 44,
    "_isFastLaunch": false,
    "category": "Memory Optimized",
    "gpuNum": 0,
    "hideHardwareSpecs": false,
    "memoryGiB": 384,
    "name": "ml.r5.12xlarge",
    "vcpuNum": 48
   },
   {
    "_defaultOrder": 45,
    "_isFastLaunch": false,
    "category": "Memory Optimized",
    "gpuNum": 0,
    "hideHardwareSpecs": false,
    "memoryGiB": 512,
    "name": "ml.r5.16xlarge",
    "vcpuNum": 64
   },
   {
    "_defaultOrder": 46,
    "_isFastLaunch": false,
    "category": "Memory Optimized",
    "gpuNum": 0,
    "hideHardwareSpecs": false,
    "memoryGiB": 768,
    "name": "ml.r5.24xlarge",
    "vcpuNum": 96
   },
   {
    "_defaultOrder": 47,
    "_isFastLaunch": false,
    "category": "Accelerated computing",
    "gpuNum": 1,
    "hideHardwareSpecs": false,
    "memoryGiB": 16,
    "name": "ml.g5.xlarge",
    "vcpuNum": 4
   },
   {
    "_defaultOrder": 48,
    "_isFastLaunch": false,
    "category": "Accelerated computing",
    "gpuNum": 1,
    "hideHardwareSpecs": false,
    "memoryGiB": 32,
    "name": "ml.g5.2xlarge",
    "vcpuNum": 8
   },
   {
    "_defaultOrder": 49,
    "_isFastLaunch": false,
    "category": "Accelerated computing",
    "gpuNum": 1,
    "hideHardwareSpecs": false,
    "memoryGiB": 64,
    "name": "ml.g5.4xlarge",
    "vcpuNum": 16
   },
   {
    "_defaultOrder": 50,
    "_isFastLaunch": false,
    "category": "Accelerated computing",
    "gpuNum": 1,
    "hideHardwareSpecs": false,
    "memoryGiB": 128,
    "name": "ml.g5.8xlarge",
    "vcpuNum": 32
   },
   {
    "_defaultOrder": 51,
    "_isFastLaunch": false,
    "category": "Accelerated computing",
    "gpuNum": 1,
    "hideHardwareSpecs": false,
    "memoryGiB": 256,
    "name": "ml.g5.16xlarge",
    "vcpuNum": 64
   },
   {
    "_defaultOrder": 52,
    "_isFastLaunch": false,
    "category": "Accelerated computing",
    "gpuNum": 4,
    "hideHardwareSpecs": false,
    "memoryGiB": 192,
    "name": "ml.g5.12xlarge",
    "vcpuNum": 48
   },
   {
    "_defaultOrder": 53,
    "_isFastLaunch": false,
    "category": "Accelerated computing",
    "gpuNum": 4,
    "hideHardwareSpecs": false,
    "memoryGiB": 384,
    "name": "ml.g5.24xlarge",
    "vcpuNum": 96
   },
   {
    "_defaultOrder": 54,
    "_isFastLaunch": false,
    "category": "Accelerated computing",
    "gpuNum": 8,
    "hideHardwareSpecs": false,
    "memoryGiB": 768,
    "name": "ml.g5.48xlarge",
    "vcpuNum": 192
   },
   {
    "_defaultOrder": 55,
    "_isFastLaunch": false,
    "category": "Accelerated computing",
    "gpuNum": 8,
    "hideHardwareSpecs": false,
    "memoryGiB": 1152,
    "name": "ml.p4d.24xlarge",
    "vcpuNum": 96
   },
   {
    "_defaultOrder": 56,
    "_isFastLaunch": false,
    "category": "Accelerated computing",
    "gpuNum": 8,
    "hideHardwareSpecs": false,
    "memoryGiB": 1152,
    "name": "ml.p4de.24xlarge",
    "vcpuNum": 96
   }
  ],
  "instance_type": "ml.g4dn.16xlarge",
  "kernelspec": {
   "display_name": "R",
   "language": "R",
   "name": "ir"
  },
  "language_info": {
   "codemirror_mode": "r",
   "file_extension": ".r",
   "mimetype": "text/x-r-source",
   "name": "R",
   "pygments_lexer": "r",
   "version": "4.2.3"
  }
 },
 "nbformat": 4,
 "nbformat_minor": 5
}
